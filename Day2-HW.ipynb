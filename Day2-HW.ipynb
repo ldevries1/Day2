{
 "cells": [
  {
   "cell_type": "markdown",
   "id": "1cc1bdae-fb8c-4df5-bceb-e966ef5872c5",
   "metadata": {},
   "source": [
    "## Introduction to Data Science\n",
    "\n",
    "#### University of Redlands - DATA 101\n",
    "#### Prof: Joanna Bieri [joanna_bieri@redlands.edu](mailto:joanna_bieri@redlands.edu)\n",
    "#### [Class Website: data101.joannabieri.com](https://joannabieri.com/data101.html)\n",
    "\n",
    "---------------------------------------\n",
    "# Homework Day 2\n",
    "---------------------------------------\n",
    "\n",
    "GOALS:\n",
    "\n",
    "1. Start using Python\n",
    "2. Start looking at Data!\n",
    "\n",
    "----------------------------------------------------------\n",
    "\n",
    "This homework has **TWO** warm-up problems and **FOUR** problems."
   ]
  },
  {
   "cell_type": "markdown",
   "id": "b2c39d80-a1fd-479b-910c-6ad341ad5310",
   "metadata": {},
   "source": [
    "\n",
    "## Hello World!\n",
    "\n",
    "### Warm up Problem 1\n",
    "\n",
    "Write python code that will print your name and run the cell."
   ]
  },
  {
   "cell_type": "code",
   "execution_count": 3,
   "id": "0a219b6a-b87f-456d-b991-c392fe5cc5b6",
   "metadata": {},
   "outputs": [
    {
     "name": "stdout",
     "output_type": "stream",
     "text": [
      "Luke De Vries\n"
     ]
    }
   ],
   "source": [
    "# Your code here\n",
    "print('Luke De Vries')"
   ]
  },
  {
   "cell_type": "markdown",
   "id": "e2b797c2-cfcd-4a3f-acf2-3ad6f0183192",
   "metadata": {},
   "source": [
    "## Installing Modules\n",
    "\n",
    "### Warm up Problem 2\n",
    "\n",
    "Install the modules that you will need to run the rest of the code. You can copy and paste the commands from the class notes. This might take a minute or two to run... go get a cup of coffee :)"
   ]
  },
  {
   "cell_type": "code",
   "execution_count": null,
   "id": "7d0b61b4-204e-4c77-be7d-a318cd32e40a",
   "metadata": {},
   "outputs": [
    {
     "name": "stdout",
     "output_type": "stream",
     "text": [
      "Channels:\n",
      " - conda-forge\n",
      " - defaults\n",
      "Platform: win-64\n",
      "Collecting package metadata (repodata.json): ...working... done\n",
      "Solving environment: ...working... done\n",
      "\n",
      "# All requested packages already installed.\n",
      "\n",
      "Channels:\n",
      " - conda-forge\n",
      " - defaults\n",
      "Platform: win-64\n",
      "Collecting package metadata (repodata.json): ...working... done\n",
      "Solving environment: ...working... done\n",
      "\n",
      "# All requested packages already installed.\n",
      "\n",
      "Channels:\n",
      " - conda-forge\n",
      " - defaults\n",
      "Platform: win-64\n",
      "Collecting package metadata (repodata.json): ...working... done\n",
      "Solving environment: ...working... done\n",
      "\n",
      "# All requested packages already installed.\n",
      "\n",
      "Channels:\n",
      " - conda-forge\n",
      " - defaults\n",
      "Platform: win-64\n",
      "Collecting package metadata (repodata.json): ...working... done\n",
      "Solving environment: ...working... done\n",
      "\n",
      "# All requested packages already installed.\n",
      "\n",
      "Channels:\n",
      " - conda-forge\n",
      " - defaults\n",
      "Platform: win-64\n",
      "Collecting package metadata (repodata.json): ...working... done\n",
      "Solving environment: ...working... done\n",
      "\n",
      "# All requested packages already installed.\n",
      "\n",
      "Channels:\n",
      " - conda-forge\n",
      " - defaults\n",
      "Platform: win-64\n",
      "Collecting package metadata (repodata.json): ...working... done\n",
      "Solving environment: ...working... done\n",
      "\n",
      "# All requested packages already installed.\n",
      "\n"
     ]
    }
   ],
   "source": [
    "# Copy and paste the code here:\n",
    "### This will take a while to run - just let it go.\n",
    "!conda install -y numpy\n",
    "!conda install -y pandas\n",
    "!conda install -y matplotlib\n",
    "!conda install -y plotly\n",
    "!conda install -y itables\n",
    "!conda install -y statsmodels\n",
    "!conda install -y -c conda-forge python-kaleido"
   ]
  },
  {
   "cell_type": "markdown",
   "id": "56b03eae-6df6-424b-8325-0f40ca79e8c1",
   "metadata": {},
   "source": [
    "## Let's do some Data Science.\n",
    "\n",
    "We will explore some data about how countries vote at the United Nations General Assembly. You should follow along with the notes and/or class video.\n",
    "\n",
    "I am breaking this into parts and having you copy and paste the code so you can start to identify what the different parts of the code do."
   ]
  },
  {
   "cell_type": "markdown",
   "id": "b375e170-9404-4a45-b5ac-9896c009fdff",
   "metadata": {},
   "source": [
    "-------------------------------\n",
    "### Importing Packages:\n",
    "-------------------------------\n",
    "\n",
    "Every time we start a new project we will import the packages that will help us do the analysis. Copy and paste all of the imports in the cell below.\n",
    "\n",
    "* numpy = mathematical and number packages for python\n",
    "* pandas = pretty tables, dataframes, and data analysis packages\n",
    "* matplotlib.pyplot = nice looking graphs\n",
    "* plotly = nice looking graphs.\n",
    "* itables = pretty looking tables that have a search bar"
   ]
  },
  {
   "cell_type": "code",
   "execution_count": 8,
   "id": "d377d0c6-d6b9-4bbf-9561-02402781a58d",
   "metadata": {},
   "outputs": [],
   "source": [
    "# Copy and paste the code here:\n",
    "import numpy as np\n",
    "import pandas as pd\n",
    "\n",
    "import matplotlib.pyplot as plt\n",
    "import plotly.express as px\n",
    "from plotly.subplots import make_subplots\n",
    "\n",
    "from itables import show"
   ]
  },
  {
   "cell_type": "markdown",
   "id": "2d0f1b4e-0edd-4c16-a40b-fe13d095e15c",
   "metadata": {},
   "source": [
    "-------------------------------\n",
    "### Get the Data:\n",
    "-------------------------------\n",
    "\n",
    "We will practice all sorts of ways to get data into our notebooks. When you use Pandas (pd) to read a csv:\n",
    "\n",
    "    DF = pd.read_csv(file_location)\n",
    "\n",
    "you are basically reading in a spreadsheet (Excel). The data for today is stored on my website.\n",
    "\n",
    "It might take a minute for the data to load."
   ]
  },
  {
   "cell_type": "code",
   "execution_count": 11,
   "id": "1253d511-c553-454f-a94b-2d0a6f97bd1f",
   "metadata": {},
   "outputs": [],
   "source": [
    "# Copy and paste the code here:\n",
    "# Note this takes about a minute to run\n",
    "file_location = 'https://joannabieri.com/introdatascience/data/unvotes.csv'\n",
    "DF = pd.read_csv(file_location)\n",
    "years = [int(d.split('-')[0]) for d in DF['date']]\n",
    "DF['year'] = years\n",
    "DF = DF.drop('Unnamed: 0',axis=1)"
   ]
  },
  {
   "cell_type": "markdown",
   "id": "4775aa78-8ca3-4d32-bf28-ea0f2eff5650",
   "metadata": {},
   "source": [
    "\n",
    "-------------------------------\n",
    "### Initial Data Exploration:\n",
    "-------------------------------\n",
    "-------------------------------\n",
    "### Show the Data:\n",
    "-------------------------------\n",
    "\n",
    "We want to look at what we have. The data is now represented by the variable DF."
   ]
  },
  {
   "cell_type": "code",
   "execution_count": 13,
   "id": "da556aed-fa86-4049-bc8b-9cfc8c3666b3",
   "metadata": {},
   "outputs": [
    {
     "data": {
      "text/html": [
       "<table id=\"itables_5b2b3027_cfd6_4c6a_9882_eb5d65f6642f\" class=\"display nowrap\" data-quarto-disable-processing=\"true\" style=\"table-layout:auto;width:auto;margin:auto;caption-side:bottom\">\n",
       "<thead>\n",
       "    <tr style=\"text-align: right;\">\n",
       "      \n",
       "      <th>rcid</th>\n",
       "      <th>country</th>\n",
       "      <th>country_code</th>\n",
       "      <th>vote</th>\n",
       "      <th>session</th>\n",
       "      <th>importantvote</th>\n",
       "      <th>date</th>\n",
       "      <th>unres</th>\n",
       "      <th>amend</th>\n",
       "      <th>para</th>\n",
       "      <th>short</th>\n",
       "      <th>descr</th>\n",
       "      <th>short_name</th>\n",
       "      <th>issue</th>\n",
       "      <th>year</th>\n",
       "    </tr>\n",
       "  </thead><tbody><tr>\n",
       "<td style=\"vertical-align:middle; text-align:left\">\n",
       "<div style=\"float:left; margin-right: 10px;\">\n",
       "<a href=https://mwouts.github.io/itables/><svg class=\"main-svg\" xmlns=\"http://www.w3.org/2000/svg\" xmlns:xlink=\"http://www.w3.org/1999/xlink\"\n",
       "width=\"64\" viewBox=\"0 0 500 400\" style=\"font-family: 'Droid Sans', sans-serif;\">\n",
       "    <g style=\"fill:#d9d7fc\">\n",
       "        <path d=\"M100,400H500V357H100Z\" />\n",
       "        <path d=\"M100,300H400V257H100Z\" />\n",
       "        <path d=\"M0,200H400V157H0Z\" />\n",
       "        <path d=\"M100,100H500V57H100Z\" />\n",
       "        <path d=\"M100,350H500V307H100Z\" />\n",
       "        <path d=\"M100,250H400V207H100Z\" />\n",
       "        <path d=\"M0,150H400V107H0Z\" />\n",
       "        <path d=\"M100,50H500V7H100Z\" />\n",
       "    </g>\n",
       "    <g style=\"fill:#1a1366;stroke:#1a1366;\">\n",
       "   <rect x=\"100\" y=\"7\" width=\"400\" height=\"43\">\n",
       "    <animate\n",
       "      attributeName=\"width\"\n",
       "      values=\"0;400;0\"\n",
       "      dur=\"5s\"\n",
       "      repeatCount=\"indefinite\" />\n",
       "      <animate\n",
       "      attributeName=\"x\"\n",
       "      values=\"100;100;500\"\n",
       "      dur=\"5s\"\n",
       "      repeatCount=\"indefinite\" />\n",
       "  </rect>\n",
       "        <rect x=\"0\" y=\"107\" width=\"400\" height=\"43\">\n",
       "    <animate\n",
       "      attributeName=\"width\"\n",
       "      values=\"0;400;0\"\n",
       "      dur=\"3.5s\"\n",
       "      repeatCount=\"indefinite\" />\n",
       "    <animate\n",
       "      attributeName=\"x\"\n",
       "      values=\"0;0;400\"\n",
       "      dur=\"3.5s\"\n",
       "      repeatCount=\"indefinite\" />\n",
       "  </rect>\n",
       "        <rect x=\"100\" y=\"207\" width=\"300\" height=\"43\">\n",
       "    <animate\n",
       "      attributeName=\"width\"\n",
       "      values=\"0;300;0\"\n",
       "      dur=\"3s\"\n",
       "      repeatCount=\"indefinite\" />\n",
       "    <animate\n",
       "      attributeName=\"x\"\n",
       "      values=\"100;100;400\"\n",
       "      dur=\"3s\"\n",
       "      repeatCount=\"indefinite\" />\n",
       "  </rect>\n",
       "        <rect x=\"100\" y=\"307\" width=\"400\" height=\"43\">\n",
       "    <animate\n",
       "      attributeName=\"width\"\n",
       "      values=\"0;400;0\"\n",
       "      dur=\"4s\"\n",
       "      repeatCount=\"indefinite\" />\n",
       "      <animate\n",
       "      attributeName=\"x\"\n",
       "      values=\"100;100;500\"\n",
       "      dur=\"4s\"\n",
       "      repeatCount=\"indefinite\" />\n",
       "  </rect>\n",
       "        <g style=\"fill:transparent;stroke-width:8; stroke-linejoin:round\" rx=\"5\">\n",
       "            <g transform=\"translate(45 50) rotate(-45)\">\n",
       "                <circle r=\"33\" cx=\"0\" cy=\"0\" />\n",
       "                <rect x=\"-8\" y=\"32\" width=\"16\" height=\"30\" />\n",
       "            </g>\n",
       "\n",
       "            <g transform=\"translate(450 152)\">\n",
       "                <polyline points=\"-15,-20 -35,-20 -35,40 25,40 25,20\" />\n",
       "                <rect x=\"-15\" y=\"-40\" width=\"60\" height=\"60\" />\n",
       "            </g>\n",
       "\n",
       "            <g transform=\"translate(50 352)\">\n",
       "                <polygon points=\"-35,-5 0,-40 35,-5\" />\n",
       "                <polygon points=\"-35,10 0,45 35,10\" />\n",
       "            </g>\n",
       "\n",
       "            <g transform=\"translate(75 250)\">\n",
       "                <polyline points=\"-30,30 -60,0 -30,-30\" />\n",
       "                <polyline points=\"0,30 -30,0 0,-30\" />\n",
       "            </g>\n",
       "\n",
       "            <g transform=\"translate(425 250) rotate(180)\">\n",
       "                <polyline points=\"-30,30 -60,0 -30,-30\" />\n",
       "                <polyline points=\"0,30 -30,0 0,-30\" />\n",
       "            </g>\n",
       "        </g>\n",
       "    </g>\n",
       "</svg>\n",
       "</a>\n",
       "</div>\n",
       "<div>\n",
       "Loading ITables v2.1.4 from the internet...\n",
       "(need <a href=https://mwouts.github.io/itables/troubleshooting.html>help</a>?)</td>\n",
       "</div>\n",
       "</tr></tbody>\n",
       "\n",
       "</table>\n",
       "<link href=\"https://www.unpkg.com/dt_for_itables@2.0.11/dt_bundle.css\" rel=\"stylesheet\">\n",
       "<script type=\"module\">\n",
       "    import {DataTable, jQuery as $} from 'https://www.unpkg.com/dt_for_itables@2.0.11/dt_bundle.js';\n",
       "\n",
       "    document.querySelectorAll(\"#itables_5b2b3027_cfd6_4c6a_9882_eb5d65f6642f:not(.dataTable)\").forEach(table => {\n",
       "        // Define the table data\n",
       "        const data = [[6, \"United States\", \"US\", \"no\", 1, 0.0, \"1946-01-04\", \"R/1/107\", 0.0, 0.0, \"DECLARATION OF HUMAN RIGHTS\", \"TO ADOPT A CUBAN PROPOSAL (A/3-C) THAT AN ITEM ON A DECLARATION OF THE RIGHTS AND DUTIES OF MAN BE TABLED.\", \"hr\", \"Human rights\", 1946], [6, \"Canada\", \"CA\", \"no\", 1, 0.0, \"1946-01-04\", \"R/1/107\", 0.0, 0.0, \"DECLARATION OF HUMAN RIGHTS\", \"TO ADOPT A CUBAN PROPOSAL (A/3-C) THAT AN ITEM ON A DECLARATION OF THE RIGHTS AND DUTIES OF MAN BE TABLED.\", \"hr\", \"Human rights\", 1946], [6, \"Cuba\", \"CU\", \"yes\", 1, 0.0, \"1946-01-04\", \"R/1/107\", 0.0, 0.0, \"DECLARATION OF HUMAN RIGHTS\", \"TO ADOPT A CUBAN PROPOSAL (A/3-C) THAT AN ITEM ON A DECLARATION OF THE RIGHTS AND DUTIES OF MAN BE TABLED.\", \"hr\", \"Human rights\", 1946], [6, \"Dominican Republic\", \"DO\", \"abstain\", 1, 0.0, \"1946-01-04\", \"R/1/107\", 0.0, 0.0, \"DECLARATION OF HUMAN RIGHTS\", \"TO ADOPT A CUBAN PROPOSAL (A/3-C) THAT AN ITEM ON A DECLARATION OF THE RIGHTS AND DUTIES OF MAN BE TABLED.\", \"hr\", \"Human rights\", 1946], [6, \"Mexico\", \"MX\", \"yes\", 1, 0.0, \"1946-01-04\", \"R/1/107\", 0.0, 0.0, \"DECLARATION OF HUMAN RIGHTS\", \"TO ADOPT A CUBAN PROPOSAL (A/3-C) THAT AN ITEM ON A DECLARATION OF THE RIGHTS AND DUTIES OF MAN BE TABLED.\", \"hr\", \"Human rights\", 1946], [6, \"Guatemala\", \"GT\", \"no\", 1, 0.0, \"1946-01-04\", \"R/1/107\", 0.0, 0.0, \"DECLARATION OF HUMAN RIGHTS\", \"TO ADOPT A CUBAN PROPOSAL (A/3-C) THAT AN ITEM ON A DECLARATION OF THE RIGHTS AND DUTIES OF MAN BE TABLED.\", \"hr\", \"Human rights\", 1946], [6, \"Honduras\", \"HN\", \"yes\", 1, 0.0, \"1946-01-04\", \"R/1/107\", 0.0, 0.0, \"DECLARATION OF HUMAN RIGHTS\", \"TO ADOPT A CUBAN PROPOSAL (A/3-C) THAT AN ITEM ON A DECLARATION OF THE RIGHTS AND DUTIES OF MAN BE TABLED.\", \"hr\", \"Human rights\", 1946], [6, \"El Salvador\", \"SV\", \"abstain\", 1, 0.0, \"1946-01-04\", \"R/1/107\", 0.0, 0.0, \"DECLARATION OF HUMAN RIGHTS\", \"TO ADOPT A CUBAN PROPOSAL (A/3-C) THAT AN ITEM ON A DECLARATION OF THE RIGHTS AND DUTIES OF MAN BE TABLED.\", \"hr\", \"Human rights\", 1946], [6, \"Nicaragua\", \"NI\", \"yes\", 1, 0.0, \"1946-01-04\", \"R/1/107\", 0.0, 0.0, \"DECLARATION OF HUMAN RIGHTS\", \"TO ADOPT A CUBAN PROPOSAL (A/3-C) THAT AN ITEM ON A DECLARATION OF THE RIGHTS AND DUTIES OF MAN BE TABLED.\", \"hr\", \"Human rights\", 1946], [6, \"Panama\", \"PA\", \"abstain\", 1, 0.0, \"1946-01-04\", \"R/1/107\", 0.0, 0.0, \"DECLARATION OF HUMAN RIGHTS\", \"TO ADOPT A CUBAN PROPOSAL (A/3-C) THAT AN ITEM ON A DECLARATION OF THE RIGHTS AND DUTIES OF MAN BE TABLED.\", \"hr\", \"Human rights\", 1946], [6, \"Colombia\", \"CO\", \"abstain\", 1, 0.0, \"1946-01-04\", \"R/1/107\", 0.0, 0.0, \"DECLARATION OF HUMAN RIGHTS\", \"TO ADOPT A CUBAN PROPOSAL (A/3-C) THAT AN ITEM ON A DECLARATION OF THE RIGHTS AND DUTIES OF MAN BE TABLED.\", \"hr\", \"Human rights\", 1946], [6, \"Venezuela\", \"VE\", \"no\", 1, 0.0, \"1946-01-04\", \"R/1/107\", 0.0, 0.0, \"DECLARATION OF HUMAN RIGHTS\", \"TO ADOPT A CUBAN PROPOSAL (A/3-C) THAT AN ITEM ON A DECLARATION OF THE RIGHTS AND DUTIES OF MAN BE TABLED.\", \"hr\", \"Human rights\", 1946], [6, \"Ecuador\", \"EC\", \"yes\", 1, 0.0, \"1946-01-04\", \"R/1/107\", 0.0, 0.0, \"DECLARATION OF HUMAN RIGHTS\", \"TO ADOPT A CUBAN PROPOSAL (A/3-C) THAT AN ITEM ON A DECLARATION OF THE RIGHTS AND DUTIES OF MAN BE TABLED.\", \"hr\", \"Human rights\", 1946], [6, \"Peru\", \"PE\", \"yes\", 1, 0.0, \"1946-01-04\", \"R/1/107\", 0.0, 0.0, \"DECLARATION OF HUMAN RIGHTS\", \"TO ADOPT A CUBAN PROPOSAL (A/3-C) THAT AN ITEM ON A DECLARATION OF THE RIGHTS AND DUTIES OF MAN BE TABLED.\", \"hr\", \"Human rights\", 1946], [6, \"Brazil\", \"BR\", \"no\", 1, 0.0, \"1946-01-04\", \"R/1/107\", 0.0, 0.0, \"DECLARATION OF HUMAN RIGHTS\", \"TO ADOPT A CUBAN PROPOSAL (A/3-C) THAT AN ITEM ON A DECLARATION OF THE RIGHTS AND DUTIES OF MAN BE TABLED.\", \"hr\", \"Human rights\", 1946], [6, \"Bolivia\", \"BO\", \"no\", 1, 0.0, \"1946-01-04\", \"R/1/107\", 0.0, 0.0, \"DECLARATION OF HUMAN RIGHTS\", \"TO ADOPT A CUBAN PROPOSAL (A/3-C) THAT AN ITEM ON A DECLARATION OF THE RIGHTS AND DUTIES OF MAN BE TABLED.\", \"hr\", \"Human rights\", 1946], [6, \"Paraguay\", \"PY\", \"abstain\", 1, 0.0, \"1946-01-04\", \"R/1/107\", 0.0, 0.0, \"DECLARATION OF HUMAN RIGHTS\", \"TO ADOPT A CUBAN PROPOSAL (A/3-C) THAT AN ITEM ON A DECLARATION OF THE RIGHTS AND DUTIES OF MAN BE TABLED.\", \"hr\", \"Human rights\", 1946], [6, \"Chile\", \"CL\", \"yes\", 1, 0.0, \"1946-01-04\", \"R/1/107\", 0.0, 0.0, \"DECLARATION OF HUMAN RIGHTS\", \"TO ADOPT A CUBAN PROPOSAL (A/3-C) THAT AN ITEM ON A DECLARATION OF THE RIGHTS AND DUTIES OF MAN BE TABLED.\", \"hr\", \"Human rights\", 1946], [6, \"Argentina\", \"AR\", \"abstain\", 1, 0.0, \"1946-01-04\", \"R/1/107\", 0.0, 0.0, \"DECLARATION OF HUMAN RIGHTS\", \"TO ADOPT A CUBAN PROPOSAL (A/3-C) THAT AN ITEM ON A DECLARATION OF THE RIGHTS AND DUTIES OF MAN BE TABLED.\", \"hr\", \"Human rights\", 1946], [6, \"Uruguay\", \"UY\", \"yes\", 1, 0.0, \"1946-01-04\", \"R/1/107\", 0.0, 0.0, \"DECLARATION OF HUMAN RIGHTS\", \"TO ADOPT A CUBAN PROPOSAL (A/3-C) THAT AN ITEM ON A DECLARATION OF THE RIGHTS AND DUTIES OF MAN BE TABLED.\", \"hr\", \"Human rights\", 1946], [6, \"United Kingdom\", \"GB\", \"no\", 1, 0.0, \"1946-01-04\", \"R/1/107\", 0.0, 0.0, \"DECLARATION OF HUMAN RIGHTS\", \"TO ADOPT A CUBAN PROPOSAL (A/3-C) THAT AN ITEM ON A DECLARATION OF THE RIGHTS AND DUTIES OF MAN BE TABLED.\", \"hr\", \"Human rights\", 1946], [6, \"Netherlands\", \"NL\", \"no\", 1, 0.0, \"1946-01-04\", \"R/1/107\", 0.0, 0.0, \"DECLARATION OF HUMAN RIGHTS\", \"TO ADOPT A CUBAN PROPOSAL (A/3-C) THAT AN ITEM ON A DECLARATION OF THE RIGHTS AND DUTIES OF MAN BE TABLED.\", \"hr\", \"Human rights\", 1946], [6, \"Belgium\", \"BE\", \"no\", 1, 0.0, \"1946-01-04\", \"R/1/107\", 0.0, 0.0, \"DECLARATION OF HUMAN RIGHTS\", \"TO ADOPT A CUBAN PROPOSAL (A/3-C) THAT AN ITEM ON A DECLARATION OF THE RIGHTS AND DUTIES OF MAN BE TABLED.\", \"hr\", \"Human rights\", 1946], [6, \"Luxembourg\", \"LU\", \"no\", 1, 0.0, \"1946-01-04\", \"R/1/107\", 0.0, 0.0, \"DECLARATION OF HUMAN RIGHTS\", \"TO ADOPT A CUBAN PROPOSAL (A/3-C) THAT AN ITEM ON A DECLARATION OF THE RIGHTS AND DUTIES OF MAN BE TABLED.\", \"hr\", \"Human rights\", 1946], [6, \"France\", \"FR\", \"no\", 1, 0.0, \"1946-01-04\", \"R/1/107\", 0.0, 0.0, \"DECLARATION OF HUMAN RIGHTS\", \"TO ADOPT A CUBAN PROPOSAL (A/3-C) THAT AN ITEM ON A DECLARATION OF THE RIGHTS AND DUTIES OF MAN BE TABLED.\", \"hr\", \"Human rights\", 1946], [6, \"Poland\", \"PL\", \"no\", 1, 0.0, \"1946-01-04\", \"R/1/107\", 0.0, 0.0, \"DECLARATION OF HUMAN RIGHTS\", \"TO ADOPT A CUBAN PROPOSAL (A/3-C) THAT AN ITEM ON A DECLARATION OF THE RIGHTS AND DUTIES OF MAN BE TABLED.\", \"hr\", \"Human rights\", 1946], [6, \"Czechoslovakia\", \"CS\", \"no\", 1, 0.0, \"1946-01-04\", \"R/1/107\", 0.0, 0.0, \"DECLARATION OF HUMAN RIGHTS\", \"TO ADOPT A CUBAN PROPOSAL (A/3-C) THAT AN ITEM ON A DECLARATION OF THE RIGHTS AND DUTIES OF MAN BE TABLED.\", \"hr\", \"Human rights\", 1946], [6, \"Yugoslavia\", \"YU\", \"no\", 1, 0.0, \"1946-01-04\", \"R/1/107\", 0.0, 0.0, \"DECLARATION OF HUMAN RIGHTS\", \"TO ADOPT A CUBAN PROPOSAL (A/3-C) THAT AN ITEM ON A DECLARATION OF THE RIGHTS AND DUTIES OF MAN BE TABLED.\", \"hr\", \"Human rights\", 1946], [6, \"Greece\", \"GR\", \"no\", 1, 0.0, \"1946-01-04\", \"R/1/107\", 0.0, 0.0, \"DECLARATION OF HUMAN RIGHTS\", \"TO ADOPT A CUBAN PROPOSAL (A/3-C) THAT AN ITEM ON A DECLARATION OF THE RIGHTS AND DUTIES OF MAN BE TABLED.\", \"hr\", \"Human rights\", 1946], [6, \"Russia\", \"RU\", \"no\", 1, 0.0, \"1946-01-04\", \"R/1/107\", 0.0, 0.0, \"DECLARATION OF HUMAN RIGHTS\", \"TO ADOPT A CUBAN PROPOSAL (A/3-C) THAT AN ITEM ON A DECLARATION OF THE RIGHTS AND DUTIES OF MAN BE TABLED.\", \"hr\", \"Human rights\", 1946], [6, \"Ukraine\", \"UA\", \"no\", 1, 0.0, \"1946-01-04\", \"R/1/107\", 0.0, 0.0, \"DECLARATION OF HUMAN RIGHTS\", \"TO ADOPT A CUBAN PROPOSAL (A/3-C) THAT AN ITEM ON A DECLARATION OF THE RIGHTS AND DUTIES OF MAN BE TABLED.\", \"hr\", \"Human rights\", 1946], [6, \"Belarus\", \"BY\", \"no\", 1, 0.0, \"1946-01-04\", \"R/1/107\", 0.0, 0.0, \"DECLARATION OF HUMAN RIGHTS\", \"TO ADOPT A CUBAN PROPOSAL (A/3-C) THAT AN ITEM ON A DECLARATION OF THE RIGHTS AND DUTIES OF MAN BE TABLED.\", \"hr\", \"Human rights\", 1946], [6, \"Norway\", \"NO\", \"no\", 1, 0.0, \"1946-01-04\", \"R/1/107\", 0.0, 0.0, \"DECLARATION OF HUMAN RIGHTS\", \"TO ADOPT A CUBAN PROPOSAL (A/3-C) THAT AN ITEM ON A DECLARATION OF THE RIGHTS AND DUTIES OF MAN BE TABLED.\", \"hr\", \"Human rights\", 1946], [6, \"Denmark\", \"DK\", \"no\", 1, 0.0, \"1946-01-04\", \"R/1/107\", 0.0, 0.0, \"DECLARATION OF HUMAN RIGHTS\", \"TO ADOPT A CUBAN PROPOSAL (A/3-C) THAT AN ITEM ON A DECLARATION OF THE RIGHTS AND DUTIES OF MAN BE TABLED.\", \"hr\", \"Human rights\", 1946], [6, \"Liberia\", \"LR\", \"no\", 1, 0.0, \"1946-01-04\", \"R/1/107\", 0.0, 0.0, \"DECLARATION OF HUMAN RIGHTS\", \"TO ADOPT A CUBAN PROPOSAL (A/3-C) THAT AN ITEM ON A DECLARATION OF THE RIGHTS AND DUTIES OF MAN BE TABLED.\", \"hr\", \"Human rights\", 1946], [6, \"Ethiopia\", \"ET\", \"abstain\", 1, 0.0, \"1946-01-04\", \"R/1/107\", 0.0, 0.0, \"DECLARATION OF HUMAN RIGHTS\", \"TO ADOPT A CUBAN PROPOSAL (A/3-C) THAT AN ITEM ON A DECLARATION OF THE RIGHTS AND DUTIES OF MAN BE TABLED.\", \"hr\", \"Human rights\", 1946], [6, \"South Africa\", \"ZA\", \"no\", 1, 0.0, \"1946-01-04\", \"R/1/107\", 0.0, 0.0, \"DECLARATION OF HUMAN RIGHTS\", \"TO ADOPT A CUBAN PROPOSAL (A/3-C) THAT AN ITEM ON A DECLARATION OF THE RIGHTS AND DUTIES OF MAN BE TABLED.\", \"hr\", \"Human rights\", 1946], [6, \"Iran\", \"IR\", \"yes\", 1, 0.0, \"1946-01-04\", \"R/1/107\", 0.0, 0.0, \"DECLARATION OF HUMAN RIGHTS\", \"TO ADOPT A CUBAN PROPOSAL (A/3-C) THAT AN ITEM ON A DECLARATION OF THE RIGHTS AND DUTIES OF MAN BE TABLED.\", \"hr\", \"Human rights\", 1946], [6, \"Turkey\", \"TR\", \"no\", 1, 0.0, \"1946-01-04\", \"R/1/107\", 0.0, 0.0, \"DECLARATION OF HUMAN RIGHTS\", \"TO ADOPT A CUBAN PROPOSAL (A/3-C) THAT AN ITEM ON A DECLARATION OF THE RIGHTS AND DUTIES OF MAN BE TABLED.\", \"hr\", \"Human rights\", 1946], [6, \"Iraq\", \"IQ\", \"abstain\", 1, 0.0, \"1946-01-04\", \"R/1/107\", 0.0, 0.0, \"DECLARATION OF HUMAN RIGHTS\", \"TO ADOPT A CUBAN PROPOSAL (A/3-C) THAT AN ITEM ON A DECLARATION OF THE RIGHTS AND DUTIES OF MAN BE TABLED.\", \"hr\", \"Human rights\", 1946], [6, \"Egypt\", \"EG\", \"abstain\", 1, 0.0, \"1946-01-04\", \"R/1/107\", 0.0, 0.0, \"DECLARATION OF HUMAN RIGHTS\", \"TO ADOPT A CUBAN PROPOSAL (A/3-C) THAT AN ITEM ON A DECLARATION OF THE RIGHTS AND DUTIES OF MAN BE TABLED.\", \"hr\", \"Human rights\", 1946], [6, \"Syria\", \"SY\", \"no\", 1, 0.0, \"1946-01-04\", \"R/1/107\", 0.0, 0.0, \"DECLARATION OF HUMAN RIGHTS\", \"TO ADOPT A CUBAN PROPOSAL (A/3-C) THAT AN ITEM ON A DECLARATION OF THE RIGHTS AND DUTIES OF MAN BE TABLED.\", \"hr\", \"Human rights\", 1946], [6, \"Lebanon\", \"LB\", \"yes\", 1, 0.0, \"1946-01-04\", \"R/1/107\", 0.0, 0.0, \"DECLARATION OF HUMAN RIGHTS\", \"TO ADOPT A CUBAN PROPOSAL (A/3-C) THAT AN ITEM ON A DECLARATION OF THE RIGHTS AND DUTIES OF MAN BE TABLED.\", \"hr\", \"Human rights\", 1946], [6, \"Saudi Arabia\", \"SA\", \"abstain\", 1, 0.0, \"1946-01-04\", \"R/1/107\", 0.0, 0.0, \"DECLARATION OF HUMAN RIGHTS\", \"TO ADOPT A CUBAN PROPOSAL (A/3-C) THAT AN ITEM ON A DECLARATION OF THE RIGHTS AND DUTIES OF MAN BE TABLED.\", \"hr\", \"Human rights\", 1946], [6, \"Taiwan\", \"TW\", \"no\", 1, 0.0, \"1946-01-04\", \"R/1/107\", 0.0, 0.0, \"DECLARATION OF HUMAN RIGHTS\", \"TO ADOPT A CUBAN PROPOSAL (A/3-C) THAT AN ITEM ON A DECLARATION OF THE RIGHTS AND DUTIES OF MAN BE TABLED.\", \"hr\", \"Human rights\", 1946], [6, \"India\", \"IN\", \"no\", 1, 0.0, \"1946-01-04\", \"R/1/107\", 0.0, 0.0, \"DECLARATION OF HUMAN RIGHTS\", \"TO ADOPT A CUBAN PROPOSAL (A/3-C) THAT AN ITEM ON A DECLARATION OF THE RIGHTS AND DUTIES OF MAN BE TABLED.\", \"hr\", \"Human rights\", 1946], [6, \"Philippines\", \"PH\", \"yes\", 1, 0.0, \"1946-01-04\", \"R/1/107\", 0.0, 0.0, \"DECLARATION OF HUMAN RIGHTS\", \"TO ADOPT A CUBAN PROPOSAL (A/3-C) THAT AN ITEM ON A DECLARATION OF THE RIGHTS AND DUTIES OF MAN BE TABLED.\", \"hr\", \"Human rights\", 1946], [6, \"Australia\", \"AU\", \"yes\", 1, 0.0, \"1946-01-04\", \"R/1/107\", 0.0, 0.0, \"DECLARATION OF HUMAN RIGHTS\", \"TO ADOPT A CUBAN PROPOSAL (A/3-C) THAT AN ITEM ON A DECLARATION OF THE RIGHTS AND DUTIES OF MAN BE TABLED.\", \"hr\", \"Human rights\", 1946], [6, \"New Zealand\", \"NZ\", \"no\", 1, 0.0, \"1946-01-04\", \"R/1/107\", 0.0, 0.0, \"DECLARATION OF HUMAN RIGHTS\", \"TO ADOPT A CUBAN PROPOSAL (A/3-C) THAT AN ITEM ON A DECLARATION OF THE RIGHTS AND DUTIES OF MAN BE TABLED.\", \"hr\", \"Human rights\", 1946], [8, \"United States\", \"US\", \"no\", 1, 0.0, \"1946-01-05\", \"R/1/297\", 1.0, 0.0, \"ECOSOC POWERS\", \"TO ADOPT A SECOND 6TH COMM. AMENDMENT (A/14) TO THE PROVISIONAL RULES OF PROCEDURE, WHICH AMENDMENT EPLACES PROVISIONAL RULE T WITH A NEW TEXT AUTHORIZING THE ECONOMIC & SOC. COUNCIL TO CALL INTERNATIONAL CONFERENCES ON ANY MATTER WITHIN ITS CO\", \"ec\", \"Economic development\", 1946], [8, \"Canada\", \"CA\", \"yes\", 1, 0.0, \"1946-01-05\", \"R/1/297\", 1.0, 0.0, \"ECOSOC POWERS\", \"TO ADOPT A SECOND 6TH COMM. AMENDMENT (A/14) TO THE PROVISIONAL RULES OF PROCEDURE, WHICH AMENDMENT EPLACES PROVISIONAL RULE T WITH A NEW TEXT AUTHORIZING THE ECONOMIC & SOC. COUNCIL TO CALL INTERNATIONAL CONFERENCES ON ANY MATTER WITHIN ITS CO\", \"ec\", \"Economic development\", 1946], [8, \"Cuba\", \"CU\", \"yes\", 1, 0.0, \"1946-01-05\", \"R/1/297\", 1.0, 0.0, \"ECOSOC POWERS\", \"TO ADOPT A SECOND 6TH COMM. AMENDMENT (A/14) TO THE PROVISIONAL RULES OF PROCEDURE, WHICH AMENDMENT EPLACES PROVISIONAL RULE T WITH A NEW TEXT AUTHORIZING THE ECONOMIC & SOC. COUNCIL TO CALL INTERNATIONAL CONFERENCES ON ANY MATTER WITHIN ITS CO\", \"ec\", \"Economic development\", 1946], [8, \"Dominican Republic\", \"DO\", \"yes\", 1, 0.0, \"1946-01-05\", \"R/1/297\", 1.0, 0.0, \"ECOSOC POWERS\", \"TO ADOPT A SECOND 6TH COMM. AMENDMENT (A/14) TO THE PROVISIONAL RULES OF PROCEDURE, WHICH AMENDMENT EPLACES PROVISIONAL RULE T WITH A NEW TEXT AUTHORIZING THE ECONOMIC & SOC. COUNCIL TO CALL INTERNATIONAL CONFERENCES ON ANY MATTER WITHIN ITS CO\", \"ec\", \"Economic development\", 1946], [8, \"Mexico\", \"MX\", \"yes\", 1, 0.0, \"1946-01-05\", \"R/1/297\", 1.0, 0.0, \"ECOSOC POWERS\", \"TO ADOPT A SECOND 6TH COMM. AMENDMENT (A/14) TO THE PROVISIONAL RULES OF PROCEDURE, WHICH AMENDMENT EPLACES PROVISIONAL RULE T WITH A NEW TEXT AUTHORIZING THE ECONOMIC & SOC. COUNCIL TO CALL INTERNATIONAL CONFERENCES ON ANY MATTER WITHIN ITS CO\", \"ec\", \"Economic development\", 1946], [8, \"Guatemala\", \"GT\", \"yes\", 1, 0.0, \"1946-01-05\", \"R/1/297\", 1.0, 0.0, \"ECOSOC POWERS\", \"TO ADOPT A SECOND 6TH COMM. AMENDMENT (A/14) TO THE PROVISIONAL RULES OF PROCEDURE, WHICH AMENDMENT EPLACES PROVISIONAL RULE T WITH A NEW TEXT AUTHORIZING THE ECONOMIC & SOC. COUNCIL TO CALL INTERNATIONAL CONFERENCES ON ANY MATTER WITHIN ITS CO\", \"ec\", \"Economic development\", 1946], [8, \"Costa Rica\", \"CR\", \"yes\", 1, 0.0, \"1946-01-05\", \"R/1/297\", 1.0, 0.0, \"ECOSOC POWERS\", \"TO ADOPT A SECOND 6TH COMM. AMENDMENT (A/14) TO THE PROVISIONAL RULES OF PROCEDURE, WHICH AMENDMENT EPLACES PROVISIONAL RULE T WITH A NEW TEXT AUTHORIZING THE ECONOMIC & SOC. COUNCIL TO CALL INTERNATIONAL CONFERENCES ON ANY MATTER WITHIN ITS CO\", \"ec\", \"Economic development\", 1946], [8, \"Colombia\", \"CO\", \"yes\", 1, 0.0, \"1946-01-05\", \"R/1/297\", 1.0, 0.0, \"ECOSOC POWERS\", \"TO ADOPT A SECOND 6TH COMM. AMENDMENT (A/14) TO THE PROVISIONAL RULES OF PROCEDURE, WHICH AMENDMENT EPLACES PROVISIONAL RULE T WITH A NEW TEXT AUTHORIZING THE ECONOMIC & SOC. COUNCIL TO CALL INTERNATIONAL CONFERENCES ON ANY MATTER WITHIN ITS CO\", \"ec\", \"Economic development\", 1946], [8, \"Ecuador\", \"EC\", \"yes\", 1, 0.0, \"1946-01-05\", \"R/1/297\", 1.0, 0.0, \"ECOSOC POWERS\", \"TO ADOPT A SECOND 6TH COMM. AMENDMENT (A/14) TO THE PROVISIONAL RULES OF PROCEDURE, WHICH AMENDMENT EPLACES PROVISIONAL RULE T WITH A NEW TEXT AUTHORIZING THE ECONOMIC & SOC. COUNCIL TO CALL INTERNATIONAL CONFERENCES ON ANY MATTER WITHIN ITS CO\", \"ec\", \"Economic development\", 1946], [8, \"Peru\", \"PE\", \"yes\", 1, 0.0, \"1946-01-05\", \"R/1/297\", 1.0, 0.0, \"ECOSOC POWERS\", \"TO ADOPT A SECOND 6TH COMM. AMENDMENT (A/14) TO THE PROVISIONAL RULES OF PROCEDURE, WHICH AMENDMENT EPLACES PROVISIONAL RULE T WITH A NEW TEXT AUTHORIZING THE ECONOMIC & SOC. COUNCIL TO CALL INTERNATIONAL CONFERENCES ON ANY MATTER WITHIN ITS CO\", \"ec\", \"Economic development\", 1946], [8, \"Brazil\", \"BR\", \"yes\", 1, 0.0, \"1946-01-05\", \"R/1/297\", 1.0, 0.0, \"ECOSOC POWERS\", \"TO ADOPT A SECOND 6TH COMM. AMENDMENT (A/14) TO THE PROVISIONAL RULES OF PROCEDURE, WHICH AMENDMENT EPLACES PROVISIONAL RULE T WITH A NEW TEXT AUTHORIZING THE ECONOMIC & SOC. COUNCIL TO CALL INTERNATIONAL CONFERENCES ON ANY MATTER WITHIN ITS CO\", \"ec\", \"Economic development\", 1946], [8, \"Bolivia\", \"BO\", \"yes\", 1, 0.0, \"1946-01-05\", \"R/1/297\", 1.0, 0.0, \"ECOSOC POWERS\", \"TO ADOPT A SECOND 6TH COMM. AMENDMENT (A/14) TO THE PROVISIONAL RULES OF PROCEDURE, WHICH AMENDMENT EPLACES PROVISIONAL RULE T WITH A NEW TEXT AUTHORIZING THE ECONOMIC & SOC. COUNCIL TO CALL INTERNATIONAL CONFERENCES ON ANY MATTER WITHIN ITS CO\", \"ec\", \"Economic development\", 1946], [8, \"Chile\", \"CL\", \"yes\", 1, 0.0, \"1946-01-05\", \"R/1/297\", 1.0, 0.0, \"ECOSOC POWERS\", \"TO ADOPT A SECOND 6TH COMM. AMENDMENT (A/14) TO THE PROVISIONAL RULES OF PROCEDURE, WHICH AMENDMENT EPLACES PROVISIONAL RULE T WITH A NEW TEXT AUTHORIZING THE ECONOMIC & SOC. COUNCIL TO CALL INTERNATIONAL CONFERENCES ON ANY MATTER WITHIN ITS CO\", \"ec\", \"Economic development\", 1946], [8, \"Argentina\", \"AR\", \"yes\", 1, 0.0, \"1946-01-05\", \"R/1/297\", 1.0, 0.0, \"ECOSOC POWERS\", \"TO ADOPT A SECOND 6TH COMM. AMENDMENT (A/14) TO THE PROVISIONAL RULES OF PROCEDURE, WHICH AMENDMENT EPLACES PROVISIONAL RULE T WITH A NEW TEXT AUTHORIZING THE ECONOMIC & SOC. COUNCIL TO CALL INTERNATIONAL CONFERENCES ON ANY MATTER WITHIN ITS CO\", \"ec\", \"Economic development\", 1946], [8, \"Uruguay\", \"UY\", \"yes\", 1, 0.0, \"1946-01-05\", \"R/1/297\", 1.0, 0.0, \"ECOSOC POWERS\", \"TO ADOPT A SECOND 6TH COMM. AMENDMENT (A/14) TO THE PROVISIONAL RULES OF PROCEDURE, WHICH AMENDMENT EPLACES PROVISIONAL RULE T WITH A NEW TEXT AUTHORIZING THE ECONOMIC & SOC. COUNCIL TO CALL INTERNATIONAL CONFERENCES ON ANY MATTER WITHIN ITS CO\", \"ec\", \"Economic development\", 1946], [8, \"United Kingdom\", \"GB\", \"yes\", 1, 0.0, \"1946-01-05\", \"R/1/297\", 1.0, 0.0, \"ECOSOC POWERS\", \"TO ADOPT A SECOND 6TH COMM. AMENDMENT (A/14) TO THE PROVISIONAL RULES OF PROCEDURE, WHICH AMENDMENT EPLACES PROVISIONAL RULE T WITH A NEW TEXT AUTHORIZING THE ECONOMIC & SOC. COUNCIL TO CALL INTERNATIONAL CONFERENCES ON ANY MATTER WITHIN ITS CO\", \"ec\", \"Economic development\", 1946], [8, \"Netherlands\", \"NL\", \"yes\", 1, 0.0, \"1946-01-05\", \"R/1/297\", 1.0, 0.0, \"ECOSOC POWERS\", \"TO ADOPT A SECOND 6TH COMM. AMENDMENT (A/14) TO THE PROVISIONAL RULES OF PROCEDURE, WHICH AMENDMENT EPLACES PROVISIONAL RULE T WITH A NEW TEXT AUTHORIZING THE ECONOMIC & SOC. COUNCIL TO CALL INTERNATIONAL CONFERENCES ON ANY MATTER WITHIN ITS CO\", \"ec\", \"Economic development\", 1946], [8, \"Belgium\", \"BE\", \"yes\", 1, 0.0, \"1946-01-05\", \"R/1/297\", 1.0, 0.0, \"ECOSOC POWERS\", \"TO ADOPT A SECOND 6TH COMM. AMENDMENT (A/14) TO THE PROVISIONAL RULES OF PROCEDURE, WHICH AMENDMENT EPLACES PROVISIONAL RULE T WITH A NEW TEXT AUTHORIZING THE ECONOMIC & SOC. COUNCIL TO CALL INTERNATIONAL CONFERENCES ON ANY MATTER WITHIN ITS CO\", \"ec\", \"Economic development\", 1946], [8, \"Luxembourg\", \"LU\", \"yes\", 1, 0.0, \"1946-01-05\", \"R/1/297\", 1.0, 0.0, \"ECOSOC POWERS\", \"TO ADOPT A SECOND 6TH COMM. AMENDMENT (A/14) TO THE PROVISIONAL RULES OF PROCEDURE, WHICH AMENDMENT EPLACES PROVISIONAL RULE T WITH A NEW TEXT AUTHORIZING THE ECONOMIC & SOC. COUNCIL TO CALL INTERNATIONAL CONFERENCES ON ANY MATTER WITHIN ITS CO\", \"ec\", \"Economic development\", 1946], [8, \"France\", \"FR\", \"yes\", 1, 0.0, \"1946-01-05\", \"R/1/297\", 1.0, 0.0, \"ECOSOC POWERS\", \"TO ADOPT A SECOND 6TH COMM. AMENDMENT (A/14) TO THE PROVISIONAL RULES OF PROCEDURE, WHICH AMENDMENT EPLACES PROVISIONAL RULE T WITH A NEW TEXT AUTHORIZING THE ECONOMIC & SOC. COUNCIL TO CALL INTERNATIONAL CONFERENCES ON ANY MATTER WITHIN ITS CO\", \"ec\", \"Economic development\", 1946], [8, \"Poland\", \"PL\", \"yes\", 1, 0.0, \"1946-01-05\", \"R/1/297\", 1.0, 0.0, \"ECOSOC POWERS\", \"TO ADOPT A SECOND 6TH COMM. AMENDMENT (A/14) TO THE PROVISIONAL RULES OF PROCEDURE, WHICH AMENDMENT EPLACES PROVISIONAL RULE T WITH A NEW TEXT AUTHORIZING THE ECONOMIC & SOC. COUNCIL TO CALL INTERNATIONAL CONFERENCES ON ANY MATTER WITHIN ITS CO\", \"ec\", \"Economic development\", 1946], [8, \"Czechoslovakia\", \"CS\", \"yes\", 1, 0.0, \"1946-01-05\", \"R/1/297\", 1.0, 0.0, \"ECOSOC POWERS\", \"TO ADOPT A SECOND 6TH COMM. AMENDMENT (A/14) TO THE PROVISIONAL RULES OF PROCEDURE, WHICH AMENDMENT EPLACES PROVISIONAL RULE T WITH A NEW TEXT AUTHORIZING THE ECONOMIC & SOC. COUNCIL TO CALL INTERNATIONAL CONFERENCES ON ANY MATTER WITHIN ITS CO\", \"ec\", \"Economic development\", 1946], [8, \"Yugoslavia\", \"YU\", \"yes\", 1, 0.0, \"1946-01-05\", \"R/1/297\", 1.0, 0.0, \"ECOSOC POWERS\", \"TO ADOPT A SECOND 6TH COMM. AMENDMENT (A/14) TO THE PROVISIONAL RULES OF PROCEDURE, WHICH AMENDMENT EPLACES PROVISIONAL RULE T WITH A NEW TEXT AUTHORIZING THE ECONOMIC & SOC. COUNCIL TO CALL INTERNATIONAL CONFERENCES ON ANY MATTER WITHIN ITS CO\", \"ec\", \"Economic development\", 1946], [8, \"Greece\", \"GR\", \"yes\", 1, 0.0, \"1946-01-05\", \"R/1/297\", 1.0, 0.0, \"ECOSOC POWERS\", \"TO ADOPT A SECOND 6TH COMM. AMENDMENT (A/14) TO THE PROVISIONAL RULES OF PROCEDURE, WHICH AMENDMENT EPLACES PROVISIONAL RULE T WITH A NEW TEXT AUTHORIZING THE ECONOMIC & SOC. COUNCIL TO CALL INTERNATIONAL CONFERENCES ON ANY MATTER WITHIN ITS CO\", \"ec\", \"Economic development\", 1946], [8, \"Russia\", \"RU\", \"yes\", 1, 0.0, \"1946-01-05\", \"R/1/297\", 1.0, 0.0, \"ECOSOC POWERS\", \"TO ADOPT A SECOND 6TH COMM. AMENDMENT (A/14) TO THE PROVISIONAL RULES OF PROCEDURE, WHICH AMENDMENT EPLACES PROVISIONAL RULE T WITH A NEW TEXT AUTHORIZING THE ECONOMIC & SOC. COUNCIL TO CALL INTERNATIONAL CONFERENCES ON ANY MATTER WITHIN ITS CO\", \"ec\", \"Economic development\", 1946], [8, \"Ukraine\", \"UA\", \"yes\", 1, 0.0, \"1946-01-05\", \"R/1/297\", 1.0, 0.0, \"ECOSOC POWERS\", \"TO ADOPT A SECOND 6TH COMM. AMENDMENT (A/14) TO THE PROVISIONAL RULES OF PROCEDURE, WHICH AMENDMENT EPLACES PROVISIONAL RULE T WITH A NEW TEXT AUTHORIZING THE ECONOMIC & SOC. COUNCIL TO CALL INTERNATIONAL CONFERENCES ON ANY MATTER WITHIN ITS CO\", \"ec\", \"Economic development\", 1946], [8, \"Belarus\", \"BY\", \"yes\", 1, 0.0, \"1946-01-05\", \"R/1/297\", 1.0, 0.0, \"ECOSOC POWERS\", \"TO ADOPT A SECOND 6TH COMM. AMENDMENT (A/14) TO THE PROVISIONAL RULES OF PROCEDURE, WHICH AMENDMENT EPLACES PROVISIONAL RULE T WITH A NEW TEXT AUTHORIZING THE ECONOMIC & SOC. COUNCIL TO CALL INTERNATIONAL CONFERENCES ON ANY MATTER WITHIN ITS CO\", \"ec\", \"Economic development\", 1946], [8, \"Norway\", \"NO\", \"abstain\", 1, 0.0, \"1946-01-05\", \"R/1/297\", 1.0, 0.0, \"ECOSOC POWERS\", \"TO ADOPT A SECOND 6TH COMM. AMENDMENT (A/14) TO THE PROVISIONAL RULES OF PROCEDURE, WHICH AMENDMENT EPLACES PROVISIONAL RULE T WITH A NEW TEXT AUTHORIZING THE ECONOMIC & SOC. COUNCIL TO CALL INTERNATIONAL CONFERENCES ON ANY MATTER WITHIN ITS CO\", \"ec\", \"Economic development\", 1946], [8, \"Denmark\", \"DK\", \"abstain\", 1, 0.0, \"1946-01-05\", \"R/1/297\", 1.0, 0.0, \"ECOSOC POWERS\", \"TO ADOPT A SECOND 6TH COMM. AMENDMENT (A/14) TO THE PROVISIONAL RULES OF PROCEDURE, WHICH AMENDMENT EPLACES PROVISIONAL RULE T WITH A NEW TEXT AUTHORIZING THE ECONOMIC & SOC. COUNCIL TO CALL INTERNATIONAL CONFERENCES ON ANY MATTER WITHIN ITS CO\", \"ec\", \"Economic development\", 1946], [8, \"Liberia\", \"LR\", \"yes\", 1, 0.0, \"1946-01-05\", \"R/1/297\", 1.0, 0.0, \"ECOSOC POWERS\", \"TO ADOPT A SECOND 6TH COMM. AMENDMENT (A/14) TO THE PROVISIONAL RULES OF PROCEDURE, WHICH AMENDMENT EPLACES PROVISIONAL RULE T WITH A NEW TEXT AUTHORIZING THE ECONOMIC & SOC. COUNCIL TO CALL INTERNATIONAL CONFERENCES ON ANY MATTER WITHIN ITS CO\", \"ec\", \"Economic development\", 1946], [8, \"South Africa\", \"ZA\", \"yes\", 1, 0.0, \"1946-01-05\", \"R/1/297\", 1.0, 0.0, \"ECOSOC POWERS\", \"TO ADOPT A SECOND 6TH COMM. AMENDMENT (A/14) TO THE PROVISIONAL RULES OF PROCEDURE, WHICH AMENDMENT EPLACES PROVISIONAL RULE T WITH A NEW TEXT AUTHORIZING THE ECONOMIC & SOC. COUNCIL TO CALL INTERNATIONAL CONFERENCES ON ANY MATTER WITHIN ITS CO\", \"ec\", \"Economic development\", 1946], [8, \"Turkey\", \"TR\", \"yes\", 1, 0.0, \"1946-01-05\", \"R/1/297\", 1.0, 0.0, \"ECOSOC POWERS\", \"TO ADOPT A SECOND 6TH COMM. AMENDMENT (A/14) TO THE PROVISIONAL RULES OF PROCEDURE, WHICH AMENDMENT EPLACES PROVISIONAL RULE T WITH A NEW TEXT AUTHORIZING THE ECONOMIC & SOC. COUNCIL TO CALL INTERNATIONAL CONFERENCES ON ANY MATTER WITHIN ITS CO\", \"ec\", \"Economic development\", 1946], [8, \"Iraq\", \"IQ\", \"yes\", 1, 0.0, \"1946-01-05\", \"R/1/297\", 1.0, 0.0, \"ECOSOC POWERS\", \"TO ADOPT A SECOND 6TH COMM. AMENDMENT (A/14) TO THE PROVISIONAL RULES OF PROCEDURE, WHICH AMENDMENT EPLACES PROVISIONAL RULE T WITH A NEW TEXT AUTHORIZING THE ECONOMIC & SOC. COUNCIL TO CALL INTERNATIONAL CONFERENCES ON ANY MATTER WITHIN ITS CO\", \"ec\", \"Economic development\", 1946], [8, \"Egypt\", \"EG\", \"yes\", 1, 0.0, \"1946-01-05\", \"R/1/297\", 1.0, 0.0, \"ECOSOC POWERS\", \"TO ADOPT A SECOND 6TH COMM. AMENDMENT (A/14) TO THE PROVISIONAL RULES OF PROCEDURE, WHICH AMENDMENT EPLACES PROVISIONAL RULE T WITH A NEW TEXT AUTHORIZING THE ECONOMIC & SOC. COUNCIL TO CALL INTERNATIONAL CONFERENCES ON ANY MATTER WITHIN ITS CO\", \"ec\", \"Economic development\", 1946], [8, \"Syria\", \"SY\", \"yes\", 1, 0.0, \"1946-01-05\", \"R/1/297\", 1.0, 0.0, \"ECOSOC POWERS\", \"TO ADOPT A SECOND 6TH COMM. AMENDMENT (A/14) TO THE PROVISIONAL RULES OF PROCEDURE, WHICH AMENDMENT EPLACES PROVISIONAL RULE T WITH A NEW TEXT AUTHORIZING THE ECONOMIC & SOC. COUNCIL TO CALL INTERNATIONAL CONFERENCES ON ANY MATTER WITHIN ITS CO\", \"ec\", \"Economic development\", 1946], [8, \"Lebanon\", \"LB\", \"yes\", 1, 0.0, \"1946-01-05\", \"R/1/297\", 1.0, 0.0, \"ECOSOC POWERS\", \"TO ADOPT A SECOND 6TH COMM. AMENDMENT (A/14) TO THE PROVISIONAL RULES OF PROCEDURE, WHICH AMENDMENT EPLACES PROVISIONAL RULE T WITH A NEW TEXT AUTHORIZING THE ECONOMIC & SOC. COUNCIL TO CALL INTERNATIONAL CONFERENCES ON ANY MATTER WITHIN ITS CO\", \"ec\", \"Economic development\", 1946], [8, \"Taiwan\", \"TW\", \"yes\", 1, 0.0, \"1946-01-05\", \"R/1/297\", 1.0, 0.0, \"ECOSOC POWERS\", \"TO ADOPT A SECOND 6TH COMM. AMENDMENT (A/14) TO THE PROVISIONAL RULES OF PROCEDURE, WHICH AMENDMENT EPLACES PROVISIONAL RULE T WITH A NEW TEXT AUTHORIZING THE ECONOMIC & SOC. COUNCIL TO CALL INTERNATIONAL CONFERENCES ON ANY MATTER WITHIN ITS CO\", \"ec\", \"Economic development\", 1946], [8, \"India\", \"IN\", \"yes\", 1, 0.0, \"1946-01-05\", \"R/1/297\", 1.0, 0.0, \"ECOSOC POWERS\", \"TO ADOPT A SECOND 6TH COMM. AMENDMENT (A/14) TO THE PROVISIONAL RULES OF PROCEDURE, WHICH AMENDMENT EPLACES PROVISIONAL RULE T WITH A NEW TEXT AUTHORIZING THE ECONOMIC & SOC. COUNCIL TO CALL INTERNATIONAL CONFERENCES ON ANY MATTER WITHIN ITS CO\", \"ec\", \"Economic development\", 1946], [8, \"Philippines\", \"PH\", \"yes\", 1, 0.0, \"1946-01-05\", \"R/1/297\", 1.0, 0.0, \"ECOSOC POWERS\", \"TO ADOPT A SECOND 6TH COMM. AMENDMENT (A/14) TO THE PROVISIONAL RULES OF PROCEDURE, WHICH AMENDMENT EPLACES PROVISIONAL RULE T WITH A NEW TEXT AUTHORIZING THE ECONOMIC & SOC. COUNCIL TO CALL INTERNATIONAL CONFERENCES ON ANY MATTER WITHIN ITS CO\", \"ec\", \"Economic development\", 1946], [8, \"Australia\", \"AU\", \"yes\", 1, 0.0, \"1946-01-05\", \"R/1/297\", 1.0, 0.0, \"ECOSOC POWERS\", \"TO ADOPT A SECOND 6TH COMM. AMENDMENT (A/14) TO THE PROVISIONAL RULES OF PROCEDURE, WHICH AMENDMENT EPLACES PROVISIONAL RULE T WITH A NEW TEXT AUTHORIZING THE ECONOMIC & SOC. COUNCIL TO CALL INTERNATIONAL CONFERENCES ON ANY MATTER WITHIN ITS CO\", \"ec\", \"Economic development\", 1946], [8, \"New Zealand\", \"NZ\", \"yes\", 1, 0.0, \"1946-01-05\", \"R/1/297\", 1.0, 0.0, \"ECOSOC POWERS\", \"TO ADOPT A SECOND 6TH COMM. AMENDMENT (A/14) TO THE PROVISIONAL RULES OF PROCEDURE, WHICH AMENDMENT EPLACES PROVISIONAL RULE T WITH A NEW TEXT AUTHORIZING THE ECONOMIC & SOC. COUNCIL TO CALL INTERNATIONAL CONFERENCES ON ANY MATTER WITHIN ITS CO\", \"ec\", \"Economic development\", 1946], [11, \"United States\", \"US\", \"yes\", 1, 0.0, \"1946-02-05\", \"R/1/376\", 0.0, 0.0, \"TRUSTEESHIP AMENDMENTS\", \"TO ADOPT DRAFT RESOLUTIONS I AND II AS A WHOLE, OF THE 4TH COMM. REPORT (A/34) ON NON-SELF-GOVERNING TERRITORIES. RESOLUTION I PROVIDES TO PROMOTE THE POLITICAL, SOCIAL, ECONOMIC, AND EDUCATIONAL ASPIRATIONS OF NON-SELF-GOVERNING PEOPLES THROUG\", \"co\", \"Colonialism\", 1946], [11, \"United States\", \"US\", \"yes\", 1, 0.0, \"1946-02-05\", \"R/1/376\", 0.0, 0.0, \"TRUSTEESHIP AMENDMENTS\", \"TO ADOPT DRAFT RESOLUTIONS I AND II AS A WHOLE, OF THE 4TH COMM. REPORT (A/34) ON NON-SELF-GOVERNING TERRITORIES. RESOLUTION I PROVIDES TO PROMOTE THE POLITICAL, SOCIAL, ECONOMIC, AND EDUCATIONAL ASPIRATIONS OF NON-SELF-GOVERNING PEOPLES THROUG\", \"ec\", \"Economic development\", 1946], [11, \"Canada\", \"CA\", \"yes\", 1, 0.0, \"1946-02-05\", \"R/1/376\", 0.0, 0.0, \"TRUSTEESHIP AMENDMENTS\", \"TO ADOPT DRAFT RESOLUTIONS I AND II AS A WHOLE, OF THE 4TH COMM. REPORT (A/34) ON NON-SELF-GOVERNING TERRITORIES. RESOLUTION I PROVIDES TO PROMOTE THE POLITICAL, SOCIAL, ECONOMIC, AND EDUCATIONAL ASPIRATIONS OF NON-SELF-GOVERNING PEOPLES THROUG\", \"co\", \"Colonialism\", 1946], [11, \"Canada\", \"CA\", \"yes\", 1, 0.0, \"1946-02-05\", \"R/1/376\", 0.0, 0.0, \"TRUSTEESHIP AMENDMENTS\", \"TO ADOPT DRAFT RESOLUTIONS I AND II AS A WHOLE, OF THE 4TH COMM. REPORT (A/34) ON NON-SELF-GOVERNING TERRITORIES. RESOLUTION I PROVIDES TO PROMOTE THE POLITICAL, SOCIAL, ECONOMIC, AND EDUCATIONAL ASPIRATIONS OF NON-SELF-GOVERNING PEOPLES THROUG\", \"ec\", \"Economic development\", 1946], [11, \"Cuba\", \"CU\", \"yes\", 1, 0.0, \"1946-02-05\", \"R/1/376\", 0.0, 0.0, \"TRUSTEESHIP AMENDMENTS\", \"TO ADOPT DRAFT RESOLUTIONS I AND II AS A WHOLE, OF THE 4TH COMM. REPORT (A/34) ON NON-SELF-GOVERNING TERRITORIES. RESOLUTION I PROVIDES TO PROMOTE THE POLITICAL, SOCIAL, ECONOMIC, AND EDUCATIONAL ASPIRATIONS OF NON-SELF-GOVERNING PEOPLES THROUG\", \"co\", \"Colonialism\", 1946], [11, \"Cuba\", \"CU\", \"yes\", 1, 0.0, \"1946-02-05\", \"R/1/376\", 0.0, 0.0, \"TRUSTEESHIP AMENDMENTS\", \"TO ADOPT DRAFT RESOLUTIONS I AND II AS A WHOLE, OF THE 4TH COMM. REPORT (A/34) ON NON-SELF-GOVERNING TERRITORIES. RESOLUTION I PROVIDES TO PROMOTE THE POLITICAL, SOCIAL, ECONOMIC, AND EDUCATIONAL ASPIRATIONS OF NON-SELF-GOVERNING PEOPLES THROUG\", \"ec\", \"Economic development\", 1946], [11, \"Dominican Republic\", \"DO\", \"yes\", 1, 0.0, \"1946-02-05\", \"R/1/376\", 0.0, 0.0, \"TRUSTEESHIP AMENDMENTS\", \"TO ADOPT DRAFT RESOLUTIONS I AND II AS A WHOLE, OF THE 4TH COMM. REPORT (A/34) ON NON-SELF-GOVERNING TERRITORIES. RESOLUTION I PROVIDES TO PROMOTE THE POLITICAL, SOCIAL, ECONOMIC, AND EDUCATIONAL ASPIRATIONS OF NON-SELF-GOVERNING PEOPLES THROUG\", \"co\", \"Colonialism\", 1946], [11, \"Dominican Republic\", \"DO\", \"yes\", 1, 0.0, \"1946-02-05\", \"R/1/376\", 0.0, 0.0, \"TRUSTEESHIP AMENDMENTS\", \"TO ADOPT DRAFT RESOLUTIONS I AND II AS A WHOLE, OF THE 4TH COMM. REPORT (A/34) ON NON-SELF-GOVERNING TERRITORIES. RESOLUTION I PROVIDES TO PROMOTE THE POLITICAL, SOCIAL, ECONOMIC, AND EDUCATIONAL ASPIRATIONS OF NON-SELF-GOVERNING PEOPLES THROUG\", \"ec\", \"Economic development\", 1946], [11, \"Honduras\", \"HN\", \"yes\", 1, 0.0, \"1946-02-05\", \"R/1/376\", 0.0, 0.0, \"TRUSTEESHIP AMENDMENTS\", \"TO ADOPT DRAFT RESOLUTIONS I AND II AS A WHOLE, OF THE 4TH COMM. REPORT (A/34) ON NON-SELF-GOVERNING TERRITORIES. RESOLUTION I PROVIDES TO PROMOTE THE POLITICAL, SOCIAL, ECONOMIC, AND EDUCATIONAL ASPIRATIONS OF NON-SELF-GOVERNING PEOPLES THROUG\", \"co\", \"Colonialism\", 1946], [11, \"Honduras\", \"HN\", \"yes\", 1, 0.0, \"1946-02-05\", \"R/1/376\", 0.0, 0.0, \"TRUSTEESHIP AMENDMENTS\", \"TO ADOPT DRAFT RESOLUTIONS I AND II AS A WHOLE, OF THE 4TH COMM. REPORT (A/34) ON NON-SELF-GOVERNING TERRITORIES. RESOLUTION I PROVIDES TO PROMOTE THE POLITICAL, SOCIAL, ECONOMIC, AND EDUCATIONAL ASPIRATIONS OF NON-SELF-GOVERNING PEOPLES THROUG\", \"ec\", \"Economic development\", 1946], [11, \"Venezuela\", \"VE\", \"yes\", 1, 0.0, \"1946-02-05\", \"R/1/376\", 0.0, 0.0, \"TRUSTEESHIP AMENDMENTS\", \"TO ADOPT DRAFT RESOLUTIONS I AND II AS A WHOLE, OF THE 4TH COMM. REPORT (A/34) ON NON-SELF-GOVERNING TERRITORIES. RESOLUTION I PROVIDES TO PROMOTE THE POLITICAL, SOCIAL, ECONOMIC, AND EDUCATIONAL ASPIRATIONS OF NON-SELF-GOVERNING PEOPLES THROUG\", \"co\", \"Colonialism\", 1946], [11, \"Venezuela\", \"VE\", \"yes\", 1, 0.0, \"1946-02-05\", \"R/1/376\", 0.0, 0.0, \"TRUSTEESHIP AMENDMENTS\", \"TO ADOPT DRAFT RESOLUTIONS I AND II AS A WHOLE, OF THE 4TH COMM. REPORT (A/34) ON NON-SELF-GOVERNING TERRITORIES. RESOLUTION I PROVIDES TO PROMOTE THE POLITICAL, SOCIAL, ECONOMIC, AND EDUCATIONAL ASPIRATIONS OF NON-SELF-GOVERNING PEOPLES THROUG\", \"ec\", \"Economic development\", 1946], [11, \"Ecuador\", \"EC\", \"yes\", 1, 0.0, \"1946-02-05\", \"R/1/376\", 0.0, 0.0, \"TRUSTEESHIP AMENDMENTS\", \"TO ADOPT DRAFT RESOLUTIONS I AND II AS A WHOLE, OF THE 4TH COMM. REPORT (A/34) ON NON-SELF-GOVERNING TERRITORIES. RESOLUTION I PROVIDES TO PROMOTE THE POLITICAL, SOCIAL, ECONOMIC, AND EDUCATIONAL ASPIRATIONS OF NON-SELF-GOVERNING PEOPLES THROUG\", \"co\", \"Colonialism\", 1946], [11, \"Ecuador\", \"EC\", \"yes\", 1, 0.0, \"1946-02-05\", \"R/1/376\", 0.0, 0.0, \"TRUSTEESHIP AMENDMENTS\", \"TO ADOPT DRAFT RESOLUTIONS I AND II AS A WHOLE, OF THE 4TH COMM. REPORT (A/34) ON NON-SELF-GOVERNING TERRITORIES. RESOLUTION I PROVIDES TO PROMOTE THE POLITICAL, SOCIAL, ECONOMIC, AND EDUCATIONAL ASPIRATIONS OF NON-SELF-GOVERNING PEOPLES THROUG\", \"ec\", \"Economic development\", 1946], [11, \"Peru\", \"PE\", \"yes\", 1, 0.0, \"1946-02-05\", \"R/1/376\", 0.0, 0.0, \"TRUSTEESHIP AMENDMENTS\", \"TO ADOPT DRAFT RESOLUTIONS I AND II AS A WHOLE, OF THE 4TH COMM. REPORT (A/34) ON NON-SELF-GOVERNING TERRITORIES. RESOLUTION I PROVIDES TO PROMOTE THE POLITICAL, SOCIAL, ECONOMIC, AND EDUCATIONAL ASPIRATIONS OF NON-SELF-GOVERNING PEOPLES THROUG\", \"co\", \"Colonialism\", 1946], [11, \"Peru\", \"PE\", \"yes\", 1, 0.0, \"1946-02-05\", \"R/1/376\", 0.0, 0.0, \"TRUSTEESHIP AMENDMENTS\", \"TO ADOPT DRAFT RESOLUTIONS I AND II AS A WHOLE, OF THE 4TH COMM. REPORT (A/34) ON NON-SELF-GOVERNING TERRITORIES. RESOLUTION I PROVIDES TO PROMOTE THE POLITICAL, SOCIAL, ECONOMIC, AND EDUCATIONAL ASPIRATIONS OF NON-SELF-GOVERNING PEOPLES THROUG\", \"ec\", \"Economic development\", 1946], [11, \"Brazil\", \"BR\", \"yes\", 1, 0.0, \"1946-02-05\", \"R/1/376\", 0.0, 0.0, \"TRUSTEESHIP AMENDMENTS\", \"TO ADOPT DRAFT RESOLUTIONS I AND II AS A WHOLE, OF THE 4TH COMM. REPORT (A/34) ON NON-SELF-GOVERNING TERRITORIES. RESOLUTION I PROVIDES TO PROMOTE THE POLITICAL, SOCIAL, ECONOMIC, AND EDUCATIONAL ASPIRATIONS OF NON-SELF-GOVERNING PEOPLES THROUG\", \"co\", \"Colonialism\", 1946], [11, \"Brazil\", \"BR\", \"yes\", 1, 0.0, \"1946-02-05\", \"R/1/376\", 0.0, 0.0, \"TRUSTEESHIP AMENDMENTS\", \"TO ADOPT DRAFT RESOLUTIONS I AND II AS A WHOLE, OF THE 4TH COMM. REPORT (A/34) ON NON-SELF-GOVERNING TERRITORIES. RESOLUTION I PROVIDES TO PROMOTE THE POLITICAL, SOCIAL, ECONOMIC, AND EDUCATIONAL ASPIRATIONS OF NON-SELF-GOVERNING PEOPLES THROUG\", \"ec\", \"Economic development\", 1946], [11, \"Bolivia\", \"BO\", \"yes\", 1, 0.0, \"1946-02-05\", \"R/1/376\", 0.0, 0.0, \"TRUSTEESHIP AMENDMENTS\", \"TO ADOPT DRAFT RESOLUTIONS I AND II AS A WHOLE, OF THE 4TH COMM. REPORT (A/34) ON NON-SELF-GOVERNING TERRITORIES. RESOLUTION I PROVIDES TO PROMOTE THE POLITICAL, SOCIAL, ECONOMIC, AND EDUCATIONAL ASPIRATIONS OF NON-SELF-GOVERNING PEOPLES THROUG\", \"co\", \"Colonialism\", 1946], [11, \"Bolivia\", \"BO\", \"yes\", 1, 0.0, \"1946-02-05\", \"R/1/376\", 0.0, 0.0, \"TRUSTEESHIP AMENDMENTS\", \"TO ADOPT DRAFT RESOLUTIONS I AND II AS A WHOLE, OF THE 4TH COMM. REPORT (A/34) ON NON-SELF-GOVERNING TERRITORIES. RESOLUTION I PROVIDES TO PROMOTE THE POLITICAL, SOCIAL, ECONOMIC, AND EDUCATIONAL ASPIRATIONS OF NON-SELF-GOVERNING PEOPLES THROUG\", \"ec\", \"Economic development\", 1946], [11, \"Paraguay\", \"PY\", \"yes\", 1, 0.0, \"1946-02-05\", \"R/1/376\", 0.0, 0.0, \"TRUSTEESHIP AMENDMENTS\", \"TO ADOPT DRAFT RESOLUTIONS I AND II AS A WHOLE, OF THE 4TH COMM. REPORT (A/34) ON NON-SELF-GOVERNING TERRITORIES. RESOLUTION I PROVIDES TO PROMOTE THE POLITICAL, SOCIAL, ECONOMIC, AND EDUCATIONAL ASPIRATIONS OF NON-SELF-GOVERNING PEOPLES THROUG\", \"co\", \"Colonialism\", 1946], [11, \"Paraguay\", \"PY\", \"yes\", 1, 0.0, \"1946-02-05\", \"R/1/376\", 0.0, 0.0, \"TRUSTEESHIP AMENDMENTS\", \"TO ADOPT DRAFT RESOLUTIONS I AND II AS A WHOLE, OF THE 4TH COMM. REPORT (A/34) ON NON-SELF-GOVERNING TERRITORIES. RESOLUTION I PROVIDES TO PROMOTE THE POLITICAL, SOCIAL, ECONOMIC, AND EDUCATIONAL ASPIRATIONS OF NON-SELF-GOVERNING PEOPLES THROUG\", \"ec\", \"Economic development\", 1946], [11, \"Chile\", \"CL\", \"yes\", 1, 0.0, \"1946-02-05\", \"R/1/376\", 0.0, 0.0, \"TRUSTEESHIP AMENDMENTS\", \"TO ADOPT DRAFT RESOLUTIONS I AND II AS A WHOLE, OF THE 4TH COMM. REPORT (A/34) ON NON-SELF-GOVERNING TERRITORIES. RESOLUTION I PROVIDES TO PROMOTE THE POLITICAL, SOCIAL, ECONOMIC, AND EDUCATIONAL ASPIRATIONS OF NON-SELF-GOVERNING PEOPLES THROUG\", \"co\", \"Colonialism\", 1946], [11, \"Chile\", \"CL\", \"yes\", 1, 0.0, \"1946-02-05\", \"R/1/376\", 0.0, 0.0, \"TRUSTEESHIP AMENDMENTS\", \"TO ADOPT DRAFT RESOLUTIONS I AND II AS A WHOLE, OF THE 4TH COMM. REPORT (A/34) ON NON-SELF-GOVERNING TERRITORIES. RESOLUTION I PROVIDES TO PROMOTE THE POLITICAL, SOCIAL, ECONOMIC, AND EDUCATIONAL ASPIRATIONS OF NON-SELF-GOVERNING PEOPLES THROUG\", \"ec\", \"Economic development\", 1946], [11, \"Argentina\", \"AR\", \"yes\", 1, 0.0, \"1946-02-05\", \"R/1/376\", 0.0, 0.0, \"TRUSTEESHIP AMENDMENTS\", \"TO ADOPT DRAFT RESOLUTIONS I AND II AS A WHOLE, OF THE 4TH COMM. REPORT (A/34) ON NON-SELF-GOVERNING TERRITORIES. RESOLUTION I PROVIDES TO PROMOTE THE POLITICAL, SOCIAL, ECONOMIC, AND EDUCATIONAL ASPIRATIONS OF NON-SELF-GOVERNING PEOPLES THROUG\", \"co\", \"Colonialism\", 1946], [11, \"Argentina\", \"AR\", \"yes\", 1, 0.0, \"1946-02-05\", \"R/1/376\", 0.0, 0.0, \"TRUSTEESHIP AMENDMENTS\", \"TO ADOPT DRAFT RESOLUTIONS I AND II AS A WHOLE, OF THE 4TH COMM. REPORT (A/34) ON NON-SELF-GOVERNING TERRITORIES. RESOLUTION I PROVIDES TO PROMOTE THE POLITICAL, SOCIAL, ECONOMIC, AND EDUCATIONAL ASPIRATIONS OF NON-SELF-GOVERNING PEOPLES THROUG\", \"ec\", \"Economic development\", 1946], [11, \"Uruguay\", \"UY\", \"yes\", 1, 0.0, \"1946-02-05\", \"R/1/376\", 0.0, 0.0, \"TRUSTEESHIP AMENDMENTS\", \"TO ADOPT DRAFT RESOLUTIONS I AND II AS A WHOLE, OF THE 4TH COMM. REPORT (A/34) ON NON-SELF-GOVERNING TERRITORIES. RESOLUTION I PROVIDES TO PROMOTE THE POLITICAL, SOCIAL, ECONOMIC, AND EDUCATIONAL ASPIRATIONS OF NON-SELF-GOVERNING PEOPLES THROUG\", \"co\", \"Colonialism\", 1946], [11, \"Uruguay\", \"UY\", \"yes\", 1, 0.0, \"1946-02-05\", \"R/1/376\", 0.0, 0.0, \"TRUSTEESHIP AMENDMENTS\", \"TO ADOPT DRAFT RESOLUTIONS I AND II AS A WHOLE, OF THE 4TH COMM. REPORT (A/34) ON NON-SELF-GOVERNING TERRITORIES. RESOLUTION I PROVIDES TO PROMOTE THE POLITICAL, SOCIAL, ECONOMIC, AND EDUCATIONAL ASPIRATIONS OF NON-SELF-GOVERNING PEOPLES THROUG\", \"ec\", \"Economic development\", 1946], [11, \"United Kingdom\", \"GB\", \"yes\", 1, 0.0, \"1946-02-05\", \"R/1/376\", 0.0, 0.0, \"TRUSTEESHIP AMENDMENTS\", \"TO ADOPT DRAFT RESOLUTIONS I AND II AS A WHOLE, OF THE 4TH COMM. REPORT (A/34) ON NON-SELF-GOVERNING TERRITORIES. RESOLUTION I PROVIDES TO PROMOTE THE POLITICAL, SOCIAL, ECONOMIC, AND EDUCATIONAL ASPIRATIONS OF NON-SELF-GOVERNING PEOPLES THROUG\", \"co\", \"Colonialism\", 1946], [11, \"United Kingdom\", \"GB\", \"yes\", 1, 0.0, \"1946-02-05\", \"R/1/376\", 0.0, 0.0, \"TRUSTEESHIP AMENDMENTS\", \"TO ADOPT DRAFT RESOLUTIONS I AND II AS A WHOLE, OF THE 4TH COMM. REPORT (A/34) ON NON-SELF-GOVERNING TERRITORIES. RESOLUTION I PROVIDES TO PROMOTE THE POLITICAL, SOCIAL, ECONOMIC, AND EDUCATIONAL ASPIRATIONS OF NON-SELF-GOVERNING PEOPLES THROUG\", \"ec\", \"Economic development\", 1946], [11, \"Belgium\", \"BE\", \"yes\", 1, 0.0, \"1946-02-05\", \"R/1/376\", 0.0, 0.0, \"TRUSTEESHIP AMENDMENTS\", \"TO ADOPT DRAFT RESOLUTIONS I AND II AS A WHOLE, OF THE 4TH COMM. REPORT (A/34) ON NON-SELF-GOVERNING TERRITORIES. RESOLUTION I PROVIDES TO PROMOTE THE POLITICAL, SOCIAL, ECONOMIC, AND EDUCATIONAL ASPIRATIONS OF NON-SELF-GOVERNING PEOPLES THROUG\", \"co\", \"Colonialism\", 1946], [11, \"Belgium\", \"BE\", \"yes\", 1, 0.0, \"1946-02-05\", \"R/1/376\", 0.0, 0.0, \"TRUSTEESHIP AMENDMENTS\", \"TO ADOPT DRAFT RESOLUTIONS I AND II AS A WHOLE, OF THE 4TH COMM. REPORT (A/34) ON NON-SELF-GOVERNING TERRITORIES. RESOLUTION I PROVIDES TO PROMOTE THE POLITICAL, SOCIAL, ECONOMIC, AND EDUCATIONAL ASPIRATIONS OF NON-SELF-GOVERNING PEOPLES THROUG\", \"ec\", \"Economic development\", 1946], [11, \"France\", \"FR\", \"yes\", 1, 0.0, \"1946-02-05\", \"R/1/376\", 0.0, 0.0, \"TRUSTEESHIP AMENDMENTS\", \"TO ADOPT DRAFT RESOLUTIONS I AND II AS A WHOLE, OF THE 4TH COMM. REPORT (A/34) ON NON-SELF-GOVERNING TERRITORIES. RESOLUTION I PROVIDES TO PROMOTE THE POLITICAL, SOCIAL, ECONOMIC, AND EDUCATIONAL ASPIRATIONS OF NON-SELF-GOVERNING PEOPLES THROUG\", \"co\", \"Colonialism\", 1946], [11, \"France\", \"FR\", \"yes\", 1, 0.0, \"1946-02-05\", \"R/1/376\", 0.0, 0.0, \"TRUSTEESHIP AMENDMENTS\", \"TO ADOPT DRAFT RESOLUTIONS I AND II AS A WHOLE, OF THE 4TH COMM. REPORT (A/34) ON NON-SELF-GOVERNING TERRITORIES. RESOLUTION I PROVIDES TO PROMOTE THE POLITICAL, SOCIAL, ECONOMIC, AND EDUCATIONAL ASPIRATIONS OF NON-SELF-GOVERNING PEOPLES THROUG\", \"ec\", \"Economic development\", 1946], [11, \"Poland\", \"PL\", \"yes\", 1, 0.0, \"1946-02-05\", \"R/1/376\", 0.0, 0.0, \"TRUSTEESHIP AMENDMENTS\", \"TO ADOPT DRAFT RESOLUTIONS I AND II AS A WHOLE, OF THE 4TH COMM. REPORT (A/34) ON NON-SELF-GOVERNING TERRITORIES. RESOLUTION I PROVIDES TO PROMOTE THE POLITICAL, SOCIAL, ECONOMIC, AND EDUCATIONAL ASPIRATIONS OF NON-SELF-GOVERNING PEOPLES THROUG\", \"co\", \"Colonialism\", 1946], [11, \"Poland\", \"PL\", \"yes\", 1, 0.0, \"1946-02-05\", \"R/1/376\", 0.0, 0.0, \"TRUSTEESHIP AMENDMENTS\", \"TO ADOPT DRAFT RESOLUTIONS I AND II AS A WHOLE, OF THE 4TH COMM. REPORT (A/34) ON NON-SELF-GOVERNING TERRITORIES. RESOLUTION I PROVIDES TO PROMOTE THE POLITICAL, SOCIAL, ECONOMIC, AND EDUCATIONAL ASPIRATIONS OF NON-SELF-GOVERNING PEOPLES THROUG\", \"ec\", \"Economic development\", 1946], [11, \"Czechoslovakia\", \"CS\", \"yes\", 1, 0.0, \"1946-02-05\", \"R/1/376\", 0.0, 0.0, \"TRUSTEESHIP AMENDMENTS\", \"TO ADOPT DRAFT RESOLUTIONS I AND II AS A WHOLE, OF THE 4TH COMM. REPORT (A/34) ON NON-SELF-GOVERNING TERRITORIES. RESOLUTION I PROVIDES TO PROMOTE THE POLITICAL, SOCIAL, ECONOMIC, AND EDUCATIONAL ASPIRATIONS OF NON-SELF-GOVERNING PEOPLES THROUG\", \"co\", \"Colonialism\", 1946], [11, \"Czechoslovakia\", \"CS\", \"yes\", 1, 0.0, \"1946-02-05\", \"R/1/376\", 0.0, 0.0, \"TRUSTEESHIP AMENDMENTS\", \"TO ADOPT DRAFT RESOLUTIONS I AND II AS A WHOLE, OF THE 4TH COMM. REPORT (A/34) ON NON-SELF-GOVERNING TERRITORIES. RESOLUTION I PROVIDES TO PROMOTE THE POLITICAL, SOCIAL, ECONOMIC, AND EDUCATIONAL ASPIRATIONS OF NON-SELF-GOVERNING PEOPLES THROUG\", \"ec\", \"Economic development\", 1946], [11, \"Yugoslavia\", \"YU\", \"yes\", 1, 0.0, \"1946-02-05\", \"R/1/376\", 0.0, 0.0, \"TRUSTEESHIP AMENDMENTS\", \"TO ADOPT DRAFT RESOLUTIONS I AND II AS A WHOLE, OF THE 4TH COMM. REPORT (A/34) ON NON-SELF-GOVERNING TERRITORIES. RESOLUTION I PROVIDES TO PROMOTE THE POLITICAL, SOCIAL, ECONOMIC, AND EDUCATIONAL ASPIRATIONS OF NON-SELF-GOVERNING PEOPLES THROUG\", \"co\", \"Colonialism\", 1946], [11, \"Yugoslavia\", \"YU\", \"yes\", 1, 0.0, \"1946-02-05\", \"R/1/376\", 0.0, 0.0, \"TRUSTEESHIP AMENDMENTS\", \"TO ADOPT DRAFT RESOLUTIONS I AND II AS A WHOLE, OF THE 4TH COMM. REPORT (A/34) ON NON-SELF-GOVERNING TERRITORIES. RESOLUTION I PROVIDES TO PROMOTE THE POLITICAL, SOCIAL, ECONOMIC, AND EDUCATIONAL ASPIRATIONS OF NON-SELF-GOVERNING PEOPLES THROUG\", \"ec\", \"Economic development\", 1946], [11, \"Greece\", \"GR\", \"yes\", 1, 0.0, \"1946-02-05\", \"R/1/376\", 0.0, 0.0, \"TRUSTEESHIP AMENDMENTS\", \"TO ADOPT DRAFT RESOLUTIONS I AND II AS A WHOLE, OF THE 4TH COMM. REPORT (A/34) ON NON-SELF-GOVERNING TERRITORIES. RESOLUTION I PROVIDES TO PROMOTE THE POLITICAL, SOCIAL, ECONOMIC, AND EDUCATIONAL ASPIRATIONS OF NON-SELF-GOVERNING PEOPLES THROUG\", \"co\", \"Colonialism\", 1946], [11, \"Greece\", \"GR\", \"yes\", 1, 0.0, \"1946-02-05\", \"R/1/376\", 0.0, 0.0, \"TRUSTEESHIP AMENDMENTS\", \"TO ADOPT DRAFT RESOLUTIONS I AND II AS A WHOLE, OF THE 4TH COMM. REPORT (A/34) ON NON-SELF-GOVERNING TERRITORIES. RESOLUTION I PROVIDES TO PROMOTE THE POLITICAL, SOCIAL, ECONOMIC, AND EDUCATIONAL ASPIRATIONS OF NON-SELF-GOVERNING PEOPLES THROUG\", \"ec\", \"Economic development\", 1946], [11, \"Russia\", \"RU\", \"yes\", 1, 0.0, \"1946-02-05\", \"R/1/376\", 0.0, 0.0, \"TRUSTEESHIP AMENDMENTS\", \"TO ADOPT DRAFT RESOLUTIONS I AND II AS A WHOLE, OF THE 4TH COMM. REPORT (A/34) ON NON-SELF-GOVERNING TERRITORIES. RESOLUTION I PROVIDES TO PROMOTE THE POLITICAL, SOCIAL, ECONOMIC, AND EDUCATIONAL ASPIRATIONS OF NON-SELF-GOVERNING PEOPLES THROUG\", \"co\", \"Colonialism\", 1946], [11, \"Russia\", \"RU\", \"yes\", 1, 0.0, \"1946-02-05\", \"R/1/376\", 0.0, 0.0, \"TRUSTEESHIP AMENDMENTS\", \"TO ADOPT DRAFT RESOLUTIONS I AND II AS A WHOLE, OF THE 4TH COMM. REPORT (A/34) ON NON-SELF-GOVERNING TERRITORIES. RESOLUTION I PROVIDES TO PROMOTE THE POLITICAL, SOCIAL, ECONOMIC, AND EDUCATIONAL ASPIRATIONS OF NON-SELF-GOVERNING PEOPLES THROUG\", \"ec\", \"Economic development\", 1946], [11, \"Ukraine\", \"UA\", \"yes\", 1, 0.0, \"1946-02-05\", \"R/1/376\", 0.0, 0.0, \"TRUSTEESHIP AMENDMENTS\", \"TO ADOPT DRAFT RESOLUTIONS I AND II AS A WHOLE, OF THE 4TH COMM. REPORT (A/34) ON NON-SELF-GOVERNING TERRITORIES. RESOLUTION I PROVIDES TO PROMOTE THE POLITICAL, SOCIAL, ECONOMIC, AND EDUCATIONAL ASPIRATIONS OF NON-SELF-GOVERNING PEOPLES THROUG\", \"co\", \"Colonialism\", 1946], [11, \"Ukraine\", \"UA\", \"yes\", 1, 0.0, \"1946-02-05\", \"R/1/376\", 0.0, 0.0, \"TRUSTEESHIP AMENDMENTS\", \"TO ADOPT DRAFT RESOLUTIONS I AND II AS A WHOLE, OF THE 4TH COMM. REPORT (A/34) ON NON-SELF-GOVERNING TERRITORIES. RESOLUTION I PROVIDES TO PROMOTE THE POLITICAL, SOCIAL, ECONOMIC, AND EDUCATIONAL ASPIRATIONS OF NON-SELF-GOVERNING PEOPLES THROUG\", \"ec\", \"Economic development\", 1946], [11, \"Belarus\", \"BY\", \"yes\", 1, 0.0, \"1946-02-05\", \"R/1/376\", 0.0, 0.0, \"TRUSTEESHIP AMENDMENTS\", \"TO ADOPT DRAFT RESOLUTIONS I AND II AS A WHOLE, OF THE 4TH COMM. REPORT (A/34) ON NON-SELF-GOVERNING TERRITORIES. RESOLUTION I PROVIDES TO PROMOTE THE POLITICAL, SOCIAL, ECONOMIC, AND EDUCATIONAL ASPIRATIONS OF NON-SELF-GOVERNING PEOPLES THROUG\", \"co\", \"Colonialism\", 1946], [11, \"Belarus\", \"BY\", \"yes\", 1, 0.0, \"1946-02-05\", \"R/1/376\", 0.0, 0.0, \"TRUSTEESHIP AMENDMENTS\", \"TO ADOPT DRAFT RESOLUTIONS I AND II AS A WHOLE, OF THE 4TH COMM. REPORT (A/34) ON NON-SELF-GOVERNING TERRITORIES. RESOLUTION I PROVIDES TO PROMOTE THE POLITICAL, SOCIAL, ECONOMIC, AND EDUCATIONAL ASPIRATIONS OF NON-SELF-GOVERNING PEOPLES THROUG\", \"ec\", \"Economic development\", 1946], [11, \"Norway\", \"NO\", \"yes\", 1, 0.0, \"1946-02-05\", \"R/1/376\", 0.0, 0.0, \"TRUSTEESHIP AMENDMENTS\", \"TO ADOPT DRAFT RESOLUTIONS I AND II AS A WHOLE, OF THE 4TH COMM. REPORT (A/34) ON NON-SELF-GOVERNING TERRITORIES. RESOLUTION I PROVIDES TO PROMOTE THE POLITICAL, SOCIAL, ECONOMIC, AND EDUCATIONAL ASPIRATIONS OF NON-SELF-GOVERNING PEOPLES THROUG\", \"co\", \"Colonialism\", 1946], [11, \"Norway\", \"NO\", \"yes\", 1, 0.0, \"1946-02-05\", \"R/1/376\", 0.0, 0.0, \"TRUSTEESHIP AMENDMENTS\", \"TO ADOPT DRAFT RESOLUTIONS I AND II AS A WHOLE, OF THE 4TH COMM. REPORT (A/34) ON NON-SELF-GOVERNING TERRITORIES. RESOLUTION I PROVIDES TO PROMOTE THE POLITICAL, SOCIAL, ECONOMIC, AND EDUCATIONAL ASPIRATIONS OF NON-SELF-GOVERNING PEOPLES THROUG\", \"ec\", \"Economic development\", 1946], [11, \"Denmark\", \"DK\", \"yes\", 1, 0.0, \"1946-02-05\", \"R/1/376\", 0.0, 0.0, \"TRUSTEESHIP AMENDMENTS\", \"TO ADOPT DRAFT RESOLUTIONS I AND II AS A WHOLE, OF THE 4TH COMM. REPORT (A/34) ON NON-SELF-GOVERNING TERRITORIES. RESOLUTION I PROVIDES TO PROMOTE THE POLITICAL, SOCIAL, ECONOMIC, AND EDUCATIONAL ASPIRATIONS OF NON-SELF-GOVERNING PEOPLES THROUG\", \"co\", \"Colonialism\", 1946], [11, \"Denmark\", \"DK\", \"yes\", 1, 0.0, \"1946-02-05\", \"R/1/376\", 0.0, 0.0, \"TRUSTEESHIP AMENDMENTS\", \"TO ADOPT DRAFT RESOLUTIONS I AND II AS A WHOLE, OF THE 4TH COMM. REPORT (A/34) ON NON-SELF-GOVERNING TERRITORIES. RESOLUTION I PROVIDES TO PROMOTE THE POLITICAL, SOCIAL, ECONOMIC, AND EDUCATIONAL ASPIRATIONS OF NON-SELF-GOVERNING PEOPLES THROUG\", \"ec\", \"Economic development\", 1946], [11, \"Liberia\", \"LR\", \"yes\", 1, 0.0, \"1946-02-05\", \"R/1/376\", 0.0, 0.0, \"TRUSTEESHIP AMENDMENTS\", \"TO ADOPT DRAFT RESOLUTIONS I AND II AS A WHOLE, OF THE 4TH COMM. REPORT (A/34) ON NON-SELF-GOVERNING TERRITORIES. RESOLUTION I PROVIDES TO PROMOTE THE POLITICAL, SOCIAL, ECONOMIC, AND EDUCATIONAL ASPIRATIONS OF NON-SELF-GOVERNING PEOPLES THROUG\", \"co\", \"Colonialism\", 1946], [11, \"Liberia\", \"LR\", \"yes\", 1, 0.0, \"1946-02-05\", \"R/1/376\", 0.0, 0.0, \"TRUSTEESHIP AMENDMENTS\", \"TO ADOPT DRAFT RESOLUTIONS I AND II AS A WHOLE, OF THE 4TH COMM. REPORT (A/34) ON NON-SELF-GOVERNING TERRITORIES. RESOLUTION I PROVIDES TO PROMOTE THE POLITICAL, SOCIAL, ECONOMIC, AND EDUCATIONAL ASPIRATIONS OF NON-SELF-GOVERNING PEOPLES THROUG\", \"ec\", \"Economic development\", 1946], [11, \"Ethiopia\", \"ET\", \"yes\", 1, 0.0, \"1946-02-05\", \"R/1/376\", 0.0, 0.0, \"TRUSTEESHIP AMENDMENTS\", \"TO ADOPT DRAFT RESOLUTIONS I AND II AS A WHOLE, OF THE 4TH COMM. REPORT (A/34) ON NON-SELF-GOVERNING TERRITORIES. RESOLUTION I PROVIDES TO PROMOTE THE POLITICAL, SOCIAL, ECONOMIC, AND EDUCATIONAL ASPIRATIONS OF NON-SELF-GOVERNING PEOPLES THROUG\", \"co\", \"Colonialism\", 1946], [11, \"Ethiopia\", \"ET\", \"yes\", 1, 0.0, \"1946-02-05\", \"R/1/376\", 0.0, 0.0, \"TRUSTEESHIP AMENDMENTS\", \"TO ADOPT DRAFT RESOLUTIONS I AND II AS A WHOLE, OF THE 4TH COMM. REPORT (A/34) ON NON-SELF-GOVERNING TERRITORIES. RESOLUTION I PROVIDES TO PROMOTE THE POLITICAL, SOCIAL, ECONOMIC, AND EDUCATIONAL ASPIRATIONS OF NON-SELF-GOVERNING PEOPLES THROUG\", \"ec\", \"Economic development\", 1946], [11, \"South Africa\", \"ZA\", \"yes\", 1, 0.0, \"1946-02-05\", \"R/1/376\", 0.0, 0.0, \"TRUSTEESHIP AMENDMENTS\", \"TO ADOPT DRAFT RESOLUTIONS I AND II AS A WHOLE, OF THE 4TH COMM. REPORT (A/34) ON NON-SELF-GOVERNING TERRITORIES. RESOLUTION I PROVIDES TO PROMOTE THE POLITICAL, SOCIAL, ECONOMIC, AND EDUCATIONAL ASPIRATIONS OF NON-SELF-GOVERNING PEOPLES THROUG\", \"co\", \"Colonialism\", 1946], [11, \"South Africa\", \"ZA\", \"yes\", 1, 0.0, \"1946-02-05\", \"R/1/376\", 0.0, 0.0, \"TRUSTEESHIP AMENDMENTS\", \"TO ADOPT DRAFT RESOLUTIONS I AND II AS A WHOLE, OF THE 4TH COMM. REPORT (A/34) ON NON-SELF-GOVERNING TERRITORIES. RESOLUTION I PROVIDES TO PROMOTE THE POLITICAL, SOCIAL, ECONOMIC, AND EDUCATIONAL ASPIRATIONS OF NON-SELF-GOVERNING PEOPLES THROUG\", \"ec\", \"Economic development\", 1946], [11, \"Iran\", \"IR\", \"yes\", 1, 0.0, \"1946-02-05\", \"R/1/376\", 0.0, 0.0, \"TRUSTEESHIP AMENDMENTS\", \"TO ADOPT DRAFT RESOLUTIONS I AND II AS A WHOLE, OF THE 4TH COMM. REPORT (A/34) ON NON-SELF-GOVERNING TERRITORIES. RESOLUTION I PROVIDES TO PROMOTE THE POLITICAL, SOCIAL, ECONOMIC, AND EDUCATIONAL ASPIRATIONS OF NON-SELF-GOVERNING PEOPLES THROUG\", \"co\", \"Colonialism\", 1946], [11, \"Iran\", \"IR\", \"yes\", 1, 0.0, \"1946-02-05\", \"R/1/376\", 0.0, 0.0, \"TRUSTEESHIP AMENDMENTS\", \"TO ADOPT DRAFT RESOLUTIONS I AND II AS A WHOLE, OF THE 4TH COMM. REPORT (A/34) ON NON-SELF-GOVERNING TERRITORIES. RESOLUTION I PROVIDES TO PROMOTE THE POLITICAL, SOCIAL, ECONOMIC, AND EDUCATIONAL ASPIRATIONS OF NON-SELF-GOVERNING PEOPLES THROUG\", \"ec\", \"Economic development\", 1946], [11, \"Turkey\", \"TR\", \"yes\", 1, 0.0, \"1946-02-05\", \"R/1/376\", 0.0, 0.0, \"TRUSTEESHIP AMENDMENTS\", \"TO ADOPT DRAFT RESOLUTIONS I AND II AS A WHOLE, OF THE 4TH COMM. REPORT (A/34) ON NON-SELF-GOVERNING TERRITORIES. RESOLUTION I PROVIDES TO PROMOTE THE POLITICAL, SOCIAL, ECONOMIC, AND EDUCATIONAL ASPIRATIONS OF NON-SELF-GOVERNING PEOPLES THROUG\", \"co\", \"Colonialism\", 1946], [11, \"Turkey\", \"TR\", \"yes\", 1, 0.0, \"1946-02-05\", \"R/1/376\", 0.0, 0.0, \"TRUSTEESHIP AMENDMENTS\", \"TO ADOPT DRAFT RESOLUTIONS I AND II AS A WHOLE, OF THE 4TH COMM. REPORT (A/34) ON NON-SELF-GOVERNING TERRITORIES. RESOLUTION I PROVIDES TO PROMOTE THE POLITICAL, SOCIAL, ECONOMIC, AND EDUCATIONAL ASPIRATIONS OF NON-SELF-GOVERNING PEOPLES THROUG\", \"ec\", \"Economic development\", 1946], [11, \"Iraq\", \"IQ\", \"yes\", 1, 0.0, \"1946-02-05\", \"R/1/376\", 0.0, 0.0, \"TRUSTEESHIP AMENDMENTS\", \"TO ADOPT DRAFT RESOLUTIONS I AND II AS A WHOLE, OF THE 4TH COMM. REPORT (A/34) ON NON-SELF-GOVERNING TERRITORIES. RESOLUTION I PROVIDES TO PROMOTE THE POLITICAL, SOCIAL, ECONOMIC, AND EDUCATIONAL ASPIRATIONS OF NON-SELF-GOVERNING PEOPLES THROUG\", \"co\", \"Colonialism\", 1946], [11, \"Iraq\", \"IQ\", \"yes\", 1, 0.0, \"1946-02-05\", \"R/1/376\", 0.0, 0.0, \"TRUSTEESHIP AMENDMENTS\", \"TO ADOPT DRAFT RESOLUTIONS I AND II AS A WHOLE, OF THE 4TH COMM. REPORT (A/34) ON NON-SELF-GOVERNING TERRITORIES. RESOLUTION I PROVIDES TO PROMOTE THE POLITICAL, SOCIAL, ECONOMIC, AND EDUCATIONAL ASPIRATIONS OF NON-SELF-GOVERNING PEOPLES THROUG\", \"ec\", \"Economic development\", 1946], [11, \"Egypt\", \"EG\", \"yes\", 1, 0.0, \"1946-02-05\", \"R/1/376\", 0.0, 0.0, \"TRUSTEESHIP AMENDMENTS\", \"TO ADOPT DRAFT RESOLUTIONS I AND II AS A WHOLE, OF THE 4TH COMM. REPORT (A/34) ON NON-SELF-GOVERNING TERRITORIES. RESOLUTION I PROVIDES TO PROMOTE THE POLITICAL, SOCIAL, ECONOMIC, AND EDUCATIONAL ASPIRATIONS OF NON-SELF-GOVERNING PEOPLES THROUG\", \"co\", \"Colonialism\", 1946], [11, \"Egypt\", \"EG\", \"yes\", 1, 0.0, \"1946-02-05\", \"R/1/376\", 0.0, 0.0, \"TRUSTEESHIP AMENDMENTS\", \"TO ADOPT DRAFT RESOLUTIONS I AND II AS A WHOLE, OF THE 4TH COMM. REPORT (A/34) ON NON-SELF-GOVERNING TERRITORIES. RESOLUTION I PROVIDES TO PROMOTE THE POLITICAL, SOCIAL, ECONOMIC, AND EDUCATIONAL ASPIRATIONS OF NON-SELF-GOVERNING PEOPLES THROUG\", \"ec\", \"Economic development\", 1946], [11, \"Syria\", \"SY\", \"yes\", 1, 0.0, \"1946-02-05\", \"R/1/376\", 0.0, 0.0, \"TRUSTEESHIP AMENDMENTS\", \"TO ADOPT DRAFT RESOLUTIONS I AND II AS A WHOLE, OF THE 4TH COMM. REPORT (A/34) ON NON-SELF-GOVERNING TERRITORIES. RESOLUTION I PROVIDES TO PROMOTE THE POLITICAL, SOCIAL, ECONOMIC, AND EDUCATIONAL ASPIRATIONS OF NON-SELF-GOVERNING PEOPLES THROUG\", \"co\", \"Colonialism\", 1946], [11, \"Syria\", \"SY\", \"yes\", 1, 0.0, \"1946-02-05\", \"R/1/376\", 0.0, 0.0, \"TRUSTEESHIP AMENDMENTS\", \"TO ADOPT DRAFT RESOLUTIONS I AND II AS A WHOLE, OF THE 4TH COMM. REPORT (A/34) ON NON-SELF-GOVERNING TERRITORIES. RESOLUTION I PROVIDES TO PROMOTE THE POLITICAL, SOCIAL, ECONOMIC, AND EDUCATIONAL ASPIRATIONS OF NON-SELF-GOVERNING PEOPLES THROUG\", \"ec\", \"Economic development\", 1946], [11, \"Lebanon\", \"LB\", \"yes\", 1, 0.0, \"1946-02-05\", \"R/1/376\", 0.0, 0.0, \"TRUSTEESHIP AMENDMENTS\", \"TO ADOPT DRAFT RESOLUTIONS I AND II AS A WHOLE, OF THE 4TH COMM. REPORT (A/34) ON NON-SELF-GOVERNING TERRITORIES. RESOLUTION I PROVIDES TO PROMOTE THE POLITICAL, SOCIAL, ECONOMIC, AND EDUCATIONAL ASPIRATIONS OF NON-SELF-GOVERNING PEOPLES THROUG\", \"co\", \"Colonialism\", 1946], [11, \"Lebanon\", \"LB\", \"yes\", 1, 0.0, \"1946-02-05\", \"R/1/376\", 0.0, 0.0, \"TRUSTEESHIP AMENDMENTS\", \"TO ADOPT DRAFT RESOLUTIONS I AND II AS A WHOLE, OF THE 4TH COMM. REPORT (A/34) ON NON-SELF-GOVERNING TERRITORIES. RESOLUTION I PROVIDES TO PROMOTE THE POLITICAL, SOCIAL, ECONOMIC, AND EDUCATIONAL ASPIRATIONS OF NON-SELF-GOVERNING PEOPLES THROUG\", \"ec\", \"Economic development\", 1946], [11, \"Saudi Arabia\", \"SA\", \"yes\", 1, 0.0, \"1946-02-05\", \"R/1/376\", 0.0, 0.0, \"TRUSTEESHIP AMENDMENTS\", \"TO ADOPT DRAFT RESOLUTIONS I AND II AS A WHOLE, OF THE 4TH COMM. REPORT (A/34) ON NON-SELF-GOVERNING TERRITORIES. RESOLUTION I PROVIDES TO PROMOTE THE POLITICAL, SOCIAL, ECONOMIC, AND EDUCATIONAL ASPIRATIONS OF NON-SELF-GOVERNING PEOPLES THROUG\", \"co\", \"Colonialism\", 1946], [11, \"Saudi Arabia\", \"SA\", \"yes\", 1, 0.0, \"1946-02-05\", \"R/1/376\", 0.0, 0.0, \"TRUSTEESHIP AMENDMENTS\", \"TO ADOPT DRAFT RESOLUTIONS I AND II AS A WHOLE, OF THE 4TH COMM. REPORT (A/34) ON NON-SELF-GOVERNING TERRITORIES. RESOLUTION I PROVIDES TO PROMOTE THE POLITICAL, SOCIAL, ECONOMIC, AND EDUCATIONAL ASPIRATIONS OF NON-SELF-GOVERNING PEOPLES THROUG\", \"ec\", \"Economic development\", 1946], [11, \"Taiwan\", \"TW\", \"yes\", 1, 0.0, \"1946-02-05\", \"R/1/376\", 0.0, 0.0, \"TRUSTEESHIP AMENDMENTS\", \"TO ADOPT DRAFT RESOLUTIONS I AND II AS A WHOLE, OF THE 4TH COMM. REPORT (A/34) ON NON-SELF-GOVERNING TERRITORIES. RESOLUTION I PROVIDES TO PROMOTE THE POLITICAL, SOCIAL, ECONOMIC, AND EDUCATIONAL ASPIRATIONS OF NON-SELF-GOVERNING PEOPLES THROUG\", \"co\", \"Colonialism\", 1946], [11, \"Taiwan\", \"TW\", \"yes\", 1, 0.0, \"1946-02-05\", \"R/1/376\", 0.0, 0.0, \"TRUSTEESHIP AMENDMENTS\", \"TO ADOPT DRAFT RESOLUTIONS I AND II AS A WHOLE, OF THE 4TH COMM. REPORT (A/34) ON NON-SELF-GOVERNING TERRITORIES. RESOLUTION I PROVIDES TO PROMOTE THE POLITICAL, SOCIAL, ECONOMIC, AND EDUCATIONAL ASPIRATIONS OF NON-SELF-GOVERNING PEOPLES THROUG\", \"ec\", \"Economic development\", 1946], [11, \"India\", \"IN\", \"yes\", 1, 0.0, \"1946-02-05\", \"R/1/376\", 0.0, 0.0, \"TRUSTEESHIP AMENDMENTS\", \"TO ADOPT DRAFT RESOLUTIONS I AND II AS A WHOLE, OF THE 4TH COMM. REPORT (A/34) ON NON-SELF-GOVERNING TERRITORIES. RESOLUTION I PROVIDES TO PROMOTE THE POLITICAL, SOCIAL, ECONOMIC, AND EDUCATIONAL ASPIRATIONS OF NON-SELF-GOVERNING PEOPLES THROUG\", \"co\", \"Colonialism\", 1946], [11, \"India\", \"IN\", \"yes\", 1, 0.0, \"1946-02-05\", \"R/1/376\", 0.0, 0.0, \"TRUSTEESHIP AMENDMENTS\", \"TO ADOPT DRAFT RESOLUTIONS I AND II AS A WHOLE, OF THE 4TH COMM. REPORT (A/34) ON NON-SELF-GOVERNING TERRITORIES. RESOLUTION I PROVIDES TO PROMOTE THE POLITICAL, SOCIAL, ECONOMIC, AND EDUCATIONAL ASPIRATIONS OF NON-SELF-GOVERNING PEOPLES THROUG\", \"ec\", \"Economic development\", 1946], [11, \"Philippines\", \"PH\", \"yes\", 1, 0.0, \"1946-02-05\", \"R/1/376\", 0.0, 0.0, \"TRUSTEESHIP AMENDMENTS\", \"TO ADOPT DRAFT RESOLUTIONS I AND II AS A WHOLE, OF THE 4TH COMM. REPORT (A/34) ON NON-SELF-GOVERNING TERRITORIES. RESOLUTION I PROVIDES TO PROMOTE THE POLITICAL, SOCIAL, ECONOMIC, AND EDUCATIONAL ASPIRATIONS OF NON-SELF-GOVERNING PEOPLES THROUG\", \"co\", \"Colonialism\", 1946], [11, \"Philippines\", \"PH\", \"yes\", 1, 0.0, \"1946-02-05\", \"R/1/376\", 0.0, 0.0, \"TRUSTEESHIP AMENDMENTS\", \"TO ADOPT DRAFT RESOLUTIONS I AND II AS A WHOLE, OF THE 4TH COMM. REPORT (A/34) ON NON-SELF-GOVERNING TERRITORIES. RESOLUTION I PROVIDES TO PROMOTE THE POLITICAL, SOCIAL, ECONOMIC, AND EDUCATIONAL ASPIRATIONS OF NON-SELF-GOVERNING PEOPLES THROUG\", \"ec\", \"Economic development\", 1946], [11, \"Australia\", \"AU\", \"yes\", 1, 0.0, \"1946-02-05\", \"R/1/376\", 0.0, 0.0, \"TRUSTEESHIP AMENDMENTS\", \"TO ADOPT DRAFT RESOLUTIONS I AND II AS A WHOLE, OF THE 4TH COMM. REPORT (A/34) ON NON-SELF-GOVERNING TERRITORIES. RESOLUTION I PROVIDES TO PROMOTE THE POLITICAL, SOCIAL, ECONOMIC, AND EDUCATIONAL ASPIRATIONS OF NON-SELF-GOVERNING PEOPLES THROUG\", \"co\", \"Colonialism\", 1946], [11, \"Australia\", \"AU\", \"yes\", 1, 0.0, \"1946-02-05\", \"R/1/376\", 0.0, 0.0, \"TRUSTEESHIP AMENDMENTS\", \"TO ADOPT DRAFT RESOLUTIONS I AND II AS A WHOLE, OF THE 4TH COMM. REPORT (A/34) ON NON-SELF-GOVERNING TERRITORIES. RESOLUTION I PROVIDES TO PROMOTE THE POLITICAL, SOCIAL, ECONOMIC, AND EDUCATIONAL ASPIRATIONS OF NON-SELF-GOVERNING PEOPLES THROUG\", \"ec\", \"Economic development\", 1946], [11, \"New Zealand\", \"NZ\", \"yes\", 1, 0.0, \"1946-02-05\", \"R/1/376\", 0.0, 0.0, \"TRUSTEESHIP AMENDMENTS\", \"TO ADOPT DRAFT RESOLUTIONS I AND II AS A WHOLE, OF THE 4TH COMM. REPORT (A/34) ON NON-SELF-GOVERNING TERRITORIES. RESOLUTION I PROVIDES TO PROMOTE THE POLITICAL, SOCIAL, ECONOMIC, AND EDUCATIONAL ASPIRATIONS OF NON-SELF-GOVERNING PEOPLES THROUG\", \"co\", \"Colonialism\", 1946], [11, \"New Zealand\", \"NZ\", \"yes\", 1, 0.0, \"1946-02-05\", \"R/1/376\", 0.0, 0.0, \"TRUSTEESHIP AMENDMENTS\", \"TO ADOPT DRAFT RESOLUTIONS I AND II AS A WHOLE, OF THE 4TH COMM. REPORT (A/34) ON NON-SELF-GOVERNING TERRITORIES. RESOLUTION I PROVIDES TO PROMOTE THE POLITICAL, SOCIAL, ECONOMIC, AND EDUCATIONAL ASPIRATIONS OF NON-SELF-GOVERNING PEOPLES THROUG\", \"ec\", \"Economic development\", 1946], [18, \"United States\", \"US\", \"no\", 1, 0.0, \"1946-02-03\", \"R/1/532\", 1.0, 0.0, \"ECOSOC CONSULTANTS\", \"TO ADOPT USSR (ORAL) AMENDMENT REPLACING THE 1ST COMM. DRAFT RESOLUTION (A/54/REV.1) WITH THE FOLLOWING:  \\\\TAKING INTO CONSIDERATION THE QUESTION RAISED BY THE WORLD FEDERATION OF TRADE UNIONS CONCERNING ITS PARTICIPATION IN THE WORK OF THE ECO\", \"ec\", \"Economic development\", 1946], [18, \"Canada\", \"CA\", \"no\", 1, 0.0, \"1946-02-03\", \"R/1/532\", 1.0, 0.0, \"ECOSOC CONSULTANTS\", \"TO ADOPT USSR (ORAL) AMENDMENT REPLACING THE 1ST COMM. DRAFT RESOLUTION (A/54/REV.1) WITH THE FOLLOWING:  \\\\TAKING INTO CONSIDERATION THE QUESTION RAISED BY THE WORLD FEDERATION OF TRADE UNIONS CONCERNING ITS PARTICIPATION IN THE WORK OF THE ECO\", \"ec\", \"Economic development\", 1946], [18, \"Cuba\", \"CU\", \"no\", 1, 0.0, \"1946-02-03\", \"R/1/532\", 1.0, 0.0, \"ECOSOC CONSULTANTS\", \"TO ADOPT USSR (ORAL) AMENDMENT REPLACING THE 1ST COMM. DRAFT RESOLUTION (A/54/REV.1) WITH THE FOLLOWING:  \\\\TAKING INTO CONSIDERATION THE QUESTION RAISED BY THE WORLD FEDERATION OF TRADE UNIONS CONCERNING ITS PARTICIPATION IN THE WORK OF THE ECO\", \"ec\", \"Economic development\", 1946], [18, \"Haiti\", \"HT\", \"no\", 1, 0.0, \"1946-02-03\", \"R/1/532\", 1.0, 0.0, \"ECOSOC CONSULTANTS\", \"TO ADOPT USSR (ORAL) AMENDMENT REPLACING THE 1ST COMM. DRAFT RESOLUTION (A/54/REV.1) WITH THE FOLLOWING:  \\\\TAKING INTO CONSIDERATION THE QUESTION RAISED BY THE WORLD FEDERATION OF TRADE UNIONS CONCERNING ITS PARTICIPATION IN THE WORK OF THE ECO\", \"ec\", \"Economic development\", 1946], [18, \"Dominican Republic\", \"DO\", \"no\", 1, 0.0, \"1946-02-03\", \"R/1/532\", 1.0, 0.0, \"ECOSOC CONSULTANTS\", \"TO ADOPT USSR (ORAL) AMENDMENT REPLACING THE 1ST COMM. DRAFT RESOLUTION (A/54/REV.1) WITH THE FOLLOWING:  \\\\TAKING INTO CONSIDERATION THE QUESTION RAISED BY THE WORLD FEDERATION OF TRADE UNIONS CONCERNING ITS PARTICIPATION IN THE WORK OF THE ECO\", \"ec\", \"Economic development\", 1946], [18, \"Mexico\", \"MX\", \"abstain\", 1, 0.0, \"1946-02-03\", \"R/1/532\", 1.0, 0.0, \"ECOSOC CONSULTANTS\", \"TO ADOPT USSR (ORAL) AMENDMENT REPLACING THE 1ST COMM. DRAFT RESOLUTION (A/54/REV.1) WITH THE FOLLOWING:  \\\\TAKING INTO CONSIDERATION THE QUESTION RAISED BY THE WORLD FEDERATION OF TRADE UNIONS CONCERNING ITS PARTICIPATION IN THE WORK OF THE ECO\", \"ec\", \"Economic development\", 1946], [18, \"Guatemala\", \"GT\", \"yes\", 1, 0.0, \"1946-02-03\", \"R/1/532\", 1.0, 0.0, \"ECOSOC CONSULTANTS\", \"TO ADOPT USSR (ORAL) AMENDMENT REPLACING THE 1ST COMM. DRAFT RESOLUTION (A/54/REV.1) WITH THE FOLLOWING:  \\\\TAKING INTO CONSIDERATION THE QUESTION RAISED BY THE WORLD FEDERATION OF TRADE UNIONS CONCERNING ITS PARTICIPATION IN THE WORK OF THE ECO\", \"ec\", \"Economic development\", 1946], [18, \"Nicaragua\", \"NI\", \"abstain\", 1, 0.0, \"1946-02-03\", \"R/1/532\", 1.0, 0.0, \"ECOSOC CONSULTANTS\", \"TO ADOPT USSR (ORAL) AMENDMENT REPLACING THE 1ST COMM. DRAFT RESOLUTION (A/54/REV.1) WITH THE FOLLOWING:  \\\\TAKING INTO CONSIDERATION THE QUESTION RAISED BY THE WORLD FEDERATION OF TRADE UNIONS CONCERNING ITS PARTICIPATION IN THE WORK OF THE ECO\", \"ec\", \"Economic development\", 1946], [18, \"Panama\", \"PA\", \"abstain\", 1, 0.0, \"1946-02-03\", \"R/1/532\", 1.0, 0.0, \"ECOSOC CONSULTANTS\", \"TO ADOPT USSR (ORAL) AMENDMENT REPLACING THE 1ST COMM. DRAFT RESOLUTION (A/54/REV.1) WITH THE FOLLOWING:  \\\\TAKING INTO CONSIDERATION THE QUESTION RAISED BY THE WORLD FEDERATION OF TRADE UNIONS CONCERNING ITS PARTICIPATION IN THE WORK OF THE ECO\", \"ec\", \"Economic development\", 1946], [18, \"Colombia\", \"CO\", \"yes\", 1, 0.0, \"1946-02-03\", \"R/1/532\", 1.0, 0.0, \"ECOSOC CONSULTANTS\", \"TO ADOPT USSR (ORAL) AMENDMENT REPLACING THE 1ST COMM. DRAFT RESOLUTION (A/54/REV.1) WITH THE FOLLOWING:  \\\\TAKING INTO CONSIDERATION THE QUESTION RAISED BY THE WORLD FEDERATION OF TRADE UNIONS CONCERNING ITS PARTICIPATION IN THE WORK OF THE ECO\", \"ec\", \"Economic development\", 1946], [18, \"Venezuela\", \"VE\", \"no\", 1, 0.0, \"1946-02-03\", \"R/1/532\", 1.0, 0.0, \"ECOSOC CONSULTANTS\", \"TO ADOPT USSR (ORAL) AMENDMENT REPLACING THE 1ST COMM. DRAFT RESOLUTION (A/54/REV.1) WITH THE FOLLOWING:  \\\\TAKING INTO CONSIDERATION THE QUESTION RAISED BY THE WORLD FEDERATION OF TRADE UNIONS CONCERNING ITS PARTICIPATION IN THE WORK OF THE ECO\", \"ec\", \"Economic development\", 1946], [18, \"Ecuador\", \"EC\", \"no\", 1, 0.0, \"1946-02-03\", \"R/1/532\", 1.0, 0.0, \"ECOSOC CONSULTANTS\", \"TO ADOPT USSR (ORAL) AMENDMENT REPLACING THE 1ST COMM. DRAFT RESOLUTION (A/54/REV.1) WITH THE FOLLOWING:  \\\\TAKING INTO CONSIDERATION THE QUESTION RAISED BY THE WORLD FEDERATION OF TRADE UNIONS CONCERNING ITS PARTICIPATION IN THE WORK OF THE ECO\", \"ec\", \"Economic development\", 1946], [18, \"Peru\", \"PE\", \"no\", 1, 0.0, \"1946-02-03\", \"R/1/532\", 1.0, 0.0, \"ECOSOC CONSULTANTS\", \"TO ADOPT USSR (ORAL) AMENDMENT REPLACING THE 1ST COMM. DRAFT RESOLUTION (A/54/REV.1) WITH THE FOLLOWING:  \\\\TAKING INTO CONSIDERATION THE QUESTION RAISED BY THE WORLD FEDERATION OF TRADE UNIONS CONCERNING ITS PARTICIPATION IN THE WORK OF THE ECO\", \"ec\", \"Economic development\", 1946], [18, \"Brazil\", \"BR\", \"no\", 1, 0.0, \"1946-02-03\", \"R/1/532\", 1.0, 0.0, \"ECOSOC CONSULTANTS\", \"TO ADOPT USSR (ORAL) AMENDMENT REPLACING THE 1ST COMM. DRAFT RESOLUTION (A/54/REV.1) WITH THE FOLLOWING:  \\\\TAKING INTO CONSIDERATION THE QUESTION RAISED BY THE WORLD FEDERATION OF TRADE UNIONS CONCERNING ITS PARTICIPATION IN THE WORK OF THE ECO\", \"ec\", \"Economic development\", 1946], [18, \"Bolivia\", \"BO\", \"yes\", 1, 0.0, \"1946-02-03\", \"R/1/532\", 1.0, 0.0, \"ECOSOC CONSULTANTS\", \"TO ADOPT USSR (ORAL) AMENDMENT REPLACING THE 1ST COMM. DRAFT RESOLUTION (A/54/REV.1) WITH THE FOLLOWING:  \\\\TAKING INTO CONSIDERATION THE QUESTION RAISED BY THE WORLD FEDERATION OF TRADE UNIONS CONCERNING ITS PARTICIPATION IN THE WORK OF THE ECO\", \"ec\", \"Economic development\", 1946], [18, \"Chile\", \"CL\", \"yes\", 1, 0.0, \"1946-02-03\", \"R/1/532\", 1.0, 0.0, \"ECOSOC CONSULTANTS\", \"TO ADOPT USSR (ORAL) AMENDMENT REPLACING THE 1ST COMM. DRAFT RESOLUTION (A/54/REV.1) WITH THE FOLLOWING:  \\\\TAKING INTO CONSIDERATION THE QUESTION RAISED BY THE WORLD FEDERATION OF TRADE UNIONS CONCERNING ITS PARTICIPATION IN THE WORK OF THE ECO\", \"ec\", \"Economic development\", 1946], [18, \"Argentina\", \"AR\", \"no\", 1, 0.0, \"1946-02-03\", \"R/1/532\", 1.0, 0.0, \"ECOSOC CONSULTANTS\", \"TO ADOPT USSR (ORAL) AMENDMENT REPLACING THE 1ST COMM. DRAFT RESOLUTION (A/54/REV.1) WITH THE FOLLOWING:  \\\\TAKING INTO CONSIDERATION THE QUESTION RAISED BY THE WORLD FEDERATION OF TRADE UNIONS CONCERNING ITS PARTICIPATION IN THE WORK OF THE ECO\", \"ec\", \"Economic development\", 1946], [18, \"Uruguay\", \"UY\", \"no\", 1, 0.0, \"1946-02-03\", \"R/1/532\", 1.0, 0.0, \"ECOSOC CONSULTANTS\", \"TO ADOPT USSR (ORAL) AMENDMENT REPLACING THE 1ST COMM. DRAFT RESOLUTION (A/54/REV.1) WITH THE FOLLOWING:  \\\\TAKING INTO CONSIDERATION THE QUESTION RAISED BY THE WORLD FEDERATION OF TRADE UNIONS CONCERNING ITS PARTICIPATION IN THE WORK OF THE ECO\", \"ec\", \"Economic development\", 1946], [18, \"United Kingdom\", \"GB\", \"no\", 1, 0.0, \"1946-02-03\", \"R/1/532\", 1.0, 0.0, \"ECOSOC CONSULTANTS\", \"TO ADOPT USSR (ORAL) AMENDMENT REPLACING THE 1ST COMM. DRAFT RESOLUTION (A/54/REV.1) WITH THE FOLLOWING:  \\\\TAKING INTO CONSIDERATION THE QUESTION RAISED BY THE WORLD FEDERATION OF TRADE UNIONS CONCERNING ITS PARTICIPATION IN THE WORK OF THE ECO\", \"ec\", \"Economic development\", 1946], [18, \"Netherlands\", \"NL\", \"no\", 1, 0.0, \"1946-02-03\", \"R/1/532\", 1.0, 0.0, \"ECOSOC CONSULTANTS\", \"TO ADOPT USSR (ORAL) AMENDMENT REPLACING THE 1ST COMM. DRAFT RESOLUTION (A/54/REV.1) WITH THE FOLLOWING:  \\\\TAKING INTO CONSIDERATION THE QUESTION RAISED BY THE WORLD FEDERATION OF TRADE UNIONS CONCERNING ITS PARTICIPATION IN THE WORK OF THE ECO\", \"ec\", \"Economic development\", 1946], [18, \"Belgium\", \"BE\", \"abstain\", 1, 0.0, \"1946-02-03\", \"R/1/532\", 1.0, 0.0, \"ECOSOC CONSULTANTS\", \"TO ADOPT USSR (ORAL) AMENDMENT REPLACING THE 1ST COMM. DRAFT RESOLUTION (A/54/REV.1) WITH THE FOLLOWING:  \\\\TAKING INTO CONSIDERATION THE QUESTION RAISED BY THE WORLD FEDERATION OF TRADE UNIONS CONCERNING ITS PARTICIPATION IN THE WORK OF THE ECO\", \"ec\", \"Economic development\", 1946], [18, \"Luxembourg\", \"LU\", \"no\", 1, 0.0, \"1946-02-03\", \"R/1/532\", 1.0, 0.0, \"ECOSOC CONSULTANTS\", \"TO ADOPT USSR (ORAL) AMENDMENT REPLACING THE 1ST COMM. DRAFT RESOLUTION (A/54/REV.1) WITH THE FOLLOWING:  \\\\TAKING INTO CONSIDERATION THE QUESTION RAISED BY THE WORLD FEDERATION OF TRADE UNIONS CONCERNING ITS PARTICIPATION IN THE WORK OF THE ECO\", \"ec\", \"Economic development\", 1946], [18, \"France\", \"FR\", \"yes\", 1, 0.0, \"1946-02-03\", \"R/1/532\", 1.0, 0.0, \"ECOSOC CONSULTANTS\", \"TO ADOPT USSR (ORAL) AMENDMENT REPLACING THE 1ST COMM. DRAFT RESOLUTION (A/54/REV.1) WITH THE FOLLOWING:  \\\\TAKING INTO CONSIDERATION THE QUESTION RAISED BY THE WORLD FEDERATION OF TRADE UNIONS CONCERNING ITS PARTICIPATION IN THE WORK OF THE ECO\", \"ec\", \"Economic development\", 1946], [18, \"Poland\", \"PL\", \"yes\", 1, 0.0, \"1946-02-03\", \"R/1/532\", 1.0, 0.0, \"ECOSOC CONSULTANTS\", \"TO ADOPT USSR (ORAL) AMENDMENT REPLACING THE 1ST COMM. DRAFT RESOLUTION (A/54/REV.1) WITH THE FOLLOWING:  \\\\TAKING INTO CONSIDERATION THE QUESTION RAISED BY THE WORLD FEDERATION OF TRADE UNIONS CONCERNING ITS PARTICIPATION IN THE WORK OF THE ECO\", \"ec\", \"Economic development\", 1946], [18, \"Czechoslovakia\", \"CS\", \"yes\", 1, 0.0, \"1946-02-03\", \"R/1/532\", 1.0, 0.0, \"ECOSOC CONSULTANTS\", \"TO ADOPT USSR (ORAL) AMENDMENT REPLACING THE 1ST COMM. DRAFT RESOLUTION (A/54/REV.1) WITH THE FOLLOWING:  \\\\TAKING INTO CONSIDERATION THE QUESTION RAISED BY THE WORLD FEDERATION OF TRADE UNIONS CONCERNING ITS PARTICIPATION IN THE WORK OF THE ECO\", \"ec\", \"Economic development\", 1946], [18, \"Yugoslavia\", \"YU\", \"yes\", 1, 0.0, \"1946-02-03\", \"R/1/532\", 1.0, 0.0, \"ECOSOC CONSULTANTS\", \"TO ADOPT USSR (ORAL) AMENDMENT REPLACING THE 1ST COMM. DRAFT RESOLUTION (A/54/REV.1) WITH THE FOLLOWING:  \\\\TAKING INTO CONSIDERATION THE QUESTION RAISED BY THE WORLD FEDERATION OF TRADE UNIONS CONCERNING ITS PARTICIPATION IN THE WORK OF THE ECO\", \"ec\", \"Economic development\", 1946], [18, \"Greece\", \"GR\", \"no\", 1, 0.0, \"1946-02-03\", \"R/1/532\", 1.0, 0.0, \"ECOSOC CONSULTANTS\", \"TO ADOPT USSR (ORAL) AMENDMENT REPLACING THE 1ST COMM. DRAFT RESOLUTION (A/54/REV.1) WITH THE FOLLOWING:  \\\\TAKING INTO CONSIDERATION THE QUESTION RAISED BY THE WORLD FEDERATION OF TRADE UNIONS CONCERNING ITS PARTICIPATION IN THE WORK OF THE ECO\", \"ec\", \"Economic development\", 1946], [18, \"Russia\", \"RU\", \"yes\", 1, 0.0, \"1946-02-03\", \"R/1/532\", 1.0, 0.0, \"ECOSOC CONSULTANTS\", \"TO ADOPT USSR (ORAL) AMENDMENT REPLACING THE 1ST COMM. DRAFT RESOLUTION (A/54/REV.1) WITH THE FOLLOWING:  \\\\TAKING INTO CONSIDERATION THE QUESTION RAISED BY THE WORLD FEDERATION OF TRADE UNIONS CONCERNING ITS PARTICIPATION IN THE WORK OF THE ECO\", \"ec\", \"Economic development\", 1946], [18, \"Ukraine\", \"UA\", \"yes\", 1, 0.0, \"1946-02-03\", \"R/1/532\", 1.0, 0.0, \"ECOSOC CONSULTANTS\", \"TO ADOPT USSR (ORAL) AMENDMENT REPLACING THE 1ST COMM. DRAFT RESOLUTION (A/54/REV.1) WITH THE FOLLOWING:  \\\\TAKING INTO CONSIDERATION THE QUESTION RAISED BY THE WORLD FEDERATION OF TRADE UNIONS CONCERNING ITS PARTICIPATION IN THE WORK OF THE ECO\", \"ec\", \"Economic development\", 1946], [18, \"Belarus\", \"BY\", \"yes\", 1, 0.0, \"1946-02-03\", \"R/1/532\", 1.0, 0.0, \"ECOSOC CONSULTANTS\", \"TO ADOPT USSR (ORAL) AMENDMENT REPLACING THE 1ST COMM. DRAFT RESOLUTION (A/54/REV.1) WITH THE FOLLOWING:  \\\\TAKING INTO CONSIDERATION THE QUESTION RAISED BY THE WORLD FEDERATION OF TRADE UNIONS CONCERNING ITS PARTICIPATION IN THE WORK OF THE ECO\", \"ec\", \"Economic development\", 1946], [18, \"Norway\", \"NO\", \"no\", 1, 0.0, \"1946-02-03\", \"R/1/532\", 1.0, 0.0, \"ECOSOC CONSULTANTS\", \"TO ADOPT USSR (ORAL) AMENDMENT REPLACING THE 1ST COMM. DRAFT RESOLUTION (A/54/REV.1) WITH THE FOLLOWING:  \\\\TAKING INTO CONSIDERATION THE QUESTION RAISED BY THE WORLD FEDERATION OF TRADE UNIONS CONCERNING ITS PARTICIPATION IN THE WORK OF THE ECO\", \"ec\", \"Economic development\", 1946], [18, \"Denmark\", \"DK\", \"no\", 1, 0.0, \"1946-02-03\", \"R/1/532\", 1.0, 0.0, \"ECOSOC CONSULTANTS\", \"TO ADOPT USSR (ORAL) AMENDMENT REPLACING THE 1ST COMM. DRAFT RESOLUTION (A/54/REV.1) WITH THE FOLLOWING:  \\\\TAKING INTO CONSIDERATION THE QUESTION RAISED BY THE WORLD FEDERATION OF TRADE UNIONS CONCERNING ITS PARTICIPATION IN THE WORK OF THE ECO\", \"ec\", \"Economic development\", 1946], [18, \"Liberia\", \"LR\", \"no\", 1, 0.0, \"1946-02-03\", \"R/1/532\", 1.0, 0.0, \"ECOSOC CONSULTANTS\", \"TO ADOPT USSR (ORAL) AMENDMENT REPLACING THE 1ST COMM. DRAFT RESOLUTION (A/54/REV.1) WITH THE FOLLOWING:  \\\\TAKING INTO CONSIDERATION THE QUESTION RAISED BY THE WORLD FEDERATION OF TRADE UNIONS CONCERNING ITS PARTICIPATION IN THE WORK OF THE ECO\", \"ec\", \"Economic development\", 1946], [18, \"Ethiopia\", \"ET\", \"no\", 1, 0.0, \"1946-02-03\", \"R/1/532\", 1.0, 0.0, \"ECOSOC CONSULTANTS\", \"TO ADOPT USSR (ORAL) AMENDMENT REPLACING THE 1ST COMM. DRAFT RESOLUTION (A/54/REV.1) WITH THE FOLLOWING:  \\\\TAKING INTO CONSIDERATION THE QUESTION RAISED BY THE WORLD FEDERATION OF TRADE UNIONS CONCERNING ITS PARTICIPATION IN THE WORK OF THE ECO\", \"ec\", \"Economic development\", 1946], [18, \"South Africa\", \"ZA\", \"no\", 1, 0.0, \"1946-02-03\", \"R/1/532\", 1.0, 0.0, \"ECOSOC CONSULTANTS\", \"TO ADOPT USSR (ORAL) AMENDMENT REPLACING THE 1ST COMM. DRAFT RESOLUTION (A/54/REV.1) WITH THE FOLLOWING:  \\\\TAKING INTO CONSIDERATION THE QUESTION RAISED BY THE WORLD FEDERATION OF TRADE UNIONS CONCERNING ITS PARTICIPATION IN THE WORK OF THE ECO\", \"ec\", \"Economic development\", 1946], [18, \"Iran\", \"IR\", \"abstain\", 1, 0.0, \"1946-02-03\", \"R/1/532\", 1.0, 0.0, \"ECOSOC CONSULTANTS\", \"TO ADOPT USSR (ORAL) AMENDMENT REPLACING THE 1ST COMM. DRAFT RESOLUTION (A/54/REV.1) WITH THE FOLLOWING:  \\\\TAKING INTO CONSIDERATION THE QUESTION RAISED BY THE WORLD FEDERATION OF TRADE UNIONS CONCERNING ITS PARTICIPATION IN THE WORK OF THE ECO\", \"ec\", \"Economic development\", 1946], [18, \"Turkey\", \"TR\", \"no\", 1, 0.0, \"1946-02-03\", \"R/1/532\", 1.0, 0.0, \"ECOSOC CONSULTANTS\", \"TO ADOPT USSR (ORAL) AMENDMENT REPLACING THE 1ST COMM. DRAFT RESOLUTION (A/54/REV.1) WITH THE FOLLOWING:  \\\\TAKING INTO CONSIDERATION THE QUESTION RAISED BY THE WORLD FEDERATION OF TRADE UNIONS CONCERNING ITS PARTICIPATION IN THE WORK OF THE ECO\", \"ec\", \"Economic development\", 1946], [18, \"Iraq\", \"IQ\", \"yes\", 1, 0.0, \"1946-02-03\", \"R/1/532\", 1.0, 0.0, \"ECOSOC CONSULTANTS\", \"TO ADOPT USSR (ORAL) AMENDMENT REPLACING THE 1ST COMM. DRAFT RESOLUTION (A/54/REV.1) WITH THE FOLLOWING:  \\\\TAKING INTO CONSIDERATION THE QUESTION RAISED BY THE WORLD FEDERATION OF TRADE UNIONS CONCERNING ITS PARTICIPATION IN THE WORK OF THE ECO\", \"ec\", \"Economic development\", 1946], [18, \"Egypt\", \"EG\", \"abstain\", 1, 0.0, \"1946-02-03\", \"R/1/532\", 1.0, 0.0, \"ECOSOC CONSULTANTS\", \"TO ADOPT USSR (ORAL) AMENDMENT REPLACING THE 1ST COMM. DRAFT RESOLUTION (A/54/REV.1) WITH THE FOLLOWING:  \\\\TAKING INTO CONSIDERATION THE QUESTION RAISED BY THE WORLD FEDERATION OF TRADE UNIONS CONCERNING ITS PARTICIPATION IN THE WORK OF THE ECO\", \"ec\", \"Economic development\", 1946], [18, \"Syria\", \"SY\", \"abstain\", 1, 0.0, \"1946-02-03\", \"R/1/532\", 1.0, 0.0, \"ECOSOC CONSULTANTS\", \"TO ADOPT USSR (ORAL) AMENDMENT REPLACING THE 1ST COMM. DRAFT RESOLUTION (A/54/REV.1) WITH THE FOLLOWING:  \\\\TAKING INTO CONSIDERATION THE QUESTION RAISED BY THE WORLD FEDERATION OF TRADE UNIONS CONCERNING ITS PARTICIPATION IN THE WORK OF THE ECO\", \"ec\", \"Economic development\", 1946], [18, \"Lebanon\", \"LB\", \"abstain\", 1, 0.0, \"1946-02-03\", \"R/1/532\", 1.0, 0.0, \"ECOSOC CONSULTANTS\", \"TO ADOPT USSR (ORAL) AMENDMENT REPLACING THE 1ST COMM. DRAFT RESOLUTION (A/54/REV.1) WITH THE FOLLOWING:  \\\\TAKING INTO CONSIDERATION THE QUESTION RAISED BY THE WORLD FEDERATION OF TRADE UNIONS CONCERNING ITS PARTICIPATION IN THE WORK OF THE ECO\", \"ec\", \"Economic development\", 1946], [18, \"Saudi Arabia\", \"SA\", \"abstain\", 1, 0.0, \"1946-02-03\", \"R/1/532\", 1.0, 0.0, \"ECOSOC CONSULTANTS\", \"TO ADOPT USSR (ORAL) AMENDMENT REPLACING THE 1ST COMM. DRAFT RESOLUTION (A/54/REV.1) WITH THE FOLLOWING:  \\\\TAKING INTO CONSIDERATION THE QUESTION RAISED BY THE WORLD FEDERATION OF TRADE UNIONS CONCERNING ITS PARTICIPATION IN THE WORK OF THE ECO\", \"ec\", \"Economic development\", 1946], [18, \"Taiwan\", \"TW\", \"no\", 1, 0.0, \"1946-02-03\", \"R/1/532\", 1.0, 0.0, \"ECOSOC CONSULTANTS\", \"TO ADOPT USSR (ORAL) AMENDMENT REPLACING THE 1ST COMM. DRAFT RESOLUTION (A/54/REV.1) WITH THE FOLLOWING:  \\\\TAKING INTO CONSIDERATION THE QUESTION RAISED BY THE WORLD FEDERATION OF TRADE UNIONS CONCERNING ITS PARTICIPATION IN THE WORK OF THE ECO\", \"ec\", \"Economic development\", 1946], [18, \"India\", \"IN\", \"no\", 1, 0.0, \"1946-02-03\", \"R/1/532\", 1.0, 0.0, \"ECOSOC CONSULTANTS\", \"TO ADOPT USSR (ORAL) AMENDMENT REPLACING THE 1ST COMM. DRAFT RESOLUTION (A/54/REV.1) WITH THE FOLLOWING:  \\\\TAKING INTO CONSIDERATION THE QUESTION RAISED BY THE WORLD FEDERATION OF TRADE UNIONS CONCERNING ITS PARTICIPATION IN THE WORK OF THE ECO\", \"ec\", \"Economic development\", 1946], [18, \"Philippines\", \"PH\", \"no\", 1, 0.0, \"1946-02-03\", \"R/1/532\", 1.0, 0.0, \"ECOSOC CONSULTANTS\", \"TO ADOPT USSR (ORAL) AMENDMENT REPLACING THE 1ST COMM. DRAFT RESOLUTION (A/54/REV.1) WITH THE FOLLOWING:  \\\\TAKING INTO CONSIDERATION THE QUESTION RAISED BY THE WORLD FEDERATION OF TRADE UNIONS CONCERNING ITS PARTICIPATION IN THE WORK OF THE ECO\", \"ec\", \"Economic development\", 1946], [18, \"Australia\", \"AU\", \"no\", 1, 0.0, \"1946-02-03\", \"R/1/532\", 1.0, 0.0, \"ECOSOC CONSULTANTS\", \"TO ADOPT USSR (ORAL) AMENDMENT REPLACING THE 1ST COMM. DRAFT RESOLUTION (A/54/REV.1) WITH THE FOLLOWING:  \\\\TAKING INTO CONSIDERATION THE QUESTION RAISED BY THE WORLD FEDERATION OF TRADE UNIONS CONCERNING ITS PARTICIPATION IN THE WORK OF THE ECO\", \"ec\", \"Economic development\", 1946], [18, \"New Zealand\", \"NZ\", \"no\", 1, 0.0, \"1946-02-03\", \"R/1/532\", 1.0, 0.0, \"ECOSOC CONSULTANTS\", \"TO ADOPT USSR (ORAL) AMENDMENT REPLACING THE 1ST COMM. DRAFT RESOLUTION (A/54/REV.1) WITH THE FOLLOWING:  \\\\TAKING INTO CONSIDERATION THE QUESTION RAISED BY THE WORLD FEDERATION OF TRADE UNIONS CONCERNING ITS PARTICIPATION IN THE WORK OF THE ECO\", \"ec\", \"Economic development\", 1946], [19, \"United States\", \"US\", \"yes\", 1, 0.0, \"1946-02-03\", \"R/1/534\", 0.0, 0.0, \"ECOSOC CONSULTANTS\", \"TO ADOPT THE 1ST COMM. DRAFT RESOLUTION (A/54/REV.1) PROVIDING THAT THE E.S.C. ARRANGE FOR CONSULTATIVE COLLABORATION WITH NON-GOVERNMENTAL ORGANIZATIONS, INTERNATIONAL, NATIONAL OR REGIONAL.\", \"ec\", \"Economic development\", 1946], [19, \"Canada\", \"CA\", \"yes\", 1, 0.0, \"1946-02-03\", \"R/1/534\", 0.0, 0.0, \"ECOSOC CONSULTANTS\", \"TO ADOPT THE 1ST COMM. DRAFT RESOLUTION (A/54/REV.1) PROVIDING THAT THE E.S.C. ARRANGE FOR CONSULTATIVE COLLABORATION WITH NON-GOVERNMENTAL ORGANIZATIONS, INTERNATIONAL, NATIONAL OR REGIONAL.\", \"ec\", \"Economic development\", 1946], [19, \"Cuba\", \"CU\", \"yes\", 1, 0.0, \"1946-02-03\", \"R/1/534\", 0.0, 0.0, \"ECOSOC CONSULTANTS\", \"TO ADOPT THE 1ST COMM. DRAFT RESOLUTION (A/54/REV.1) PROVIDING THAT THE E.S.C. ARRANGE FOR CONSULTATIVE COLLABORATION WITH NON-GOVERNMENTAL ORGANIZATIONS, INTERNATIONAL, NATIONAL OR REGIONAL.\", \"ec\", \"Economic development\", 1946], [19, \"Haiti\", \"HT\", \"yes\", 1, 0.0, \"1946-02-03\", \"R/1/534\", 0.0, 0.0, \"ECOSOC CONSULTANTS\", \"TO ADOPT THE 1ST COMM. DRAFT RESOLUTION (A/54/REV.1) PROVIDING THAT THE E.S.C. ARRANGE FOR CONSULTATIVE COLLABORATION WITH NON-GOVERNMENTAL ORGANIZATIONS, INTERNATIONAL, NATIONAL OR REGIONAL.\", \"ec\", \"Economic development\", 1946], [19, \"Dominican Republic\", \"DO\", \"yes\", 1, 0.0, \"1946-02-03\", \"R/1/534\", 0.0, 0.0, \"ECOSOC CONSULTANTS\", \"TO ADOPT THE 1ST COMM. DRAFT RESOLUTION (A/54/REV.1) PROVIDING THAT THE E.S.C. ARRANGE FOR CONSULTATIVE COLLABORATION WITH NON-GOVERNMENTAL ORGANIZATIONS, INTERNATIONAL, NATIONAL OR REGIONAL.\", \"ec\", \"Economic development\", 1946], [19, \"Mexico\", \"MX\", \"abstain\", 1, 0.0, \"1946-02-03\", \"R/1/534\", 0.0, 0.0, \"ECOSOC CONSULTANTS\", \"TO ADOPT THE 1ST COMM. DRAFT RESOLUTION (A/54/REV.1) PROVIDING THAT THE E.S.C. ARRANGE FOR CONSULTATIVE COLLABORATION WITH NON-GOVERNMENTAL ORGANIZATIONS, INTERNATIONAL, NATIONAL OR REGIONAL.\", \"ec\", \"Economic development\", 1946], [19, \"Honduras\", \"HN\", \"yes\", 1, 0.0, \"1946-02-03\", \"R/1/534\", 0.0, 0.0, \"ECOSOC CONSULTANTS\", \"TO ADOPT THE 1ST COMM. DRAFT RESOLUTION (A/54/REV.1) PROVIDING THAT THE E.S.C. ARRANGE FOR CONSULTATIVE COLLABORATION WITH NON-GOVERNMENTAL ORGANIZATIONS, INTERNATIONAL, NATIONAL OR REGIONAL.\", \"ec\", \"Economic development\", 1946], [19, \"El Salvador\", \"SV\", \"yes\", 1, 0.0, \"1946-02-03\", \"R/1/534\", 0.0, 0.0, \"ECOSOC CONSULTANTS\", \"TO ADOPT THE 1ST COMM. DRAFT RESOLUTION (A/54/REV.1) PROVIDING THAT THE E.S.C. ARRANGE FOR CONSULTATIVE COLLABORATION WITH NON-GOVERNMENTAL ORGANIZATIONS, INTERNATIONAL, NATIONAL OR REGIONAL.\", \"ec\", \"Economic development\", 1946], [19, \"Nicaragua\", \"NI\", \"yes\", 1, 0.0, \"1946-02-03\", \"R/1/534\", 0.0, 0.0, \"ECOSOC CONSULTANTS\", \"TO ADOPT THE 1ST COMM. DRAFT RESOLUTION (A/54/REV.1) PROVIDING THAT THE E.S.C. ARRANGE FOR CONSULTATIVE COLLABORATION WITH NON-GOVERNMENTAL ORGANIZATIONS, INTERNATIONAL, NATIONAL OR REGIONAL.\", \"ec\", \"Economic development\", 1946], [19, \"Panama\", \"PA\", \"yes\", 1, 0.0, \"1946-02-03\", \"R/1/534\", 0.0, 0.0, \"ECOSOC CONSULTANTS\", \"TO ADOPT THE 1ST COMM. DRAFT RESOLUTION (A/54/REV.1) PROVIDING THAT THE E.S.C. ARRANGE FOR CONSULTATIVE COLLABORATION WITH NON-GOVERNMENTAL ORGANIZATIONS, INTERNATIONAL, NATIONAL OR REGIONAL.\", \"ec\", \"Economic development\", 1946], [19, \"Colombia\", \"CO\", \"abstain\", 1, 0.0, \"1946-02-03\", \"R/1/534\", 0.0, 0.0, \"ECOSOC CONSULTANTS\", \"TO ADOPT THE 1ST COMM. DRAFT RESOLUTION (A/54/REV.1) PROVIDING THAT THE E.S.C. ARRANGE FOR CONSULTATIVE COLLABORATION WITH NON-GOVERNMENTAL ORGANIZATIONS, INTERNATIONAL, NATIONAL OR REGIONAL.\", \"ec\", \"Economic development\", 1946], [19, \"Venezuela\", \"VE\", \"yes\", 1, 0.0, \"1946-02-03\", \"R/1/534\", 0.0, 0.0, \"ECOSOC CONSULTANTS\", \"TO ADOPT THE 1ST COMM. DRAFT RESOLUTION (A/54/REV.1) PROVIDING THAT THE E.S.C. ARRANGE FOR CONSULTATIVE COLLABORATION WITH NON-GOVERNMENTAL ORGANIZATIONS, INTERNATIONAL, NATIONAL OR REGIONAL.\", \"ec\", \"Economic development\", 1946], [19, \"Ecuador\", \"EC\", \"yes\", 1, 0.0, \"1946-02-03\", \"R/1/534\", 0.0, 0.0, \"ECOSOC CONSULTANTS\", \"TO ADOPT THE 1ST COMM. DRAFT RESOLUTION (A/54/REV.1) PROVIDING THAT THE E.S.C. ARRANGE FOR CONSULTATIVE COLLABORATION WITH NON-GOVERNMENTAL ORGANIZATIONS, INTERNATIONAL, NATIONAL OR REGIONAL.\", \"ec\", \"Economic development\", 1946], [19, \"Peru\", \"PE\", \"yes\", 1, 0.0, \"1946-02-03\", \"R/1/534\", 0.0, 0.0, \"ECOSOC CONSULTANTS\", \"TO ADOPT THE 1ST COMM. DRAFT RESOLUTION (A/54/REV.1) PROVIDING THAT THE E.S.C. ARRANGE FOR CONSULTATIVE COLLABORATION WITH NON-GOVERNMENTAL ORGANIZATIONS, INTERNATIONAL, NATIONAL OR REGIONAL.\", \"ec\", \"Economic development\", 1946], [19, \"Brazil\", \"BR\", \"yes\", 1, 0.0, \"1946-02-03\", \"R/1/534\", 0.0, 0.0, \"ECOSOC CONSULTANTS\", \"TO ADOPT THE 1ST COMM. DRAFT RESOLUTION (A/54/REV.1) PROVIDING THAT THE E.S.C. ARRANGE FOR CONSULTATIVE COLLABORATION WITH NON-GOVERNMENTAL ORGANIZATIONS, INTERNATIONAL, NATIONAL OR REGIONAL.\", \"ec\", \"Economic development\", 1946], [19, \"Bolivia\", \"BO\", \"yes\", 1, 0.0, \"1946-02-03\", \"R/1/534\", 0.0, 0.0, \"ECOSOC CONSULTANTS\", \"TO ADOPT THE 1ST COMM. DRAFT RESOLUTION (A/54/REV.1) PROVIDING THAT THE E.S.C. ARRANGE FOR CONSULTATIVE COLLABORATION WITH NON-GOVERNMENTAL ORGANIZATIONS, INTERNATIONAL, NATIONAL OR REGIONAL.\", \"ec\", \"Economic development\", 1946], [19, \"Paraguay\", \"PY\", \"yes\", 1, 0.0, \"1946-02-03\", \"R/1/534\", 0.0, 0.0, \"ECOSOC CONSULTANTS\", \"TO ADOPT THE 1ST COMM. DRAFT RESOLUTION (A/54/REV.1) PROVIDING THAT THE E.S.C. ARRANGE FOR CONSULTATIVE COLLABORATION WITH NON-GOVERNMENTAL ORGANIZATIONS, INTERNATIONAL, NATIONAL OR REGIONAL.\", \"ec\", \"Economic development\", 1946], [19, \"Chile\", \"CL\", \"abstain\", 1, 0.0, \"1946-02-03\", \"R/1/534\", 0.0, 0.0, \"ECOSOC CONSULTANTS\", \"TO ADOPT THE 1ST COMM. DRAFT RESOLUTION (A/54/REV.1) PROVIDING THAT THE E.S.C. ARRANGE FOR CONSULTATIVE COLLABORATION WITH NON-GOVERNMENTAL ORGANIZATIONS, INTERNATIONAL, NATIONAL OR REGIONAL.\", \"ec\", \"Economic development\", 1946], [19, \"Argentina\", \"AR\", \"yes\", 1, 0.0, \"1946-02-03\", \"R/1/534\", 0.0, 0.0, \"ECOSOC CONSULTANTS\", \"TO ADOPT THE 1ST COMM. DRAFT RESOLUTION (A/54/REV.1) PROVIDING THAT THE E.S.C. ARRANGE FOR CONSULTATIVE COLLABORATION WITH NON-GOVERNMENTAL ORGANIZATIONS, INTERNATIONAL, NATIONAL OR REGIONAL.\", \"ec\", \"Economic development\", 1946], [19, \"Uruguay\", \"UY\", \"yes\", 1, 0.0, \"1946-02-03\", \"R/1/534\", 0.0, 0.0, \"ECOSOC CONSULTANTS\", \"TO ADOPT THE 1ST COMM. DRAFT RESOLUTION (A/54/REV.1) PROVIDING THAT THE E.S.C. ARRANGE FOR CONSULTATIVE COLLABORATION WITH NON-GOVERNMENTAL ORGANIZATIONS, INTERNATIONAL, NATIONAL OR REGIONAL.\", \"ec\", \"Economic development\", 1946], [19, \"United Kingdom\", \"GB\", \"yes\", 1, 0.0, \"1946-02-03\", \"R/1/534\", 0.0, 0.0, \"ECOSOC CONSULTANTS\", \"TO ADOPT THE 1ST COMM. DRAFT RESOLUTION (A/54/REV.1) PROVIDING THAT THE E.S.C. ARRANGE FOR CONSULTATIVE COLLABORATION WITH NON-GOVERNMENTAL ORGANIZATIONS, INTERNATIONAL, NATIONAL OR REGIONAL.\", \"ec\", \"Economic development\", 1946], [19, \"Netherlands\", \"NL\", \"yes\", 1, 0.0, \"1946-02-03\", \"R/1/534\", 0.0, 0.0, \"ECOSOC CONSULTANTS\", \"TO ADOPT THE 1ST COMM. DRAFT RESOLUTION (A/54/REV.1) PROVIDING THAT THE E.S.C. ARRANGE FOR CONSULTATIVE COLLABORATION WITH NON-GOVERNMENTAL ORGANIZATIONS, INTERNATIONAL, NATIONAL OR REGIONAL.\", \"ec\", \"Economic development\", 1946], [19, \"Belgium\", \"BE\", \"abstain\", 1, 0.0, \"1946-02-03\", \"R/1/534\", 0.0, 0.0, \"ECOSOC CONSULTANTS\", \"TO ADOPT THE 1ST COMM. DRAFT RESOLUTION (A/54/REV.1) PROVIDING THAT THE E.S.C. ARRANGE FOR CONSULTATIVE COLLABORATION WITH NON-GOVERNMENTAL ORGANIZATIONS, INTERNATIONAL, NATIONAL OR REGIONAL.\", \"ec\", \"Economic development\", 1946], [19, \"Luxembourg\", \"LU\", \"yes\", 1, 0.0, \"1946-02-03\", \"R/1/534\", 0.0, 0.0, \"ECOSOC CONSULTANTS\", \"TO ADOPT THE 1ST COMM. DRAFT RESOLUTION (A/54/REV.1) PROVIDING THAT THE E.S.C. ARRANGE FOR CONSULTATIVE COLLABORATION WITH NON-GOVERNMENTAL ORGANIZATIONS, INTERNATIONAL, NATIONAL OR REGIONAL.\", \"ec\", \"Economic development\", 1946], [19, \"France\", \"FR\", \"abstain\", 1, 0.0, \"1946-02-03\", \"R/1/534\", 0.0, 0.0, \"ECOSOC CONSULTANTS\", \"TO ADOPT THE 1ST COMM. DRAFT RESOLUTION (A/54/REV.1) PROVIDING THAT THE E.S.C. ARRANGE FOR CONSULTATIVE COLLABORATION WITH NON-GOVERNMENTAL ORGANIZATIONS, INTERNATIONAL, NATIONAL OR REGIONAL.\", \"ec\", \"Economic development\", 1946], [19, \"Poland\", \"PL\", \"no\", 1, 0.0, \"1946-02-03\", \"R/1/534\", 0.0, 0.0, \"ECOSOC CONSULTANTS\", \"TO ADOPT THE 1ST COMM. DRAFT RESOLUTION (A/54/REV.1) PROVIDING THAT THE E.S.C. ARRANGE FOR CONSULTATIVE COLLABORATION WITH NON-GOVERNMENTAL ORGANIZATIONS, INTERNATIONAL, NATIONAL OR REGIONAL.\", \"ec\", \"Economic development\", 1946], [19, \"Czechoslovakia\", \"CS\", \"no\", 1, 0.0, \"1946-02-03\", \"R/1/534\", 0.0, 0.0, \"ECOSOC CONSULTANTS\", \"TO ADOPT THE 1ST COMM. DRAFT RESOLUTION (A/54/REV.1) PROVIDING THAT THE E.S.C. ARRANGE FOR CONSULTATIVE COLLABORATION WITH NON-GOVERNMENTAL ORGANIZATIONS, INTERNATIONAL, NATIONAL OR REGIONAL.\", \"ec\", \"Economic development\", 1946], [19, \"Yugoslavia\", \"YU\", \"no\", 1, 0.0, \"1946-02-03\", \"R/1/534\", 0.0, 0.0, \"ECOSOC CONSULTANTS\", \"TO ADOPT THE 1ST COMM. DRAFT RESOLUTION (A/54/REV.1) PROVIDING THAT THE E.S.C. ARRANGE FOR CONSULTATIVE COLLABORATION WITH NON-GOVERNMENTAL ORGANIZATIONS, INTERNATIONAL, NATIONAL OR REGIONAL.\", \"ec\", \"Economic development\", 1946], [19, \"Greece\", \"GR\", \"yes\", 1, 0.0, \"1946-02-03\", \"R/1/534\", 0.0, 0.0, \"ECOSOC CONSULTANTS\", \"TO ADOPT THE 1ST COMM. DRAFT RESOLUTION (A/54/REV.1) PROVIDING THAT THE E.S.C. ARRANGE FOR CONSULTATIVE COLLABORATION WITH NON-GOVERNMENTAL ORGANIZATIONS, INTERNATIONAL, NATIONAL OR REGIONAL.\", \"ec\", \"Economic development\", 1946], [19, \"Russia\", \"RU\", \"no\", 1, 0.0, \"1946-02-03\", \"R/1/534\", 0.0, 0.0, \"ECOSOC CONSULTANTS\", \"TO ADOPT THE 1ST COMM. DRAFT RESOLUTION (A/54/REV.1) PROVIDING THAT THE E.S.C. ARRANGE FOR CONSULTATIVE COLLABORATION WITH NON-GOVERNMENTAL ORGANIZATIONS, INTERNATIONAL, NATIONAL OR REGIONAL.\", \"ec\", \"Economic development\", 1946], [19, \"Ukraine\", \"UA\", \"no\", 1, 0.0, \"1946-02-03\", \"R/1/534\", 0.0, 0.0, \"ECOSOC CONSULTANTS\", \"TO ADOPT THE 1ST COMM. DRAFT RESOLUTION (A/54/REV.1) PROVIDING THAT THE E.S.C. ARRANGE FOR CONSULTATIVE COLLABORATION WITH NON-GOVERNMENTAL ORGANIZATIONS, INTERNATIONAL, NATIONAL OR REGIONAL.\", \"ec\", \"Economic development\", 1946], [19, \"Belarus\", \"BY\", \"no\", 1, 0.0, \"1946-02-03\", \"R/1/534\", 0.0, 0.0, \"ECOSOC CONSULTANTS\", \"TO ADOPT THE 1ST COMM. DRAFT RESOLUTION (A/54/REV.1) PROVIDING THAT THE E.S.C. ARRANGE FOR CONSULTATIVE COLLABORATION WITH NON-GOVERNMENTAL ORGANIZATIONS, INTERNATIONAL, NATIONAL OR REGIONAL.\", \"ec\", \"Economic development\", 1946], [19, \"Norway\", \"NO\", \"yes\", 1, 0.0, \"1946-02-03\", \"R/1/534\", 0.0, 0.0, \"ECOSOC CONSULTANTS\", \"TO ADOPT THE 1ST COMM. DRAFT RESOLUTION (A/54/REV.1) PROVIDING THAT THE E.S.C. ARRANGE FOR CONSULTATIVE COLLABORATION WITH NON-GOVERNMENTAL ORGANIZATIONS, INTERNATIONAL, NATIONAL OR REGIONAL.\", \"ec\", \"Economic development\", 1946], [19, \"Denmark\", \"DK\", \"yes\", 1, 0.0, \"1946-02-03\", \"R/1/534\", 0.0, 0.0, \"ECOSOC CONSULTANTS\", \"TO ADOPT THE 1ST COMM. DRAFT RESOLUTION (A/54/REV.1) PROVIDING THAT THE E.S.C. ARRANGE FOR CONSULTATIVE COLLABORATION WITH NON-GOVERNMENTAL ORGANIZATIONS, INTERNATIONAL, NATIONAL OR REGIONAL.\", \"ec\", \"Economic development\", 1946], [19, \"Liberia\", \"LR\", \"yes\", 1, 0.0, \"1946-02-03\", \"R/1/534\", 0.0, 0.0, \"ECOSOC CONSULTANTS\", \"TO ADOPT THE 1ST COMM. DRAFT RESOLUTION (A/54/REV.1) PROVIDING THAT THE E.S.C. ARRANGE FOR CONSULTATIVE COLLABORATION WITH NON-GOVERNMENTAL ORGANIZATIONS, INTERNATIONAL, NATIONAL OR REGIONAL.\", \"ec\", \"Economic development\", 1946], [19, \"Ethiopia\", \"ET\", \"yes\", 1, 0.0, \"1946-02-03\", \"R/1/534\", 0.0, 0.0, \"ECOSOC CONSULTANTS\", \"TO ADOPT THE 1ST COMM. DRAFT RESOLUTION (A/54/REV.1) PROVIDING THAT THE E.S.C. ARRANGE FOR CONSULTATIVE COLLABORATION WITH NON-GOVERNMENTAL ORGANIZATIONS, INTERNATIONAL, NATIONAL OR REGIONAL.\", \"ec\", \"Economic development\", 1946], [19, \"South Africa\", \"ZA\", \"yes\", 1, 0.0, \"1946-02-03\", \"R/1/534\", 0.0, 0.0, \"ECOSOC CONSULTANTS\", \"TO ADOPT THE 1ST COMM. DRAFT RESOLUTION (A/54/REV.1) PROVIDING THAT THE E.S.C. ARRANGE FOR CONSULTATIVE COLLABORATION WITH NON-GOVERNMENTAL ORGANIZATIONS, INTERNATIONAL, NATIONAL OR REGIONAL.\", \"ec\", \"Economic development\", 1946], [19, \"Iran\", \"IR\", \"abstain\", 1, 0.0, \"1946-02-03\", \"R/1/534\", 0.0, 0.0, \"ECOSOC CONSULTANTS\", \"TO ADOPT THE 1ST COMM. DRAFT RESOLUTION (A/54/REV.1) PROVIDING THAT THE E.S.C. ARRANGE FOR CONSULTATIVE COLLABORATION WITH NON-GOVERNMENTAL ORGANIZATIONS, INTERNATIONAL, NATIONAL OR REGIONAL.\", \"ec\", \"Economic development\", 1946], [19, \"Turkey\", \"TR\", \"yes\", 1, 0.0, \"1946-02-03\", \"R/1/534\", 0.0, 0.0, \"ECOSOC CONSULTANTS\", \"TO ADOPT THE 1ST COMM. DRAFT RESOLUTION (A/54/REV.1) PROVIDING THAT THE E.S.C. ARRANGE FOR CONSULTATIVE COLLABORATION WITH NON-GOVERNMENTAL ORGANIZATIONS, INTERNATIONAL, NATIONAL OR REGIONAL.\", \"ec\", \"Economic development\", 1946], [19, \"Iraq\", \"IQ\", \"abstain\", 1, 0.0, \"1946-02-03\", \"R/1/534\", 0.0, 0.0, \"ECOSOC CONSULTANTS\", \"TO ADOPT THE 1ST COMM. DRAFT RESOLUTION (A/54/REV.1) PROVIDING THAT THE E.S.C. ARRANGE FOR CONSULTATIVE COLLABORATION WITH NON-GOVERNMENTAL ORGANIZATIONS, INTERNATIONAL, NATIONAL OR REGIONAL.\", \"ec\", \"Economic development\", 1946], [19, \"Egypt\", \"EG\", \"abstain\", 1, 0.0, \"1946-02-03\", \"R/1/534\", 0.0, 0.0, \"ECOSOC CONSULTANTS\", \"TO ADOPT THE 1ST COMM. DRAFT RESOLUTION (A/54/REV.1) PROVIDING THAT THE E.S.C. ARRANGE FOR CONSULTATIVE COLLABORATION WITH NON-GOVERNMENTAL ORGANIZATIONS, INTERNATIONAL, NATIONAL OR REGIONAL.\", \"ec\", \"Economic development\", 1946], [19, \"Syria\", \"SY\", \"abstain\", 1, 0.0, \"1946-02-03\", \"R/1/534\", 0.0, 0.0, \"ECOSOC CONSULTANTS\", \"TO ADOPT THE 1ST COMM. DRAFT RESOLUTION (A/54/REV.1) PROVIDING THAT THE E.S.C. ARRANGE FOR CONSULTATIVE COLLABORATION WITH NON-GOVERNMENTAL ORGANIZATIONS, INTERNATIONAL, NATIONAL OR REGIONAL.\", \"ec\", \"Economic development\", 1946], [19, \"Lebanon\", \"LB\", \"abstain\", 1, 0.0, \"1946-02-03\", \"R/1/534\", 0.0, 0.0, \"ECOSOC CONSULTANTS\", \"TO ADOPT THE 1ST COMM. DRAFT RESOLUTION (A/54/REV.1) PROVIDING THAT THE E.S.C. ARRANGE FOR CONSULTATIVE COLLABORATION WITH NON-GOVERNMENTAL ORGANIZATIONS, INTERNATIONAL, NATIONAL OR REGIONAL.\", \"ec\", \"Economic development\", 1946], [19, \"Saudi Arabia\", \"SA\", \"abstain\", 1, 0.0, \"1946-02-03\", \"R/1/534\", 0.0, 0.0, \"ECOSOC CONSULTANTS\", \"TO ADOPT THE 1ST COMM. DRAFT RESOLUTION (A/54/REV.1) PROVIDING THAT THE E.S.C. ARRANGE FOR CONSULTATIVE COLLABORATION WITH NON-GOVERNMENTAL ORGANIZATIONS, INTERNATIONAL, NATIONAL OR REGIONAL.\", \"ec\", \"Economic development\", 1946], [19, \"Taiwan\", \"TW\", \"yes\", 1, 0.0, \"1946-02-03\", \"R/1/534\", 0.0, 0.0, \"ECOSOC CONSULTANTS\", \"TO ADOPT THE 1ST COMM. DRAFT RESOLUTION (A/54/REV.1) PROVIDING THAT THE E.S.C. ARRANGE FOR CONSULTATIVE COLLABORATION WITH NON-GOVERNMENTAL ORGANIZATIONS, INTERNATIONAL, NATIONAL OR REGIONAL.\", \"ec\", \"Economic development\", 1946], [19, \"India\", \"IN\", \"yes\", 1, 0.0, \"1946-02-03\", \"R/1/534\", 0.0, 0.0, \"ECOSOC CONSULTANTS\", \"TO ADOPT THE 1ST COMM. DRAFT RESOLUTION (A/54/REV.1) PROVIDING THAT THE E.S.C. ARRANGE FOR CONSULTATIVE COLLABORATION WITH NON-GOVERNMENTAL ORGANIZATIONS, INTERNATIONAL, NATIONAL OR REGIONAL.\", \"ec\", \"Economic development\", 1946], [19, \"Philippines\", \"PH\", \"yes\", 1, 0.0, \"1946-02-03\", \"R/1/534\", 0.0, 0.0, \"ECOSOC CONSULTANTS\", \"TO ADOPT THE 1ST COMM. DRAFT RESOLUTION (A/54/REV.1) PROVIDING THAT THE E.S.C. ARRANGE FOR CONSULTATIVE COLLABORATION WITH NON-GOVERNMENTAL ORGANIZATIONS, INTERNATIONAL, NATIONAL OR REGIONAL.\", \"ec\", \"Economic development\", 1946], [19, \"Australia\", \"AU\", \"yes\", 1, 0.0, \"1946-02-03\", \"R/1/534\", 0.0, 0.0, \"ECOSOC CONSULTANTS\", \"TO ADOPT THE 1ST COMM. DRAFT RESOLUTION (A/54/REV.1) PROVIDING THAT THE E.S.C. ARRANGE FOR CONSULTATIVE COLLABORATION WITH NON-GOVERNMENTAL ORGANIZATIONS, INTERNATIONAL, NATIONAL OR REGIONAL.\", \"ec\", \"Economic development\", 1946], [19, \"New Zealand\", \"NZ\", \"yes\", 1, 0.0, \"1946-02-03\", \"R/1/534\", 0.0, 0.0, \"ECOSOC CONSULTANTS\", \"TO ADOPT THE 1ST COMM. DRAFT RESOLUTION (A/54/REV.1) PROVIDING THAT THE E.S.C. ARRANGE FOR CONSULTATIVE COLLABORATION WITH NON-GOVERNMENTAL ORGANIZATIONS, INTERNATIONAL, NATIONAL OR REGIONAL.\", \"ec\", \"Economic development\", 1946], [24, \"United States\", \"US\", \"yes\", 1, 0.0, \"1946-12-05\", \"R/1/1229\", 0.0, 0.0, \"ECOSOC ELECTIONS\", \"TO ADOPT BELGIAN ORAL PROPOSAL TO SURRENDER BELGIUM'S SEAT IN THE E.S.C., PROVIDING THAT THE NETHERLANDS AND TURKEY BE THEREBY ELECTED TO THE 2 REMAINING VACANCIES.\", \"ec\", \"Economic development\", 1946], [24, \"Canada\", \"CA\", \"yes\", 1, 0.0, \"1946-12-05\", \"R/1/1229\", 0.0, 0.0, \"ECOSOC ELECTIONS\", \"TO ADOPT BELGIAN ORAL PROPOSAL TO SURRENDER BELGIUM'S SEAT IN THE E.S.C., PROVIDING THAT THE NETHERLANDS AND TURKEY BE THEREBY ELECTED TO THE 2 REMAINING VACANCIES.\", \"ec\", \"Economic development\", 1946], [24, \"Cuba\", \"CU\", \"yes\", 1, 0.0, \"1946-12-05\", \"R/1/1229\", 0.0, 0.0, \"ECOSOC ELECTIONS\", \"TO ADOPT BELGIAN ORAL PROPOSAL TO SURRENDER BELGIUM'S SEAT IN THE E.S.C., PROVIDING THAT THE NETHERLANDS AND TURKEY BE THEREBY ELECTED TO THE 2 REMAINING VACANCIES.\", \"ec\", \"Economic development\", 1946], [24, \"Haiti\", \"HT\", \"abstain\", 1, 0.0, \"1946-12-05\", \"R/1/1229\", 0.0, 0.0, \"ECOSOC ELECTIONS\", \"TO ADOPT BELGIAN ORAL PROPOSAL TO SURRENDER BELGIUM'S SEAT IN THE E.S.C., PROVIDING THAT THE NETHERLANDS AND TURKEY BE THEREBY ELECTED TO THE 2 REMAINING VACANCIES.\", \"ec\", \"Economic development\", 1946], [24, \"Dominican Republic\", \"DO\", \"yes\", 1, 0.0, \"1946-12-05\", \"R/1/1229\", 0.0, 0.0, \"ECOSOC ELECTIONS\", \"TO ADOPT BELGIAN ORAL PROPOSAL TO SURRENDER BELGIUM'S SEAT IN THE E.S.C., PROVIDING THAT THE NETHERLANDS AND TURKEY BE THEREBY ELECTED TO THE 2 REMAINING VACANCIES.\", \"ec\", \"Economic development\", 1946], [9092, \"Sierra Leone\", \"SL\", \"yes\", 74, NaN, \"2019-12-12\", \"A/RES/74/34\", NaN, NaN, \"Further practical measures for the prevention of an arms race in outer space \", \"Further practical measures for the prevention of an arms race in outer space \", \"ec\", \"Economic development\", 2019], [9092, \"Singapore\", \"SG\", \"yes\", 74, NaN, \"2019-12-12\", \"A/RES/74/34\", NaN, NaN, \"Further practical measures for the prevention of an arms race in outer space \", \"Further practical measures for the prevention of an arms race in outer space \", \"di\", \"Arms control and disarmament\", 2019], [9092, \"Singapore\", \"SG\", \"yes\", 74, NaN, \"2019-12-12\", \"A/RES/74/34\", NaN, NaN, \"Further practical measures for the prevention of an arms race in outer space \", \"Further practical measures for the prevention of an arms race in outer space \", \"co\", \"Colonialism\", 2019], [9092, \"Singapore\", \"SG\", \"yes\", 74, NaN, \"2019-12-12\", \"A/RES/74/34\", NaN, NaN, \"Further practical measures for the prevention of an arms race in outer space \", \"Further practical measures for the prevention of an arms race in outer space \", \"ec\", \"Economic development\", 2019], [9092, \"Slovakia\", \"SK\", \"abstain\", 74, NaN, \"2019-12-12\", \"A/RES/74/34\", NaN, NaN, \"Further practical measures for the prevention of an arms race in outer space \", \"Further practical measures for the prevention of an arms race in outer space \", \"di\", \"Arms control and disarmament\", 2019], [9092, \"Slovakia\", \"SK\", \"abstain\", 74, NaN, \"2019-12-12\", \"A/RES/74/34\", NaN, NaN, \"Further practical measures for the prevention of an arms race in outer space \", \"Further practical measures for the prevention of an arms race in outer space \", \"co\", \"Colonialism\", 2019], [9092, \"Slovakia\", \"SK\", \"abstain\", 74, NaN, \"2019-12-12\", \"A/RES/74/34\", NaN, NaN, \"Further practical measures for the prevention of an arms race in outer space \", \"Further practical measures for the prevention of an arms race in outer space \", \"ec\", \"Economic development\", 2019], [9092, \"Slovenia\", \"SI\", \"abstain\", 74, NaN, \"2019-12-12\", \"A/RES/74/34\", NaN, NaN, \"Further practical measures for the prevention of an arms race in outer space \", \"Further practical measures for the prevention of an arms race in outer space \", \"di\", \"Arms control and disarmament\", 2019], [9092, \"Slovenia\", \"SI\", \"abstain\", 74, NaN, \"2019-12-12\", \"A/RES/74/34\", NaN, NaN, \"Further practical measures for the prevention of an arms race in outer space \", \"Further practical measures for the prevention of an arms race in outer space \", \"co\", \"Colonialism\", 2019], [9092, \"Slovenia\", \"SI\", \"abstain\", 74, NaN, \"2019-12-12\", \"A/RES/74/34\", NaN, NaN, \"Further practical measures for the prevention of an arms race in outer space \", \"Further practical measures for the prevention of an arms race in outer space \", \"ec\", \"Economic development\", 2019], [9092, \"Solomon Islands\", \"SB\", \"yes\", 74, NaN, \"2019-12-12\", \"A/RES/74/34\", NaN, NaN, \"Further practical measures for the prevention of an arms race in outer space \", \"Further practical measures for the prevention of an arms race in outer space \", \"di\", \"Arms control and disarmament\", 2019], [9092, \"Solomon Islands\", \"SB\", \"yes\", 74, NaN, \"2019-12-12\", \"A/RES/74/34\", NaN, NaN, \"Further practical measures for the prevention of an arms race in outer space \", \"Further practical measures for the prevention of an arms race in outer space \", \"co\", \"Colonialism\", 2019], [9092, \"Solomon Islands\", \"SB\", \"yes\", 74, NaN, \"2019-12-12\", \"A/RES/74/34\", NaN, NaN, \"Further practical measures for the prevention of an arms race in outer space \", \"Further practical measures for the prevention of an arms race in outer space \", \"ec\", \"Economic development\", 2019], [9092, \"South Africa\", \"ZA\", \"yes\", 74, NaN, \"2019-12-12\", \"A/RES/74/34\", NaN, NaN, \"Further practical measures for the prevention of an arms race in outer space \", \"Further practical measures for the prevention of an arms race in outer space \", \"di\", \"Arms control and disarmament\", 2019], [9092, \"South Africa\", \"ZA\", \"yes\", 74, NaN, \"2019-12-12\", \"A/RES/74/34\", NaN, NaN, \"Further practical measures for the prevention of an arms race in outer space \", \"Further practical measures for the prevention of an arms race in outer space \", \"co\", \"Colonialism\", 2019], [9092, \"South Africa\", \"ZA\", \"yes\", 74, NaN, \"2019-12-12\", \"A/RES/74/34\", NaN, NaN, \"Further practical measures for the prevention of an arms race in outer space \", \"Further practical measures for the prevention of an arms race in outer space \", \"ec\", \"Economic development\", 2019], [9092, \"South Sudan\", \"SS\", \"yes\", 74, NaN, \"2019-12-12\", \"A/RES/74/34\", NaN, NaN, \"Further practical measures for the prevention of an arms race in outer space \", \"Further practical measures for the prevention of an arms race in outer space \", \"di\", \"Arms control and disarmament\", 2019], [9092, \"South Sudan\", \"SS\", \"yes\", 74, NaN, \"2019-12-12\", \"A/RES/74/34\", NaN, NaN, \"Further practical measures for the prevention of an arms race in outer space \", \"Further practical measures for the prevention of an arms race in outer space \", \"co\", \"Colonialism\", 2019], [9092, \"South Sudan\", \"SS\", \"yes\", 74, NaN, \"2019-12-12\", \"A/RES/74/34\", NaN, NaN, \"Further practical measures for the prevention of an arms race in outer space \", \"Further practical measures for the prevention of an arms race in outer space \", \"ec\", \"Economic development\", 2019], [9092, \"Spain\", \"ES\", \"abstain\", 74, NaN, \"2019-12-12\", \"A/RES/74/34\", NaN, NaN, \"Further practical measures for the prevention of an arms race in outer space \", \"Further practical measures for the prevention of an arms race in outer space \", \"di\", \"Arms control and disarmament\", 2019], [9092, \"Spain\", \"ES\", \"abstain\", 74, NaN, \"2019-12-12\", \"A/RES/74/34\", NaN, NaN, \"Further practical measures for the prevention of an arms race in outer space \", \"Further practical measures for the prevention of an arms race in outer space \", \"co\", \"Colonialism\", 2019], [9092, \"Spain\", \"ES\", \"abstain\", 74, NaN, \"2019-12-12\", \"A/RES/74/34\", NaN, NaN, \"Further practical measures for the prevention of an arms race in outer space \", \"Further practical measures for the prevention of an arms race in outer space \", \"ec\", \"Economic development\", 2019], [9092, \"Sri Lanka\", \"LK\", \"yes\", 74, NaN, \"2019-12-12\", \"A/RES/74/34\", NaN, NaN, \"Further practical measures for the prevention of an arms race in outer space \", \"Further practical measures for the prevention of an arms race in outer space \", \"di\", \"Arms control and disarmament\", 2019], [9092, \"Sri Lanka\", \"LK\", \"yes\", 74, NaN, \"2019-12-12\", \"A/RES/74/34\", NaN, NaN, \"Further practical measures for the prevention of an arms race in outer space \", \"Further practical measures for the prevention of an arms race in outer space \", \"co\", \"Colonialism\", 2019], [9092, \"Sri Lanka\", \"LK\", \"yes\", 74, NaN, \"2019-12-12\", \"A/RES/74/34\", NaN, NaN, \"Further practical measures for the prevention of an arms race in outer space \", \"Further practical measures for the prevention of an arms race in outer space \", \"ec\", \"Economic development\", 2019], [9092, \"Sudan\", \"SD\", \"yes\", 74, NaN, \"2019-12-12\", \"A/RES/74/34\", NaN, NaN, \"Further practical measures for the prevention of an arms race in outer space \", \"Further practical measures for the prevention of an arms race in outer space \", \"di\", \"Arms control and disarmament\", 2019], [9092, \"Sudan\", \"SD\", \"yes\", 74, NaN, \"2019-12-12\", \"A/RES/74/34\", NaN, NaN, \"Further practical measures for the prevention of an arms race in outer space \", \"Further practical measures for the prevention of an arms race in outer space \", \"co\", \"Colonialism\", 2019], [9092, \"Sudan\", \"SD\", \"yes\", 74, NaN, \"2019-12-12\", \"A/RES/74/34\", NaN, NaN, \"Further practical measures for the prevention of an arms race in outer space \", \"Further practical measures for the prevention of an arms race in outer space \", \"ec\", \"Economic development\", 2019], [9092, \"Suriname\", \"SR\", \"yes\", 74, NaN, \"2019-12-12\", \"A/RES/74/34\", NaN, NaN, \"Further practical measures for the prevention of an arms race in outer space \", \"Further practical measures for the prevention of an arms race in outer space \", \"di\", \"Arms control and disarmament\", 2019], [9092, \"Suriname\", \"SR\", \"yes\", 74, NaN, \"2019-12-12\", \"A/RES/74/34\", NaN, NaN, \"Further practical measures for the prevention of an arms race in outer space \", \"Further practical measures for the prevention of an arms race in outer space \", \"co\", \"Colonialism\", 2019], [9092, \"Suriname\", \"SR\", \"yes\", 74, NaN, \"2019-12-12\", \"A/RES/74/34\", NaN, NaN, \"Further practical measures for the prevention of an arms race in outer space \", \"Further practical measures for the prevention of an arms race in outer space \", \"ec\", \"Economic development\", 2019], [9092, \"Sweden\", \"SE\", \"abstain\", 74, NaN, \"2019-12-12\", \"A/RES/74/34\", NaN, NaN, \"Further practical measures for the prevention of an arms race in outer space \", \"Further practical measures for the prevention of an arms race in outer space \", \"di\", \"Arms control and disarmament\", 2019], [9092, \"Sweden\", \"SE\", \"abstain\", 74, NaN, \"2019-12-12\", \"A/RES/74/34\", NaN, NaN, \"Further practical measures for the prevention of an arms race in outer space \", \"Further practical measures for the prevention of an arms race in outer space \", \"co\", \"Colonialism\", 2019], [9092, \"Sweden\", \"SE\", \"abstain\", 74, NaN, \"2019-12-12\", \"A/RES/74/34\", NaN, NaN, \"Further practical measures for the prevention of an arms race in outer space \", \"Further practical measures for the prevention of an arms race in outer space \", \"ec\", \"Economic development\", 2019], [9092, \"Switzerland\", \"CH\", \"abstain\", 74, NaN, \"2019-12-12\", \"A/RES/74/34\", NaN, NaN, \"Further practical measures for the prevention of an arms race in outer space \", \"Further practical measures for the prevention of an arms race in outer space \", \"di\", \"Arms control and disarmament\", 2019], [9092, \"Switzerland\", \"CH\", \"abstain\", 74, NaN, \"2019-12-12\", \"A/RES/74/34\", NaN, NaN, \"Further practical measures for the prevention of an arms race in outer space \", \"Further practical measures for the prevention of an arms race in outer space \", \"co\", \"Colonialism\", 2019], [9092, \"Switzerland\", \"CH\", \"abstain\", 74, NaN, \"2019-12-12\", \"A/RES/74/34\", NaN, NaN, \"Further practical measures for the prevention of an arms race in outer space \", \"Further practical measures for the prevention of an arms race in outer space \", \"ec\", \"Economic development\", 2019], [9092, \"Syria\", \"SY\", \"yes\", 74, NaN, \"2019-12-12\", \"A/RES/74/34\", NaN, NaN, \"Further practical measures for the prevention of an arms race in outer space \", \"Further practical measures for the prevention of an arms race in outer space \", \"di\", \"Arms control and disarmament\", 2019], [9092, \"Syria\", \"SY\", \"yes\", 74, NaN, \"2019-12-12\", \"A/RES/74/34\", NaN, NaN, \"Further practical measures for the prevention of an arms race in outer space \", \"Further practical measures for the prevention of an arms race in outer space \", \"co\", \"Colonialism\", 2019], [9092, \"Syria\", \"SY\", \"yes\", 74, NaN, \"2019-12-12\", \"A/RES/74/34\", NaN, NaN, \"Further practical measures for the prevention of an arms race in outer space \", \"Further practical measures for the prevention of an arms race in outer space \", \"ec\", \"Economic development\", 2019], [9092, \"Tajikistan\", \"TJ\", \"yes\", 74, NaN, \"2019-12-12\", \"A/RES/74/34\", NaN, NaN, \"Further practical measures for the prevention of an arms race in outer space \", \"Further practical measures for the prevention of an arms race in outer space \", \"di\", \"Arms control and disarmament\", 2019], [9092, \"Tajikistan\", \"TJ\", \"yes\", 74, NaN, \"2019-12-12\", \"A/RES/74/34\", NaN, NaN, \"Further practical measures for the prevention of an arms race in outer space \", \"Further practical measures for the prevention of an arms race in outer space \", \"co\", \"Colonialism\", 2019], [9092, \"Tajikistan\", \"TJ\", \"yes\", 74, NaN, \"2019-12-12\", \"A/RES/74/34\", NaN, NaN, \"Further practical measures for the prevention of an arms race in outer space \", \"Further practical measures for the prevention of an arms race in outer space \", \"ec\", \"Economic development\", 2019], [9092, \"Thailand\", \"TH\", \"yes\", 74, NaN, \"2019-12-12\", \"A/RES/74/34\", NaN, NaN, \"Further practical measures for the prevention of an arms race in outer space \", \"Further practical measures for the prevention of an arms race in outer space \", \"di\", \"Arms control and disarmament\", 2019], [9092, \"Thailand\", \"TH\", \"yes\", 74, NaN, \"2019-12-12\", \"A/RES/74/34\", NaN, NaN, \"Further practical measures for the prevention of an arms race in outer space \", \"Further practical measures for the prevention of an arms race in outer space \", \"co\", \"Colonialism\", 2019], [9092, \"Thailand\", \"TH\", \"yes\", 74, NaN, \"2019-12-12\", \"A/RES/74/34\", NaN, NaN, \"Further practical measures for the prevention of an arms race in outer space \", \"Further practical measures for the prevention of an arms race in outer space \", \"ec\", \"Economic development\", 2019], [9092, \"Timor-Leste\", \"TL\", \"yes\", 74, NaN, \"2019-12-12\", \"A/RES/74/34\", NaN, NaN, \"Further practical measures for the prevention of an arms race in outer space \", \"Further practical measures for the prevention of an arms race in outer space \", \"di\", \"Arms control and disarmament\", 2019], [9092, \"Timor-Leste\", \"TL\", \"yes\", 74, NaN, \"2019-12-12\", \"A/RES/74/34\", NaN, NaN, \"Further practical measures for the prevention of an arms race in outer space \", \"Further practical measures for the prevention of an arms race in outer space \", \"co\", \"Colonialism\", 2019], [9092, \"Timor-Leste\", \"TL\", \"yes\", 74, NaN, \"2019-12-12\", \"A/RES/74/34\", NaN, NaN, \"Further practical measures for the prevention of an arms race in outer space \", \"Further practical measures for the prevention of an arms race in outer space \", \"ec\", \"Economic development\", 2019], [9092, \"Togo\", \"TG\", \"yes\", 74, NaN, \"2019-12-12\", \"A/RES/74/34\", NaN, NaN, \"Further practical measures for the prevention of an arms race in outer space \", \"Further practical measures for the prevention of an arms race in outer space \", \"di\", \"Arms control and disarmament\", 2019], [9092, \"Togo\", \"TG\", \"yes\", 74, NaN, \"2019-12-12\", \"A/RES/74/34\", NaN, NaN, \"Further practical measures for the prevention of an arms race in outer space \", \"Further practical measures for the prevention of an arms race in outer space \", \"co\", \"Colonialism\", 2019], [9092, \"Togo\", \"TG\", \"yes\", 74, NaN, \"2019-12-12\", \"A/RES/74/34\", NaN, NaN, \"Further practical measures for the prevention of an arms race in outer space \", \"Further practical measures for the prevention of an arms race in outer space \", \"ec\", \"Economic development\", 2019], [9092, \"Trinidad & Tobago\", \"TT\", \"yes\", 74, NaN, \"2019-12-12\", \"A/RES/74/34\", NaN, NaN, \"Further practical measures for the prevention of an arms race in outer space \", \"Further practical measures for the prevention of an arms race in outer space \", \"di\", \"Arms control and disarmament\", 2019], [9092, \"Trinidad & Tobago\", \"TT\", \"yes\", 74, NaN, \"2019-12-12\", \"A/RES/74/34\", NaN, NaN, \"Further practical measures for the prevention of an arms race in outer space \", \"Further practical measures for the prevention of an arms race in outer space \", \"co\", \"Colonialism\", 2019], [9092, \"Trinidad & Tobago\", \"TT\", \"yes\", 74, NaN, \"2019-12-12\", \"A/RES/74/34\", NaN, NaN, \"Further practical measures for the prevention of an arms race in outer space \", \"Further practical measures for the prevention of an arms race in outer space \", \"ec\", \"Economic development\", 2019], [9092, \"Tunisia\", \"TN\", \"yes\", 74, NaN, \"2019-12-12\", \"A/RES/74/34\", NaN, NaN, \"Further practical measures for the prevention of an arms race in outer space \", \"Further practical measures for the prevention of an arms race in outer space \", \"di\", \"Arms control and disarmament\", 2019], [9092, \"Tunisia\", \"TN\", \"yes\", 74, NaN, \"2019-12-12\", \"A/RES/74/34\", NaN, NaN, \"Further practical measures for the prevention of an arms race in outer space \", \"Further practical measures for the prevention of an arms race in outer space \", \"co\", \"Colonialism\", 2019], [9092, \"Tunisia\", \"TN\", \"yes\", 74, NaN, \"2019-12-12\", \"A/RES/74/34\", NaN, NaN, \"Further practical measures for the prevention of an arms race in outer space \", \"Further practical measures for the prevention of an arms race in outer space \", \"ec\", \"Economic development\", 2019], [9092, \"Turkey\", \"TR\", \"abstain\", 74, NaN, \"2019-12-12\", \"A/RES/74/34\", NaN, NaN, \"Further practical measures for the prevention of an arms race in outer space \", \"Further practical measures for the prevention of an arms race in outer space \", \"di\", \"Arms control and disarmament\", 2019], [9092, \"Turkey\", \"TR\", \"abstain\", 74, NaN, \"2019-12-12\", \"A/RES/74/34\", NaN, NaN, \"Further practical measures for the prevention of an arms race in outer space \", \"Further practical measures for the prevention of an arms race in outer space \", \"co\", \"Colonialism\", 2019], [9092, \"Turkey\", \"TR\", \"abstain\", 74, NaN, \"2019-12-12\", \"A/RES/74/34\", NaN, NaN, \"Further practical measures for the prevention of an arms race in outer space \", \"Further practical measures for the prevention of an arms race in outer space \", \"ec\", \"Economic development\", 2019], [9092, \"Turkmenistan\", \"TM\", \"yes\", 74, NaN, \"2019-12-12\", \"A/RES/74/34\", NaN, NaN, \"Further practical measures for the prevention of an arms race in outer space \", \"Further practical measures for the prevention of an arms race in outer space \", \"di\", \"Arms control and disarmament\", 2019], [9092, \"Turkmenistan\", \"TM\", \"yes\", 74, NaN, \"2019-12-12\", \"A/RES/74/34\", NaN, NaN, \"Further practical measures for the prevention of an arms race in outer space \", \"Further practical measures for the prevention of an arms race in outer space \", \"co\", \"Colonialism\", 2019], [9092, \"Turkmenistan\", \"TM\", \"yes\", 74, NaN, \"2019-12-12\", \"A/RES/74/34\", NaN, NaN, \"Further practical measures for the prevention of an arms race in outer space \", \"Further practical measures for the prevention of an arms race in outer space \", \"ec\", \"Economic development\", 2019], [9092, \"Tuvalu\", \"TV\", \"yes\", 74, NaN, \"2019-12-12\", \"A/RES/74/34\", NaN, NaN, \"Further practical measures for the prevention of an arms race in outer space \", \"Further practical measures for the prevention of an arms race in outer space \", \"di\", \"Arms control and disarmament\", 2019], [9092, \"Tuvalu\", \"TV\", \"yes\", 74, NaN, \"2019-12-12\", \"A/RES/74/34\", NaN, NaN, \"Further practical measures for the prevention of an arms race in outer space \", \"Further practical measures for the prevention of an arms race in outer space \", \"co\", \"Colonialism\", 2019], [9092, \"Tuvalu\", \"TV\", \"yes\", 74, NaN, \"2019-12-12\", \"A/RES/74/34\", NaN, NaN, \"Further practical measures for the prevention of an arms race in outer space \", \"Further practical measures for the prevention of an arms race in outer space \", \"ec\", \"Economic development\", 2019], [9092, \"Uganda\", \"UG\", \"yes\", 74, NaN, \"2019-12-12\", \"A/RES/74/34\", NaN, NaN, \"Further practical measures for the prevention of an arms race in outer space \", \"Further practical measures for the prevention of an arms race in outer space \", \"di\", \"Arms control and disarmament\", 2019], [9092, \"Uganda\", \"UG\", \"yes\", 74, NaN, \"2019-12-12\", \"A/RES/74/34\", NaN, NaN, \"Further practical measures for the prevention of an arms race in outer space \", \"Further practical measures for the prevention of an arms race in outer space \", \"co\", \"Colonialism\", 2019], [9092, \"Uganda\", \"UG\", \"yes\", 74, NaN, \"2019-12-12\", \"A/RES/74/34\", NaN, NaN, \"Further practical measures for the prevention of an arms race in outer space \", \"Further practical measures for the prevention of an arms race in outer space \", \"ec\", \"Economic development\", 2019], [9092, \"Ukraine\", \"UA\", \"no\", 74, NaN, \"2019-12-12\", \"A/RES/74/34\", NaN, NaN, \"Further practical measures for the prevention of an arms race in outer space \", \"Further practical measures for the prevention of an arms race in outer space \", \"di\", \"Arms control and disarmament\", 2019], [9092, \"Ukraine\", \"UA\", \"no\", 74, NaN, \"2019-12-12\", \"A/RES/74/34\", NaN, NaN, \"Further practical measures for the prevention of an arms race in outer space \", \"Further practical measures for the prevention of an arms race in outer space \", \"co\", \"Colonialism\", 2019], [9092, \"Ukraine\", \"UA\", \"no\", 74, NaN, \"2019-12-12\", \"A/RES/74/34\", NaN, NaN, \"Further practical measures for the prevention of an arms race in outer space \", \"Further practical measures for the prevention of an arms race in outer space \", \"ec\", \"Economic development\", 2019], [9092, \"United Arab Emirates\", \"AE\", \"yes\", 74, NaN, \"2019-12-12\", \"A/RES/74/34\", NaN, NaN, \"Further practical measures for the prevention of an arms race in outer space \", \"Further practical measures for the prevention of an arms race in outer space \", \"di\", \"Arms control and disarmament\", 2019], [9092, \"United Arab Emirates\", \"AE\", \"yes\", 74, NaN, \"2019-12-12\", \"A/RES/74/34\", NaN, NaN, \"Further practical measures for the prevention of an arms race in outer space \", \"Further practical measures for the prevention of an arms race in outer space \", \"co\", \"Colonialism\", 2019], [9092, \"United Arab Emirates\", \"AE\", \"yes\", 74, NaN, \"2019-12-12\", \"A/RES/74/34\", NaN, NaN, \"Further practical measures for the prevention of an arms race in outer space \", \"Further practical measures for the prevention of an arms race in outer space \", \"ec\", \"Economic development\", 2019], [9092, \"United Kingdom\", \"GB\", \"no\", 74, NaN, \"2019-12-12\", \"A/RES/74/34\", NaN, NaN, \"Further practical measures for the prevention of an arms race in outer space \", \"Further practical measures for the prevention of an arms race in outer space \", \"di\", \"Arms control and disarmament\", 2019], [9092, \"United Kingdom\", \"GB\", \"no\", 74, NaN, \"2019-12-12\", \"A/RES/74/34\", NaN, NaN, \"Further practical measures for the prevention of an arms race in outer space \", \"Further practical measures for the prevention of an arms race in outer space \", \"co\", \"Colonialism\", 2019], [9092, \"United Kingdom\", \"GB\", \"no\", 74, NaN, \"2019-12-12\", \"A/RES/74/34\", NaN, NaN, \"Further practical measures for the prevention of an arms race in outer space \", \"Further practical measures for the prevention of an arms race in outer space \", \"ec\", \"Economic development\", 2019], [9092, \"Tanzania\", \"TZ\", \"yes\", 74, NaN, \"2019-12-12\", \"A/RES/74/34\", NaN, NaN, \"Further practical measures for the prevention of an arms race in outer space \", \"Further practical measures for the prevention of an arms race in outer space \", \"di\", \"Arms control and disarmament\", 2019], [9092, \"Tanzania\", \"TZ\", \"yes\", 74, NaN, \"2019-12-12\", \"A/RES/74/34\", NaN, NaN, \"Further practical measures for the prevention of an arms race in outer space \", \"Further practical measures for the prevention of an arms race in outer space \", \"co\", \"Colonialism\", 2019], [9092, \"Tanzania\", \"TZ\", \"yes\", 74, NaN, \"2019-12-12\", \"A/RES/74/34\", NaN, NaN, \"Further practical measures for the prevention of an arms race in outer space \", \"Further practical measures for the prevention of an arms race in outer space \", \"ec\", \"Economic development\", 2019], [9092, \"United States\", \"US\", \"no\", 74, NaN, \"2019-12-12\", \"A/RES/74/34\", NaN, NaN, \"Further practical measures for the prevention of an arms race in outer space \", \"Further practical measures for the prevention of an arms race in outer space \", \"di\", \"Arms control and disarmament\", 2019], [9092, \"United States\", \"US\", \"no\", 74, NaN, \"2019-12-12\", \"A/RES/74/34\", NaN, NaN, \"Further practical measures for the prevention of an arms race in outer space \", \"Further practical measures for the prevention of an arms race in outer space \", \"co\", \"Colonialism\", 2019], [9092, \"United States\", \"US\", \"no\", 74, NaN, \"2019-12-12\", \"A/RES/74/34\", NaN, NaN, \"Further practical measures for the prevention of an arms race in outer space \", \"Further practical measures for the prevention of an arms race in outer space \", \"ec\", \"Economic development\", 2019], [9092, \"Uruguay\", \"UY\", \"yes\", 74, NaN, \"2019-12-12\", \"A/RES/74/34\", NaN, NaN, \"Further practical measures for the prevention of an arms race in outer space \", \"Further practical measures for the prevention of an arms race in outer space \", \"di\", \"Arms control and disarmament\", 2019], [9092, \"Uruguay\", \"UY\", \"yes\", 74, NaN, \"2019-12-12\", \"A/RES/74/34\", NaN, NaN, \"Further practical measures for the prevention of an arms race in outer space \", \"Further practical measures for the prevention of an arms race in outer space \", \"co\", \"Colonialism\", 2019], [9092, \"Uruguay\", \"UY\", \"yes\", 74, NaN, \"2019-12-12\", \"A/RES/74/34\", NaN, NaN, \"Further practical measures for the prevention of an arms race in outer space \", \"Further practical measures for the prevention of an arms race in outer space \", \"ec\", \"Economic development\", 2019], [9092, \"Uzbekistan\", \"UZ\", \"yes\", 74, NaN, \"2019-12-12\", \"A/RES/74/34\", NaN, NaN, \"Further practical measures for the prevention of an arms race in outer space \", \"Further practical measures for the prevention of an arms race in outer space \", \"di\", \"Arms control and disarmament\", 2019], [9092, \"Uzbekistan\", \"UZ\", \"yes\", 74, NaN, \"2019-12-12\", \"A/RES/74/34\", NaN, NaN, \"Further practical measures for the prevention of an arms race in outer space \", \"Further practical measures for the prevention of an arms race in outer space \", \"co\", \"Colonialism\", 2019], [9092, \"Uzbekistan\", \"UZ\", \"yes\", 74, NaN, \"2019-12-12\", \"A/RES/74/34\", NaN, NaN, \"Further practical measures for the prevention of an arms race in outer space \", \"Further practical measures for the prevention of an arms race in outer space \", \"ec\", \"Economic development\", 2019], [9092, \"Vanuatu\", \"VU\", \"yes\", 74, NaN, \"2019-12-12\", \"A/RES/74/34\", NaN, NaN, \"Further practical measures for the prevention of an arms race in outer space \", \"Further practical measures for the prevention of an arms race in outer space \", \"di\", \"Arms control and disarmament\", 2019], [9092, \"Vanuatu\", \"VU\", \"yes\", 74, NaN, \"2019-12-12\", \"A/RES/74/34\", NaN, NaN, \"Further practical measures for the prevention of an arms race in outer space \", \"Further practical measures for the prevention of an arms race in outer space \", \"co\", \"Colonialism\", 2019], [9092, \"Vanuatu\", \"VU\", \"yes\", 74, NaN, \"2019-12-12\", \"A/RES/74/34\", NaN, NaN, \"Further practical measures for the prevention of an arms race in outer space \", \"Further practical measures for the prevention of an arms race in outer space \", \"ec\", \"Economic development\", 2019], [9092, \"Venezuela\", \"VE\", \"yes\", 74, NaN, \"2019-12-12\", \"A/RES/74/34\", NaN, NaN, \"Further practical measures for the prevention of an arms race in outer space \", \"Further practical measures for the prevention of an arms race in outer space \", \"di\", \"Arms control and disarmament\", 2019], [9092, \"Venezuela\", \"VE\", \"yes\", 74, NaN, \"2019-12-12\", \"A/RES/74/34\", NaN, NaN, \"Further practical measures for the prevention of an arms race in outer space \", \"Further practical measures for the prevention of an arms race in outer space \", \"co\", \"Colonialism\", 2019], [9092, \"Venezuela\", \"VE\", \"yes\", 74, NaN, \"2019-12-12\", \"A/RES/74/34\", NaN, NaN, \"Further practical measures for the prevention of an arms race in outer space \", \"Further practical measures for the prevention of an arms race in outer space \", \"ec\", \"Economic development\", 2019], [9092, \"Vietnam\", \"VN\", \"yes\", 74, NaN, \"2019-12-12\", \"A/RES/74/34\", NaN, NaN, \"Further practical measures for the prevention of an arms race in outer space \", \"Further practical measures for the prevention of an arms race in outer space \", \"di\", \"Arms control and disarmament\", 2019], [9092, \"Vietnam\", \"VN\", \"yes\", 74, NaN, \"2019-12-12\", \"A/RES/74/34\", NaN, NaN, \"Further practical measures for the prevention of an arms race in outer space \", \"Further practical measures for the prevention of an arms race in outer space \", \"co\", \"Colonialism\", 2019], [9092, \"Vietnam\", \"VN\", \"yes\", 74, NaN, \"2019-12-12\", \"A/RES/74/34\", NaN, NaN, \"Further practical measures for the prevention of an arms race in outer space \", \"Further practical measures for the prevention of an arms race in outer space \", \"ec\", \"Economic development\", 2019], [9092, \"Yemen\", \"YE\", \"yes\", 74, NaN, \"2019-12-12\", \"A/RES/74/34\", NaN, NaN, \"Further practical measures for the prevention of an arms race in outer space \", \"Further practical measures for the prevention of an arms race in outer space \", \"di\", \"Arms control and disarmament\", 2019], [9092, \"Yemen\", \"YE\", \"yes\", 74, NaN, \"2019-12-12\", \"A/RES/74/34\", NaN, NaN, \"Further practical measures for the prevention of an arms race in outer space \", \"Further practical measures for the prevention of an arms race in outer space \", \"co\", \"Colonialism\", 2019], [9092, \"Yemen\", \"YE\", \"yes\", 74, NaN, \"2019-12-12\", \"A/RES/74/34\", NaN, NaN, \"Further practical measures for the prevention of an arms race in outer space \", \"Further practical measures for the prevention of an arms race in outer space \", \"ec\", \"Economic development\", 2019], [9092, \"Zambia\", \"ZM\", \"yes\", 74, NaN, \"2019-12-12\", \"A/RES/74/34\", NaN, NaN, \"Further practical measures for the prevention of an arms race in outer space \", \"Further practical measures for the prevention of an arms race in outer space \", \"di\", \"Arms control and disarmament\", 2019], [9092, \"Zambia\", \"ZM\", \"yes\", 74, NaN, \"2019-12-12\", \"A/RES/74/34\", NaN, NaN, \"Further practical measures for the prevention of an arms race in outer space \", \"Further practical measures for the prevention of an arms race in outer space \", \"co\", \"Colonialism\", 2019], [9092, \"Zambia\", \"ZM\", \"yes\", 74, NaN, \"2019-12-12\", \"A/RES/74/34\", NaN, NaN, \"Further practical measures for the prevention of an arms race in outer space \", \"Further practical measures for the prevention of an arms race in outer space \", \"ec\", \"Economic development\", 2019], [9092, \"Zimbabwe\", \"ZW\", \"yes\", 74, NaN, \"2019-12-12\", \"A/RES/74/34\", NaN, NaN, \"Further practical measures for the prevention of an arms race in outer space \", \"Further practical measures for the prevention of an arms race in outer space \", \"di\", \"Arms control and disarmament\", 2019], [9092, \"Zimbabwe\", \"ZW\", \"yes\", 74, NaN, \"2019-12-12\", \"A/RES/74/34\", NaN, NaN, \"Further practical measures for the prevention of an arms race in outer space \", \"Further practical measures for the prevention of an arms race in outer space \", \"co\", \"Colonialism\", 2019], [9092, \"Zimbabwe\", \"ZW\", \"yes\", 74, NaN, \"2019-12-12\", \"A/RES/74/34\", NaN, NaN, \"Further practical measures for the prevention of an arms race in outer space \", \"Further practical measures for the prevention of an arms race in outer space \", \"ec\", \"Economic development\", 2019], [9101, \"Afghanistan\", \"AF\", \"yes\", 74, NaN, \"2019-12-03\", \"A/RES/74/12\", NaN, NaN, \"Division for Palestinian Rights of the Secretariat \", \"Division for Palestinian Rights of the Secretariat \", \"me\", \"Palestinian conflict\", 2019], [9101, \"Albania\", \"AL\", \"abstain\", 74, NaN, \"2019-12-03\", \"A/RES/74/12\", NaN, NaN, \"Division for Palestinian Rights of the Secretariat \", \"Division for Palestinian Rights of the Secretariat \", \"me\", \"Palestinian conflict\", 2019], [9101, \"Algeria\", \"DZ\", \"yes\", 74, NaN, \"2019-12-03\", \"A/RES/74/12\", NaN, NaN, \"Division for Palestinian Rights of the Secretariat \", \"Division for Palestinian Rights of the Secretariat \", \"me\", \"Palestinian conflict\", 2019], [9101, \"Andorra\", \"AD\", \"abstain\", 74, NaN, \"2019-12-03\", \"A/RES/74/12\", NaN, NaN, \"Division for Palestinian Rights of the Secretariat \", \"Division for Palestinian Rights of the Secretariat \", \"me\", \"Palestinian conflict\", 2019], [9101, \"Angola\", \"AO\", \"yes\", 74, NaN, \"2019-12-03\", \"A/RES/74/12\", NaN, NaN, \"Division for Palestinian Rights of the Secretariat \", \"Division for Palestinian Rights of the Secretariat \", \"me\", \"Palestinian conflict\", 2019], [9101, \"Antigua & Barbuda\", \"AG\", \"yes\", 74, NaN, \"2019-12-03\", \"A/RES/74/12\", NaN, NaN, \"Division for Palestinian Rights of the Secretariat \", \"Division for Palestinian Rights of the Secretariat \", \"me\", \"Palestinian conflict\", 2019], [9101, \"Argentina\", \"AR\", \"abstain\", 74, NaN, \"2019-12-03\", \"A/RES/74/12\", NaN, NaN, \"Division for Palestinian Rights of the Secretariat \", \"Division for Palestinian Rights of the Secretariat \", \"me\", \"Palestinian conflict\", 2019], [9101, \"Armenia\", \"AM\", \"abstain\", 74, NaN, \"2019-12-03\", \"A/RES/74/12\", NaN, NaN, \"Division for Palestinian Rights of the Secretariat \", \"Division for Palestinian Rights of the Secretariat \", \"me\", \"Palestinian conflict\", 2019], [9101, \"Australia\", \"AU\", \"no\", 74, NaN, \"2019-12-03\", \"A/RES/74/12\", NaN, NaN, \"Division for Palestinian Rights of the Secretariat \", \"Division for Palestinian Rights of the Secretariat \", \"me\", \"Palestinian conflict\", 2019], [9101, \"Austria\", \"AT\", \"no\", 74, NaN, \"2019-12-03\", \"A/RES/74/12\", NaN, NaN, \"Division for Palestinian Rights of the Secretariat \", \"Division for Palestinian Rights of the Secretariat \", \"me\", \"Palestinian conflict\", 2019], [9101, \"Azerbaijan\", \"AZ\", \"yes\", 74, NaN, \"2019-12-03\", \"A/RES/74/12\", NaN, NaN, \"Division for Palestinian Rights of the Secretariat \", \"Division for Palestinian Rights of the Secretariat \", \"me\", \"Palestinian conflict\", 2019], [9101, \"Bahrain\", \"BH\", \"yes\", 74, NaN, \"2019-12-03\", \"A/RES/74/12\", NaN, NaN, \"Division for Palestinian Rights of the Secretariat \", \"Division for Palestinian Rights of the Secretariat \", \"me\", \"Palestinian conflict\", 2019], [9101, \"Bangladesh\", \"BD\", \"yes\", 74, NaN, \"2019-12-03\", \"A/RES/74/12\", NaN, NaN, \"Division for Palestinian Rights of the Secretariat \", \"Division for Palestinian Rights of the Secretariat \", \"me\", \"Palestinian conflict\", 2019], [9101, \"Belarus\", \"BY\", \"abstain\", 74, NaN, \"2019-12-03\", \"A/RES/74/12\", NaN, NaN, \"Division for Palestinian Rights of the Secretariat \", \"Division for Palestinian Rights of the Secretariat \", \"me\", \"Palestinian conflict\", 2019], [9101, \"Belgium\", \"BE\", \"abstain\", 74, NaN, \"2019-12-03\", \"A/RES/74/12\", NaN, NaN, \"Division for Palestinian Rights of the Secretariat \", \"Division for Palestinian Rights of the Secretariat \", \"me\", \"Palestinian conflict\", 2019], [9101, \"Belize\", \"BZ\", \"yes\", 74, NaN, \"2019-12-03\", \"A/RES/74/12\", NaN, NaN, \"Division for Palestinian Rights of the Secretariat \", \"Division for Palestinian Rights of the Secretariat \", \"me\", \"Palestinian conflict\", 2019], [9101, \"Bhutan\", \"BT\", \"yes\", 74, NaN, \"2019-12-03\", \"A/RES/74/12\", NaN, NaN, \"Division for Palestinian Rights of the Secretariat \", \"Division for Palestinian Rights of the Secretariat \", \"me\", \"Palestinian conflict\", 2019], [9101, \"Bolivia\", \"BO\", \"yes\", 74, NaN, \"2019-12-03\", \"A/RES/74/12\", NaN, NaN, \"Division for Palestinian Rights of the Secretariat \", \"Division for Palestinian Rights of the Secretariat \", \"me\", \"Palestinian conflict\", 2019], [9101, \"Bosnia & Herzegovina\", \"BA\", \"abstain\", 74, NaN, \"2019-12-03\", \"A/RES/74/12\", NaN, NaN, \"Division for Palestinian Rights of the Secretariat \", \"Division for Palestinian Rights of the Secretariat \", \"me\", \"Palestinian conflict\", 2019], [9101, \"Botswana\", \"BW\", \"yes\", 74, NaN, \"2019-12-03\", \"A/RES/74/12\", NaN, NaN, \"Division for Palestinian Rights of the Secretariat \", \"Division for Palestinian Rights of the Secretariat \", \"me\", \"Palestinian conflict\", 2019], [9101, \"Brazil\", \"BR\", \"no\", 74, NaN, \"2019-12-03\", \"A/RES/74/12\", NaN, NaN, \"Division for Palestinian Rights of the Secretariat \", \"Division for Palestinian Rights of the Secretariat \", \"me\", \"Palestinian conflict\", 2019], [9101, \"Brunei\", \"BN\", \"yes\", 74, NaN, \"2019-12-03\", \"A/RES/74/12\", NaN, NaN, \"Division for Palestinian Rights of the Secretariat \", \"Division for Palestinian Rights of the Secretariat \", \"me\", \"Palestinian conflict\", 2019], [9101, \"Bulgaria\", \"BG\", \"no\", 74, NaN, \"2019-12-03\", \"A/RES/74/12\", NaN, NaN, \"Division for Palestinian Rights of the Secretariat \", \"Division for Palestinian Rights of the Secretariat \", \"me\", \"Palestinian conflict\", 2019], [9101, \"Burundi\", \"BI\", \"yes\", 74, NaN, \"2019-12-03\", \"A/RES/74/12\", NaN, NaN, \"Division for Palestinian Rights of the Secretariat \", \"Division for Palestinian Rights of the Secretariat \", \"me\", \"Palestinian conflict\", 2019], [9101, \"Cape Verde\", \"CV\", \"abstain\", 74, NaN, \"2019-12-03\", \"A/RES/74/12\", NaN, NaN, \"Division for Palestinian Rights of the Secretariat \", \"Division for Palestinian Rights of the Secretariat \", \"me\", \"Palestinian conflict\", 2019], [9101, \"Cambodia\", \"KH\", \"yes\", 74, NaN, \"2019-12-03\", \"A/RES/74/12\", NaN, NaN, \"Division for Palestinian Rights of the Secretariat \", \"Division for Palestinian Rights of the Secretariat \", \"me\", \"Palestinian conflict\", 2019], [9101, \"Cameroon\", \"CM\", \"abstain\", 74, NaN, \"2019-12-03\", \"A/RES/74/12\", NaN, NaN, \"Division for Palestinian Rights of the Secretariat \", \"Division for Palestinian Rights of the Secretariat \", \"me\", \"Palestinian conflict\", 2019], [9101, \"Canada\", \"CA\", \"no\", 74, NaN, \"2019-12-03\", \"A/RES/74/12\", NaN, NaN, \"Division for Palestinian Rights of the Secretariat \", \"Division for Palestinian Rights of the Secretariat \", \"me\", \"Palestinian conflict\", 2019], [9101, \"Chile\", \"CL\", \"yes\", 74, NaN, \"2019-12-03\", \"A/RES/74/12\", NaN, NaN, \"Division for Palestinian Rights of the Secretariat \", \"Division for Palestinian Rights of the Secretariat \", \"me\", \"Palestinian conflict\", 2019], [9101, \"China\", \"CN\", \"yes\", 74, NaN, \"2019-12-03\", \"A/RES/74/12\", NaN, NaN, \"Division for Palestinian Rights of the Secretariat \", \"Division for Palestinian Rights of the Secretariat \", \"me\", \"Palestinian conflict\", 2019], [9101, \"Colombia\", \"CO\", \"no\", 74, NaN, \"2019-12-03\", \"A/RES/74/12\", NaN, NaN, \"Division for Palestinian Rights of the Secretariat \", \"Division for Palestinian Rights of the Secretariat \", \"me\", \"Palestinian conflict\", 2019], [9101, \"Costa Rica\", \"CR\", \"yes\", 74, NaN, \"2019-12-03\", \"A/RES/74/12\", NaN, NaN, \"Division for Palestinian Rights of the Secretariat \", \"Division for Palestinian Rights of the Secretariat \", \"me\", \"Palestinian conflict\", 2019], [9101, \"C\\u00f4te d\\u2019Ivoire\", \"CI\", \"abstain\", 74, NaN, \"2019-12-03\", \"A/RES/74/12\", NaN, NaN, \"Division for Palestinian Rights of the Secretariat \", \"Division for Palestinian Rights of the Secretariat \", \"me\", \"Palestinian conflict\", 2019], [9101, \"Croatia\", \"HR\", \"abstain\", 74, NaN, \"2019-12-03\", \"A/RES/74/12\", NaN, NaN, \"Division for Palestinian Rights of the Secretariat \", \"Division for Palestinian Rights of the Secretariat \", \"me\", \"Palestinian conflict\", 2019], [9101, \"Cuba\", \"CU\", \"yes\", 74, NaN, \"2019-12-03\", \"A/RES/74/12\", NaN, NaN, \"Division for Palestinian Rights of the Secretariat \", \"Division for Palestinian Rights of the Secretariat \", \"me\", \"Palestinian conflict\", 2019], [9101, \"Cyprus\", \"CY\", \"yes\", 74, NaN, \"2019-12-03\", \"A/RES/74/12\", NaN, NaN, \"Division for Palestinian Rights of the Secretariat \", \"Division for Palestinian Rights of the Secretariat \", \"me\", \"Palestinian conflict\", 2019], [9101, \"Czechia\", \"CZ\", \"no\", 74, NaN, \"2019-12-03\", \"A/RES/74/12\", NaN, NaN, \"Division for Palestinian Rights of the Secretariat \", \"Division for Palestinian Rights of the Secretariat \", \"me\", \"Palestinian conflict\", 2019], [9101, \"North Korea\", \"KP\", \"yes\", 74, NaN, \"2019-12-03\", \"A/RES/74/12\", NaN, NaN, \"Division for Palestinian Rights of the Secretariat \", \"Division for Palestinian Rights of the Secretariat \", \"me\", \"Palestinian conflict\", 2019], [9101, \"Denmark\", \"DK\", \"no\", 74, NaN, \"2019-12-03\", \"A/RES/74/12\", NaN, NaN, \"Division for Palestinian Rights of the Secretariat \", \"Division for Palestinian Rights of the Secretariat \", \"me\", \"Palestinian conflict\", 2019], [9101, \"Djibouti\", \"DJ\", \"yes\", 74, NaN, \"2019-12-03\", \"A/RES/74/12\", NaN, NaN, \"Division for Palestinian Rights of the Secretariat \", \"Division for Palestinian Rights of the Secretariat \", \"me\", \"Palestinian conflict\", 2019], [9101, \"Dominican Republic\", \"DO\", \"yes\", 74, NaN, \"2019-12-03\", \"A/RES/74/12\", NaN, NaN, \"Division for Palestinian Rights of the Secretariat \", \"Division for Palestinian Rights of the Secretariat \", \"me\", \"Palestinian conflict\", 2019], [9101, \"Ecuador\", \"EC\", \"yes\", 74, NaN, \"2019-12-03\", \"A/RES/74/12\", NaN, NaN, \"Division for Palestinian Rights of the Secretariat \", \"Division for Palestinian Rights of the Secretariat \", \"me\", \"Palestinian conflict\", 2019], [9101, \"Egypt\", \"EG\", \"yes\", 74, NaN, \"2019-12-03\", \"A/RES/74/12\", NaN, NaN, \"Division for Palestinian Rights of the Secretariat \", \"Division for Palestinian Rights of the Secretariat \", \"me\", \"Palestinian conflict\", 2019], [9101, \"El Salvador\", \"SV\", \"yes\", 74, NaN, \"2019-12-03\", \"A/RES/74/12\", NaN, NaN, \"Division for Palestinian Rights of the Secretariat \", \"Division for Palestinian Rights of the Secretariat \", \"me\", \"Palestinian conflict\", 2019], [9101, \"Eritrea\", \"ER\", \"yes\", 74, NaN, \"2019-12-03\", \"A/RES/74/12\", NaN, NaN, \"Division for Palestinian Rights of the Secretariat \", \"Division for Palestinian Rights of the Secretariat \", \"me\", \"Palestinian conflict\", 2019], [9101, \"Estonia\", \"EE\", \"no\", 74, NaN, \"2019-12-03\", \"A/RES/74/12\", NaN, NaN, \"Division for Palestinian Rights of the Secretariat \", \"Division for Palestinian Rights of the Secretariat \", \"me\", \"Palestinian conflict\", 2019], [9101, \"Ethiopia\", \"ET\", \"yes\", 74, NaN, \"2019-12-03\", \"A/RES/74/12\", NaN, NaN, \"Division for Palestinian Rights of the Secretariat \", \"Division for Palestinian Rights of the Secretariat \", \"me\", \"Palestinian conflict\", 2019], [9101, \"Fiji\", \"FJ\", \"abstain\", 74, NaN, \"2019-12-03\", \"A/RES/74/12\", NaN, NaN, \"Division for Palestinian Rights of the Secretariat \", \"Division for Palestinian Rights of the Secretariat \", \"me\", \"Palestinian conflict\", 2019], [9101, \"Finland\", \"FI\", \"abstain\", 74, NaN, \"2019-12-03\", \"A/RES/74/12\", NaN, NaN, \"Division for Palestinian Rights of the Secretariat \", \"Division for Palestinian Rights of the Secretariat \", \"me\", \"Palestinian conflict\", 2019], [9101, \"France\", \"FR\", \"abstain\", 74, NaN, \"2019-12-03\", \"A/RES/74/12\", NaN, NaN, \"Division for Palestinian Rights of the Secretariat \", \"Division for Palestinian Rights of the Secretariat \", \"me\", \"Palestinian conflict\", 2019], [9101, \"Gabon\", \"GA\", \"yes\", 74, NaN, \"2019-12-03\", \"A/RES/74/12\", NaN, NaN, \"Division for Palestinian Rights of the Secretariat \", \"Division for Palestinian Rights of the Secretariat \", \"me\", \"Palestinian conflict\", 2019], [9101, \"Gambia\", \"GM\", \"yes\", 74, NaN, \"2019-12-03\", \"A/RES/74/12\", NaN, NaN, \"Division for Palestinian Rights of the Secretariat \", \"Division for Palestinian Rights of the Secretariat \", \"me\", \"Palestinian conflict\", 2019], [9101, \"Georgia\", \"GE\", \"abstain\", 74, NaN, \"2019-12-03\", \"A/RES/74/12\", NaN, NaN, \"Division for Palestinian Rights of the Secretariat \", \"Division for Palestinian Rights of the Secretariat \", \"me\", \"Palestinian conflict\", 2019], [9101, \"Germany\", \"DE\", \"no\", 74, NaN, \"2019-12-03\", \"A/RES/74/12\", NaN, NaN, \"Division for Palestinian Rights of the Secretariat \", \"Division for Palestinian Rights of the Secretariat \", \"me\", \"Palestinian conflict\", 2019], [9101, \"Ghana\", \"GH\", \"abstain\", 74, NaN, \"2019-12-03\", \"A/RES/74/12\", NaN, NaN, \"Division for Palestinian Rights of the Secretariat \", \"Division for Palestinian Rights of the Secretariat \", \"me\", \"Palestinian conflict\", 2019], [9101, \"Greece\", \"GR\", \"no\", 74, NaN, \"2019-12-03\", \"A/RES/74/12\", NaN, NaN, \"Division for Palestinian Rights of the Secretariat \", \"Division for Palestinian Rights of the Secretariat \", \"me\", \"Palestinian conflict\", 2019], [9101, \"Guatemala\", \"GT\", \"no\", 74, NaN, \"2019-12-03\", \"A/RES/74/12\", NaN, NaN, \"Division for Palestinian Rights of the Secretariat \", \"Division for Palestinian Rights of the Secretariat \", \"me\", \"Palestinian conflict\", 2019], [9101, \"Guinea\", \"GN\", \"yes\", 74, NaN, \"2019-12-03\", \"A/RES/74/12\", NaN, NaN, \"Division for Palestinian Rights of the Secretariat \", \"Division for Palestinian Rights of the Secretariat \", \"me\", \"Palestinian conflict\", 2019], [9101, \"Guyana\", \"GY\", \"yes\", 74, NaN, \"2019-12-03\", \"A/RES/74/12\", NaN, NaN, \"Division for Palestinian Rights of the Secretariat \", \"Division for Palestinian Rights of the Secretariat \", \"me\", \"Palestinian conflict\", 2019], [9101, \"Honduras\", \"HN\", \"no\", 74, NaN, \"2019-12-03\", \"A/RES/74/12\", NaN, NaN, \"Division for Palestinian Rights of the Secretariat \", \"Division for Palestinian Rights of the Secretariat \", \"me\", \"Palestinian conflict\", 2019], [9101, \"Hungary\", \"HU\", \"no\", 74, NaN, \"2019-12-03\", \"A/RES/74/12\", NaN, NaN, \"Division for Palestinian Rights of the Secretariat \", \"Division for Palestinian Rights of the Secretariat \", \"me\", \"Palestinian conflict\", 2019], [9101, \"Iceland\", \"IS\", \"abstain\", 74, NaN, \"2019-12-03\", \"A/RES/74/12\", NaN, NaN, \"Division for Palestinian Rights of the Secretariat \", \"Division for Palestinian Rights of the Secretariat \", \"me\", \"Palestinian conflict\", 2019], [9101, \"India\", \"IN\", \"yes\", 74, NaN, \"2019-12-03\", \"A/RES/74/12\", NaN, NaN, \"Division for Palestinian Rights of the Secretariat \", \"Division for Palestinian Rights of the Secretariat \", \"me\", \"Palestinian conflict\", 2019], [9101, \"Indonesia\", \"ID\", \"yes\", 74, NaN, \"2019-12-03\", \"A/RES/74/12\", NaN, NaN, \"Division for Palestinian Rights of the Secretariat \", \"Division for Palestinian Rights of the Secretariat \", \"me\", \"Palestinian conflict\", 2019], [9101, \"Iran\", \"IR\", \"yes\", 74, NaN, \"2019-12-03\", \"A/RES/74/12\", NaN, NaN, \"Division for Palestinian Rights of the Secretariat \", \"Division for Palestinian Rights of the Secretariat \", \"me\", \"Palestinian conflict\", 2019], [9101, \"Iraq\", \"IQ\", \"yes\", 74, NaN, \"2019-12-03\", \"A/RES/74/12\", NaN, NaN, \"Division for Palestinian Rights of the Secretariat \", \"Division for Palestinian Rights of the Secretariat \", \"me\", \"Palestinian conflict\", 2019], [9101, \"Ireland\", \"IE\", \"abstain\", 74, NaN, \"2019-12-03\", \"A/RES/74/12\", NaN, NaN, \"Division for Palestinian Rights of the Secretariat \", \"Division for Palestinian Rights of the Secretariat \", \"me\", \"Palestinian conflict\", 2019], [9101, \"Israel\", \"IL\", \"no\", 74, NaN, \"2019-12-03\", \"A/RES/74/12\", NaN, NaN, \"Division for Palestinian Rights of the Secretariat \", \"Division for Palestinian Rights of the Secretariat \", \"me\", \"Palestinian conflict\", 2019], [9101, \"Italy\", \"IT\", \"abstain\", 74, NaN, \"2019-12-03\", \"A/RES/74/12\", NaN, NaN, \"Division for Palestinian Rights of the Secretariat \", \"Division for Palestinian Rights of the Secretariat \", \"me\", \"Palestinian conflict\", 2019], [9101, \"Jamaica\", \"JM\", \"yes\", 74, NaN, \"2019-12-03\", \"A/RES/74/12\", NaN, NaN, \"Division for Palestinian Rights of the Secretariat \", \"Division for Palestinian Rights of the Secretariat \", \"me\", \"Palestinian conflict\", 2019], [9101, \"Japan\", \"JP\", \"abstain\", 74, NaN, \"2019-12-03\", \"A/RES/74/12\", NaN, NaN, \"Division for Palestinian Rights of the Secretariat \", \"Division for Palestinian Rights of the Secretariat \", \"me\", \"Palestinian conflict\", 2019], [9101, \"Jordan\", \"JO\", \"yes\", 74, NaN, \"2019-12-03\", \"A/RES/74/12\", NaN, NaN, \"Division for Palestinian Rights of the Secretariat \", \"Division for Palestinian Rights of the Secretariat \", \"me\", \"Palestinian conflict\", 2019], [9101, \"Kazakhstan\", \"KZ\", \"yes\", 74, NaN, \"2019-12-03\", \"A/RES/74/12\", NaN, NaN, \"Division for Palestinian Rights of the Secretariat \", \"Division for Palestinian Rights of the Secretariat \", \"me\", \"Palestinian conflict\", 2019], [9101, \"Kenya\", \"KE\", \"yes\", 74, NaN, \"2019-12-03\", \"A/RES/74/12\", NaN, NaN, \"Division for Palestinian Rights of the Secretariat \", \"Division for Palestinian Rights of the Secretariat \", \"me\", \"Palestinian conflict\", 2019], [9101, \"Kuwait\", \"KW\", \"yes\", 74, NaN, \"2019-12-03\", \"A/RES/74/12\", NaN, NaN, \"Division for Palestinian Rights of the Secretariat \", \"Division for Palestinian Rights of the Secretariat \", \"me\", \"Palestinian conflict\", 2019], [9101, \"Kyrgyzstan\", \"KG\", \"yes\", 74, NaN, \"2019-12-03\", \"A/RES/74/12\", NaN, NaN, \"Division for Palestinian Rights of the Secretariat \", \"Division for Palestinian Rights of the Secretariat \", \"me\", \"Palestinian conflict\", 2019], [9101, \"Laos\", \"LA\", \"yes\", 74, NaN, \"2019-12-03\", \"A/RES/74/12\", NaN, NaN, \"Division for Palestinian Rights of the Secretariat \", \"Division for Palestinian Rights of the Secretariat \", \"me\", \"Palestinian conflict\", 2019], [9101, \"Latvia\", \"LV\", \"abstain\", 74, NaN, \"2019-12-03\", \"A/RES/74/12\", NaN, NaN, \"Division for Palestinian Rights of the Secretariat \", \"Division for Palestinian Rights of the Secretariat \", \"me\", \"Palestinian conflict\", 2019], [9101, \"Lebanon\", \"LB\", \"yes\", 74, NaN, \"2019-12-03\", \"A/RES/74/12\", NaN, NaN, \"Division for Palestinian Rights of the Secretariat \", \"Division for Palestinian Rights of the Secretariat \", \"me\", \"Palestinian conflict\", 2019], [9101, \"Lesotho\", \"LS\", \"yes\", 74, NaN, \"2019-12-03\", \"A/RES/74/12\", NaN, NaN, \"Division for Palestinian Rights of the Secretariat \", \"Division for Palestinian Rights of the Secretariat \", \"me\", \"Palestinian conflict\", 2019], [9101, \"Libya\", \"LY\", \"yes\", 74, NaN, \"2019-12-03\", \"A/RES/74/12\", NaN, NaN, \"Division for Palestinian Rights of the Secretariat \", \"Division for Palestinian Rights of the Secretariat \", \"me\", \"Palestinian conflict\", 2019], [9101, \"Liechtenstein\", \"LI\", \"abstain\", 74, NaN, \"2019-12-03\", \"A/RES/74/12\", NaN, NaN, \"Division for Palestinian Rights of the Secretariat \", \"Division for Palestinian Rights of the Secretariat \", \"me\", \"Palestinian conflict\", 2019], [9101, \"Lithuania\", \"LT\", \"no\", 74, NaN, \"2019-12-03\", \"A/RES/74/12\", NaN, NaN, \"Division for Palestinian Rights of the Secretariat \", \"Division for Palestinian Rights of the Secretariat \", \"me\", \"Palestinian conflict\", 2019], [9101, \"Luxembourg\", \"LU\", \"abstain\", 74, NaN, \"2019-12-03\", \"A/RES/74/12\", NaN, NaN, \"Division for Palestinian Rights of the Secretariat \", \"Division for Palestinian Rights of the Secretariat \", \"me\", \"Palestinian conflict\", 2019], [9101, \"Malaysia\", \"MY\", \"yes\", 74, NaN, \"2019-12-03\", \"A/RES/74/12\", NaN, NaN, \"Division for Palestinian Rights of the Secretariat \", \"Division for Palestinian Rights of the Secretariat \", \"me\", \"Palestinian conflict\", 2019], [9101, \"Maldives\", \"MV\", \"yes\", 74, NaN, \"2019-12-03\", \"A/RES/74/12\", NaN, NaN, \"Division for Palestinian Rights of the Secretariat \", \"Division for Palestinian Rights of the Secretariat \", \"me\", \"Palestinian conflict\", 2019], [9101, \"Mali\", \"ML\", \"yes\", 74, NaN, \"2019-12-03\", \"A/RES/74/12\", NaN, NaN, \"Division for Palestinian Rights of the Secretariat \", \"Division for Palestinian Rights of the Secretariat \", \"me\", \"Palestinian conflict\", 2019], [9101, \"Malta\", \"MT\", \"yes\", 74, NaN, \"2019-12-03\", \"A/RES/74/12\", NaN, NaN, \"Division for Palestinian Rights of the Secretariat \", \"Division for Palestinian Rights of the Secretariat \", \"me\", \"Palestinian conflict\", 2019], [9101, \"Marshall Islands\", \"MH\", \"no\", 74, NaN, \"2019-12-03\", \"A/RES/74/12\", NaN, NaN, \"Division for Palestinian Rights of the Secretariat \", \"Division for Palestinian Rights of the Secretariat \", \"me\", \"Palestinian conflict\", 2019], [9101, \"Mauritania\", \"MR\", \"yes\", 74, NaN, \"2019-12-03\", \"A/RES/74/12\", NaN, NaN, \"Division for Palestinian Rights of the Secretariat \", \"Division for Palestinian Rights of the Secretariat \", \"me\", \"Palestinian conflict\", 2019], [9101, \"Mauritius\", \"MU\", \"yes\", 74, NaN, \"2019-12-03\", \"A/RES/74/12\", NaN, NaN, \"Division for Palestinian Rights of the Secretariat \", \"Division for Palestinian Rights of the Secretariat \", \"me\", \"Palestinian conflict\", 2019], [9101, \"Mexico\", \"MX\", \"abstain\", 74, NaN, \"2019-12-03\", \"A/RES/74/12\", NaN, NaN, \"Division for Palestinian Rights of the Secretariat \", \"Division for Palestinian Rights of the Secretariat \", \"me\", \"Palestinian conflict\", 2019], [9101, \"Micronesia (Federated States of)\", \"FM\", \"no\", 74, NaN, \"2019-12-03\", \"A/RES/74/12\", NaN, NaN, \"Division for Palestinian Rights of the Secretariat \", \"Division for Palestinian Rights of the Secretariat \", \"me\", \"Palestinian conflict\", 2019], [9101, \"Monaco\", \"MC\", \"abstain\", 74, NaN, \"2019-12-03\", \"A/RES/74/12\", NaN, NaN, \"Division for Palestinian Rights of the Secretariat \", \"Division for Palestinian Rights of the Secretariat \", \"me\", \"Palestinian conflict\", 2019], [9101, \"Montenegro\", \"ME\", \"abstain\", 74, NaN, \"2019-12-03\", \"A/RES/74/12\", NaN, NaN, \"Division for Palestinian Rights of the Secretariat \", \"Division for Palestinian Rights of the Secretariat \", \"me\", \"Palestinian conflict\", 2019], [9101, \"Morocco\", \"MA\", \"yes\", 74, NaN, \"2019-12-03\", \"A/RES/74/12\", NaN, NaN, \"Division for Palestinian Rights of the Secretariat \", \"Division for Palestinian Rights of the Secretariat \", \"me\", \"Palestinian conflict\", 2019], [9101, \"Mozambique\", \"MZ\", \"yes\", 74, NaN, \"2019-12-03\", \"A/RES/74/12\", NaN, NaN, \"Division for Palestinian Rights of the Secretariat \", \"Division for Palestinian Rights of the Secretariat \", \"me\", \"Palestinian conflict\", 2019], [9101, \"Namibia\", \"NaN\", \"yes\", 74, NaN, \"2019-12-03\", \"A/RES/74/12\", NaN, NaN, \"Division for Palestinian Rights of the Secretariat \", \"Division for Palestinian Rights of the Secretariat \", \"me\", \"Palestinian conflict\", 2019], [9101, \"Nauru\", \"NR\", \"no\", 74, NaN, \"2019-12-03\", \"A/RES/74/12\", NaN, NaN, \"Division for Palestinian Rights of the Secretariat \", \"Division for Palestinian Rights of the Secretariat \", \"me\", \"Palestinian conflict\", 2019], [9101, \"Nepal\", \"NP\", \"yes\", 74, NaN, \"2019-12-03\", \"A/RES/74/12\", NaN, NaN, \"Division for Palestinian Rights of the Secretariat \", \"Division for Palestinian Rights of the Secretariat \", \"me\", \"Palestinian conflict\", 2019], [9101, \"Netherlands\", \"NL\", \"no\", 74, NaN, \"2019-12-03\", \"A/RES/74/12\", NaN, NaN, \"Division for Palestinian Rights of the Secretariat \", \"Division for Palestinian Rights of the Secretariat \", \"me\", \"Palestinian conflict\", 2019], [9101, \"New Zealand\", \"NZ\", \"abstain\", 74, NaN, \"2019-12-03\", \"A/RES/74/12\", NaN, NaN, \"Division for Palestinian Rights of the Secretariat \", \"Division for Palestinian Rights of the Secretariat \", \"me\", \"Palestinian conflict\", 2019], [9101, \"Nicaragua\", \"NI\", \"yes\", 74, NaN, \"2019-12-03\", \"A/RES/74/12\", NaN, NaN, \"Division for Palestinian Rights of the Secretariat \", \"Division for Palestinian Rights of the Secretariat \", \"me\", \"Palestinian conflict\", 2019], [9101, \"Nigeria\", \"NG\", \"yes\", 74, NaN, \"2019-12-03\", \"A/RES/74/12\", NaN, NaN, \"Division for Palestinian Rights of the Secretariat \", \"Division for Palestinian Rights of the Secretariat \", \"me\", \"Palestinian conflict\", 2019], [9101, \"North Macedonia\", \"MK\", \"abstain\", 74, NaN, \"2019-12-03\", \"A/RES/74/12\", NaN, NaN, \"Division for Palestinian Rights of the Secretariat \", \"Division for Palestinian Rights of the Secretariat \", \"me\", \"Palestinian conflict\", 2019], [9101, \"Norway\", \"NO\", \"abstain\", 74, NaN, \"2019-12-03\", \"A/RES/74/12\", NaN, NaN, \"Division for Palestinian Rights of the Secretariat \", \"Division for Palestinian Rights of the Secretariat \", \"me\", \"Palestinian conflict\", 2019], [9101, \"Oman\", \"OM\", \"yes\", 74, NaN, \"2019-12-03\", \"A/RES/74/12\", NaN, NaN, \"Division for Palestinian Rights of the Secretariat \", \"Division for Palestinian Rights of the Secretariat \", \"me\", \"Palestinian conflict\", 2019], [9101, \"Pakistan\", \"PK\", \"yes\", 74, NaN, \"2019-12-03\", \"A/RES/74/12\", NaN, NaN, \"Division for Palestinian Rights of the Secretariat \", \"Division for Palestinian Rights of the Secretariat \", \"me\", \"Palestinian conflict\", 2019], [9101, \"Palau\", \"PW\", \"abstain\", 74, NaN, \"2019-12-03\", \"A/RES/74/12\", NaN, NaN, \"Division for Palestinian Rights of the Secretariat \", \"Division for Palestinian Rights of the Secretariat \", \"me\", \"Palestinian conflict\", 2019], [9101, \"Panama\", \"PA\", \"abstain\", 74, NaN, \"2019-12-03\", \"A/RES/74/12\", NaN, NaN, \"Division for Palestinian Rights of the Secretariat \", \"Division for Palestinian Rights of the Secretariat \", \"me\", \"Palestinian conflict\", 2019], [9101, \"Papua New Guinea\", \"PG\", \"abstain\", 74, NaN, \"2019-12-03\", \"A/RES/74/12\", NaN, NaN, \"Division for Palestinian Rights of the Secretariat \", \"Division for Palestinian Rights of the Secretariat \", \"me\", \"Palestinian conflict\", 2019], [9101, \"Paraguay\", \"PY\", \"abstain\", 74, NaN, \"2019-12-03\", \"A/RES/74/12\", NaN, NaN, \"Division for Palestinian Rights of the Secretariat \", \"Division for Palestinian Rights of the Secretariat \", \"me\", \"Palestinian conflict\", 2019], [9101, \"Peru\", \"PE\", \"abstain\", 74, NaN, \"2019-12-03\", \"A/RES/74/12\", NaN, NaN, \"Division for Palestinian Rights of the Secretariat \", \"Division for Palestinian Rights of the Secretariat \", \"me\", \"Palestinian conflict\", 2019], [9101, \"Philippines\", \"PH\", \"yes\", 74, NaN, \"2019-12-03\", \"A/RES/74/12\", NaN, NaN, \"Division for Palestinian Rights of the Secretariat \", \"Division for Palestinian Rights of the Secretariat \", \"me\", \"Palestinian conflict\", 2019], [9101, \"Poland\", \"PL\", \"abstain\", 74, NaN, \"2019-12-03\", \"A/RES/74/12\", NaN, NaN, \"Division for Palestinian Rights of the Secretariat \", \"Division for Palestinian Rights of the Secretariat \", \"me\", \"Palestinian conflict\", 2019], [9101, \"Portugal\", \"PT\", \"abstain\", 74, NaN, \"2019-12-03\", \"A/RES/74/12\", NaN, NaN, \"Division for Palestinian Rights of the Secretariat \", \"Division for Palestinian Rights of the Secretariat \", \"me\", \"Palestinian conflict\", 2019], [9101, \"Qatar\", \"QA\", \"yes\", 74, NaN, \"2019-12-03\", \"A/RES/74/12\", NaN, NaN, \"Division for Palestinian Rights of the Secretariat \", \"Division for Palestinian Rights of the Secretariat \", \"me\", \"Palestinian conflict\", 2019], [9101, \"South Korea\", \"KR\", \"abstain\", 74, NaN, \"2019-12-03\", \"A/RES/74/12\", NaN, NaN, \"Division for Palestinian Rights of the Secretariat \", \"Division for Palestinian Rights of the Secretariat \", \"me\", \"Palestinian conflict\", 2019], [9101, \"Moldova\", \"MD\", \"abstain\", 74, NaN, \"2019-12-03\", \"A/RES/74/12\", NaN, NaN, \"Division for Palestinian Rights of the Secretariat \", \"Division for Palestinian Rights of the Secretariat \", \"me\", \"Palestinian conflict\", 2019], [9101, \"Romania\", \"RO\", \"no\", 74, NaN, \"2019-12-03\", \"A/RES/74/12\", NaN, NaN, \"Division for Palestinian Rights of the Secretariat \", \"Division for Palestinian Rights of the Secretariat \", \"me\", \"Palestinian conflict\", 2019], [9101, \"Russia\", \"RU\", \"abstain\", 74, NaN, \"2019-12-03\", \"A/RES/74/12\", NaN, NaN, \"Division for Palestinian Rights of the Secretariat \", \"Division for Palestinian Rights of the Secretariat \", \"me\", \"Palestinian conflict\", 2019], [9101, \"Rwanda\", \"RW\", \"abstain\", 74, NaN, \"2019-12-03\", \"A/RES/74/12\", NaN, NaN, \"Division for Palestinian Rights of the Secretariat \", \"Division for Palestinian Rights of the Secretariat \", \"me\", \"Palestinian conflict\", 2019], [9101, \"St. Lucia\", \"LC\", \"yes\", 74, NaN, \"2019-12-03\", \"A/RES/74/12\", NaN, NaN, \"Division for Palestinian Rights of the Secretariat \", \"Division for Palestinian Rights of the Secretariat \", \"me\", \"Palestinian conflict\", 2019], [9101, \"St. Vincent & Grenadines\", \"VC\", \"yes\", 74, NaN, \"2019-12-03\", \"A/RES/74/12\", NaN, NaN, \"Division for Palestinian Rights of the Secretariat \", \"Division for Palestinian Rights of the Secretariat \", \"me\", \"Palestinian conflict\", 2019], [9101, \"Samoa\", \"WS\", \"abstain\", 74, NaN, \"2019-12-03\", \"A/RES/74/12\", NaN, NaN, \"Division for Palestinian Rights of the Secretariat \", \"Division for Palestinian Rights of the Secretariat \", \"me\", \"Palestinian conflict\", 2019], [9101, \"San Marino\", \"SM\", \"abstain\", 74, NaN, \"2019-12-03\", \"A/RES/74/12\", NaN, NaN, \"Division for Palestinian Rights of the Secretariat \", \"Division for Palestinian Rights of the Secretariat \", \"me\", \"Palestinian conflict\", 2019], [9101, \"Saudi Arabia\", \"SA\", \"yes\", 74, NaN, \"2019-12-03\", \"A/RES/74/12\", NaN, NaN, \"Division for Palestinian Rights of the Secretariat \", \"Division for Palestinian Rights of the Secretariat \", \"me\", \"Palestinian conflict\", 2019], [9101, \"Senegal\", \"SN\", \"yes\", 74, NaN, \"2019-12-03\", \"A/RES/74/12\", NaN, NaN, \"Division for Palestinian Rights of the Secretariat \", \"Division for Palestinian Rights of the Secretariat \", \"me\", \"Palestinian conflict\", 2019], [9101, \"Yugoslavia\", \"YU\", \"abstain\", 74, NaN, \"2019-12-03\", \"A/RES/74/12\", NaN, NaN, \"Division for Palestinian Rights of the Secretariat \", \"Division for Palestinian Rights of the Secretariat \", \"me\", \"Palestinian conflict\", 2019], [9101, \"Sierra Leone\", \"SL\", \"yes\", 74, NaN, \"2019-12-03\", \"A/RES/74/12\", NaN, NaN, \"Division for Palestinian Rights of the Secretariat \", \"Division for Palestinian Rights of the Secretariat \", \"me\", \"Palestinian conflict\", 2019], [9101, \"Singapore\", \"SG\", \"yes\", 74, NaN, \"2019-12-03\", \"A/RES/74/12\", NaN, NaN, \"Division for Palestinian Rights of the Secretariat \", \"Division for Palestinian Rights of the Secretariat \", \"me\", \"Palestinian conflict\", 2019], [9101, \"Slovakia\", \"SK\", \"no\", 74, NaN, \"2019-12-03\", \"A/RES/74/12\", NaN, NaN, \"Division for Palestinian Rights of the Secretariat \", \"Division for Palestinian Rights of the Secretariat \", \"me\", \"Palestinian conflict\", 2019], [9101, \"Slovenia\", \"SI\", \"abstain\", 74, NaN, \"2019-12-03\", \"A/RES/74/12\", NaN, NaN, \"Division for Palestinian Rights of the Secretariat \", \"Division for Palestinian Rights of the Secretariat \", \"me\", \"Palestinian conflict\", 2019], [9101, \"Solomon Islands\", \"SB\", \"abstain\", 74, NaN, \"2019-12-03\", \"A/RES/74/12\", NaN, NaN, \"Division for Palestinian Rights of the Secretariat \", \"Division for Palestinian Rights of the Secretariat \", \"me\", \"Palestinian conflict\", 2019], [9101, \"Somalia\", \"SO\", \"yes\", 74, NaN, \"2019-12-03\", \"A/RES/74/12\", NaN, NaN, \"Division for Palestinian Rights of the Secretariat \", \"Division for Palestinian Rights of the Secretariat \", \"me\", \"Palestinian conflict\", 2019], [9101, \"South Africa\", \"ZA\", \"yes\", 74, NaN, \"2019-12-03\", \"A/RES/74/12\", NaN, NaN, \"Division for Palestinian Rights of the Secretariat \", \"Division for Palestinian Rights of the Secretariat \", \"me\", \"Palestinian conflict\", 2019], [9101, \"South Sudan\", \"SS\", \"abstain\", 74, NaN, \"2019-12-03\", \"A/RES/74/12\", NaN, NaN, \"Division for Palestinian Rights of the Secretariat \", \"Division for Palestinian Rights of the Secretariat \", \"me\", \"Palestinian conflict\", 2019], [9101, \"Spain\", \"ES\", \"abstain\", 74, NaN, \"2019-12-03\", \"A/RES/74/12\", NaN, NaN, \"Division for Palestinian Rights of the Secretariat \", \"Division for Palestinian Rights of the Secretariat \", \"me\", \"Palestinian conflict\", 2019], [9101, \"Sri Lanka\", \"LK\", \"yes\", 74, NaN, \"2019-12-03\", \"A/RES/74/12\", NaN, NaN, \"Division for Palestinian Rights of the Secretariat \", \"Division for Palestinian Rights of the Secretariat \", \"me\", \"Palestinian conflict\", 2019], [9101, \"Sudan\", \"SD\", \"yes\", 74, NaN, \"2019-12-03\", \"A/RES/74/12\", NaN, NaN, \"Division for Palestinian Rights of the Secretariat \", \"Division for Palestinian Rights of the Secretariat \", \"me\", \"Palestinian conflict\", 2019], [9101, \"Suriname\", \"SR\", \"yes\", 74, NaN, \"2019-12-03\", \"A/RES/74/12\", NaN, NaN, \"Division for Palestinian Rights of the Secretariat \", \"Division for Palestinian Rights of the Secretariat \", \"me\", \"Palestinian conflict\", 2019], [9101, \"Sweden\", \"SE\", \"abstain\", 74, NaN, \"2019-12-03\", \"A/RES/74/12\", NaN, NaN, \"Division for Palestinian Rights of the Secretariat \", \"Division for Palestinian Rights of the Secretariat \", \"me\", \"Palestinian conflict\", 2019], [9101, \"Switzerland\", \"CH\", \"abstain\", 74, NaN, \"2019-12-03\", \"A/RES/74/12\", NaN, NaN, \"Division for Palestinian Rights of the Secretariat \", \"Division for Palestinian Rights of the Secretariat \", \"me\", \"Palestinian conflict\", 2019], [9101, \"Syria\", \"SY\", \"yes\", 74, NaN, \"2019-12-03\", \"A/RES/74/12\", NaN, NaN, \"Division for Palestinian Rights of the Secretariat \", \"Division for Palestinian Rights of the Secretariat \", \"me\", \"Palestinian conflict\", 2019], [9101, \"Tajikistan\", \"TJ\", \"yes\", 74, NaN, \"2019-12-03\", \"A/RES/74/12\", NaN, NaN, \"Division for Palestinian Rights of the Secretariat \", \"Division for Palestinian Rights of the Secretariat \", \"me\", \"Palestinian conflict\", 2019], [9101, \"Thailand\", \"TH\", \"yes\", 74, NaN, \"2019-12-03\", \"A/RES/74/12\", NaN, NaN, \"Division for Palestinian Rights of the Secretariat \", \"Division for Palestinian Rights of the Secretariat \", \"me\", \"Palestinian conflict\", 2019], [9101, \"Togo\", \"TG\", \"abstain\", 74, NaN, \"2019-12-03\", \"A/RES/74/12\", NaN, NaN, \"Division for Palestinian Rights of the Secretariat \", \"Division for Palestinian Rights of the Secretariat \", \"me\", \"Palestinian conflict\", 2019], [9101, \"Tonga\", \"TO\", \"abstain\", 74, NaN, \"2019-12-03\", \"A/RES/74/12\", NaN, NaN, \"Division for Palestinian Rights of the Secretariat \", \"Division for Palestinian Rights of the Secretariat \", \"me\", \"Palestinian conflict\", 2019], [9101, \"Tunisia\", \"TN\", \"yes\", 74, NaN, \"2019-12-03\", \"A/RES/74/12\", NaN, NaN, \"Division for Palestinian Rights of the Secretariat \", \"Division for Palestinian Rights of the Secretariat \", \"me\", \"Palestinian conflict\", 2019], [9101, \"Turkey\", \"TR\", \"yes\", 74, NaN, \"2019-12-03\", \"A/RES/74/12\", NaN, NaN, \"Division for Palestinian Rights of the Secretariat \", \"Division for Palestinian Rights of the Secretariat \", \"me\", \"Palestinian conflict\", 2019], [9101, \"Turkmenistan\", \"TM\", \"yes\", 74, NaN, \"2019-12-03\", \"A/RES/74/12\", NaN, NaN, \"Division for Palestinian Rights of the Secretariat \", \"Division for Palestinian Rights of the Secretariat \", \"me\", \"Palestinian conflict\", 2019], [9101, \"Uganda\", \"UG\", \"yes\", 74, NaN, \"2019-12-03\", \"A/RES/74/12\", NaN, NaN, \"Division for Palestinian Rights of the Secretariat \", \"Division for Palestinian Rights of the Secretariat \", \"me\", \"Palestinian conflict\", 2019], [9101, \"Ukraine\", \"UA\", \"abstain\", 74, NaN, \"2019-12-03\", \"A/RES/74/12\", NaN, NaN, \"Division for Palestinian Rights of the Secretariat \", \"Division for Palestinian Rights of the Secretariat \", \"me\", \"Palestinian conflict\", 2019], [9101, \"United Arab Emirates\", \"AE\", \"yes\", 74, NaN, \"2019-12-03\", \"A/RES/74/12\", NaN, NaN, \"Division for Palestinian Rights of the Secretariat \", \"Division for Palestinian Rights of the Secretariat \", \"me\", \"Palestinian conflict\", 2019], [9101, \"United Kingdom\", \"GB\", \"abstain\", 74, NaN, \"2019-12-03\", \"A/RES/74/12\", NaN, NaN, \"Division for Palestinian Rights of the Secretariat \", \"Division for Palestinian Rights of the Secretariat \", \"me\", \"Palestinian conflict\", 2019], [9101, \"United States\", \"US\", \"no\", 74, NaN, \"2019-12-03\", \"A/RES/74/12\", NaN, NaN, \"Division for Palestinian Rights of the Secretariat \", \"Division for Palestinian Rights of the Secretariat \", \"me\", \"Palestinian conflict\", 2019], [9101, \"Uruguay\", \"UY\", \"yes\", 74, NaN, \"2019-12-03\", \"A/RES/74/12\", NaN, NaN, \"Division for Palestinian Rights of the Secretariat \", \"Division for Palestinian Rights of the Secretariat \", \"me\", \"Palestinian conflict\", 2019], [9101, \"Uzbekistan\", \"UZ\", \"yes\", 74, NaN, \"2019-12-03\", \"A/RES/74/12\", NaN, NaN, \"Division for Palestinian Rights of the Secretariat \", \"Division for Palestinian Rights of the Secretariat \", \"me\", \"Palestinian conflict\", 2019], [9101, \"Vanuatu\", \"VU\", \"abstain\", 74, NaN, \"2019-12-03\", \"A/RES/74/12\", NaN, NaN, \"Division for Palestinian Rights of the Secretariat \", \"Division for Palestinian Rights of the Secretariat \", \"me\", \"Palestinian conflict\", 2019], [9101, \"Venezuela\", \"VE\", \"yes\", 74, NaN, \"2019-12-03\", \"A/RES/74/12\", NaN, NaN, \"Division for Palestinian Rights of the Secretariat \", \"Division for Palestinian Rights of the Secretariat \", \"me\", \"Palestinian conflict\", 2019], [9101, \"Vietnam\", \"VN\", \"yes\", 74, NaN, \"2019-12-03\", \"A/RES/74/12\", NaN, NaN, \"Division for Palestinian Rights of the Secretariat \", \"Division for Palestinian Rights of the Secretariat \", \"me\", \"Palestinian conflict\", 2019], [9101, \"Yemen\", \"YE\", \"yes\", 74, NaN, \"2019-12-03\", \"A/RES/74/12\", NaN, NaN, \"Division for Palestinian Rights of the Secretariat \", \"Division for Palestinian Rights of the Secretariat \", \"me\", \"Palestinian conflict\", 2019], [9101, \"Zambia\", \"ZM\", \"yes\", 74, NaN, \"2019-12-03\", \"A/RES/74/12\", NaN, NaN, \"Division for Palestinian Rights of the Secretariat \", \"Division for Palestinian Rights of the Secretariat \", \"me\", \"Palestinian conflict\", 2019], [9101, \"Zimbabwe\", \"ZW\", \"yes\", 74, NaN, \"2019-12-03\", \"A/RES/74/12\", NaN, NaN, \"Division for Palestinian Rights of the Secretariat \", \"Division for Palestinian Rights of the Secretariat \", \"me\", \"Palestinian conflict\", 2019]];\n",
       "\n",
       "        // Define the dt_args\n",
       "        let dt_args = {\"layout\": {\"topStart\": \"pageLength\", \"topEnd\": \"search\", \"bottomStart\": \"info\", \"bottomEnd\": \"paging\"}, \"order\": [], \"fnInfoCallback\": function (oSettings, iStart, iEnd, iMax, iTotal, sPre) { return sPre + ' (<a href=\"https://mwouts.github.io/itables/downsampling.html\">downsampled</a> from 857,878x15 to 546x15 as maxBytes=64KB)'; }};\n",
       "        dt_args[\"data\"] = data;\n",
       "\n",
       "        \n",
       "        new DataTable(table, dt_args);\n",
       "    });\n",
       "</script>\n"
      ],
      "text/plain": [
       "<IPython.core.display.HTML object>"
      ]
     },
     "metadata": {},
     "output_type": "display_data"
    }
   ],
   "source": [
    "# Copy and paste the code here:\n",
    "show(DF)"
   ]
  },
  {
   "cell_type": "markdown",
   "id": "a3fac6d0-283f-45a8-8f04-824bce2bc030",
   "metadata": {},
   "source": [
    "### Problem 1\n",
    "\n",
    "Do some initial exploration of this data and write about it in the markdown cell below.\n",
    "\n",
    "* How man columns are there?\n",
    "* What do the columns represent?\n",
    "* What countries are there?\n",
    "* Can you search for a country you are interested in?\n",
    "* How many rows are there?\n",
    "* What other observations do you have?\n",
    "\n"
   ]
  },
  {
   "cell_type": "markdown",
   "id": "5d647175-19fd-404b-84e2-b92e627413a1",
   "metadata": {},
   "source": [
    "15 columns \n",
    "human rights by country in 1946 \n",
    "among the 55 pages, there is every country in the world \n",
    "I can search for a country\n",
    "546 rows \n"
   ]
  },
  {
   "cell_type": "markdown",
   "id": "a5ec908c-b134-4b31-907d-93f4415315b4",
   "metadata": {},
   "source": [
    "-------------------------------\n",
    "### Make Python Explore the Data!:\n",
    "-------------------------------\n",
    "\n",
    "Copy and paste the command that will show you a list of the counties:"
   ]
  },
  {
   "cell_type": "code",
   "execution_count": 16,
   "id": "76ada79b-d012-48ff-bfe5-b110ce00ac4b",
   "metadata": {},
   "outputs": [
    {
     "data": {
      "text/html": [
       "<table id=\"itables_ef1b3f6d_d2db_4753_8cd2_64e6f6466da5\" class=\"display nowrap\" data-quarto-disable-processing=\"true\" style=\"table-layout:auto;width:auto;margin:auto;caption-side:bottom\">\n",
       "<thead>\n",
       "    <tr style=\"text-align: right;\">\n",
       "      \n",
       "      <th>country</th>\n",
       "    </tr>\n",
       "  </thead><tbody><tr>\n",
       "<td style=\"vertical-align:middle; text-align:left\">\n",
       "<div style=\"float:left; margin-right: 10px;\">\n",
       "<a href=https://mwouts.github.io/itables/><svg class=\"main-svg\" xmlns=\"http://www.w3.org/2000/svg\" xmlns:xlink=\"http://www.w3.org/1999/xlink\"\n",
       "width=\"64\" viewBox=\"0 0 500 400\" style=\"font-family: 'Droid Sans', sans-serif;\">\n",
       "    <g style=\"fill:#d9d7fc\">\n",
       "        <path d=\"M100,400H500V357H100Z\" />\n",
       "        <path d=\"M100,300H400V257H100Z\" />\n",
       "        <path d=\"M0,200H400V157H0Z\" />\n",
       "        <path d=\"M100,100H500V57H100Z\" />\n",
       "        <path d=\"M100,350H500V307H100Z\" />\n",
       "        <path d=\"M100,250H400V207H100Z\" />\n",
       "        <path d=\"M0,150H400V107H0Z\" />\n",
       "        <path d=\"M100,50H500V7H100Z\" />\n",
       "    </g>\n",
       "    <g style=\"fill:#1a1366;stroke:#1a1366;\">\n",
       "   <rect x=\"100\" y=\"7\" width=\"400\" height=\"43\">\n",
       "    <animate\n",
       "      attributeName=\"width\"\n",
       "      values=\"0;400;0\"\n",
       "      dur=\"5s\"\n",
       "      repeatCount=\"indefinite\" />\n",
       "      <animate\n",
       "      attributeName=\"x\"\n",
       "      values=\"100;100;500\"\n",
       "      dur=\"5s\"\n",
       "      repeatCount=\"indefinite\" />\n",
       "  </rect>\n",
       "        <rect x=\"0\" y=\"107\" width=\"400\" height=\"43\">\n",
       "    <animate\n",
       "      attributeName=\"width\"\n",
       "      values=\"0;400;0\"\n",
       "      dur=\"3.5s\"\n",
       "      repeatCount=\"indefinite\" />\n",
       "    <animate\n",
       "      attributeName=\"x\"\n",
       "      values=\"0;0;400\"\n",
       "      dur=\"3.5s\"\n",
       "      repeatCount=\"indefinite\" />\n",
       "  </rect>\n",
       "        <rect x=\"100\" y=\"207\" width=\"300\" height=\"43\">\n",
       "    <animate\n",
       "      attributeName=\"width\"\n",
       "      values=\"0;300;0\"\n",
       "      dur=\"3s\"\n",
       "      repeatCount=\"indefinite\" />\n",
       "    <animate\n",
       "      attributeName=\"x\"\n",
       "      values=\"100;100;400\"\n",
       "      dur=\"3s\"\n",
       "      repeatCount=\"indefinite\" />\n",
       "  </rect>\n",
       "        <rect x=\"100\" y=\"307\" width=\"400\" height=\"43\">\n",
       "    <animate\n",
       "      attributeName=\"width\"\n",
       "      values=\"0;400;0\"\n",
       "      dur=\"4s\"\n",
       "      repeatCount=\"indefinite\" />\n",
       "      <animate\n",
       "      attributeName=\"x\"\n",
       "      values=\"100;100;500\"\n",
       "      dur=\"4s\"\n",
       "      repeatCount=\"indefinite\" />\n",
       "  </rect>\n",
       "        <g style=\"fill:transparent;stroke-width:8; stroke-linejoin:round\" rx=\"5\">\n",
       "            <g transform=\"translate(45 50) rotate(-45)\">\n",
       "                <circle r=\"33\" cx=\"0\" cy=\"0\" />\n",
       "                <rect x=\"-8\" y=\"32\" width=\"16\" height=\"30\" />\n",
       "            </g>\n",
       "\n",
       "            <g transform=\"translate(450 152)\">\n",
       "                <polyline points=\"-15,-20 -35,-20 -35,40 25,40 25,20\" />\n",
       "                <rect x=\"-15\" y=\"-40\" width=\"60\" height=\"60\" />\n",
       "            </g>\n",
       "\n",
       "            <g transform=\"translate(50 352)\">\n",
       "                <polygon points=\"-35,-5 0,-40 35,-5\" />\n",
       "                <polygon points=\"-35,10 0,45 35,10\" />\n",
       "            </g>\n",
       "\n",
       "            <g transform=\"translate(75 250)\">\n",
       "                <polyline points=\"-30,30 -60,0 -30,-30\" />\n",
       "                <polyline points=\"0,30 -30,0 0,-30\" />\n",
       "            </g>\n",
       "\n",
       "            <g transform=\"translate(425 250) rotate(180)\">\n",
       "                <polyline points=\"-30,30 -60,0 -30,-30\" />\n",
       "                <polyline points=\"0,30 -30,0 0,-30\" />\n",
       "            </g>\n",
       "        </g>\n",
       "    </g>\n",
       "</svg>\n",
       "</a>\n",
       "</div>\n",
       "<div>\n",
       "Loading ITables v2.1.4 from the internet...\n",
       "(need <a href=https://mwouts.github.io/itables/troubleshooting.html>help</a>?)</td>\n",
       "</div>\n",
       "</tr></tbody>\n",
       "\n",
       "</table>\n",
       "<link href=\"https://www.unpkg.com/dt_for_itables@2.0.11/dt_bundle.css\" rel=\"stylesheet\">\n",
       "<script type=\"module\">\n",
       "    import {DataTable, jQuery as $} from 'https://www.unpkg.com/dt_for_itables@2.0.11/dt_bundle.js';\n",
       "\n",
       "    document.querySelectorAll(\"#itables_ef1b3f6d_d2db_4753_8cd2_64e6f6466da5:not(.dataTable)\").forEach(table => {\n",
       "        // Define the table data\n",
       "        const data = [[\"United States\"], [\"Canada\"], [\"Cuba\"], [\"Dominican Republic\"], [\"Mexico\"], [\"Guatemala\"], [\"Honduras\"], [\"El Salvador\"], [\"Nicaragua\"], [\"Panama\"], [\"Colombia\"], [\"Venezuela\"], [\"Ecuador\"], [\"Peru\"], [\"Brazil\"], [\"Bolivia\"], [\"Paraguay\"], [\"Chile\"], [\"Argentina\"], [\"Uruguay\"], [\"United Kingdom\"], [\"Netherlands\"], [\"Belgium\"], [\"Luxembourg\"], [\"France\"], [\"Poland\"], [\"Czechoslovakia\"], [\"Yugoslavia\"], [\"Greece\"], [\"Russia\"], [\"Ukraine\"], [\"Belarus\"], [\"Norway\"], [\"Denmark\"], [\"Liberia\"], [\"Ethiopia\"], [\"South Africa\"], [\"Iran\"], [\"Turkey\"], [\"Iraq\"], [\"Egypt\"], [\"Syria\"], [\"Lebanon\"], [\"Saudi Arabia\"], [\"Taiwan\"], [\"India\"], [\"Philippines\"], [\"Australia\"], [\"New Zealand\"], [\"Costa Rica\"], [\"Haiti\"], [\"Sweden\"], [\"Iceland\"], [\"Afghanistan\"], [\"Yemen Arab Republic\"], [\"Pakistan\"], [\"Thailand\"], [\"Myanmar (Burma)\"], [\"Israel\"], [\"Indonesia\"], [\"Hungary\"], [\"Jordan\"], [\"Sri Lanka\"], [\"Spain\"], [\"Romania\"], [\"Ireland\"], [\"Portugal\"], [\"Austria\"], [\"Italy\"], [\"Albania\"], [\"Bulgaria\"], [\"Finland\"], [\"Morocco\"], [\"Tunisia\"], [\"Libya\"], [\"Sudan\"], [\"Nepal\"], [\"Cambodia\"], [\"Laos\"], [\"Japan\"], [\"Ghana\"], [\"Malaysia\"], [\"Guinea\"], [\"Cyprus\"], [\"Mali\"], [\"Senegal\"], [\"Benin\"], [\"Niger\"], [\"C\\u00f4te d\\u2019Ivoire\"], [\"Burkina Faso\"], [\"Togo\"], [\"Cameroon\"], [\"Nigeria\"], [\"Gabon\"], [\"Central African Republic\"], [\"Chad\"], [\"Congo - Brazzaville\"], [\"Somalia\"], [\"Madagascar\"], [\"Congo - Kinshasa\"], [\"Mauritania\"], [\"Sierra Leone\"], [\"Mongolia\"], [\"Tanzania\"], [\"Jamaica\"], [\"Trinidad & Tobago\"], [\"Uganda\"], [\"Burundi\"], [\"Rwanda\"], [\"Algeria\"], [\"Kuwait\"], [\"Kenya\"], [\"Zanzibar\"], [\"Malta\"], [\"Zambia\"], [\"Maldives\"], [\"Malawi\"], [\"Singapore\"], [\"Guyana\"], [\"Gambia\"], [\"Lesotho\"], [\"Barbados\"], [\"Botswana\"], [\"Yemen People's Republic\"], [\"Mauritius\"], [\"Equatorial Guinea\"], [\"Eswatini\"], [\"Fiji\"], [\"Bahrain\"], [\"Qatar\"], [\"China\"], [\"Oman\"], [\"United Arab Emirates\"], [\"Bhutan\"], [\"Federal Republic of Germany\"], [\"German Democratic Republic\"], [\"Bahamas\"], [\"Bangladesh\"], [\"Grenada\"], [\"Guinea-Bissau\"], [\"Cape Verde\"], [\"S\\u00e3o Tom\\u00e9 & Pr\\u00edncipe\"], [\"Mozambique\"], [\"Comoros\"], [\"Papua New Guinea\"], [\"Suriname\"], [\"Angola\"], [\"Djibouti\"], [\"Vietnam\"], [\"Samoa\"], [\"Seychelles\"], [\"St. Lucia\"], [\"Solomon Islands\"], [\"Zimbabwe\"], [\"Vanuatu\"], [\"Antigua & Barbuda\"], [\"Belize\"], [\"St. Vincent & Grenadines\"], [\"Dominica\"], [\"St. Kitts & Nevis\"], [\"Brunei\"], [\"Liechtenstein\"], [\"Namibia\"], [\"Germany\"], [\"Estonia\"], [\"Latvia\"], [\"Lithuania\"], [\"Yemen\"], [\"North Korea\"], [\"South Korea\"], [\"Marshall Islands\"], [\"Micronesia (Federated States of)\"], [\"Croatia\"], [\"Slovenia\"], [\"Moldova\"], [\"San Marino\"], [\"Armenia\"], [\"Azerbaijan\"], [\"Bosnia & Herzegovina\"], [\"Kazakhstan\"], [\"Tajikistan\"], [\"Turkmenistan\"], [\"Kyrgyzstan\"], [\"Andorra\"], [\"Czechia\"], [\"Slovakia\"], [\"North Macedonia\"], [\"Monaco\"], [\"Georgia\"], [\"Eritrea\"], [\"Uzbekistan\"], [\"Palau\"], [\"Tonga\"], [\"Nauru\"], [\"Tuvalu\"], [\"Kiribati\"], [\"Switzerland\"], [\"Timor-Leste\"], [\"Montenegro\"], [\"South Sudan\"]];\n",
       "\n",
       "        // Define the dt_args\n",
       "        let dt_args = {\"layout\": {\"topStart\": \"pageLength\", \"topEnd\": \"search\", \"bottomStart\": \"info\", \"bottomEnd\": \"paging\"}, \"order\": []};\n",
       "        dt_args[\"data\"] = data;\n",
       "\n",
       "        \n",
       "        new DataTable(table, dt_args);\n",
       "    });\n",
       "</script>\n"
      ],
      "text/plain": [
       "<IPython.core.display.HTML object>"
      ]
     },
     "metadata": {},
     "output_type": "display_data"
    }
   ],
   "source": [
    "# Copy and paste the code here:\n",
    "# Python can list all the different countries:\n",
    "country_list = list(DF['country'].unique())\n",
    "\n",
    "# Show the data in a nice way\n",
    "show(pd.DataFrame(country_list,columns=['country']))"
   ]
  },
  {
   "cell_type": "markdown",
   "id": "e6869f91-d574-4e4f-8200-7f7ba12ef657",
   "metadata": {},
   "source": [
    "Copy and paste the command that will count up the number of countries:"
   ]
  },
  {
   "cell_type": "code",
   "execution_count": 18,
   "id": "fa93e932-08e9-46b8-ae03-1f6504a8d7b7",
   "metadata": {},
   "outputs": [
    {
     "name": "stdout",
     "output_type": "stream",
     "text": [
      "200\n"
     ]
    }
   ],
   "source": [
    "# Copy and paste the code here:\n",
    "# Python can count up the number of countries.\n",
    "# Find the length of the list\n",
    "print(len(country_list))"
   ]
  },
  {
   "cell_type": "markdown",
   "id": "8fc80b9c-3777-4ed3-903f-610f9a889561",
   "metadata": {},
   "source": [
    "### Problem 2\n",
    "\n",
    "Try writing some code for your self. Above we found a countries list by focusing on the column named 'country'. See if you can redo that same code but change it to focus on the column named 'issue'.\n",
    "\n",
    "What do I expect here:\n",
    "\n",
    "* First copy and past the code from above\n",
    "* Then change that code slightly\n",
    "* Run the cell to see if it worked"
   ]
  },
  {
   "cell_type": "code",
   "execution_count": 34,
   "id": "8322841e-daef-4ff3-a74b-20560af34c52",
   "metadata": {},
   "outputs": [
    {
     "data": {
      "text/plain": [
       "['Human rights',\n",
       " 'Economic development',\n",
       " 'Colonialism',\n",
       " 'Palestinian conflict',\n",
       " 'Arms control and disarmament',\n",
       " 'Nuclear weapons and nuclear material']"
      ]
     },
     "execution_count": 34,
     "metadata": {},
     "output_type": "execute_result"
    }
   ],
   "source": [
    "# Write your code here\n",
    "issues_list = list(DF['issue'].unique())\n",
    "issues_list "
   ]
  },
  {
   "cell_type": "markdown",
   "id": "7ebdffc3-dbc2-4100-83d6-ea94d27f9456",
   "metadata": {},
   "source": [
    "-------------------------------\n",
    "### Data Visualization:\n",
    "-------------------------------\n",
    "\n",
    "Now we will select three countries that we are interested in and see how their votes have changed over time. Below you should see code that selects: Turkey, United States, and United Kingdom.\n",
    "\n",
    "**IMPORTANT** These have to be spelled and capitalized exactly like they are in the data. Python is unforgiving of typos!\n",
    "\n",
    "You can just run the cell below - assuming you have done all the parts above!"
   ]
  },
  {
   "cell_type": "code",
   "execution_count": 50,
   "id": "cb0dfbd6-1959-4881-890a-aa184248699d",
   "metadata": {},
   "outputs": [
    {
     "name": "stdout",
     "output_type": "stream",
     "text": [
      "['Human rights', 'Economic development', 'Colonialism', 'Palestinian conflict', 'Arms control and disarmament', 'Nuclear weapons and nuclear material']\n"
     ]
    }
   ],
   "source": [
    "countries = ['Iran', 'Germany', 'Liberia']\n",
    "issues = list(DF['issue'].unique())\n",
    "c_groups = DF.groupby(['country','issue'])\n",
    "print(issues)"
   ]
  },
  {
   "cell_type": "markdown",
   "id": "00a813fa-de2b-4c25-a96c-68234b9b9503",
   "metadata": {},
   "source": [
    "Now that we have our focus countries, we can make pretty pictures.\n",
    "\n",
    "You can just run the cell below - assuming you have done all the parts above!"
   ]
  },
  {
   "cell_type": "code",
   "execution_count": 47,
   "id": "0004cb71-264f-4580-b847-41f8b01fa300",
   "metadata": {},
   "outputs": [
    {
     "data": {
      "application/vnd.plotly.v1+json": {
       "config": {
        "plotlyServerURL": "https://plot.ly"
       },
       "data": [
        {
         "hovertemplate": "Country=Iran<br>x=%{x}<br>y=%{y}<extra></extra>",
         "legendgroup": "Iran",
         "marker": {
          "color": "#636efa",
          "symbol": "circle"
         },
         "mode": "markers",
         "name": "Iran",
         "orientation": "v",
         "showlegend": true,
         "type": "scatter",
         "x": [
          1946,
          1948,
          1949,
          1950,
          1952,
          1953,
          1954,
          1955,
          1956,
          1958,
          1959,
          1961,
          1962,
          1965,
          1966,
          1967,
          1968,
          1969,
          1970,
          1971,
          1972,
          1973,
          1974,
          1975,
          1976,
          1977,
          1978,
          1979,
          1980,
          1981,
          1982,
          1983,
          1984,
          1985,
          1986,
          1987,
          1988,
          1989,
          1990,
          1991,
          1992,
          1993,
          1994,
          1995,
          1996,
          1997,
          1998,
          1999,
          2000,
          2001,
          2002,
          2003,
          2004,
          2006,
          2005,
          2007,
          2008,
          2009,
          2010,
          2011,
          2012,
          2013,
          2014,
          2015,
          2016,
          2017,
          2018,
          2019
         ],
         "xaxis": "x",
         "y": [
          50,
          16.666666666666664,
          50,
          50,
          87.5,
          100,
          0,
          66.66666666666666,
          83.33333333333334,
          100,
          100,
          75,
          0,
          0,
          100,
          40,
          100,
          60,
          92.85714285714286,
          100,
          100,
          87.5,
          95,
          90,
          82.35294117647058,
          78.94736842105263,
          85.71428571428571,
          100,
          88.88888888888889,
          100,
          95.23809523809523,
          100,
          92.85714285714286,
          88.88888888888889,
          90,
          94.11764705882352,
          93.75,
          92.3076923076923,
          100,
          90.9090909090909,
          72.72727272727273,
          72.72727272727273,
          78.57142857142857,
          71.42857142857143,
          75,
          73.68421052631578,
          86.66666666666667,
          75,
          81.25,
          84.21052631578947,
          85.71428571428571,
          84,
          80,
          77.77777777777779,
          66.66666666666666,
          81.48148148148148,
          80.76923076923077,
          90.9090909090909,
          76,
          80,
          73.91304347826086,
          85.71428571428571,
          70.58823529411765,
          72.22222222222221,
          61.111111111111114,
          73.07692307692307,
          66.66666666666666,
          61.53846153846154
         ],
         "yaxis": "y"
        },
        {
         "hovertemplate": "<b>LOWESS trendline</b><br><br>Country=Iran<br>x=%{x}<br>y=%{y} <b>(trend)</b><extra></extra>",
         "legendgroup": "Iran",
         "marker": {
          "color": "#636efa",
          "symbol": "circle"
         },
         "mode": "lines",
         "name": "Iran",
         "showlegend": false,
         "type": "scatter",
         "x": [
          1946,
          1948,
          1949,
          1950,
          1952,
          1953,
          1954,
          1955,
          1956,
          1958,
          1959,
          1961,
          1962,
          1965,
          1966,
          1967,
          1968,
          1969,
          1970,
          1971,
          1972,
          1973,
          1974,
          1975,
          1976,
          1977,
          1978,
          1979,
          1980,
          1981,
          1982,
          1983,
          1984,
          1985,
          1986,
          1987,
          1988,
          1989,
          1990,
          1991,
          1992,
          1993,
          1994,
          1995,
          1996,
          1997,
          1998,
          1999,
          2000,
          2001,
          2002,
          2003,
          2004,
          2005,
          2006,
          2007,
          2008,
          2009,
          2010,
          2011,
          2012,
          2013,
          2014,
          2015,
          2016,
          2017,
          2018,
          2019
         ],
         "xaxis": "x",
         "y": [
          62.645429558708116,
          64.89700560347833,
          66.00142740423397,
          67.091648053255,
          69.23383688899474,
          70.28956164063038,
          71.33742651298397,
          72.37897764760525,
          73.41593842968716,
          75.48447509702727,
          76.52039746868107,
          78.60599504345839,
          79.65977182763149,
          82.8998130206111,
          84.01833330102227,
          85.16053472564674,
          86.32088811541648,
          87.47522539178887,
          88.56199022250244,
          89.48691308596071,
          90.0098690936775,
          90.42072238192617,
          90.71804864320534,
          90.91606960564897,
          91.19408235946776,
          91.19166782829764,
          91.06827456035838,
          90.83651970787737,
          90.52388761625427,
          90.1521903569352,
          89.73702098210089,
          89.29073936230724,
          88.90344918832962,
          88.42548312116233,
          87.95479934412593,
          87.56830109604267,
          87.10851093804906,
          86.65767140658306,
          86.21354434866159,
          85.77317300151044,
          85.33302385892452,
          84.88568053599147,
          84.41994366927146,
          83.9263729185124,
          83.3986997679544,
          82.83562764786659,
          82.32880164150082,
          81.76809650149306,
          81.1729892155036,
          80.56133313527134,
          79.9439858804407,
          79.3268812590574,
          78.71311658015343,
          78.10424436986204,
          77.50108757299374,
          76.90426079044774,
          76.31400451656056,
          75.73012477232541,
          75.1520382194922,
          74.5787479001507,
          74.00913581945719,
          73.44198181756263,
          72.8760255252053,
          72.30981034203101,
          71.74198267997755,
          71.17139110341748,
          70.59726597557258,
          70.0189578438253
         ],
         "yaxis": "y"
        },
        {
         "hovertemplate": "Country=Germany<br>x=%{x}<br>y=%{y}<extra></extra>",
         "legendgroup": "Germany",
         "marker": {
          "color": "#EF553B",
          "symbol": "circle"
         },
         "mode": "markers",
         "name": "Germany",
         "orientation": "v",
         "showlegend": true,
         "type": "scatter",
         "x": [
          1991,
          1992,
          1993,
          1994,
          1995,
          1996,
          1997,
          1998,
          1999,
          2000,
          2001,
          2002,
          2003,
          2004,
          2006,
          2005,
          2007,
          2008,
          2009,
          2010,
          2011,
          2012,
          2013,
          2014,
          2015,
          2016,
          2017,
          2018,
          2019
         ],
         "xaxis": "x",
         "y": [
          36.36363636363637,
          45.45454545454545,
          54.54545454545454,
          64.28571428571429,
          71.42857142857143,
          64.70588235294117,
          60,
          64.70588235294117,
          50,
          52.94117647058824,
          45,
          56.52173913043478,
          44,
          50,
          50,
          61.904761904761905,
          55.55555555555556,
          50,
          39.130434782608695,
          48,
          44,
          47.82608695652174,
          35,
          38.88888888888889,
          40,
          31.57894736842105,
          53.333333333333336,
          54.54545454545454,
          42.857142857142854
         ],
         "yaxis": "y"
        },
        {
         "hovertemplate": "<b>LOWESS trendline</b><br><br>Country=Germany<br>x=%{x}<br>y=%{y} <b>(trend)</b><extra></extra>",
         "legendgroup": "Germany",
         "marker": {
          "color": "#EF553B",
          "symbol": "circle"
         },
         "mode": "lines",
         "name": "Germany",
         "showlegend": false,
         "type": "scatter",
         "x": [
          1991,
          1992,
          1993,
          1994,
          1995,
          1996,
          1997,
          1998,
          1999,
          2000,
          2001,
          2002,
          2003,
          2004,
          2005,
          2006,
          2007,
          2008,
          2009,
          2010,
          2011,
          2012,
          2013,
          2014,
          2015,
          2016,
          2017,
          2018,
          2019
         ],
         "xaxis": "x",
         "y": [
          55.16301179390888,
          55.4164997206681,
          55.56457097802486,
          55.638459201269896,
          55.67921653422366,
          55.723902322354476,
          55.79459059519623,
          55.88657122466782,
          55.91612169308022,
          55.43612625933758,
          54.465826958216546,
          53.35321267527294,
          52.271985166431,
          51.301767504320786,
          50.47609347578867,
          49.73795278998436,
          48.98715601910425,
          48.093784225779636,
          47.00995914446406,
          45.87566467227856,
          45.26968460353727,
          44.90856280810159,
          44.54404927868989,
          44.16547314372195,
          43.79102838576196,
          43.44139987350124,
          43.13764117127046,
          42.90184247290091,
          42.74092729211878
         ],
         "yaxis": "y"
        },
        {
         "hovertemplate": "Country=Liberia<br>x=%{x}<br>y=%{y}<extra></extra>",
         "legendgroup": "Liberia",
         "marker": {
          "color": "#00cc96",
          "symbol": "circle"
         },
         "mode": "markers",
         "name": "Liberia",
         "orientation": "v",
         "showlegend": true,
         "type": "scatter",
         "x": [
          1946,
          1948,
          1949,
          1950,
          1952,
          1953,
          1954,
          1955,
          1956,
          1958,
          1959,
          1961,
          1962,
          1965,
          1966,
          1967,
          1968,
          1969,
          1970,
          1971,
          1972,
          1973,
          1974,
          1975,
          1976,
          1977,
          1978,
          1979,
          1980,
          1981,
          1982,
          1983,
          1984,
          1985,
          1986,
          1987,
          1988,
          1989,
          1991,
          1992,
          1996,
          1997,
          1998,
          2004,
          2005,
          2006,
          2007,
          2008,
          2009,
          2010,
          2011,
          2012,
          2013,
          2014,
          2015,
          2016,
          2017,
          2018,
          2019
         ],
         "xaxis": "x",
         "y": [
          0,
          16.666666666666664,
          100,
          100,
          62.5,
          100,
          0,
          66.66666666666666,
          83.33333333333334,
          100,
          100,
          50,
          0,
          100,
          88.88888888888889,
          40,
          0,
          40,
          71.42857142857143,
          62.5,
          76.47058823529412,
          95.83333333333334,
          100,
          64.70588235294117,
          81.25,
          72.22222222222221,
          100,
          85.71428571428571,
          82.35294117647058,
          69.23076923076923,
          80.95238095238095,
          68.75,
          73.33333333333333,
          60,
          75,
          84.21052631578947,
          75,
          85.71428571428571,
          100,
          72.72727272727273,
          33.33333333333333,
          60,
          0,
          77.77777777777779,
          100,
          85.71428571428571,
          95,
          82.6086956521739,
          82.6086956521739,
          76,
          95.83333333333334,
          73.91304347826086,
          95.23809523809523,
          72.22222222222221,
          75,
          87.5,
          100,
          63.63636363636363,
          90.9090909090909
         ],
         "yaxis": "y"
        },
        {
         "hovertemplate": "<b>LOWESS trendline</b><br><br>Country=Liberia<br>x=%{x}<br>y=%{y} <b>(trend)</b><extra></extra>",
         "legendgroup": "Liberia",
         "marker": {
          "color": "#00cc96",
          "symbol": "circle"
         },
         "mode": "lines",
         "name": "Liberia",
         "showlegend": false,
         "type": "scatter",
         "x": [
          1946,
          1948,
          1949,
          1950,
          1952,
          1953,
          1954,
          1955,
          1956,
          1958,
          1959,
          1961,
          1962,
          1965,
          1966,
          1967,
          1968,
          1969,
          1970,
          1971,
          1972,
          1973,
          1974,
          1975,
          1976,
          1977,
          1978,
          1979,
          1980,
          1981,
          1982,
          1983,
          1984,
          1985,
          1986,
          1987,
          1988,
          1989,
          1991,
          1992,
          1996,
          1997,
          1998,
          2004,
          2005,
          2006,
          2007,
          2008,
          2009,
          2010,
          2011,
          2012,
          2013,
          2014,
          2015,
          2016,
          2017,
          2018,
          2019
         ],
         "xaxis": "x",
         "y": [
          87.53367407582131,
          86.63304402518449,
          86.19289940347105,
          85.76057169183046,
          84.91846567549524,
          84.50678278043617,
          84.1010962666371,
          83.70099454173852,
          83.3060211272065,
          82.53352337697713,
          82.15733785180052,
          81.4226352441379,
          81.0601038597274,
          79.97289403998963,
          79.6048137054948,
          79.22986700963084,
          78.84871062640153,
          78.5734263200913,
          78.22150368289024,
          78.06568059455276,
          77.94251832284293,
          77.75481177932679,
          77.59553240379249,
          77.34800879911246,
          77.36307442634177,
          77.34718503920674,
          77.28608385068587,
          77.19788542028968,
          77.11589884941861,
          77.04101833173135,
          76.9811093202664,
          76.95284945336309,
          76.90624967038568,
          76.92518015197633,
          77.03221075459379,
          77.22639866539892,
          77.19256914205971,
          77.50855206268614,
          78.230770113646,
          78.57000533104188,
          79.5359345265275,
          79.79818569684271,
          80.03400536958698,
          81.46006736566952,
          81.71826756041953,
          81.98312187976337,
          82.25398035832335,
          82.52992930834888,
          82.80981812932446,
          83.09256081100641,
          83.37723976809403,
          83.66312201403109,
          83.94936946725608,
          84.23531859401821,
          84.52024518312336,
          84.80376972648601,
          85.08583378299932,
          85.36629438119327,
          85.64477891975629
         ],
         "yaxis": "y"
        }
       ],
       "layout": {
        "autosize": true,
        "legend": {
         "title": {
          "text": "Country"
         },
         "tracegroupgap": 0
        },
        "margin": {
         "t": 60
        },
        "template": {
         "data": {
          "bar": [
           {
            "error_x": {
             "color": "#2a3f5f"
            },
            "error_y": {
             "color": "#2a3f5f"
            },
            "marker": {
             "line": {
              "color": "#E5ECF6",
              "width": 0.5
             },
             "pattern": {
              "fillmode": "overlay",
              "size": 10,
              "solidity": 0.2
             }
            },
            "type": "bar"
           }
          ],
          "barpolar": [
           {
            "marker": {
             "line": {
              "color": "#E5ECF6",
              "width": 0.5
             },
             "pattern": {
              "fillmode": "overlay",
              "size": 10,
              "solidity": 0.2
             }
            },
            "type": "barpolar"
           }
          ],
          "carpet": [
           {
            "aaxis": {
             "endlinecolor": "#2a3f5f",
             "gridcolor": "white",
             "linecolor": "white",
             "minorgridcolor": "white",
             "startlinecolor": "#2a3f5f"
            },
            "baxis": {
             "endlinecolor": "#2a3f5f",
             "gridcolor": "white",
             "linecolor": "white",
             "minorgridcolor": "white",
             "startlinecolor": "#2a3f5f"
            },
            "type": "carpet"
           }
          ],
          "choropleth": [
           {
            "colorbar": {
             "outlinewidth": 0,
             "ticks": ""
            },
            "type": "choropleth"
           }
          ],
          "contour": [
           {
            "colorbar": {
             "outlinewidth": 0,
             "ticks": ""
            },
            "colorscale": [
             [
              0,
              "#0d0887"
             ],
             [
              0.1111111111111111,
              "#46039f"
             ],
             [
              0.2222222222222222,
              "#7201a8"
             ],
             [
              0.3333333333333333,
              "#9c179e"
             ],
             [
              0.4444444444444444,
              "#bd3786"
             ],
             [
              0.5555555555555556,
              "#d8576b"
             ],
             [
              0.6666666666666666,
              "#ed7953"
             ],
             [
              0.7777777777777778,
              "#fb9f3a"
             ],
             [
              0.8888888888888888,
              "#fdca26"
             ],
             [
              1,
              "#f0f921"
             ]
            ],
            "type": "contour"
           }
          ],
          "contourcarpet": [
           {
            "colorbar": {
             "outlinewidth": 0,
             "ticks": ""
            },
            "type": "contourcarpet"
           }
          ],
          "heatmap": [
           {
            "colorbar": {
             "outlinewidth": 0,
             "ticks": ""
            },
            "colorscale": [
             [
              0,
              "#0d0887"
             ],
             [
              0.1111111111111111,
              "#46039f"
             ],
             [
              0.2222222222222222,
              "#7201a8"
             ],
             [
              0.3333333333333333,
              "#9c179e"
             ],
             [
              0.4444444444444444,
              "#bd3786"
             ],
             [
              0.5555555555555556,
              "#d8576b"
             ],
             [
              0.6666666666666666,
              "#ed7953"
             ],
             [
              0.7777777777777778,
              "#fb9f3a"
             ],
             [
              0.8888888888888888,
              "#fdca26"
             ],
             [
              1,
              "#f0f921"
             ]
            ],
            "type": "heatmap"
           }
          ],
          "heatmapgl": [
           {
            "colorbar": {
             "outlinewidth": 0,
             "ticks": ""
            },
            "colorscale": [
             [
              0,
              "#0d0887"
             ],
             [
              0.1111111111111111,
              "#46039f"
             ],
             [
              0.2222222222222222,
              "#7201a8"
             ],
             [
              0.3333333333333333,
              "#9c179e"
             ],
             [
              0.4444444444444444,
              "#bd3786"
             ],
             [
              0.5555555555555556,
              "#d8576b"
             ],
             [
              0.6666666666666666,
              "#ed7953"
             ],
             [
              0.7777777777777778,
              "#fb9f3a"
             ],
             [
              0.8888888888888888,
              "#fdca26"
             ],
             [
              1,
              "#f0f921"
             ]
            ],
            "type": "heatmapgl"
           }
          ],
          "histogram": [
           {
            "marker": {
             "pattern": {
              "fillmode": "overlay",
              "size": 10,
              "solidity": 0.2
             }
            },
            "type": "histogram"
           }
          ],
          "histogram2d": [
           {
            "colorbar": {
             "outlinewidth": 0,
             "ticks": ""
            },
            "colorscale": [
             [
              0,
              "#0d0887"
             ],
             [
              0.1111111111111111,
              "#46039f"
             ],
             [
              0.2222222222222222,
              "#7201a8"
             ],
             [
              0.3333333333333333,
              "#9c179e"
             ],
             [
              0.4444444444444444,
              "#bd3786"
             ],
             [
              0.5555555555555556,
              "#d8576b"
             ],
             [
              0.6666666666666666,
              "#ed7953"
             ],
             [
              0.7777777777777778,
              "#fb9f3a"
             ],
             [
              0.8888888888888888,
              "#fdca26"
             ],
             [
              1,
              "#f0f921"
             ]
            ],
            "type": "histogram2d"
           }
          ],
          "histogram2dcontour": [
           {
            "colorbar": {
             "outlinewidth": 0,
             "ticks": ""
            },
            "colorscale": [
             [
              0,
              "#0d0887"
             ],
             [
              0.1111111111111111,
              "#46039f"
             ],
             [
              0.2222222222222222,
              "#7201a8"
             ],
             [
              0.3333333333333333,
              "#9c179e"
             ],
             [
              0.4444444444444444,
              "#bd3786"
             ],
             [
              0.5555555555555556,
              "#d8576b"
             ],
             [
              0.6666666666666666,
              "#ed7953"
             ],
             [
              0.7777777777777778,
              "#fb9f3a"
             ],
             [
              0.8888888888888888,
              "#fdca26"
             ],
             [
              1,
              "#f0f921"
             ]
            ],
            "type": "histogram2dcontour"
           }
          ],
          "mesh3d": [
           {
            "colorbar": {
             "outlinewidth": 0,
             "ticks": ""
            },
            "type": "mesh3d"
           }
          ],
          "parcoords": [
           {
            "line": {
             "colorbar": {
              "outlinewidth": 0,
              "ticks": ""
             }
            },
            "type": "parcoords"
           }
          ],
          "pie": [
           {
            "automargin": true,
            "type": "pie"
           }
          ],
          "scatter": [
           {
            "fillpattern": {
             "fillmode": "overlay",
             "size": 10,
             "solidity": 0.2
            },
            "type": "scatter"
           }
          ],
          "scatter3d": [
           {
            "line": {
             "colorbar": {
              "outlinewidth": 0,
              "ticks": ""
             }
            },
            "marker": {
             "colorbar": {
              "outlinewidth": 0,
              "ticks": ""
             }
            },
            "type": "scatter3d"
           }
          ],
          "scattercarpet": [
           {
            "marker": {
             "colorbar": {
              "outlinewidth": 0,
              "ticks": ""
             }
            },
            "type": "scattercarpet"
           }
          ],
          "scattergeo": [
           {
            "marker": {
             "colorbar": {
              "outlinewidth": 0,
              "ticks": ""
             }
            },
            "type": "scattergeo"
           }
          ],
          "scattergl": [
           {
            "marker": {
             "colorbar": {
              "outlinewidth": 0,
              "ticks": ""
             }
            },
            "type": "scattergl"
           }
          ],
          "scattermapbox": [
           {
            "marker": {
             "colorbar": {
              "outlinewidth": 0,
              "ticks": ""
             }
            },
            "type": "scattermapbox"
           }
          ],
          "scatterpolar": [
           {
            "marker": {
             "colorbar": {
              "outlinewidth": 0,
              "ticks": ""
             }
            },
            "type": "scatterpolar"
           }
          ],
          "scatterpolargl": [
           {
            "marker": {
             "colorbar": {
              "outlinewidth": 0,
              "ticks": ""
             }
            },
            "type": "scatterpolargl"
           }
          ],
          "scatterternary": [
           {
            "marker": {
             "colorbar": {
              "outlinewidth": 0,
              "ticks": ""
             }
            },
            "type": "scatterternary"
           }
          ],
          "surface": [
           {
            "colorbar": {
             "outlinewidth": 0,
             "ticks": ""
            },
            "colorscale": [
             [
              0,
              "#0d0887"
             ],
             [
              0.1111111111111111,
              "#46039f"
             ],
             [
              0.2222222222222222,
              "#7201a8"
             ],
             [
              0.3333333333333333,
              "#9c179e"
             ],
             [
              0.4444444444444444,
              "#bd3786"
             ],
             [
              0.5555555555555556,
              "#d8576b"
             ],
             [
              0.6666666666666666,
              "#ed7953"
             ],
             [
              0.7777777777777778,
              "#fb9f3a"
             ],
             [
              0.8888888888888888,
              "#fdca26"
             ],
             [
              1,
              "#f0f921"
             ]
            ],
            "type": "surface"
           }
          ],
          "table": [
           {
            "cells": {
             "fill": {
              "color": "#EBF0F8"
             },
             "line": {
              "color": "white"
             }
            },
            "header": {
             "fill": {
              "color": "#C8D4E3"
             },
             "line": {
              "color": "white"
             }
            },
            "type": "table"
           }
          ]
         },
         "layout": {
          "annotationdefaults": {
           "arrowcolor": "#2a3f5f",
           "arrowhead": 0,
           "arrowwidth": 1
          },
          "autotypenumbers": "strict",
          "coloraxis": {
           "colorbar": {
            "outlinewidth": 0,
            "ticks": ""
           }
          },
          "colorscale": {
           "diverging": [
            [
             0,
             "#8e0152"
            ],
            [
             0.1,
             "#c51b7d"
            ],
            [
             0.2,
             "#de77ae"
            ],
            [
             0.3,
             "#f1b6da"
            ],
            [
             0.4,
             "#fde0ef"
            ],
            [
             0.5,
             "#f7f7f7"
            ],
            [
             0.6,
             "#e6f5d0"
            ],
            [
             0.7,
             "#b8e186"
            ],
            [
             0.8,
             "#7fbc41"
            ],
            [
             0.9,
             "#4d9221"
            ],
            [
             1,
             "#276419"
            ]
           ],
           "sequential": [
            [
             0,
             "#0d0887"
            ],
            [
             0.1111111111111111,
             "#46039f"
            ],
            [
             0.2222222222222222,
             "#7201a8"
            ],
            [
             0.3333333333333333,
             "#9c179e"
            ],
            [
             0.4444444444444444,
             "#bd3786"
            ],
            [
             0.5555555555555556,
             "#d8576b"
            ],
            [
             0.6666666666666666,
             "#ed7953"
            ],
            [
             0.7777777777777778,
             "#fb9f3a"
            ],
            [
             0.8888888888888888,
             "#fdca26"
            ],
            [
             1,
             "#f0f921"
            ]
           ],
           "sequentialminus": [
            [
             0,
             "#0d0887"
            ],
            [
             0.1111111111111111,
             "#46039f"
            ],
            [
             0.2222222222222222,
             "#7201a8"
            ],
            [
             0.3333333333333333,
             "#9c179e"
            ],
            [
             0.4444444444444444,
             "#bd3786"
            ],
            [
             0.5555555555555556,
             "#d8576b"
            ],
            [
             0.6666666666666666,
             "#ed7953"
            ],
            [
             0.7777777777777778,
             "#fb9f3a"
            ],
            [
             0.8888888888888888,
             "#fdca26"
            ],
            [
             1,
             "#f0f921"
            ]
           ]
          },
          "colorway": [
           "#636efa",
           "#EF553B",
           "#00cc96",
           "#ab63fa",
           "#FFA15A",
           "#19d3f3",
           "#FF6692",
           "#B6E880",
           "#FF97FF",
           "#FECB52"
          ],
          "font": {
           "color": "#2a3f5f"
          },
          "geo": {
           "bgcolor": "white",
           "lakecolor": "white",
           "landcolor": "#E5ECF6",
           "showlakes": true,
           "showland": true,
           "subunitcolor": "white"
          },
          "hoverlabel": {
           "align": "left"
          },
          "hovermode": "closest",
          "mapbox": {
           "style": "light"
          },
          "paper_bgcolor": "white",
          "plot_bgcolor": "#E5ECF6",
          "polar": {
           "angularaxis": {
            "gridcolor": "white",
            "linecolor": "white",
            "ticks": ""
           },
           "bgcolor": "#E5ECF6",
           "radialaxis": {
            "gridcolor": "white",
            "linecolor": "white",
            "ticks": ""
           }
          },
          "scene": {
           "xaxis": {
            "backgroundcolor": "#E5ECF6",
            "gridcolor": "white",
            "gridwidth": 2,
            "linecolor": "white",
            "showbackground": true,
            "ticks": "",
            "zerolinecolor": "white"
           },
           "yaxis": {
            "backgroundcolor": "#E5ECF6",
            "gridcolor": "white",
            "gridwidth": 2,
            "linecolor": "white",
            "showbackground": true,
            "ticks": "",
            "zerolinecolor": "white"
           },
           "zaxis": {
            "backgroundcolor": "#E5ECF6",
            "gridcolor": "white",
            "gridwidth": 2,
            "linecolor": "white",
            "showbackground": true,
            "ticks": "",
            "zerolinecolor": "white"
           }
          },
          "shapedefaults": {
           "line": {
            "color": "#2a3f5f"
           }
          },
          "ternary": {
           "aaxis": {
            "gridcolor": "white",
            "linecolor": "white",
            "ticks": ""
           },
           "baxis": {
            "gridcolor": "white",
            "linecolor": "white",
            "ticks": ""
           },
           "bgcolor": "#E5ECF6",
           "caxis": {
            "gridcolor": "white",
            "linecolor": "white",
            "ticks": ""
           }
          },
          "title": {
           "x": 0.05
          },
          "xaxis": {
           "automargin": true,
           "gridcolor": "white",
           "linecolor": "white",
           "ticks": "",
           "title": {
            "standoff": 15
           },
           "zerolinecolor": "white",
           "zerolinewidth": 2
          },
          "yaxis": {
           "automargin": true,
           "gridcolor": "white",
           "linecolor": "white",
           "ticks": "",
           "title": {
            "standoff": 15
           },
           "zerolinecolor": "white",
           "zerolinewidth": 2
          }
         }
        },
        "title": {
         "text": "Human rights<br>",
         "x": 0.5,
         "xanchor": "center",
         "y": 0.9,
         "yanchor": "top"
        },
        "xaxis": {
         "anchor": "y",
         "autorange": true,
         "domain": [
          0,
          1
         ],
         "range": [
          1941.3573634433508,
          2023.6426365566492
         ],
         "title": {
          "text": "Year"
         },
         "type": "linear"
        },
        "yaxis": {
         "anchor": "x",
         "autorange": true,
         "domain": [
          0,
          1
         ],
         "range": [
          -7.742782152230971,
          107.74278215223097
         ],
         "title": {
          "text": "% Yes"
         },
         "type": "linear"
        }
       }
      },
      "image/png": "[encoded data removed]",
      "text/html": [
       "<div>                            <div id=\"8db8ec49-d6bb-4b33-a786-f4abf41cd22c\" class=\"plotly-graph-div\" style=\"height:525px; width:100%;\"></div>            <script type=\"text/javascript\">                require([\"plotly\"], function(Plotly) {                    window.PLOTLYENV=window.PLOTLYENV || {};                                    if (document.getElementById(\"8db8ec49-d6bb-4b33-a786-f4abf41cd22c\")) {                    Plotly.newPlot(                        \"8db8ec49-d6bb-4b33-a786-f4abf41cd22c\",                        [{\"hovertemplate\":\"Country=Iran\\u003cbr\\u003ex=%{x}\\u003cbr\\u003ey=%{y}\\u003cextra\\u003e\\u003c\\u002fextra\\u003e\",\"legendgroup\":\"Iran\",\"marker\":{\"color\":\"#636efa\",\"symbol\":\"circle\"},\"mode\":\"markers\",\"name\":\"Iran\",\"orientation\":\"v\",\"showlegend\":true,\"x\":[1946,1948,1949,1950,1952,1953,1954,1955,1956,1958,1959,1961,1962,1965,1966,1967,1968,1969,1970,1971,1972,1973,1974,1975,1976,1977,1978,1979,1980,1981,1982,1983,1984,1985,1986,1987,1988,1989,1990,1991,1992,1993,1994,1995,1996,1997,1998,1999,2000,2001,2002,2003,2004,2006,2005,2007,2008,2009,2010,2011,2012,2013,2014,2015,2016,2017,2018,2019],\"xaxis\":\"x\",\"y\":[50.0,16.666666666666664,50.0,50.0,87.5,100.0,0.0,66.66666666666666,83.33333333333334,100.0,100.0,75.0,0.0,0.0,100.0,40.0,100.0,60.0,92.85714285714286,100.0,100.0,87.5,95.0,90.0,82.35294117647058,78.94736842105263,85.71428571428571,100.0,88.88888888888889,100.0,95.23809523809523,100.0,92.85714285714286,88.88888888888889,90.0,94.11764705882352,93.75,92.3076923076923,100.0,90.9090909090909,72.72727272727273,72.72727272727273,78.57142857142857,71.42857142857143,75.0,73.68421052631578,86.66666666666667,75.0,81.25,84.21052631578947,85.71428571428571,84.0,80.0,77.77777777777779,66.66666666666666,81.48148148148148,80.76923076923077,90.9090909090909,76.0,80.0,73.91304347826086,85.71428571428571,70.58823529411765,72.22222222222221,61.111111111111114,73.07692307692307,66.66666666666666,61.53846153846154],\"yaxis\":\"y\",\"type\":\"scatter\"},{\"hovertemplate\":\"\\u003cb\\u003eLOWESS trendline\\u003c\\u002fb\\u003e\\u003cbr\\u003e\\u003cbr\\u003eCountry=Iran\\u003cbr\\u003ex=%{x}\\u003cbr\\u003ey=%{y} \\u003cb\\u003e(trend)\\u003c\\u002fb\\u003e\\u003cextra\\u003e\\u003c\\u002fextra\\u003e\",\"legendgroup\":\"Iran\",\"marker\":{\"color\":\"#636efa\",\"symbol\":\"circle\"},\"mode\":\"lines\",\"name\":\"Iran\",\"showlegend\":false,\"x\":[1946,1948,1949,1950,1952,1953,1954,1955,1956,1958,1959,1961,1962,1965,1966,1967,1968,1969,1970,1971,1972,1973,1974,1975,1976,1977,1978,1979,1980,1981,1982,1983,1984,1985,1986,1987,1988,1989,1990,1991,1992,1993,1994,1995,1996,1997,1998,1999,2000,2001,2002,2003,2004,2005,2006,2007,2008,2009,2010,2011,2012,2013,2014,2015,2016,2017,2018,2019],\"xaxis\":\"x\",\"y\":[62.645429558708116,64.89700560347833,66.00142740423397,67.091648053255,69.23383688899474,70.28956164063038,71.33742651298397,72.37897764760525,73.41593842968716,75.48447509702727,76.52039746868107,78.60599504345839,79.65977182763149,82.8998130206111,84.01833330102227,85.16053472564674,86.32088811541648,87.47522539178887,88.56199022250244,89.48691308596071,90.0098690936775,90.42072238192617,90.71804864320534,90.91606960564897,91.19408235946776,91.19166782829764,91.06827456035838,90.83651970787737,90.52388761625427,90.1521903569352,89.73702098210089,89.29073936230724,88.90344918832962,88.42548312116233,87.95479934412593,87.56830109604267,87.10851093804906,86.65767140658306,86.21354434866159,85.77317300151044,85.33302385892452,84.88568053599147,84.41994366927146,83.9263729185124,83.3986997679544,82.83562764786659,82.32880164150082,81.76809650149306,81.1729892155036,80.56133313527134,79.9439858804407,79.3268812590574,78.71311658015343,78.10424436986204,77.50108757299374,76.90426079044774,76.31400451656056,75.73012477232541,75.1520382194922,74.5787479001507,74.00913581945719,73.44198181756263,72.8760255252053,72.30981034203101,71.74198267997755,71.17139110341748,70.59726597557258,70.0189578438253],\"yaxis\":\"y\",\"type\":\"scatter\"},{\"hovertemplate\":\"Country=Germany\\u003cbr\\u003ex=%{x}\\u003cbr\\u003ey=%{y}\\u003cextra\\u003e\\u003c\\u002fextra\\u003e\",\"legendgroup\":\"Germany\",\"marker\":{\"color\":\"#EF553B\",\"symbol\":\"circle\"},\"mode\":\"markers\",\"name\":\"Germany\",\"orientation\":\"v\",\"showlegend\":true,\"x\":[1991,1992,1993,1994,1995,1996,1997,1998,1999,2000,2001,2002,2003,2004,2006,2005,2007,2008,2009,2010,2011,2012,2013,2014,2015,2016,2017,2018,2019],\"xaxis\":\"x\",\"y\":[36.36363636363637,45.45454545454545,54.54545454545454,64.28571428571429,71.42857142857143,64.70588235294117,60.0,64.70588235294117,50.0,52.94117647058824,45.0,56.52173913043478,44.0,50.0,50.0,61.904761904761905,55.55555555555556,50.0,39.130434782608695,48.0,44.0,47.82608695652174,35.0,38.88888888888889,40.0,31.57894736842105,53.333333333333336,54.54545454545454,42.857142857142854],\"yaxis\":\"y\",\"type\":\"scatter\"},{\"hovertemplate\":\"\\u003cb\\u003eLOWESS trendline\\u003c\\u002fb\\u003e\\u003cbr\\u003e\\u003cbr\\u003eCountry=Germany\\u003cbr\\u003ex=%{x}\\u003cbr\\u003ey=%{y} \\u003cb\\u003e(trend)\\u003c\\u002fb\\u003e\\u003cextra\\u003e\\u003c\\u002fextra\\u003e\",\"legendgroup\":\"Germany\",\"marker\":{\"color\":\"#EF553B\",\"symbol\":\"circle\"},\"mode\":\"lines\",\"name\":\"Germany\",\"showlegend\":false,\"x\":[1991,1992,1993,1994,1995,1996,1997,1998,1999,2000,2001,2002,2003,2004,2005,2006,2007,2008,2009,2010,2011,2012,2013,2014,2015,2016,2017,2018,2019],\"xaxis\":\"x\",\"y\":[55.16301179390888,55.4164997206681,55.56457097802486,55.638459201269896,55.67921653422366,55.723902322354476,55.79459059519623,55.88657122466782,55.91612169308022,55.43612625933758,54.465826958216546,53.35321267527294,52.271985166431,51.301767504320786,50.47609347578867,49.73795278998436,48.98715601910425,48.093784225779636,47.00995914446406,45.87566467227856,45.26968460353727,44.90856280810159,44.54404927868989,44.16547314372195,43.79102838576196,43.44139987350124,43.13764117127046,42.90184247290091,42.74092729211878],\"yaxis\":\"y\",\"type\":\"scatter\"},{\"hovertemplate\":\"Country=Liberia\\u003cbr\\u003ex=%{x}\\u003cbr\\u003ey=%{y}\\u003cextra\\u003e\\u003c\\u002fextra\\u003e\",\"legendgroup\":\"Liberia\",\"marker\":{\"color\":\"#00cc96\",\"symbol\":\"circle\"},\"mode\":\"markers\",\"name\":\"Liberia\",\"orientation\":\"v\",\"showlegend\":true,\"x\":[1946,1948,1949,1950,1952,1953,1954,1955,1956,1958,1959,1961,1962,1965,1966,1967,1968,1969,1970,1971,1972,1973,1974,1975,1976,1977,1978,1979,1980,1981,1982,1983,1984,1985,1986,1987,1988,1989,1991,1992,1996,1997,1998,2004,2005,2006,2007,2008,2009,2010,2011,2012,2013,2014,2015,2016,2017,2018,2019],\"xaxis\":\"x\",\"y\":[0.0,16.666666666666664,100.0,100.0,62.5,100.0,0.0,66.66666666666666,83.33333333333334,100.0,100.0,50.0,0.0,100.0,88.88888888888889,40.0,0.0,40.0,71.42857142857143,62.5,76.47058823529412,95.83333333333334,100.0,64.70588235294117,81.25,72.22222222222221,100.0,85.71428571428571,82.35294117647058,69.23076923076923,80.95238095238095,68.75,73.33333333333333,60.0,75.0,84.21052631578947,75.0,85.71428571428571,100.0,72.72727272727273,33.33333333333333,60.0,0.0,77.77777777777779,100.0,85.71428571428571,95.0,82.6086956521739,82.6086956521739,76.0,95.83333333333334,73.91304347826086,95.23809523809523,72.22222222222221,75.0,87.5,100.0,63.63636363636363,90.9090909090909],\"yaxis\":\"y\",\"type\":\"scatter\"},{\"hovertemplate\":\"\\u003cb\\u003eLOWESS trendline\\u003c\\u002fb\\u003e\\u003cbr\\u003e\\u003cbr\\u003eCountry=Liberia\\u003cbr\\u003ex=%{x}\\u003cbr\\u003ey=%{y} \\u003cb\\u003e(trend)\\u003c\\u002fb\\u003e\\u003cextra\\u003e\\u003c\\u002fextra\\u003e\",\"legendgroup\":\"Liberia\",\"marker\":{\"color\":\"#00cc96\",\"symbol\":\"circle\"},\"mode\":\"lines\",\"name\":\"Liberia\",\"showlegend\":false,\"x\":[1946,1948,1949,1950,1952,1953,1954,1955,1956,1958,1959,1961,1962,1965,1966,1967,1968,1969,1970,1971,1972,1973,1974,1975,1976,1977,1978,1979,1980,1981,1982,1983,1984,1985,1986,1987,1988,1989,1991,1992,1996,1997,1998,2004,2005,2006,2007,2008,2009,2010,2011,2012,2013,2014,2015,2016,2017,2018,2019],\"xaxis\":\"x\",\"y\":[87.53367407582131,86.63304402518449,86.19289940347105,85.76057169183046,84.91846567549524,84.50678278043617,84.1010962666371,83.70099454173852,83.3060211272065,82.53352337697713,82.15733785180052,81.4226352441379,81.0601038597274,79.97289403998963,79.6048137054948,79.22986700963084,78.84871062640153,78.5734263200913,78.22150368289024,78.06568059455276,77.94251832284293,77.75481177932679,77.59553240379249,77.34800879911246,77.36307442634177,77.34718503920674,77.28608385068587,77.19788542028968,77.11589884941861,77.04101833173135,76.9811093202664,76.95284945336309,76.90624967038568,76.92518015197633,77.03221075459379,77.22639866539892,77.19256914205971,77.50855206268614,78.230770113646,78.57000533104188,79.5359345265275,79.79818569684271,80.03400536958698,81.46006736566952,81.71826756041953,81.98312187976337,82.25398035832335,82.52992930834888,82.80981812932446,83.09256081100641,83.37723976809403,83.66312201403109,83.94936946725608,84.23531859401821,84.52024518312336,84.80376972648601,85.08583378299932,85.36629438119327,85.64477891975629],\"yaxis\":\"y\",\"type\":\"scatter\"}],                        {\"template\":{\"data\":{\"histogram2dcontour\":[{\"type\":\"histogram2dcontour\",\"colorbar\":{\"outlinewidth\":0,\"ticks\":\"\"},\"colorscale\":[[0.0,\"#0d0887\"],[0.1111111111111111,\"#46039f\"],[0.2222222222222222,\"#7201a8\"],[0.3333333333333333,\"#9c179e\"],[0.4444444444444444,\"#bd3786\"],[0.5555555555555556,\"#d8576b\"],[0.6666666666666666,\"#ed7953\"],[0.7777777777777778,\"#fb9f3a\"],[0.8888888888888888,\"#fdca26\"],[1.0,\"#f0f921\"]]}],\"choropleth\":[{\"type\":\"choropleth\",\"colorbar\":{\"outlinewidth\":0,\"ticks\":\"\"}}],\"histogram2d\":[{\"type\":\"histogram2d\",\"colorbar\":{\"outlinewidth\":0,\"ticks\":\"\"},\"colorscale\":[[0.0,\"#0d0887\"],[0.1111111111111111,\"#46039f\"],[0.2222222222222222,\"#7201a8\"],[0.3333333333333333,\"#9c179e\"],[0.4444444444444444,\"#bd3786\"],[0.5555555555555556,\"#d8576b\"],[0.6666666666666666,\"#ed7953\"],[0.7777777777777778,\"#fb9f3a\"],[0.8888888888888888,\"#fdca26\"],[1.0,\"#f0f921\"]]}],\"heatmap\":[{\"type\":\"heatmap\",\"colorbar\":{\"outlinewidth\":0,\"ticks\":\"\"},\"colorscale\":[[0.0,\"#0d0887\"],[0.1111111111111111,\"#46039f\"],[0.2222222222222222,\"#7201a8\"],[0.3333333333333333,\"#9c179e\"],[0.4444444444444444,\"#bd3786\"],[0.5555555555555556,\"#d8576b\"],[0.6666666666666666,\"#ed7953\"],[0.7777777777777778,\"#fb9f3a\"],[0.8888888888888888,\"#fdca26\"],[1.0,\"#f0f921\"]]}],\"heatmapgl\":[{\"type\":\"heatmapgl\",\"colorbar\":{\"outlinewidth\":0,\"ticks\":\"\"},\"colorscale\":[[0.0,\"#0d0887\"],[0.1111111111111111,\"#46039f\"],[0.2222222222222222,\"#7201a8\"],[0.3333333333333333,\"#9c179e\"],[0.4444444444444444,\"#bd3786\"],[0.5555555555555556,\"#d8576b\"],[0.6666666666666666,\"#ed7953\"],[0.7777777777777778,\"#fb9f3a\"],[0.8888888888888888,\"#fdca26\"],[1.0,\"#f0f921\"]]}],\"contourcarpet\":[{\"type\":\"contourcarpet\",\"colorbar\":{\"outlinewidth\":0,\"ticks\":\"\"}}],\"contour\":[{\"type\":\"contour\",\"colorbar\":{\"outlinewidth\":0,\"ticks\":\"\"},\"colorscale\":[[0.0,\"#0d0887\"],[0.1111111111111111,\"#46039f\"],[0.2222222222222222,\"#7201a8\"],[0.3333333333333333,\"#9c179e\"],[0.4444444444444444,\"#bd3786\"],[0.5555555555555556,\"#d8576b\"],[0.6666666666666666,\"#ed7953\"],[0.7777777777777778,\"#fb9f3a\"],[0.8888888888888888,\"#fdca26\"],[1.0,\"#f0f921\"]]}],\"surface\":[{\"type\":\"surface\",\"colorbar\":{\"outlinewidth\":0,\"ticks\":\"\"},\"colorscale\":[[0.0,\"#0d0887\"],[0.1111111111111111,\"#46039f\"],[0.2222222222222222,\"#7201a8\"],[0.3333333333333333,\"#9c179e\"],[0.4444444444444444,\"#bd3786\"],[0.5555555555555556,\"#d8576b\"],[0.6666666666666666,\"#ed7953\"],[0.7777777777777778,\"#fb9f3a\"],[0.8888888888888888,\"#fdca26\"],[1.0,\"#f0f921\"]]}],\"mesh3d\":[{\"type\":\"mesh3d\",\"colorbar\":{\"outlinewidth\":0,\"ticks\":\"\"}}],\"scatter\":[{\"fillpattern\":{\"fillmode\":\"overlay\",\"size\":10,\"solidity\":0.2},\"type\":\"scatter\"}],\"parcoords\":[{\"type\":\"parcoords\",\"line\":{\"colorbar\":{\"outlinewidth\":0,\"ticks\":\"\"}}}],\"scatterpolargl\":[{\"type\":\"scatterpolargl\",\"marker\":{\"colorbar\":{\"outlinewidth\":0,\"ticks\":\"\"}}}],\"bar\":[{\"error_x\":{\"color\":\"#2a3f5f\"},\"error_y\":{\"color\":\"#2a3f5f\"},\"marker\":{\"line\":{\"color\":\"#E5ECF6\",\"width\":0.5},\"pattern\":{\"fillmode\":\"overlay\",\"size\":10,\"solidity\":0.2}},\"type\":\"bar\"}],\"scattergeo\":[{\"type\":\"scattergeo\",\"marker\":{\"colorbar\":{\"outlinewidth\":0,\"ticks\":\"\"}}}],\"scatterpolar\":[{\"type\":\"scatterpolar\",\"marker\":{\"colorbar\":{\"outlinewidth\":0,\"ticks\":\"\"}}}],\"histogram\":[{\"marker\":{\"pattern\":{\"fillmode\":\"overlay\",\"size\":10,\"solidity\":0.2}},\"type\":\"histogram\"}],\"scattergl\":[{\"type\":\"scattergl\",\"marker\":{\"colorbar\":{\"outlinewidth\":0,\"ticks\":\"\"}}}],\"scatter3d\":[{\"type\":\"scatter3d\",\"line\":{\"colorbar\":{\"outlinewidth\":0,\"ticks\":\"\"}},\"marker\":{\"colorbar\":{\"outlinewidth\":0,\"ticks\":\"\"}}}],\"scattermapbox\":[{\"type\":\"scattermapbox\",\"marker\":{\"colorbar\":{\"outlinewidth\":0,\"ticks\":\"\"}}}],\"scatterternary\":[{\"type\":\"scatterternary\",\"marker\":{\"colorbar\":{\"outlinewidth\":0,\"ticks\":\"\"}}}],\"scattercarpet\":[{\"type\":\"scattercarpet\",\"marker\":{\"colorbar\":{\"outlinewidth\":0,\"ticks\":\"\"}}}],\"carpet\":[{\"aaxis\":{\"endlinecolor\":\"#2a3f5f\",\"gridcolor\":\"white\",\"linecolor\":\"white\",\"minorgridcolor\":\"white\",\"startlinecolor\":\"#2a3f5f\"},\"baxis\":{\"endlinecolor\":\"#2a3f5f\",\"gridcolor\":\"white\",\"linecolor\":\"white\",\"minorgridcolor\":\"white\",\"startlinecolor\":\"#2a3f5f\"},\"type\":\"carpet\"}],\"table\":[{\"cells\":{\"fill\":{\"color\":\"#EBF0F8\"},\"line\":{\"color\":\"white\"}},\"header\":{\"fill\":{\"color\":\"#C8D4E3\"},\"line\":{\"color\":\"white\"}},\"type\":\"table\"}],\"barpolar\":[{\"marker\":{\"line\":{\"color\":\"#E5ECF6\",\"width\":0.5},\"pattern\":{\"fillmode\":\"overlay\",\"size\":10,\"solidity\":0.2}},\"type\":\"barpolar\"}],\"pie\":[{\"automargin\":true,\"type\":\"pie\"}]},\"layout\":{\"autotypenumbers\":\"strict\",\"colorway\":[\"#636efa\",\"#EF553B\",\"#00cc96\",\"#ab63fa\",\"#FFA15A\",\"#19d3f3\",\"#FF6692\",\"#B6E880\",\"#FF97FF\",\"#FECB52\"],\"font\":{\"color\":\"#2a3f5f\"},\"hovermode\":\"closest\",\"hoverlabel\":{\"align\":\"left\"},\"paper_bgcolor\":\"white\",\"plot_bgcolor\":\"#E5ECF6\",\"polar\":{\"bgcolor\":\"#E5ECF6\",\"angularaxis\":{\"gridcolor\":\"white\",\"linecolor\":\"white\",\"ticks\":\"\"},\"radialaxis\":{\"gridcolor\":\"white\",\"linecolor\":\"white\",\"ticks\":\"\"}},\"ternary\":{\"bgcolor\":\"#E5ECF6\",\"aaxis\":{\"gridcolor\":\"white\",\"linecolor\":\"white\",\"ticks\":\"\"},\"baxis\":{\"gridcolor\":\"white\",\"linecolor\":\"white\",\"ticks\":\"\"},\"caxis\":{\"gridcolor\":\"white\",\"linecolor\":\"white\",\"ticks\":\"\"}},\"coloraxis\":{\"colorbar\":{\"outlinewidth\":0,\"ticks\":\"\"}},\"colorscale\":{\"sequential\":[[0.0,\"#0d0887\"],[0.1111111111111111,\"#46039f\"],[0.2222222222222222,\"#7201a8\"],[0.3333333333333333,\"#9c179e\"],[0.4444444444444444,\"#bd3786\"],[0.5555555555555556,\"#d8576b\"],[0.6666666666666666,\"#ed7953\"],[0.7777777777777778,\"#fb9f3a\"],[0.8888888888888888,\"#fdca26\"],[1.0,\"#f0f921\"]],\"sequentialminus\":[[0.0,\"#0d0887\"],[0.1111111111111111,\"#46039f\"],[0.2222222222222222,\"#7201a8\"],[0.3333333333333333,\"#9c179e\"],[0.4444444444444444,\"#bd3786\"],[0.5555555555555556,\"#d8576b\"],[0.6666666666666666,\"#ed7953\"],[0.7777777777777778,\"#fb9f3a\"],[0.8888888888888888,\"#fdca26\"],[1.0,\"#f0f921\"]],\"diverging\":[[0,\"#8e0152\"],[0.1,\"#c51b7d\"],[0.2,\"#de77ae\"],[0.3,\"#f1b6da\"],[0.4,\"#fde0ef\"],[0.5,\"#f7f7f7\"],[0.6,\"#e6f5d0\"],[0.7,\"#b8e186\"],[0.8,\"#7fbc41\"],[0.9,\"#4d9221\"],[1,\"#276419\"]]},\"xaxis\":{\"gridcolor\":\"white\",\"linecolor\":\"white\",\"ticks\":\"\",\"title\":{\"standoff\":15},\"zerolinecolor\":\"white\",\"automargin\":true,\"zerolinewidth\":2},\"yaxis\":{\"gridcolor\":\"white\",\"linecolor\":\"white\",\"ticks\":\"\",\"title\":{\"standoff\":15},\"zerolinecolor\":\"white\",\"automargin\":true,\"zerolinewidth\":2},\"scene\":{\"xaxis\":{\"backgroundcolor\":\"#E5ECF6\",\"gridcolor\":\"white\",\"linecolor\":\"white\",\"showbackground\":true,\"ticks\":\"\",\"zerolinecolor\":\"white\",\"gridwidth\":2},\"yaxis\":{\"backgroundcolor\":\"#E5ECF6\",\"gridcolor\":\"white\",\"linecolor\":\"white\",\"showbackground\":true,\"ticks\":\"\",\"zerolinecolor\":\"white\",\"gridwidth\":2},\"zaxis\":{\"backgroundcolor\":\"#E5ECF6\",\"gridcolor\":\"white\",\"linecolor\":\"white\",\"showbackground\":true,\"ticks\":\"\",\"zerolinecolor\":\"white\",\"gridwidth\":2}},\"shapedefaults\":{\"line\":{\"color\":\"#2a3f5f\"}},\"annotationdefaults\":{\"arrowcolor\":\"#2a3f5f\",\"arrowhead\":0,\"arrowwidth\":1},\"geo\":{\"bgcolor\":\"white\",\"landcolor\":\"#E5ECF6\",\"subunitcolor\":\"white\",\"showland\":true,\"showlakes\":true,\"lakecolor\":\"white\"},\"title\":{\"x\":0.05},\"mapbox\":{\"style\":\"light\"}}},\"xaxis\":{\"anchor\":\"y\",\"domain\":[0.0,1.0],\"title\":{\"text\":\"Year\"}},\"yaxis\":{\"anchor\":\"x\",\"domain\":[0.0,1.0],\"title\":{\"text\":\"% Yes\"}},\"legend\":{\"title\":{\"text\":\"Country\"},\"tracegroupgap\":0},\"margin\":{\"t\":60},\"title\":{\"text\":\"Human rights\\u003cbr\\u003e\",\"y\":0.9,\"x\":0.5,\"xanchor\":\"center\",\"yanchor\":\"top\"}},                        {\"responsive\": true}                    ).then(function(){\n",
       "                            \n",
       "var gd = document.getElementById('8db8ec49-d6bb-4b33-a786-f4abf41cd22c');\n",
       "var x = new MutationObserver(function (mutations, observer) {{\n",
       "        var display = window.getComputedStyle(gd).display;\n",
       "        if (!display || display === 'none') {{\n",
       "            console.log([gd, 'removed!']);\n",
       "            Plotly.purge(gd);\n",
       "            observer.disconnect();\n",
       "        }}\n",
       "}});\n",
       "\n",
       "// Listen for the removal of the full notebook cells\n",
       "var notebookContainer = gd.closest('#notebook-container');\n",
       "if (notebookContainer) {{\n",
       "    x.observe(notebookContainer, {childList: true});\n",
       "}}\n",
       "\n",
       "// Listen for the clearing of the current output cell\n",
       "var outputEl = gd.closest('.output');\n",
       "if (outputEl) {{\n",
       "    x.observe(outputEl, {childList: true});\n",
       "}}\n",
       "\n",
       "                        })                };                });            </script>        </div>"
      ]
     },
     "metadata": {},
     "output_type": "display_data"
    },
    {
     "data": {
      "application/vnd.plotly.v1+json": {
       "config": {
        "plotlyServerURL": "https://plot.ly"
       },
       "data": [
        {
         "hovertemplate": "Country=Iran<br>x=%{x}<br>y=%{y}<extra></extra>",
         "legendgroup": "Iran",
         "marker": {
          "color": "#636efa",
          "symbol": "circle"
         },
         "mode": "markers",
         "name": "Iran",
         "orientation": "v",
         "showlegend": true,
         "type": "scatter",
         "x": [
          1946,
          1947,
          1948,
          1949,
          1950,
          1952,
          1953,
          1955,
          1956,
          1957,
          1958,
          1959,
          1961,
          1962,
          1963,
          1966,
          1967,
          1968,
          1969,
          1970,
          1971,
          1972,
          1973,
          1974,
          1975,
          1976,
          1977,
          1979,
          1978,
          1980,
          1981,
          1982,
          1983,
          1984,
          1985,
          1986,
          1987,
          1988,
          1989,
          1990,
          1991,
          1992,
          1993,
          1994,
          1995,
          1996,
          1997,
          1998,
          1999,
          2000,
          2001,
          2002,
          2003,
          2004,
          2005,
          2006,
          2007,
          2008,
          2009,
          2010,
          2011,
          2012,
          2013,
          2014,
          2015,
          2016,
          2017,
          2018,
          2019
         ],
         "xaxis": "x",
         "y": [
          33.33333333333333,
          0,
          25,
          25,
          100,
          100,
          100,
          100,
          100,
          100,
          80,
          50,
          54.54545454545454,
          50,
          100,
          83.33333333333334,
          83.33333333333334,
          66.66666666666666,
          66.66666666666666,
          100,
          100,
          82.75862068965517,
          100,
          100,
          100,
          92.5925925925926,
          95.65217391304348,
          95.23809523809523,
          95.45454545454545,
          85.71428571428571,
          100,
          100,
          100,
          100,
          100,
          95,
          100,
          94.44444444444444,
          100,
          100,
          100,
          100,
          100,
          100,
          100,
          100,
          100,
          100,
          100,
          100,
          100,
          100,
          100,
          100,
          100,
          88.88888888888889,
          100,
          66.66666666666666,
          81.81818181818183,
          100,
          100,
          58.333333333333336,
          83.33333333333334,
          80,
          71.42857142857143,
          69.23076923076923,
          78.94736842105263,
          77.77777777777779,
          87.5
         ],
         "yaxis": "y"
        },
        {
         "hovertemplate": "<b>LOWESS trendline</b><br><br>Country=Iran<br>x=%{x}<br>y=%{y} <b>(trend)</b><extra></extra>",
         "legendgroup": "Iran",
         "marker": {
          "color": "#636efa",
          "symbol": "circle"
         },
         "mode": "lines",
         "name": "Iran",
         "showlegend": false,
         "type": "scatter",
         "x": [
          1946,
          1947,
          1948,
          1949,
          1950,
          1952,
          1953,
          1955,
          1956,
          1957,
          1958,
          1959,
          1961,
          1962,
          1963,
          1966,
          1967,
          1968,
          1969,
          1970,
          1971,
          1972,
          1973,
          1974,
          1975,
          1976,
          1977,
          1978,
          1979,
          1980,
          1981,
          1982,
          1983,
          1984,
          1985,
          1986,
          1987,
          1988,
          1989,
          1990,
          1991,
          1992,
          1993,
          1994,
          1995,
          1996,
          1997,
          1998,
          1999,
          2000,
          2001,
          2002,
          2003,
          2004,
          2005,
          2006,
          2007,
          2008,
          2009,
          2010,
          2011,
          2012,
          2013,
          2014,
          2015,
          2016,
          2017,
          2018,
          2019
         ],
         "xaxis": "x",
         "y": [
          36.30249545662579,
          38.391301239427335,
          40.46809463052544,
          42.53219277786769,
          44.583516571554874,
          48.65033055565007,
          50.66756707913547,
          54.6752926679986,
          56.6686205169431,
          58.65722615264661,
          60.64316309565795,
          62.62848751494909,
          66.60362867840601,
          68.5978795754506,
          70.60067600824986,
          76.68344648754616,
          78.7186916309082,
          80.71254534041057,
          82.59381832196848,
          84.27512052810272,
          85.63747735107785,
          86.88692562979467,
          88.04589276877634,
          89.13601351448521,
          90.16973395792687,
          91.3389923257281,
          92.27637507214513,
          93.14765319053627,
          93.94761190617221,
          94.67140854322435,
          95.31640238885917,
          95.88474724766155,
          96.38396716799421,
          96.95760237743579,
          97.33816153020574,
          97.67179196391582,
          97.95003501334374,
          98.2740493743721,
          98.41969202066046,
          98.50855951865212,
          98.55161633411437,
          98.55315190068013,
          98.50658808696919,
          98.4021739099871,
          98.22932368291895,
          97.97375013264944,
          97.62474212934582,
          96.89666745072508,
          96.10707364848273,
          95.31423788354267,
          94.53544746139026,
          93.77055400921513,
          93.01505753287715,
          92.26424238627631,
          91.5140744576873,
          90.76121192233444,
          90.00291779323328,
          89.23708781127871,
          88.46197655670808,
          87.67652711819991,
          86.8801171525993,
          86.07197886684637,
          85.25121146821729,
          84.41725350768361,
          83.56982814890162,
          82.70899312156293,
          81.83531968081563,
          80.94985403845192,
          80.0538192369385
         ],
         "yaxis": "y"
        },
        {
         "hovertemplate": "Country=Germany<br>x=%{x}<br>y=%{y}<extra></extra>",
         "legendgroup": "Germany",
         "marker": {
          "color": "#EF553B",
          "symbol": "circle"
         },
         "mode": "markers",
         "name": "Germany",
         "orientation": "v",
         "showlegend": true,
         "type": "scatter",
         "x": [
          1991,
          1992,
          1993,
          1994,
          1995,
          1996,
          1997,
          1998,
          1999,
          2000,
          2001,
          2002,
          2003,
          2004,
          2005,
          2006,
          2007,
          2008,
          2009,
          2010,
          2011,
          2012,
          2013,
          2014,
          2015,
          2016,
          2017,
          2018,
          2019
         ],
         "xaxis": "x",
         "y": [
          25,
          33.33333333333333,
          33.33333333333333,
          25,
          40,
          33.33333333333333,
          50,
          50,
          57.14285714285714,
          100,
          50,
          66.66666666666666,
          85.71428571428571,
          100,
          77.77777777777779,
          77.77777777777779,
          75,
          76.92307692307693,
          66.66666666666666,
          71.42857142857143,
          66.66666666666666,
          66.66666666666666,
          71.42857142857143,
          63.63636363636363,
          71.42857142857143,
          71.42857142857143,
          75,
          72.22222222222221,
          31.25
         ],
         "yaxis": "y"
        },
        {
         "hovertemplate": "<b>LOWESS trendline</b><br><br>Country=Germany<br>x=%{x}<br>y=%{y} <b>(trend)</b><extra></extra>",
         "legendgroup": "Germany",
         "marker": {
          "color": "#EF553B",
          "symbol": "circle"
         },
         "mode": "lines",
         "name": "Germany",
         "showlegend": false,
         "type": "scatter",
         "x": [
          1991,
          1992,
          1993,
          1994,
          1995,
          1996,
          1997,
          1998,
          1999,
          2000,
          2001,
          2002,
          2003,
          2004,
          2005,
          2006,
          2007,
          2008,
          2009,
          2010,
          2011,
          2012,
          2013,
          2014,
          2015,
          2016,
          2017,
          2018,
          2019
         ],
         "xaxis": "x",
         "y": [
          24.584821477367527,
          28.105537983482055,
          31.64936881933887,
          35.20880715326132,
          38.77294437181367,
          42.33663332609388,
          45.89879698312832,
          49.47300135318166,
          53.09066909841192,
          56.843901951408654,
          60.16656885929645,
          63.055770467338085,
          65.51451428754778,
          67.61758375849428,
          69.40352168797111,
          70.88538270603608,
          71.83562451982822,
          72.18086993458371,
          72.0387693423264,
          71.49988522808187,
          71.20529846040894,
          70.99228712763627,
          70.80902721170577,
          70.65710710622244,
          70.54282110547433,
          70.47663599072506,
          70.46571478661681,
          70.51194530697529,
          70.60981366003699
         ],
         "yaxis": "y"
        },
        {
         "hovertemplate": "Country=Liberia<br>x=%{x}<br>y=%{y}<extra></extra>",
         "legendgroup": "Liberia",
         "marker": {
          "color": "#00cc96",
          "symbol": "circle"
         },
         "mode": "markers",
         "name": "Liberia",
         "orientation": "v",
         "showlegend": true,
         "type": "scatter",
         "x": [
          1946,
          1947,
          1948,
          1949,
          1950,
          1952,
          1953,
          1954,
          1955,
          1956,
          1957,
          1958,
          1959,
          1961,
          1962,
          1963,
          1966,
          1967,
          1968,
          1969,
          1970,
          1971,
          1972,
          1973,
          1974,
          1975,
          1976,
          1977,
          1979,
          1978,
          1980,
          1981,
          1982,
          1983,
          1984,
          1985,
          1986,
          1987,
          1988,
          1989,
          1991,
          1992,
          1996,
          1997,
          2004,
          2005,
          2006,
          2007,
          2008,
          2009,
          2010,
          2011,
          2012,
          2013,
          2014,
          2015,
          2016,
          2017,
          2018,
          2019
         ],
         "xaxis": "x",
         "y": [
          57.14285714285714,
          100,
          66.66666666666666,
          42.857142857142854,
          0,
          100,
          100,
          0,
          100,
          100,
          100,
          80,
          66.66666666666666,
          54.54545454545454,
          66.66666666666666,
          100,
          83.33333333333334,
          100,
          66.66666666666666,
          75,
          100,
          100,
          72.41379310344827,
          92.85714285714286,
          100,
          72.72727272727273,
          100,
          95.65217391304348,
          95.23809523809523,
          90.9090909090909,
          84.61538461538461,
          95.23809523809523,
          96,
          87.5,
          95,
          95.83333333333334,
          90,
          85,
          88.88888888888889,
          100,
          100,
          100,
          50,
          75,
          100,
          100,
          100,
          100,
          90,
          90,
          85.71428571428571,
          100,
          91.66666666666666,
          100,
          100,
          100,
          92.85714285714286,
          94.44444444444444,
          93.33333333333333,
          63.63636363636363
         ],
         "yaxis": "y"
        },
        {
         "hovertemplate": "<b>LOWESS trendline</b><br><br>Country=Liberia<br>x=%{x}<br>y=%{y} <b>(trend)</b><extra></extra>",
         "legendgroup": "Liberia",
         "marker": {
          "color": "#00cc96",
          "symbol": "circle"
         },
         "mode": "lines",
         "name": "Liberia",
         "showlegend": false,
         "type": "scatter",
         "x": [
          1946,
          1947,
          1948,
          1949,
          1950,
          1952,
          1953,
          1954,
          1955,
          1956,
          1957,
          1958,
          1959,
          1961,
          1962,
          1963,
          1966,
          1967,
          1968,
          1969,
          1970,
          1971,
          1972,
          1973,
          1974,
          1975,
          1976,
          1977,
          1978,
          1979,
          1980,
          1981,
          1982,
          1983,
          1984,
          1985,
          1986,
          1987,
          1988,
          1989,
          1991,
          1992,
          1996,
          1997,
          2004,
          2005,
          2006,
          2007,
          2008,
          2009,
          2010,
          2011,
          2012,
          2013,
          2014,
          2015,
          2016,
          2017,
          2018,
          2019
         ],
         "xaxis": "x",
         "y": [
          74.52039036226004,
          75.1250731928819,
          75.72152514174114,
          76.31095192529216,
          76.89545936436073,
          78.06196719876328,
          78.65082118396293,
          79.24751882669601,
          79.8543491777983,
          80.47338349720789,
          81.10581924398318,
          81.75150658088752,
          82.40870037094271,
          83.74582858255849,
          84.41622180087117,
          85.07502030175341,
          86.6575033209838,
          86.85710182802376,
          87.09192559410461,
          87.45960723886225,
          87.70677889760265,
          87.98290541650634,
          88.36977974462772,
          88.70900143674376,
          89.0952280474363,
          89.52321609513452,
          89.9420138536499,
          90.33661529998781,
          90.70145912205842,
          91.0879343749476,
          91.45238417531934,
          91.78343958490593,
          92.07704913777927,
          92.33897717416514,
          92.57731008458148,
          92.79502907050622,
          93.00706094865576,
          93.18713497427876,
          93.34216727871178,
          93.47436588235993,
          93.74198169300429,
          93.84479166507536,
          94.24736595101037,
          94.31733370210044,
          94.7453415823847,
          94.8073813438882,
          94.86974047986281,
          94.93205467343509,
          94.99383650865447,
          95.05456881733693,
          95.1139375752798,
          95.17186439313394,
          95.22846637976794,
          95.28379727939989,
          95.33792483088935,
          95.39078778980985,
          95.44216223782765,
          95.49171830892452,
          95.53919315713551,
          95.58439880097973
         ],
         "yaxis": "y"
        }
       ],
       "layout": {
        "autosize": true,
        "legend": {
         "title": {
          "text": "Country"
         },
         "tracegroupgap": 0
        },
        "margin": {
         "t": 60
        },
        "template": {
         "data": {
          "bar": [
           {
            "error_x": {
             "color": "#2a3f5f"
            },
            "error_y": {
             "color": "#2a3f5f"
            },
            "marker": {
             "line": {
              "color": "#E5ECF6",
              "width": 0.5
             },
             "pattern": {
              "fillmode": "overlay",
              "size": 10,
              "solidity": 0.2
             }
            },
            "type": "bar"
           }
          ],
          "barpolar": [
           {
            "marker": {
             "line": {
              "color": "#E5ECF6",
              "width": 0.5
             },
             "pattern": {
              "fillmode": "overlay",
              "size": 10,
              "solidity": 0.2
             }
            },
            "type": "barpolar"
           }
          ],
          "carpet": [
           {
            "aaxis": {
             "endlinecolor": "#2a3f5f",
             "gridcolor": "white",
             "linecolor": "white",
             "minorgridcolor": "white",
             "startlinecolor": "#2a3f5f"
            },
            "baxis": {
             "endlinecolor": "#2a3f5f",
             "gridcolor": "white",
             "linecolor": "white",
             "minorgridcolor": "white",
             "startlinecolor": "#2a3f5f"
            },
            "type": "carpet"
           }
          ],
          "choropleth": [
           {
            "colorbar": {
             "outlinewidth": 0,
             "ticks": ""
            },
            "type": "choropleth"
           }
          ],
          "contour": [
           {
            "colorbar": {
             "outlinewidth": 0,
             "ticks": ""
            },
            "colorscale": [
             [
              0,
              "#0d0887"
             ],
             [
              0.1111111111111111,
              "#46039f"
             ],
             [
              0.2222222222222222,
              "#7201a8"
             ],
             [
              0.3333333333333333,
              "#9c179e"
             ],
             [
              0.4444444444444444,
              "#bd3786"
             ],
             [
              0.5555555555555556,
              "#d8576b"
             ],
             [
              0.6666666666666666,
              "#ed7953"
             ],
             [
              0.7777777777777778,
              "#fb9f3a"
             ],
             [
              0.8888888888888888,
              "#fdca26"
             ],
             [
              1,
              "#f0f921"
             ]
            ],
            "type": "contour"
           }
          ],
          "contourcarpet": [
           {
            "colorbar": {
             "outlinewidth": 0,
             "ticks": ""
            },
            "type": "contourcarpet"
           }
          ],
          "heatmap": [
           {
            "colorbar": {
             "outlinewidth": 0,
             "ticks": ""
            },
            "colorscale": [
             [
              0,
              "#0d0887"
             ],
             [
              0.1111111111111111,
              "#46039f"
             ],
             [
              0.2222222222222222,
              "#7201a8"
             ],
             [
              0.3333333333333333,
              "#9c179e"
             ],
             [
              0.4444444444444444,
              "#bd3786"
             ],
             [
              0.5555555555555556,
              "#d8576b"
             ],
             [
              0.6666666666666666,
              "#ed7953"
             ],
             [
              0.7777777777777778,
              "#fb9f3a"
             ],
             [
              0.8888888888888888,
              "#fdca26"
             ],
             [
              1,
              "#f0f921"
             ]
            ],
            "type": "heatmap"
           }
          ],
          "heatmapgl": [
           {
            "colorbar": {
             "outlinewidth": 0,
             "ticks": ""
            },
            "colorscale": [
             [
              0,
              "#0d0887"
             ],
             [
              0.1111111111111111,
              "#46039f"
             ],
             [
              0.2222222222222222,
              "#7201a8"
             ],
             [
              0.3333333333333333,
              "#9c179e"
             ],
             [
              0.4444444444444444,
              "#bd3786"
             ],
             [
              0.5555555555555556,
              "#d8576b"
             ],
             [
              0.6666666666666666,
              "#ed7953"
             ],
             [
              0.7777777777777778,
              "#fb9f3a"
             ],
             [
              0.8888888888888888,
              "#fdca26"
             ],
             [
              1,
              "#f0f921"
             ]
            ],
            "type": "heatmapgl"
           }
          ],
          "histogram": [
           {
            "marker": {
             "pattern": {
              "fillmode": "overlay",
              "size": 10,
              "solidity": 0.2
             }
            },
            "type": "histogram"
           }
          ],
          "histogram2d": [
           {
            "colorbar": {
             "outlinewidth": 0,
             "ticks": ""
            },
            "colorscale": [
             [
              0,
              "#0d0887"
             ],
             [
              0.1111111111111111,
              "#46039f"
             ],
             [
              0.2222222222222222,
              "#7201a8"
             ],
             [
              0.3333333333333333,
              "#9c179e"
             ],
             [
              0.4444444444444444,
              "#bd3786"
             ],
             [
              0.5555555555555556,
              "#d8576b"
             ],
             [
              0.6666666666666666,
              "#ed7953"
             ],
             [
              0.7777777777777778,
              "#fb9f3a"
             ],
             [
              0.8888888888888888,
              "#fdca26"
             ],
             [
              1,
              "#f0f921"
             ]
            ],
            "type": "histogram2d"
           }
          ],
          "histogram2dcontour": [
           {
            "colorbar": {
             "outlinewidth": 0,
             "ticks": ""
            },
            "colorscale": [
             [
              0,
              "#0d0887"
             ],
             [
              0.1111111111111111,
              "#46039f"
             ],
             [
              0.2222222222222222,
              "#7201a8"
             ],
             [
              0.3333333333333333,
              "#9c179e"
             ],
             [
              0.4444444444444444,
              "#bd3786"
             ],
             [
              0.5555555555555556,
              "#d8576b"
             ],
             [
              0.6666666666666666,
              "#ed7953"
             ],
             [
              0.7777777777777778,
              "#fb9f3a"
             ],
             [
              0.8888888888888888,
              "#fdca26"
             ],
             [
              1,
              "#f0f921"
             ]
            ],
            "type": "histogram2dcontour"
           }
          ],
          "mesh3d": [
           {
            "colorbar": {
             "outlinewidth": 0,
             "ticks": ""
            },
            "type": "mesh3d"
           }
          ],
          "parcoords": [
           {
            "line": {
             "colorbar": {
              "outlinewidth": 0,
              "ticks": ""
             }
            },
            "type": "parcoords"
           }
          ],
          "pie": [
           {
            "automargin": true,
            "type": "pie"
           }
          ],
          "scatter": [
           {
            "fillpattern": {
             "fillmode": "overlay",
             "size": 10,
             "solidity": 0.2
            },
            "type": "scatter"
           }
          ],
          "scatter3d": [
           {
            "line": {
             "colorbar": {
              "outlinewidth": 0,
              "ticks": ""
             }
            },
            "marker": {
             "colorbar": {
              "outlinewidth": 0,
              "ticks": ""
             }
            },
            "type": "scatter3d"
           }
          ],
          "scattercarpet": [
           {
            "marker": {
             "colorbar": {
              "outlinewidth": 0,
              "ticks": ""
             }
            },
            "type": "scattercarpet"
           }
          ],
          "scattergeo": [
           {
            "marker": {
             "colorbar": {
              "outlinewidth": 0,
              "ticks": ""
             }
            },
            "type": "scattergeo"
           }
          ],
          "scattergl": [
           {
            "marker": {
             "colorbar": {
              "outlinewidth": 0,
              "ticks": ""
             }
            },
            "type": "scattergl"
           }
          ],
          "scattermapbox": [
           {
            "marker": {
             "colorbar": {
              "outlinewidth": 0,
              "ticks": ""
             }
            },
            "type": "scattermapbox"
           }
          ],
          "scatterpolar": [
           {
            "marker": {
             "colorbar": {
              "outlinewidth": 0,
              "ticks": ""
             }
            },
            "type": "scatterpolar"
           }
          ],
          "scatterpolargl": [
           {
            "marker": {
             "colorbar": {
              "outlinewidth": 0,
              "ticks": ""
             }
            },
            "type": "scatterpolargl"
           }
          ],
          "scatterternary": [
           {
            "marker": {
             "colorbar": {
              "outlinewidth": 0,
              "ticks": ""
             }
            },
            "type": "scatterternary"
           }
          ],
          "surface": [
           {
            "colorbar": {
             "outlinewidth": 0,
             "ticks": ""
            },
            "colorscale": [
             [
              0,
              "#0d0887"
             ],
             [
              0.1111111111111111,
              "#46039f"
             ],
             [
              0.2222222222222222,
              "#7201a8"
             ],
             [
              0.3333333333333333,
              "#9c179e"
             ],
             [
              0.4444444444444444,
              "#bd3786"
             ],
             [
              0.5555555555555556,
              "#d8576b"
             ],
             [
              0.6666666666666666,
              "#ed7953"
             ],
             [
              0.7777777777777778,
              "#fb9f3a"
             ],
             [
              0.8888888888888888,
              "#fdca26"
             ],
             [
              1,
              "#f0f921"
             ]
            ],
            "type": "surface"
           }
          ],
          "table": [
           {
            "cells": {
             "fill": {
              "color": "#EBF0F8"
             },
             "line": {
              "color": "white"
             }
            },
            "header": {
             "fill": {
              "color": "#C8D4E3"
             },
             "line": {
              "color": "white"
             }
            },
            "type": "table"
           }
          ]
         },
         "layout": {
          "annotationdefaults": {
           "arrowcolor": "#2a3f5f",
           "arrowhead": 0,
           "arrowwidth": 1
          },
          "autotypenumbers": "strict",
          "coloraxis": {
           "colorbar": {
            "outlinewidth": 0,
            "ticks": ""
           }
          },
          "colorscale": {
           "diverging": [
            [
             0,
             "#8e0152"
            ],
            [
             0.1,
             "#c51b7d"
            ],
            [
             0.2,
             "#de77ae"
            ],
            [
             0.3,
             "#f1b6da"
            ],
            [
             0.4,
             "#fde0ef"
            ],
            [
             0.5,
             "#f7f7f7"
            ],
            [
             0.6,
             "#e6f5d0"
            ],
            [
             0.7,
             "#b8e186"
            ],
            [
             0.8,
             "#7fbc41"
            ],
            [
             0.9,
             "#4d9221"
            ],
            [
             1,
             "#276419"
            ]
           ],
           "sequential": [
            [
             0,
             "#0d0887"
            ],
            [
             0.1111111111111111,
             "#46039f"
            ],
            [
             0.2222222222222222,
             "#7201a8"
            ],
            [
             0.3333333333333333,
             "#9c179e"
            ],
            [
             0.4444444444444444,
             "#bd3786"
            ],
            [
             0.5555555555555556,
             "#d8576b"
            ],
            [
             0.6666666666666666,
             "#ed7953"
            ],
            [
             0.7777777777777778,
             "#fb9f3a"
            ],
            [
             0.8888888888888888,
             "#fdca26"
            ],
            [
             1,
             "#f0f921"
            ]
           ],
           "sequentialminus": [
            [
             0,
             "#0d0887"
            ],
            [
             0.1111111111111111,
             "#46039f"
            ],
            [
             0.2222222222222222,
             "#7201a8"
            ],
            [
             0.3333333333333333,
             "#9c179e"
            ],
            [
             0.4444444444444444,
             "#bd3786"
            ],
            [
             0.5555555555555556,
             "#d8576b"
            ],
            [
             0.6666666666666666,
             "#ed7953"
            ],
            [
             0.7777777777777778,
             "#fb9f3a"
            ],
            [
             0.8888888888888888,
             "#fdca26"
            ],
            [
             1,
             "#f0f921"
            ]
           ]
          },
          "colorway": [
           "#636efa",
           "#EF553B",
           "#00cc96",
           "#ab63fa",
           "#FFA15A",
           "#19d3f3",
           "#FF6692",
           "#B6E880",
           "#FF97FF",
           "#FECB52"
          ],
          "font": {
           "color": "#2a3f5f"
          },
          "geo": {
           "bgcolor": "white",
           "lakecolor": "white",
           "landcolor": "#E5ECF6",
           "showlakes": true,
           "showland": true,
           "subunitcolor": "white"
          },
          "hoverlabel": {
           "align": "left"
          },
          "hovermode": "closest",
          "mapbox": {
           "style": "light"
          },
          "paper_bgcolor": "white",
          "plot_bgcolor": "#E5ECF6",
          "polar": {
           "angularaxis": {
            "gridcolor": "white",
            "linecolor": "white",
            "ticks": ""
           },
           "bgcolor": "#E5ECF6",
           "radialaxis": {
            "gridcolor": "white",
            "linecolor": "white",
            "ticks": ""
           }
          },
          "scene": {
           "xaxis": {
            "backgroundcolor": "#E5ECF6",
            "gridcolor": "white",
            "gridwidth": 2,
            "linecolor": "white",
            "showbackground": true,
            "ticks": "",
            "zerolinecolor": "white"
           },
           "yaxis": {
            "backgroundcolor": "#E5ECF6",
            "gridcolor": "white",
            "gridwidth": 2,
            "linecolor": "white",
            "showbackground": true,
            "ticks": "",
            "zerolinecolor": "white"
           },
           "zaxis": {
            "backgroundcolor": "#E5ECF6",
            "gridcolor": "white",
            "gridwidth": 2,
            "linecolor": "white",
            "showbackground": true,
            "ticks": "",
            "zerolinecolor": "white"
           }
          },
          "shapedefaults": {
           "line": {
            "color": "#2a3f5f"
           }
          },
          "ternary": {
           "aaxis": {
            "gridcolor": "white",
            "linecolor": "white",
            "ticks": ""
           },
           "baxis": {
            "gridcolor": "white",
            "linecolor": "white",
            "ticks": ""
           },
           "bgcolor": "#E5ECF6",
           "caxis": {
            "gridcolor": "white",
            "linecolor": "white",
            "ticks": ""
           }
          },
          "title": {
           "x": 0.05
          },
          "xaxis": {
           "automargin": true,
           "gridcolor": "white",
           "linecolor": "white",
           "ticks": "",
           "title": {
            "standoff": 15
           },
           "zerolinecolor": "white",
           "zerolinewidth": 2
          },
          "yaxis": {
           "automargin": true,
           "gridcolor": "white",
           "linecolor": "white",
           "ticks": "",
           "title": {
            "standoff": 15
           },
           "zerolinecolor": "white",
           "zerolinewidth": 2
          }
         }
        },
        "title": {
         "text": "Economic development<br>",
         "x": 0.5,
         "xanchor": "center",
         "y": 0.9,
         "yanchor": "top"
        },
        "xaxis": {
         "anchor": "y",
         "autorange": true,
         "domain": [
          0,
          1
         ],
         "range": [
          1940.9806717363751,
          2024.0193282636249
         ],
         "title": {
          "text": "Year"
         },
         "type": "linear"
        },
        "yaxis": {
         "anchor": "x",
         "autorange": true,
         "domain": [
          0,
          1
         ],
         "range": [
          -7.742782152230971,
          107.74278215223097
         ],
         "title": {
          "text": "% Yes"
         },
         "type": "linear"
        }
       }
      },
      "image/png": "[encoded data removed]",
      "text/html": [
       "<div>                            <div id=\"710f2926-7e5d-4e66-8ba9-47435c9b6913\" class=\"plotly-graph-div\" style=\"height:525px; width:100%;\"></div>            <script type=\"text/javascript\">                require([\"plotly\"], function(Plotly) {                    window.PLOTLYENV=window.PLOTLYENV || {};                                    if (document.getElementById(\"710f2926-7e5d-4e66-8ba9-47435c9b6913\")) {                    Plotly.newPlot(                        \"710f2926-7e5d-4e66-8ba9-47435c9b6913\",                        [{\"hovertemplate\":\"Country=Iran\\u003cbr\\u003ex=%{x}\\u003cbr\\u003ey=%{y}\\u003cextra\\u003e\\u003c\\u002fextra\\u003e\",\"legendgroup\":\"Iran\",\"marker\":{\"color\":\"#636efa\",\"symbol\":\"circle\"},\"mode\":\"markers\",\"name\":\"Iran\",\"orientation\":\"v\",\"showlegend\":true,\"x\":[1946,1947,1948,1949,1950,1952,1953,1955,1956,1957,1958,1959,1961,1962,1963,1966,1967,1968,1969,1970,1971,1972,1973,1974,1975,1976,1977,1979,1978,1980,1981,1982,1983,1984,1985,1986,1987,1988,1989,1990,1991,1992,1993,1994,1995,1996,1997,1998,1999,2000,2001,2002,2003,2004,2005,2006,2007,2008,2009,2010,2011,2012,2013,2014,2015,2016,2017,2018,2019],\"xaxis\":\"x\",\"y\":[33.33333333333333,0.0,25.0,25.0,100.0,100.0,100.0,100.0,100.0,100.0,80.0,50.0,54.54545454545454,50.0,100.0,83.33333333333334,83.33333333333334,66.66666666666666,66.66666666666666,100.0,100.0,82.75862068965517,100.0,100.0,100.0,92.5925925925926,95.65217391304348,95.23809523809523,95.45454545454545,85.71428571428571,100.0,100.0,100.0,100.0,100.0,95.0,100.0,94.44444444444444,100.0,100.0,100.0,100.0,100.0,100.0,100.0,100.0,100.0,100.0,100.0,100.0,100.0,100.0,100.0,100.0,100.0,88.88888888888889,100.0,66.66666666666666,81.81818181818183,100.0,100.0,58.333333333333336,83.33333333333334,80.0,71.42857142857143,69.23076923076923,78.94736842105263,77.77777777777779,87.5],\"yaxis\":\"y\",\"type\":\"scatter\"},{\"hovertemplate\":\"\\u003cb\\u003eLOWESS trendline\\u003c\\u002fb\\u003e\\u003cbr\\u003e\\u003cbr\\u003eCountry=Iran\\u003cbr\\u003ex=%{x}\\u003cbr\\u003ey=%{y} \\u003cb\\u003e(trend)\\u003c\\u002fb\\u003e\\u003cextra\\u003e\\u003c\\u002fextra\\u003e\",\"legendgroup\":\"Iran\",\"marker\":{\"color\":\"#636efa\",\"symbol\":\"circle\"},\"mode\":\"lines\",\"name\":\"Iran\",\"showlegend\":false,\"x\":[1946,1947,1948,1949,1950,1952,1953,1955,1956,1957,1958,1959,1961,1962,1963,1966,1967,1968,1969,1970,1971,1972,1973,1974,1975,1976,1977,1978,1979,1980,1981,1982,1983,1984,1985,1986,1987,1988,1989,1990,1991,1992,1993,1994,1995,1996,1997,1998,1999,2000,2001,2002,2003,2004,2005,2006,2007,2008,2009,2010,2011,2012,2013,2014,2015,2016,2017,2018,2019],\"xaxis\":\"x\",\"y\":[36.30249545662579,38.391301239427335,40.46809463052544,42.53219277786769,44.583516571554874,48.65033055565007,50.66756707913547,54.6752926679986,56.6686205169431,58.65722615264661,60.64316309565795,62.62848751494909,66.60362867840601,68.5978795754506,70.60067600824986,76.68344648754616,78.7186916309082,80.71254534041057,82.59381832196848,84.27512052810272,85.63747735107785,86.88692562979467,88.04589276877634,89.13601351448521,90.16973395792687,91.3389923257281,92.27637507214513,93.14765319053627,93.94761190617221,94.67140854322435,95.31640238885917,95.88474724766155,96.38396716799421,96.95760237743579,97.33816153020574,97.67179196391582,97.95003501334374,98.2740493743721,98.41969202066046,98.50855951865212,98.55161633411437,98.55315190068013,98.50658808696919,98.4021739099871,98.22932368291895,97.97375013264944,97.62474212934582,96.89666745072508,96.10707364848273,95.31423788354267,94.53544746139026,93.77055400921513,93.01505753287715,92.26424238627631,91.5140744576873,90.76121192233444,90.00291779323328,89.23708781127871,88.46197655670808,87.67652711819991,86.8801171525993,86.07197886684637,85.25121146821729,84.41725350768361,83.56982814890162,82.70899312156293,81.83531968081563,80.94985403845192,80.0538192369385],\"yaxis\":\"y\",\"type\":\"scatter\"},{\"hovertemplate\":\"Country=Germany\\u003cbr\\u003ex=%{x}\\u003cbr\\u003ey=%{y}\\u003cextra\\u003e\\u003c\\u002fextra\\u003e\",\"legendgroup\":\"Germany\",\"marker\":{\"color\":\"#EF553B\",\"symbol\":\"circle\"},\"mode\":\"markers\",\"name\":\"Germany\",\"orientation\":\"v\",\"showlegend\":true,\"x\":[1991,1992,1993,1994,1995,1996,1997,1998,1999,2000,2001,2002,2003,2004,2005,2006,2007,2008,2009,2010,2011,2012,2013,2014,2015,2016,2017,2018,2019],\"xaxis\":\"x\",\"y\":[25.0,33.33333333333333,33.33333333333333,25.0,40.0,33.33333333333333,50.0,50.0,57.14285714285714,100.0,50.0,66.66666666666666,85.71428571428571,100.0,77.77777777777779,77.77777777777779,75.0,76.92307692307693,66.66666666666666,71.42857142857143,66.66666666666666,66.66666666666666,71.42857142857143,63.63636363636363,71.42857142857143,71.42857142857143,75.0,72.22222222222221,31.25],\"yaxis\":\"y\",\"type\":\"scatter\"},{\"hovertemplate\":\"\\u003cb\\u003eLOWESS trendline\\u003c\\u002fb\\u003e\\u003cbr\\u003e\\u003cbr\\u003eCountry=Germany\\u003cbr\\u003ex=%{x}\\u003cbr\\u003ey=%{y} \\u003cb\\u003e(trend)\\u003c\\u002fb\\u003e\\u003cextra\\u003e\\u003c\\u002fextra\\u003e\",\"legendgroup\":\"Germany\",\"marker\":{\"color\":\"#EF553B\",\"symbol\":\"circle\"},\"mode\":\"lines\",\"name\":\"Germany\",\"showlegend\":false,\"x\":[1991,1992,1993,1994,1995,1996,1997,1998,1999,2000,2001,2002,2003,2004,2005,2006,2007,2008,2009,2010,2011,2012,2013,2014,2015,2016,2017,2018,2019],\"xaxis\":\"x\",\"y\":[24.584821477367527,28.105537983482055,31.64936881933887,35.20880715326132,38.77294437181367,42.33663332609388,45.89879698312832,49.47300135318166,53.09066909841192,56.843901951408654,60.16656885929645,63.055770467338085,65.51451428754778,67.61758375849428,69.40352168797111,70.88538270603608,71.83562451982822,72.18086993458371,72.0387693423264,71.49988522808187,71.20529846040894,70.99228712763627,70.80902721170577,70.65710710622244,70.54282110547433,70.47663599072506,70.46571478661681,70.51194530697529,70.60981366003699],\"yaxis\":\"y\",\"type\":\"scatter\"},{\"hovertemplate\":\"Country=Liberia\\u003cbr\\u003ex=%{x}\\u003cbr\\u003ey=%{y}\\u003cextra\\u003e\\u003c\\u002fextra\\u003e\",\"legendgroup\":\"Liberia\",\"marker\":{\"color\":\"#00cc96\",\"symbol\":\"circle\"},\"mode\":\"markers\",\"name\":\"Liberia\",\"orientation\":\"v\",\"showlegend\":true,\"x\":[1946,1947,1948,1949,1950,1952,1953,1954,1955,1956,1957,1958,1959,1961,1962,1963,1966,1967,1968,1969,1970,1971,1972,1973,1974,1975,1976,1977,1979,1978,1980,1981,1982,1983,1984,1985,1986,1987,1988,1989,1991,1992,1996,1997,2004,2005,2006,2007,2008,2009,2010,2011,2012,2013,2014,2015,2016,2017,2018,2019],\"xaxis\":\"x\",\"y\":[57.14285714285714,100.0,66.66666666666666,42.857142857142854,0.0,100.0,100.0,0.0,100.0,100.0,100.0,80.0,66.66666666666666,54.54545454545454,66.66666666666666,100.0,83.33333333333334,100.0,66.66666666666666,75.0,100.0,100.0,72.41379310344827,92.85714285714286,100.0,72.72727272727273,100.0,95.65217391304348,95.23809523809523,90.9090909090909,84.61538461538461,95.23809523809523,96.0,87.5,95.0,95.83333333333334,90.0,85.0,88.88888888888889,100.0,100.0,100.0,50.0,75.0,100.0,100.0,100.0,100.0,90.0,90.0,85.71428571428571,100.0,91.66666666666666,100.0,100.0,100.0,92.85714285714286,94.44444444444444,93.33333333333333,63.63636363636363],\"yaxis\":\"y\",\"type\":\"scatter\"},{\"hovertemplate\":\"\\u003cb\\u003eLOWESS trendline\\u003c\\u002fb\\u003e\\u003cbr\\u003e\\u003cbr\\u003eCountry=Liberia\\u003cbr\\u003ex=%{x}\\u003cbr\\u003ey=%{y} \\u003cb\\u003e(trend)\\u003c\\u002fb\\u003e\\u003cextra\\u003e\\u003c\\u002fextra\\u003e\",\"legendgroup\":\"Liberia\",\"marker\":{\"color\":\"#00cc96\",\"symbol\":\"circle\"},\"mode\":\"lines\",\"name\":\"Liberia\",\"showlegend\":false,\"x\":[1946,1947,1948,1949,1950,1952,1953,1954,1955,1956,1957,1958,1959,1961,1962,1963,1966,1967,1968,1969,1970,1971,1972,1973,1974,1975,1976,1977,1978,1979,1980,1981,1982,1983,1984,1985,1986,1987,1988,1989,1991,1992,1996,1997,2004,2005,2006,2007,2008,2009,2010,2011,2012,2013,2014,2015,2016,2017,2018,2019],\"xaxis\":\"x\",\"y\":[74.52039036226004,75.1250731928819,75.72152514174114,76.31095192529216,76.89545936436073,78.06196719876328,78.65082118396293,79.24751882669601,79.8543491777983,80.47338349720789,81.10581924398318,81.75150658088752,82.40870037094271,83.74582858255849,84.41622180087117,85.07502030175341,86.6575033209838,86.85710182802376,87.09192559410461,87.45960723886225,87.70677889760265,87.98290541650634,88.36977974462772,88.70900143674376,89.0952280474363,89.52321609513452,89.9420138536499,90.33661529998781,90.70145912205842,91.0879343749476,91.45238417531934,91.78343958490593,92.07704913777927,92.33897717416514,92.57731008458148,92.79502907050622,93.00706094865576,93.18713497427876,93.34216727871178,93.47436588235993,93.74198169300429,93.84479166507536,94.24736595101037,94.31733370210044,94.7453415823847,94.8073813438882,94.86974047986281,94.93205467343509,94.99383650865447,95.05456881733693,95.1139375752798,95.17186439313394,95.22846637976794,95.28379727939989,95.33792483088935,95.39078778980985,95.44216223782765,95.49171830892452,95.53919315713551,95.58439880097973],\"yaxis\":\"y\",\"type\":\"scatter\"}],                        {\"template\":{\"data\":{\"histogram2dcontour\":[{\"type\":\"histogram2dcontour\",\"colorbar\":{\"outlinewidth\":0,\"ticks\":\"\"},\"colorscale\":[[0.0,\"#0d0887\"],[0.1111111111111111,\"#46039f\"],[0.2222222222222222,\"#7201a8\"],[0.3333333333333333,\"#9c179e\"],[0.4444444444444444,\"#bd3786\"],[0.5555555555555556,\"#d8576b\"],[0.6666666666666666,\"#ed7953\"],[0.7777777777777778,\"#fb9f3a\"],[0.8888888888888888,\"#fdca26\"],[1.0,\"#f0f921\"]]}],\"choropleth\":[{\"type\":\"choropleth\",\"colorbar\":{\"outlinewidth\":0,\"ticks\":\"\"}}],\"histogram2d\":[{\"type\":\"histogram2d\",\"colorbar\":{\"outlinewidth\":0,\"ticks\":\"\"},\"colorscale\":[[0.0,\"#0d0887\"],[0.1111111111111111,\"#46039f\"],[0.2222222222222222,\"#7201a8\"],[0.3333333333333333,\"#9c179e\"],[0.4444444444444444,\"#bd3786\"],[0.5555555555555556,\"#d8576b\"],[0.6666666666666666,\"#ed7953\"],[0.7777777777777778,\"#fb9f3a\"],[0.8888888888888888,\"#fdca26\"],[1.0,\"#f0f921\"]]}],\"heatmap\":[{\"type\":\"heatmap\",\"colorbar\":{\"outlinewidth\":0,\"ticks\":\"\"},\"colorscale\":[[0.0,\"#0d0887\"],[0.1111111111111111,\"#46039f\"],[0.2222222222222222,\"#7201a8\"],[0.3333333333333333,\"#9c179e\"],[0.4444444444444444,\"#bd3786\"],[0.5555555555555556,\"#d8576b\"],[0.6666666666666666,\"#ed7953\"],[0.7777777777777778,\"#fb9f3a\"],[0.8888888888888888,\"#fdca26\"],[1.0,\"#f0f921\"]]}],\"heatmapgl\":[{\"type\":\"heatmapgl\",\"colorbar\":{\"outlinewidth\":0,\"ticks\":\"\"},\"colorscale\":[[0.0,\"#0d0887\"],[0.1111111111111111,\"#46039f\"],[0.2222222222222222,\"#7201a8\"],[0.3333333333333333,\"#9c179e\"],[0.4444444444444444,\"#bd3786\"],[0.5555555555555556,\"#d8576b\"],[0.6666666666666666,\"#ed7953\"],[0.7777777777777778,\"#fb9f3a\"],[0.8888888888888888,\"#fdca26\"],[1.0,\"#f0f921\"]]}],\"contourcarpet\":[{\"type\":\"contourcarpet\",\"colorbar\":{\"outlinewidth\":0,\"ticks\":\"\"}}],\"contour\":[{\"type\":\"contour\",\"colorbar\":{\"outlinewidth\":0,\"ticks\":\"\"},\"colorscale\":[[0.0,\"#0d0887\"],[0.1111111111111111,\"#46039f\"],[0.2222222222222222,\"#7201a8\"],[0.3333333333333333,\"#9c179e\"],[0.4444444444444444,\"#bd3786\"],[0.5555555555555556,\"#d8576b\"],[0.6666666666666666,\"#ed7953\"],[0.7777777777777778,\"#fb9f3a\"],[0.8888888888888888,\"#fdca26\"],[1.0,\"#f0f921\"]]}],\"surface\":[{\"type\":\"surface\",\"colorbar\":{\"outlinewidth\":0,\"ticks\":\"\"},\"colorscale\":[[0.0,\"#0d0887\"],[0.1111111111111111,\"#46039f\"],[0.2222222222222222,\"#7201a8\"],[0.3333333333333333,\"#9c179e\"],[0.4444444444444444,\"#bd3786\"],[0.5555555555555556,\"#d8576b\"],[0.6666666666666666,\"#ed7953\"],[0.7777777777777778,\"#fb9f3a\"],[0.8888888888888888,\"#fdca26\"],[1.0,\"#f0f921\"]]}],\"mesh3d\":[{\"type\":\"mesh3d\",\"colorbar\":{\"outlinewidth\":0,\"ticks\":\"\"}}],\"scatter\":[{\"fillpattern\":{\"fillmode\":\"overlay\",\"size\":10,\"solidity\":0.2},\"type\":\"scatter\"}],\"parcoords\":[{\"type\":\"parcoords\",\"line\":{\"colorbar\":{\"outlinewidth\":0,\"ticks\":\"\"}}}],\"scatterpolargl\":[{\"type\":\"scatterpolargl\",\"marker\":{\"colorbar\":{\"outlinewidth\":0,\"ticks\":\"\"}}}],\"bar\":[{\"error_x\":{\"color\":\"#2a3f5f\"},\"error_y\":{\"color\":\"#2a3f5f\"},\"marker\":{\"line\":{\"color\":\"#E5ECF6\",\"width\":0.5},\"pattern\":{\"fillmode\":\"overlay\",\"size\":10,\"solidity\":0.2}},\"type\":\"bar\"}],\"scattergeo\":[{\"type\":\"scattergeo\",\"marker\":{\"colorbar\":{\"outlinewidth\":0,\"ticks\":\"\"}}}],\"scatterpolar\":[{\"type\":\"scatterpolar\",\"marker\":{\"colorbar\":{\"outlinewidth\":0,\"ticks\":\"\"}}}],\"histogram\":[{\"marker\":{\"pattern\":{\"fillmode\":\"overlay\",\"size\":10,\"solidity\":0.2}},\"type\":\"histogram\"}],\"scattergl\":[{\"type\":\"scattergl\",\"marker\":{\"colorbar\":{\"outlinewidth\":0,\"ticks\":\"\"}}}],\"scatter3d\":[{\"type\":\"scatter3d\",\"line\":{\"colorbar\":{\"outlinewidth\":0,\"ticks\":\"\"}},\"marker\":{\"colorbar\":{\"outlinewidth\":0,\"ticks\":\"\"}}}],\"scattermapbox\":[{\"type\":\"scattermapbox\",\"marker\":{\"colorbar\":{\"outlinewidth\":0,\"ticks\":\"\"}}}],\"scatterternary\":[{\"type\":\"scatterternary\",\"marker\":{\"colorbar\":{\"outlinewidth\":0,\"ticks\":\"\"}}}],\"scattercarpet\":[{\"type\":\"scattercarpet\",\"marker\":{\"colorbar\":{\"outlinewidth\":0,\"ticks\":\"\"}}}],\"carpet\":[{\"aaxis\":{\"endlinecolor\":\"#2a3f5f\",\"gridcolor\":\"white\",\"linecolor\":\"white\",\"minorgridcolor\":\"white\",\"startlinecolor\":\"#2a3f5f\"},\"baxis\":{\"endlinecolor\":\"#2a3f5f\",\"gridcolor\":\"white\",\"linecolor\":\"white\",\"minorgridcolor\":\"white\",\"startlinecolor\":\"#2a3f5f\"},\"type\":\"carpet\"}],\"table\":[{\"cells\":{\"fill\":{\"color\":\"#EBF0F8\"},\"line\":{\"color\":\"white\"}},\"header\":{\"fill\":{\"color\":\"#C8D4E3\"},\"line\":{\"color\":\"white\"}},\"type\":\"table\"}],\"barpolar\":[{\"marker\":{\"line\":{\"color\":\"#E5ECF6\",\"width\":0.5},\"pattern\":{\"fillmode\":\"overlay\",\"size\":10,\"solidity\":0.2}},\"type\":\"barpolar\"}],\"pie\":[{\"automargin\":true,\"type\":\"pie\"}]},\"layout\":{\"autotypenumbers\":\"strict\",\"colorway\":[\"#636efa\",\"#EF553B\",\"#00cc96\",\"#ab63fa\",\"#FFA15A\",\"#19d3f3\",\"#FF6692\",\"#B6E880\",\"#FF97FF\",\"#FECB52\"],\"font\":{\"color\":\"#2a3f5f\"},\"hovermode\":\"closest\",\"hoverlabel\":{\"align\":\"left\"},\"paper_bgcolor\":\"white\",\"plot_bgcolor\":\"#E5ECF6\",\"polar\":{\"bgcolor\":\"#E5ECF6\",\"angularaxis\":{\"gridcolor\":\"white\",\"linecolor\":\"white\",\"ticks\":\"\"},\"radialaxis\":{\"gridcolor\":\"white\",\"linecolor\":\"white\",\"ticks\":\"\"}},\"ternary\":{\"bgcolor\":\"#E5ECF6\",\"aaxis\":{\"gridcolor\":\"white\",\"linecolor\":\"white\",\"ticks\":\"\"},\"baxis\":{\"gridcolor\":\"white\",\"linecolor\":\"white\",\"ticks\":\"\"},\"caxis\":{\"gridcolor\":\"white\",\"linecolor\":\"white\",\"ticks\":\"\"}},\"coloraxis\":{\"colorbar\":{\"outlinewidth\":0,\"ticks\":\"\"}},\"colorscale\":{\"sequential\":[[0.0,\"#0d0887\"],[0.1111111111111111,\"#46039f\"],[0.2222222222222222,\"#7201a8\"],[0.3333333333333333,\"#9c179e\"],[0.4444444444444444,\"#bd3786\"],[0.5555555555555556,\"#d8576b\"],[0.6666666666666666,\"#ed7953\"],[0.7777777777777778,\"#fb9f3a\"],[0.8888888888888888,\"#fdca26\"],[1.0,\"#f0f921\"]],\"sequentialminus\":[[0.0,\"#0d0887\"],[0.1111111111111111,\"#46039f\"],[0.2222222222222222,\"#7201a8\"],[0.3333333333333333,\"#9c179e\"],[0.4444444444444444,\"#bd3786\"],[0.5555555555555556,\"#d8576b\"],[0.6666666666666666,\"#ed7953\"],[0.7777777777777778,\"#fb9f3a\"],[0.8888888888888888,\"#fdca26\"],[1.0,\"#f0f921\"]],\"diverging\":[[0,\"#8e0152\"],[0.1,\"#c51b7d\"],[0.2,\"#de77ae\"],[0.3,\"#f1b6da\"],[0.4,\"#fde0ef\"],[0.5,\"#f7f7f7\"],[0.6,\"#e6f5d0\"],[0.7,\"#b8e186\"],[0.8,\"#7fbc41\"],[0.9,\"#4d9221\"],[1,\"#276419\"]]},\"xaxis\":{\"gridcolor\":\"white\",\"linecolor\":\"white\",\"ticks\":\"\",\"title\":{\"standoff\":15},\"zerolinecolor\":\"white\",\"automargin\":true,\"zerolinewidth\":2},\"yaxis\":{\"gridcolor\":\"white\",\"linecolor\":\"white\",\"ticks\":\"\",\"title\":{\"standoff\":15},\"zerolinecolor\":\"white\",\"automargin\":true,\"zerolinewidth\":2},\"scene\":{\"xaxis\":{\"backgroundcolor\":\"#E5ECF6\",\"gridcolor\":\"white\",\"linecolor\":\"white\",\"showbackground\":true,\"ticks\":\"\",\"zerolinecolor\":\"white\",\"gridwidth\":2},\"yaxis\":{\"backgroundcolor\":\"#E5ECF6\",\"gridcolor\":\"white\",\"linecolor\":\"white\",\"showbackground\":true,\"ticks\":\"\",\"zerolinecolor\":\"white\",\"gridwidth\":2},\"zaxis\":{\"backgroundcolor\":\"#E5ECF6\",\"gridcolor\":\"white\",\"linecolor\":\"white\",\"showbackground\":true,\"ticks\":\"\",\"zerolinecolor\":\"white\",\"gridwidth\":2}},\"shapedefaults\":{\"line\":{\"color\":\"#2a3f5f\"}},\"annotationdefaults\":{\"arrowcolor\":\"#2a3f5f\",\"arrowhead\":0,\"arrowwidth\":1},\"geo\":{\"bgcolor\":\"white\",\"landcolor\":\"#E5ECF6\",\"subunitcolor\":\"white\",\"showland\":true,\"showlakes\":true,\"lakecolor\":\"white\"},\"title\":{\"x\":0.05},\"mapbox\":{\"style\":\"light\"}}},\"xaxis\":{\"anchor\":\"y\",\"domain\":[0.0,1.0],\"title\":{\"text\":\"Year\"}},\"yaxis\":{\"anchor\":\"x\",\"domain\":[0.0,1.0],\"title\":{\"text\":\"% Yes\"}},\"legend\":{\"title\":{\"text\":\"Country\"},\"tracegroupgap\":0},\"margin\":{\"t\":60},\"title\":{\"text\":\"Economic development\\u003cbr\\u003e\",\"y\":0.9,\"x\":0.5,\"xanchor\":\"center\",\"yanchor\":\"top\"}},                        {\"responsive\": true}                    ).then(function(){\n",
       "                            \n",
       "var gd = document.getElementById('710f2926-7e5d-4e66-8ba9-47435c9b6913');\n",
       "var x = new MutationObserver(function (mutations, observer) {{\n",
       "        var display = window.getComputedStyle(gd).display;\n",
       "        if (!display || display === 'none') {{\n",
       "            console.log([gd, 'removed!']);\n",
       "            Plotly.purge(gd);\n",
       "            observer.disconnect();\n",
       "        }}\n",
       "}});\n",
       "\n",
       "// Listen for the removal of the full notebook cells\n",
       "var notebookContainer = gd.closest('#notebook-container');\n",
       "if (notebookContainer) {{\n",
       "    x.observe(notebookContainer, {childList: true});\n",
       "}}\n",
       "\n",
       "// Listen for the clearing of the current output cell\n",
       "var outputEl = gd.closest('.output');\n",
       "if (outputEl) {{\n",
       "    x.observe(outputEl, {childList: true});\n",
       "}}\n",
       "\n",
       "                        })                };                });            </script>        </div>"
      ]
     },
     "metadata": {},
     "output_type": "display_data"
    },
    {
     "data": {
      "application/vnd.plotly.v1+json": {
       "config": {
        "plotlyServerURL": "https://plot.ly"
       },
       "data": [
        {
         "hovertemplate": "Country=Iran<br>x=%{x}<br>y=%{y}<extra></extra>",
         "legendgroup": "Iran",
         "marker": {
          "color": "#636efa",
          "symbol": "circle"
         },
         "mode": "markers",
         "name": "Iran",
         "orientation": "v",
         "showlegend": true,
         "type": "scatter",
         "x": [
          1946,
          1947,
          1948,
          1949,
          1950,
          1951,
          1952,
          1953,
          1954,
          1955,
          1957,
          1956,
          1959,
          1960,
          1961,
          1962,
          1963,
          1965,
          1966,
          1967,
          1968,
          1969,
          1970,
          1971,
          1972,
          1973,
          1974,
          1975,
          1976,
          1977,
          1978,
          1979,
          1980,
          1981,
          1982,
          1983,
          1984,
          1985,
          1986,
          1987,
          1988,
          1989,
          1990,
          1991,
          1992,
          1993,
          1994,
          1995,
          1996,
          1997,
          1998,
          1999,
          2000,
          2001,
          2002,
          2003,
          2004,
          2005,
          2006,
          2007,
          2008,
          2009,
          2010,
          2011,
          2012,
          2013,
          2014,
          2015,
          2016,
          2017,
          2018,
          2019
         ],
         "xaxis": "x",
         "y": [
          73.33333333333333,
          37.5,
          91.66666666666666,
          66.66666666666666,
          75,
          100,
          80,
          88.88888888888889,
          80,
          80,
          50,
          100,
          46.666666666666664,
          63.63636363636363,
          60,
          61.904761904761905,
          100,
          75,
          82.35294117647058,
          92.85714285714286,
          72.72727272727273,
          78.57142857142857,
          88.23529411764706,
          95.45454545454545,
          100,
          95.65217391304348,
          100,
          86.36363636363636,
          89.47368421052632,
          88.88888888888889,
          85.71428571428571,
          100,
          100,
          100,
          100,
          100,
          100,
          100,
          100,
          100,
          100,
          100,
          100,
          93.33333333333333,
          100,
          100,
          92.3076923076923,
          92.85714285714286,
          91.66666666666666,
          91.66666666666666,
          100,
          92.3076923076923,
          92.3076923076923,
          91.66666666666666,
          90.9090909090909,
          100,
          100,
          100,
          93.75,
          100,
          92.85714285714286,
          92.85714285714286,
          100,
          100,
          100,
          100,
          100,
          90,
          90.9090909090909,
          93.75,
          66.66666666666666,
          87.5
         ],
         "yaxis": "y"
        },
        {
         "hovertemplate": "<b>LOWESS trendline</b><br><br>Country=Iran<br>x=%{x}<br>y=%{y} <b>(trend)</b><extra></extra>",
         "legendgroup": "Iran",
         "marker": {
          "color": "#636efa",
          "symbol": "circle"
         },
         "mode": "lines",
         "name": "Iran",
         "showlegend": false,
         "type": "scatter",
         "x": [
          1946,
          1947,
          1948,
          1949,
          1950,
          1951,
          1952,
          1953,
          1954,
          1955,
          1956,
          1957,
          1959,
          1960,
          1961,
          1962,
          1963,
          1965,
          1966,
          1967,
          1968,
          1969,
          1970,
          1971,
          1972,
          1973,
          1974,
          1975,
          1976,
          1977,
          1978,
          1979,
          1980,
          1981,
          1982,
          1983,
          1984,
          1985,
          1986,
          1987,
          1988,
          1989,
          1990,
          1991,
          1992,
          1993,
          1994,
          1995,
          1996,
          1997,
          1998,
          1999,
          2000,
          2001,
          2002,
          2003,
          2004,
          2005,
          2006,
          2007,
          2008,
          2009,
          2010,
          2011,
          2012,
          2013,
          2014,
          2015,
          2016,
          2017,
          2018,
          2019
         ],
         "xaxis": "x",
         "y": [
          74.71269506434093,
          75.27725818147657,
          75.84411516190664,
          76.41351415712667,
          76.98552607318507,
          77.5604902505615,
          78.13889954880625,
          78.72118436693185,
          79.30763229299713,
          79.89822870024251,
          80.49281730253149,
          81.09112181078562,
          82.29650330441777,
          82.90189520701789,
          83.50761070612408,
          84.11241251852879,
          84.7148700435697,
          85.90418994755,
          86.48365367288442,
          87.04570047561147,
          87.58300854499419,
          88.08889815978809,
          88.56715158134281,
          89.15857891843439,
          89.77105813092139,
          90.40706943770212,
          91.06410612761591,
          91.72710170357303,
          92.37318421335345,
          92.97972808724982,
          93.53061039372098,
          94.01978810786574,
          94.44749281047113,
          94.8172804375553,
          95.1359947346756,
          95.41148830363336,
          95.65097206045918,
          95.86146300011686,
          96.04569584401888,
          96.20302921704439,
          96.4493048325957,
          96.53166581028323,
          96.59344123252892,
          96.63910794985529,
          96.6746427197644,
          96.70417909356442,
          96.724868106104,
          96.72885421078692,
          96.70862066925321,
          96.67264335284585,
          96.6071022732243,
          96.5175042641209,
          96.41169671102811,
          96.29586026588346,
          96.17444880745458,
          96.0507057284873,
          95.92701203231934,
          95.80492970774982,
          95.68539576046295,
          95.56893170793165,
          95.45584983042525,
          95.34623370615715,
          95.24011125151918,
          95.13746541762193,
          95.03808155661766,
          94.94153403051621,
          94.84720851977457,
          94.7543172494268,
          94.66197732462068,
          94.56947885802863,
          94.47630232844541,
          94.38201686607145
         ],
         "yaxis": "y"
        },
        {
         "hovertemplate": "Country=Germany<br>x=%{x}<br>y=%{y}<extra></extra>",
         "legendgroup": "Germany",
         "marker": {
          "color": "#EF553B",
          "symbol": "circle"
         },
         "mode": "markers",
         "name": "Germany",
         "orientation": "v",
         "showlegend": true,
         "type": "scatter",
         "x": [
          1991,
          1992,
          1993,
          1994,
          1995,
          1996,
          1997,
          1998,
          1999,
          2000,
          2001,
          2002,
          2003,
          2004,
          2005,
          2006,
          2007,
          2008,
          2009,
          2010,
          2011,
          2012,
          2013,
          2014,
          2015,
          2016,
          2017,
          2018,
          2019
         ],
         "xaxis": "x",
         "y": [
          40,
          35.714285714285715,
          27.27272727272727,
          46.15384615384615,
          57.14285714285714,
          58.333333333333336,
          66.66666666666666,
          69.23076923076923,
          61.53846153846154,
          61.53846153846154,
          66.66666666666666,
          63.63636363636363,
          50,
          55.55555555555556,
          60,
          82.35294117647058,
          72.72727272727273,
          73.33333333333333,
          78.57142857142857,
          69.23076923076923,
          75,
          76.92307692307693,
          76.92307692307693,
          66.66666666666666,
          66.66666666666666,
          72.72727272727273,
          68.75,
          66.66666666666666,
          31.25
         ],
         "yaxis": "y"
        },
        {
         "hovertemplate": "<b>LOWESS trendline</b><br><br>Country=Germany<br>x=%{x}<br>y=%{y} <b>(trend)</b><extra></extra>",
         "legendgroup": "Germany",
         "marker": {
          "color": "#EF553B",
          "symbol": "circle"
         },
         "mode": "lines",
         "name": "Germany",
         "showlegend": false,
         "type": "scatter",
         "x": [
          1991,
          1992,
          1993,
          1994,
          1995,
          1996,
          1997,
          1998,
          1999,
          2000,
          2001,
          2002,
          2003,
          2004,
          2005,
          2006,
          2007,
          2008,
          2009,
          2010,
          2011,
          2012,
          2013,
          2014,
          2015,
          2016,
          2017,
          2018,
          2019
         ],
         "xaxis": "x",
         "y": [
          41.33426053416992,
          43.8847187867378,
          46.336632201758775,
          48.689341172008994,
          50.95505589538757,
          53.15724525513668,
          55.32509582600682,
          57.493721875963814,
          59.67773623449812,
          61.589724365741795,
          62.82626059107364,
          64.02958411945967,
          65.11859268493164,
          66.12509358792269,
          67.1254091442583,
          68.17295945370502,
          69.23375891539929,
          70.26952350129433,
          71.25456814948252,
          72.03958168566506,
          71.88174711535052,
          71.6466101350502,
          71.35416259946696,
          71.00115156882775,
          70.58488973072723,
          70.1105513838918,
          69.58720217048318,
          69.02061173203485,
          68.41640980694422
         ],
         "yaxis": "y"
        },
        {
         "hovertemplate": "Country=Liberia<br>x=%{x}<br>y=%{y}<extra></extra>",
         "legendgroup": "Liberia",
         "marker": {
          "color": "#00cc96",
          "symbol": "circle"
         },
         "mode": "markers",
         "name": "Liberia",
         "orientation": "v",
         "showlegend": true,
         "type": "scatter",
         "x": [
          1946,
          1947,
          1948,
          1949,
          1950,
          1951,
          1952,
          1953,
          1954,
          1955,
          1957,
          1956,
          1959,
          1960,
          1961,
          1962,
          1963,
          1965,
          1966,
          1967,
          1968,
          1969,
          1970,
          1971,
          1972,
          1973,
          1974,
          1975,
          1976,
          1977,
          1978,
          1979,
          1980,
          1981,
          1982,
          1983,
          1984,
          1985,
          1986,
          1987,
          1988,
          1989,
          1991,
          1992,
          1996,
          1997,
          2004,
          2005,
          2006,
          2007,
          2008,
          2009,
          2010,
          2011,
          2012,
          2013,
          2014,
          2015,
          2016,
          2017,
          2018,
          2019
         ],
         "xaxis": "x",
         "y": [
          7.6923076923076925,
          55.55555555555556,
          85.71428571428571,
          64.28571428571429,
          81.81818181818183,
          100,
          86.66666666666667,
          88.88888888888889,
          60,
          80,
          55.55555555555556,
          50,
          53.333333333333336,
          100,
          53.333333333333336,
          61.904761904761905,
          100,
          100,
          93.75,
          100,
          70,
          58.333333333333336,
          70.58823529411765,
          71.42857142857143,
          87.5,
          100,
          100,
          81.25,
          84.21052631578947,
          88.23529411764706,
          92.85714285714286,
          90.47619047619048,
          93.75,
          82.35294117647058,
          86.95652173913044,
          92.85714285714286,
          82.6086956521739,
          69.23076923076923,
          62.5,
          66.66666666666666,
          78.57142857142857,
          100,
          100,
          90.9090909090909,
          100,
          83.33333333333334,
          100,
          100,
          75,
          100,
          86.66666666666667,
          83.33333333333334,
          100,
          100,
          92.3076923076923,
          91.66666666666666,
          77.77777777777779,
          66.66666666666666,
          100,
          100,
          33.33333333333333,
          63.63636363636363
         ],
         "yaxis": "y"
        },
        {
         "hovertemplate": "<b>LOWESS trendline</b><br><br>Country=Liberia<br>x=%{x}<br>y=%{y} <b>(trend)</b><extra></extra>",
         "legendgroup": "Liberia",
         "marker": {
          "color": "#00cc96",
          "symbol": "circle"
         },
         "mode": "lines",
         "name": "Liberia",
         "showlegend": false,
         "type": "scatter",
         "x": [
          1946,
          1947,
          1948,
          1949,
          1950,
          1951,
          1952,
          1953,
          1954,
          1955,
          1956,
          1957,
          1959,
          1960,
          1961,
          1962,
          1963,
          1965,
          1966,
          1967,
          1968,
          1969,
          1970,
          1971,
          1972,
          1973,
          1974,
          1975,
          1976,
          1977,
          1978,
          1979,
          1980,
          1981,
          1982,
          1983,
          1984,
          1985,
          1986,
          1987,
          1988,
          1989,
          1991,
          1992,
          1996,
          1997,
          2004,
          2005,
          2006,
          2007,
          2008,
          2009,
          2010,
          2011,
          2012,
          2013,
          2014,
          2015,
          2016,
          2017,
          2018,
          2019
         ],
         "xaxis": "x",
         "y": [
          69.92804370611596,
          70.41543129720169,
          70.90752244202366,
          71.40592190524609,
          71.91188562790194,
          72.42675596026847,
          72.9513017663438,
          73.48505601850201,
          74.02639416292175,
          74.57270932856026,
          75.12125426181956,
          75.66884509079836,
          76.75023282168175,
          77.27906293238422,
          77.79669037829426,
          78.29942416151363,
          78.78341606968519,
          79.67762478649756,
          80.08119430999176,
          80.48532597417025,
          80.99175984639172,
          81.39800832674614,
          81.8389966531739,
          82.28950081446342,
          82.52256267024268,
          82.94937810892306,
          83.36502892653039,
          83.58597743483294,
          83.84177774132797,
          84.12079492072613,
          84.47674416623629,
          84.79673959831405,
          85.0859923316017,
          85.35834338640129,
          85.62415715875896,
          85.89359551445827,
          86.16782139877328,
          86.43868838889834,
          86.70045084762295,
          86.95226942551331,
          87.19528515706908,
          87.42945873539361,
          87.82616869258082,
          87.99151084877901,
          88.27722331730082,
          88.25937267642041,
          88.14540792056344,
          88.13730717771755,
          88.12950830228964,
          88.12105671835891,
          88.11123670235402,
          88.09921713452965,
          88.08422651755541,
          88.06558647503867,
          88.04240021723099,
          88.01354281019385,
          87.97783205861815,
          87.93415164198103,
          87.8817761044735,
          87.8204250892512,
          87.74962164444298,
          87.66866669998683
         ],
         "yaxis": "y"
        }
       ],
       "layout": {
        "autosize": true,
        "legend": {
         "title": {
          "text": "Country"
         },
         "tracegroupgap": 0
        },
        "margin": {
         "t": 60
        },
        "template": {
         "data": {
          "bar": [
           {
            "error_x": {
             "color": "#2a3f5f"
            },
            "error_y": {
             "color": "#2a3f5f"
            },
            "marker": {
             "line": {
              "color": "#E5ECF6",
              "width": 0.5
             },
             "pattern": {
              "fillmode": "overlay",
              "size": 10,
              "solidity": 0.2
             }
            },
            "type": "bar"
           }
          ],
          "barpolar": [
           {
            "marker": {
             "line": {
              "color": "#E5ECF6",
              "width": 0.5
             },
             "pattern": {
              "fillmode": "overlay",
              "size": 10,
              "solidity": 0.2
             }
            },
            "type": "barpolar"
           }
          ],
          "carpet": [
           {
            "aaxis": {
             "endlinecolor": "#2a3f5f",
             "gridcolor": "white",
             "linecolor": "white",
             "minorgridcolor": "white",
             "startlinecolor": "#2a3f5f"
            },
            "baxis": {
             "endlinecolor": "#2a3f5f",
             "gridcolor": "white",
             "linecolor": "white",
             "minorgridcolor": "white",
             "startlinecolor": "#2a3f5f"
            },
            "type": "carpet"
           }
          ],
          "choropleth": [
           {
            "colorbar": {
             "outlinewidth": 0,
             "ticks": ""
            },
            "type": "choropleth"
           }
          ],
          "contour": [
           {
            "colorbar": {
             "outlinewidth": 0,
             "ticks": ""
            },
            "colorscale": [
             [
              0,
              "#0d0887"
             ],
             [
              0.1111111111111111,
              "#46039f"
             ],
             [
              0.2222222222222222,
              "#7201a8"
             ],
             [
              0.3333333333333333,
              "#9c179e"
             ],
             [
              0.4444444444444444,
              "#bd3786"
             ],
             [
              0.5555555555555556,
              "#d8576b"
             ],
             [
              0.6666666666666666,
              "#ed7953"
             ],
             [
              0.7777777777777778,
              "#fb9f3a"
             ],
             [
              0.8888888888888888,
              "#fdca26"
             ],
             [
              1,
              "#f0f921"
             ]
            ],
            "type": "contour"
           }
          ],
          "contourcarpet": [
           {
            "colorbar": {
             "outlinewidth": 0,
             "ticks": ""
            },
            "type": "contourcarpet"
           }
          ],
          "heatmap": [
           {
            "colorbar": {
             "outlinewidth": 0,
             "ticks": ""
            },
            "colorscale": [
             [
              0,
              "#0d0887"
             ],
             [
              0.1111111111111111,
              "#46039f"
             ],
             [
              0.2222222222222222,
              "#7201a8"
             ],
             [
              0.3333333333333333,
              "#9c179e"
             ],
             [
              0.4444444444444444,
              "#bd3786"
             ],
             [
              0.5555555555555556,
              "#d8576b"
             ],
             [
              0.6666666666666666,
              "#ed7953"
             ],
             [
              0.7777777777777778,
              "#fb9f3a"
             ],
             [
              0.8888888888888888,
              "#fdca26"
             ],
             [
              1,
              "#f0f921"
             ]
            ],
            "type": "heatmap"
           }
          ],
          "heatmapgl": [
           {
            "colorbar": {
             "outlinewidth": 0,
             "ticks": ""
            },
            "colorscale": [
             [
              0,
              "#0d0887"
             ],
             [
              0.1111111111111111,
              "#46039f"
             ],
             [
              0.2222222222222222,
              "#7201a8"
             ],
             [
              0.3333333333333333,
              "#9c179e"
             ],
             [
              0.4444444444444444,
              "#bd3786"
             ],
             [
              0.5555555555555556,
              "#d8576b"
             ],
             [
              0.6666666666666666,
              "#ed7953"
             ],
             [
              0.7777777777777778,
              "#fb9f3a"
             ],
             [
              0.8888888888888888,
              "#fdca26"
             ],
             [
              1,
              "#f0f921"
             ]
            ],
            "type": "heatmapgl"
           }
          ],
          "histogram": [
           {
            "marker": {
             "pattern": {
              "fillmode": "overlay",
              "size": 10,
              "solidity": 0.2
             }
            },
            "type": "histogram"
           }
          ],
          "histogram2d": [
           {
            "colorbar": {
             "outlinewidth": 0,
             "ticks": ""
            },
            "colorscale": [
             [
              0,
              "#0d0887"
             ],
             [
              0.1111111111111111,
              "#46039f"
             ],
             [
              0.2222222222222222,
              "#7201a8"
             ],
             [
              0.3333333333333333,
              "#9c179e"
             ],
             [
              0.4444444444444444,
              "#bd3786"
             ],
             [
              0.5555555555555556,
              "#d8576b"
             ],
             [
              0.6666666666666666,
              "#ed7953"
             ],
             [
              0.7777777777777778,
              "#fb9f3a"
             ],
             [
              0.8888888888888888,
              "#fdca26"
             ],
             [
              1,
              "#f0f921"
             ]
            ],
            "type": "histogram2d"
           }
          ],
          "histogram2dcontour": [
           {
            "colorbar": {
             "outlinewidth": 0,
             "ticks": ""
            },
            "colorscale": [
             [
              0,
              "#0d0887"
             ],
             [
              0.1111111111111111,
              "#46039f"
             ],
             [
              0.2222222222222222,
              "#7201a8"
             ],
             [
              0.3333333333333333,
              "#9c179e"
             ],
             [
              0.4444444444444444,
              "#bd3786"
             ],
             [
              0.5555555555555556,
              "#d8576b"
             ],
             [
              0.6666666666666666,
              "#ed7953"
             ],
             [
              0.7777777777777778,
              "#fb9f3a"
             ],
             [
              0.8888888888888888,
              "#fdca26"
             ],
             [
              1,
              "#f0f921"
             ]
            ],
            "type": "histogram2dcontour"
           }
          ],
          "mesh3d": [
           {
            "colorbar": {
             "outlinewidth": 0,
             "ticks": ""
            },
            "type": "mesh3d"
           }
          ],
          "parcoords": [
           {
            "line": {
             "colorbar": {
              "outlinewidth": 0,
              "ticks": ""
             }
            },
            "type": "parcoords"
           }
          ],
          "pie": [
           {
            "automargin": true,
            "type": "pie"
           }
          ],
          "scatter": [
           {
            "fillpattern": {
             "fillmode": "overlay",
             "size": 10,
             "solidity": 0.2
            },
            "type": "scatter"
           }
          ],
          "scatter3d": [
           {
            "line": {
             "colorbar": {
              "outlinewidth": 0,
              "ticks": ""
             }
            },
            "marker": {
             "colorbar": {
              "outlinewidth": 0,
              "ticks": ""
             }
            },
            "type": "scatter3d"
           }
          ],
          "scattercarpet": [
           {
            "marker": {
             "colorbar": {
              "outlinewidth": 0,
              "ticks": ""
             }
            },
            "type": "scattercarpet"
           }
          ],
          "scattergeo": [
           {
            "marker": {
             "colorbar": {
              "outlinewidth": 0,
              "ticks": ""
             }
            },
            "type": "scattergeo"
           }
          ],
          "scattergl": [
           {
            "marker": {
             "colorbar": {
              "outlinewidth": 0,
              "ticks": ""
             }
            },
            "type": "scattergl"
           }
          ],
          "scattermapbox": [
           {
            "marker": {
             "colorbar": {
              "outlinewidth": 0,
              "ticks": ""
             }
            },
            "type": "scattermapbox"
           }
          ],
          "scatterpolar": [
           {
            "marker": {
             "colorbar": {
              "outlinewidth": 0,
              "ticks": ""
             }
            },
            "type": "scatterpolar"
           }
          ],
          "scatterpolargl": [
           {
            "marker": {
             "colorbar": {
              "outlinewidth": 0,
              "ticks": ""
             }
            },
            "type": "scatterpolargl"
           }
          ],
          "scatterternary": [
           {
            "marker": {
             "colorbar": {
              "outlinewidth": 0,
              "ticks": ""
             }
            },
            "type": "scatterternary"
           }
          ],
          "surface": [
           {
            "colorbar": {
             "outlinewidth": 0,
             "ticks": ""
            },
            "colorscale": [
             [
              0,
              "#0d0887"
             ],
             [
              0.1111111111111111,
              "#46039f"
             ],
             [
              0.2222222222222222,
              "#7201a8"
             ],
             [
              0.3333333333333333,
              "#9c179e"
             ],
             [
              0.4444444444444444,
              "#bd3786"
             ],
             [
              0.5555555555555556,
              "#d8576b"
             ],
             [
              0.6666666666666666,
              "#ed7953"
             ],
             [
              0.7777777777777778,
              "#fb9f3a"
             ],
             [
              0.8888888888888888,
              "#fdca26"
             ],
             [
              1,
              "#f0f921"
             ]
            ],
            "type": "surface"
           }
          ],
          "table": [
           {
            "cells": {
             "fill": {
              "color": "#EBF0F8"
             },
             "line": {
              "color": "white"
             }
            },
            "header": {
             "fill": {
              "color": "#C8D4E3"
             },
             "line": {
              "color": "white"
             }
            },
            "type": "table"
           }
          ]
         },
         "layout": {
          "annotationdefaults": {
           "arrowcolor": "#2a3f5f",
           "arrowhead": 0,
           "arrowwidth": 1
          },
          "autotypenumbers": "strict",
          "coloraxis": {
           "colorbar": {
            "outlinewidth": 0,
            "ticks": ""
           }
          },
          "colorscale": {
           "diverging": [
            [
             0,
             "#8e0152"
            ],
            [
             0.1,
             "#c51b7d"
            ],
            [
             0.2,
             "#de77ae"
            ],
            [
             0.3,
             "#f1b6da"
            ],
            [
             0.4,
             "#fde0ef"
            ],
            [
             0.5,
             "#f7f7f7"
            ],
            [
             0.6,
             "#e6f5d0"
            ],
            [
             0.7,
             "#b8e186"
            ],
            [
             0.8,
             "#7fbc41"
            ],
            [
             0.9,
             "#4d9221"
            ],
            [
             1,
             "#276419"
            ]
           ],
           "sequential": [
            [
             0,
             "#0d0887"
            ],
            [
             0.1111111111111111,
             "#46039f"
            ],
            [
             0.2222222222222222,
             "#7201a8"
            ],
            [
             0.3333333333333333,
             "#9c179e"
            ],
            [
             0.4444444444444444,
             "#bd3786"
            ],
            [
             0.5555555555555556,
             "#d8576b"
            ],
            [
             0.6666666666666666,
             "#ed7953"
            ],
            [
             0.7777777777777778,
             "#fb9f3a"
            ],
            [
             0.8888888888888888,
             "#fdca26"
            ],
            [
             1,
             "#f0f921"
            ]
           ],
           "sequentialminus": [
            [
             0,
             "#0d0887"
            ],
            [
             0.1111111111111111,
             "#46039f"
            ],
            [
             0.2222222222222222,
             "#7201a8"
            ],
            [
             0.3333333333333333,
             "#9c179e"
            ],
            [
             0.4444444444444444,
             "#bd3786"
            ],
            [
             0.5555555555555556,
             "#d8576b"
            ],
            [
             0.6666666666666666,
             "#ed7953"
            ],
            [
             0.7777777777777778,
             "#fb9f3a"
            ],
            [
             0.8888888888888888,
             "#fdca26"
            ],
            [
             1,
             "#f0f921"
            ]
           ]
          },
          "colorway": [
           "#636efa",
           "#EF553B",
           "#00cc96",
           "#ab63fa",
           "#FFA15A",
           "#19d3f3",
           "#FF6692",
           "#B6E880",
           "#FF97FF",
           "#FECB52"
          ],
          "font": {
           "color": "#2a3f5f"
          },
          "geo": {
           "bgcolor": "white",
           "lakecolor": "white",
           "landcolor": "#E5ECF6",
           "showlakes": true,
           "showland": true,
           "subunitcolor": "white"
          },
          "hoverlabel": {
           "align": "left"
          },
          "hovermode": "closest",
          "mapbox": {
           "style": "light"
          },
          "paper_bgcolor": "white",
          "plot_bgcolor": "#E5ECF6",
          "polar": {
           "angularaxis": {
            "gridcolor": "white",
            "linecolor": "white",
            "ticks": ""
           },
           "bgcolor": "#E5ECF6",
           "radialaxis": {
            "gridcolor": "white",
            "linecolor": "white",
            "ticks": ""
           }
          },
          "scene": {
           "xaxis": {
            "backgroundcolor": "#E5ECF6",
            "gridcolor": "white",
            "gridwidth": 2,
            "linecolor": "white",
            "showbackground": true,
            "ticks": "",
            "zerolinecolor": "white"
           },
           "yaxis": {
            "backgroundcolor": "#E5ECF6",
            "gridcolor": "white",
            "gridwidth": 2,
            "linecolor": "white",
            "showbackground": true,
            "ticks": "",
            "zerolinecolor": "white"
           },
           "zaxis": {
            "backgroundcolor": "#E5ECF6",
            "gridcolor": "white",
            "gridwidth": 2,
            "linecolor": "white",
            "showbackground": true,
            "ticks": "",
            "zerolinecolor": "white"
           }
          },
          "shapedefaults": {
           "line": {
            "color": "#2a3f5f"
           }
          },
          "ternary": {
           "aaxis": {
            "gridcolor": "white",
            "linecolor": "white",
            "ticks": ""
           },
           "baxis": {
            "gridcolor": "white",
            "linecolor": "white",
            "ticks": ""
           },
           "bgcolor": "#E5ECF6",
           "caxis": {
            "gridcolor": "white",
            "linecolor": "white",
            "ticks": ""
           }
          },
          "title": {
           "x": 0.05
          },
          "xaxis": {
           "automargin": true,
           "gridcolor": "white",
           "linecolor": "white",
           "ticks": "",
           "title": {
            "standoff": 15
           },
           "zerolinecolor": "white",
           "zerolinewidth": 2
          },
          "yaxis": {
           "automargin": true,
           "gridcolor": "white",
           "linecolor": "white",
           "ticks": "",
           "title": {
            "standoff": 15
           },
           "zerolinecolor": "white",
           "zerolinewidth": 2
          }
         }
        },
        "title": {
         "text": "Colonialism<br>",
         "x": 0.5,
         "xanchor": "center",
         "y": 0.9,
         "yanchor": "top"
        },
        "xaxis": {
         "anchor": "y",
         "autorange": true,
         "domain": [
          0,
          1
         ],
         "range": [
          1941.3573634433508,
          2023.6426365566492
         ],
         "title": {
          "text": "Year"
         },
         "type": "linear"
        },
        "yaxis": {
         "anchor": "x",
         "autorange": true,
         "domain": [
          0,
          1
         ],
         "range": [
          0.5451241671714122,
          107.14718352513628
         ],
         "title": {
          "text": "% Yes"
         },
         "type": "linear"
        }
       }
      },
      "image/png": "[encoded data removed]",
      "text/html": [
       "<div>                            <div id=\"c3b7eb55-77f9-4348-8a7b-9cea6b53af3d\" class=\"plotly-graph-div\" style=\"height:525px; width:100%;\"></div>            <script type=\"text/javascript\">                require([\"plotly\"], function(Plotly) {                    window.PLOTLYENV=window.PLOTLYENV || {};                                    if (document.getElementById(\"c3b7eb55-77f9-4348-8a7b-9cea6b53af3d\")) {                    Plotly.newPlot(                        \"c3b7eb55-77f9-4348-8a7b-9cea6b53af3d\",                        [{\"hovertemplate\":\"Country=Iran\\u003cbr\\u003ex=%{x}\\u003cbr\\u003ey=%{y}\\u003cextra\\u003e\\u003c\\u002fextra\\u003e\",\"legendgroup\":\"Iran\",\"marker\":{\"color\":\"#636efa\",\"symbol\":\"circle\"},\"mode\":\"markers\",\"name\":\"Iran\",\"orientation\":\"v\",\"showlegend\":true,\"x\":[1946,1947,1948,1949,1950,1951,1952,1953,1954,1955,1957,1956,1959,1960,1961,1962,1963,1965,1966,1967,1968,1969,1970,1971,1972,1973,1974,1975,1976,1977,1978,1979,1980,1981,1982,1983,1984,1985,1986,1987,1988,1989,1990,1991,1992,1993,1994,1995,1996,1997,1998,1999,2000,2001,2002,2003,2004,2005,2006,2007,2008,2009,2010,2011,2012,2013,2014,2015,2016,2017,2018,2019],\"xaxis\":\"x\",\"y\":[73.33333333333333,37.5,91.66666666666666,66.66666666666666,75.0,100.0,80.0,88.88888888888889,80.0,80.0,50.0,100.0,46.666666666666664,63.63636363636363,60.0,61.904761904761905,100.0,75.0,82.35294117647058,92.85714285714286,72.72727272727273,78.57142857142857,88.23529411764706,95.45454545454545,100.0,95.65217391304348,100.0,86.36363636363636,89.47368421052632,88.88888888888889,85.71428571428571,100.0,100.0,100.0,100.0,100.0,100.0,100.0,100.0,100.0,100.0,100.0,100.0,93.33333333333333,100.0,100.0,92.3076923076923,92.85714285714286,91.66666666666666,91.66666666666666,100.0,92.3076923076923,92.3076923076923,91.66666666666666,90.9090909090909,100.0,100.0,100.0,93.75,100.0,92.85714285714286,92.85714285714286,100.0,100.0,100.0,100.0,100.0,90.0,90.9090909090909,93.75,66.66666666666666,87.5],\"yaxis\":\"y\",\"type\":\"scatter\"},{\"hovertemplate\":\"\\u003cb\\u003eLOWESS trendline\\u003c\\u002fb\\u003e\\u003cbr\\u003e\\u003cbr\\u003eCountry=Iran\\u003cbr\\u003ex=%{x}\\u003cbr\\u003ey=%{y} \\u003cb\\u003e(trend)\\u003c\\u002fb\\u003e\\u003cextra\\u003e\\u003c\\u002fextra\\u003e\",\"legendgroup\":\"Iran\",\"marker\":{\"color\":\"#636efa\",\"symbol\":\"circle\"},\"mode\":\"lines\",\"name\":\"Iran\",\"showlegend\":false,\"x\":[1946,1947,1948,1949,1950,1951,1952,1953,1954,1955,1956,1957,1959,1960,1961,1962,1963,1965,1966,1967,1968,1969,1970,1971,1972,1973,1974,1975,1976,1977,1978,1979,1980,1981,1982,1983,1984,1985,1986,1987,1988,1989,1990,1991,1992,1993,1994,1995,1996,1997,1998,1999,2000,2001,2002,2003,2004,2005,2006,2007,2008,2009,2010,2011,2012,2013,2014,2015,2016,2017,2018,2019],\"xaxis\":\"x\",\"y\":[74.71269506434093,75.27725818147657,75.84411516190664,76.41351415712667,76.98552607318507,77.5604902505615,78.13889954880625,78.72118436693185,79.30763229299713,79.89822870024251,80.49281730253149,81.09112181078562,82.29650330441777,82.90189520701789,83.50761070612408,84.11241251852879,84.7148700435697,85.90418994755,86.48365367288442,87.04570047561147,87.58300854499419,88.08889815978809,88.56715158134281,89.15857891843439,89.77105813092139,90.40706943770212,91.06410612761591,91.72710170357303,92.37318421335345,92.97972808724982,93.53061039372098,94.01978810786574,94.44749281047113,94.8172804375553,95.1359947346756,95.41148830363336,95.65097206045918,95.86146300011686,96.04569584401888,96.20302921704439,96.4493048325957,96.53166581028323,96.59344123252892,96.63910794985529,96.6746427197644,96.70417909356442,96.724868106104,96.72885421078692,96.70862066925321,96.67264335284585,96.6071022732243,96.5175042641209,96.41169671102811,96.29586026588346,96.17444880745458,96.0507057284873,95.92701203231934,95.80492970774982,95.68539576046295,95.56893170793165,95.45584983042525,95.34623370615715,95.24011125151918,95.13746541762193,95.03808155661766,94.94153403051621,94.84720851977457,94.7543172494268,94.66197732462068,94.56947885802863,94.47630232844541,94.38201686607145],\"yaxis\":\"y\",\"type\":\"scatter\"},{\"hovertemplate\":\"Country=Germany\\u003cbr\\u003ex=%{x}\\u003cbr\\u003ey=%{y}\\u003cextra\\u003e\\u003c\\u002fextra\\u003e\",\"legendgroup\":\"Germany\",\"marker\":{\"color\":\"#EF553B\",\"symbol\":\"circle\"},\"mode\":\"markers\",\"name\":\"Germany\",\"orientation\":\"v\",\"showlegend\":true,\"x\":[1991,1992,1993,1994,1995,1996,1997,1998,1999,2000,2001,2002,2003,2004,2005,2006,2007,2008,2009,2010,2011,2012,2013,2014,2015,2016,2017,2018,2019],\"xaxis\":\"x\",\"y\":[40.0,35.714285714285715,27.27272727272727,46.15384615384615,57.14285714285714,58.333333333333336,66.66666666666666,69.23076923076923,61.53846153846154,61.53846153846154,66.66666666666666,63.63636363636363,50.0,55.55555555555556,60.0,82.35294117647058,72.72727272727273,73.33333333333333,78.57142857142857,69.23076923076923,75.0,76.92307692307693,76.92307692307693,66.66666666666666,66.66666666666666,72.72727272727273,68.75,66.66666666666666,31.25],\"yaxis\":\"y\",\"type\":\"scatter\"},{\"hovertemplate\":\"\\u003cb\\u003eLOWESS trendline\\u003c\\u002fb\\u003e\\u003cbr\\u003e\\u003cbr\\u003eCountry=Germany\\u003cbr\\u003ex=%{x}\\u003cbr\\u003ey=%{y} \\u003cb\\u003e(trend)\\u003c\\u002fb\\u003e\\u003cextra\\u003e\\u003c\\u002fextra\\u003e\",\"legendgroup\":\"Germany\",\"marker\":{\"color\":\"#EF553B\",\"symbol\":\"circle\"},\"mode\":\"lines\",\"name\":\"Germany\",\"showlegend\":false,\"x\":[1991,1992,1993,1994,1995,1996,1997,1998,1999,2000,2001,2002,2003,2004,2005,2006,2007,2008,2009,2010,2011,2012,2013,2014,2015,2016,2017,2018,2019],\"xaxis\":\"x\",\"y\":[41.33426053416992,43.8847187867378,46.336632201758775,48.689341172008994,50.95505589538757,53.15724525513668,55.32509582600682,57.493721875963814,59.67773623449812,61.589724365741795,62.82626059107364,64.02958411945967,65.11859268493164,66.12509358792269,67.1254091442583,68.17295945370502,69.23375891539929,70.26952350129433,71.25456814948252,72.03958168566506,71.88174711535052,71.6466101350502,71.35416259946696,71.00115156882775,70.58488973072723,70.1105513838918,69.58720217048318,69.02061173203485,68.41640980694422],\"yaxis\":\"y\",\"type\":\"scatter\"},{\"hovertemplate\":\"Country=Liberia\\u003cbr\\u003ex=%{x}\\u003cbr\\u003ey=%{y}\\u003cextra\\u003e\\u003c\\u002fextra\\u003e\",\"legendgroup\":\"Liberia\",\"marker\":{\"color\":\"#00cc96\",\"symbol\":\"circle\"},\"mode\":\"markers\",\"name\":\"Liberia\",\"orientation\":\"v\",\"showlegend\":true,\"x\":[1946,1947,1948,1949,1950,1951,1952,1953,1954,1955,1957,1956,1959,1960,1961,1962,1963,1965,1966,1967,1968,1969,1970,1971,1972,1973,1974,1975,1976,1977,1978,1979,1980,1981,1982,1983,1984,1985,1986,1987,1988,1989,1991,1992,1996,1997,2004,2005,2006,2007,2008,2009,2010,2011,2012,2013,2014,2015,2016,2017,2018,2019],\"xaxis\":\"x\",\"y\":[7.6923076923076925,55.55555555555556,85.71428571428571,64.28571428571429,81.81818181818183,100.0,86.66666666666667,88.88888888888889,60.0,80.0,55.55555555555556,50.0,53.333333333333336,100.0,53.333333333333336,61.904761904761905,100.0,100.0,93.75,100.0,70.0,58.333333333333336,70.58823529411765,71.42857142857143,87.5,100.0,100.0,81.25,84.21052631578947,88.23529411764706,92.85714285714286,90.47619047619048,93.75,82.35294117647058,86.95652173913044,92.85714285714286,82.6086956521739,69.23076923076923,62.5,66.66666666666666,78.57142857142857,100.0,100.0,90.9090909090909,100.0,83.33333333333334,100.0,100.0,75.0,100.0,86.66666666666667,83.33333333333334,100.0,100.0,92.3076923076923,91.66666666666666,77.77777777777779,66.66666666666666,100.0,100.0,33.33333333333333,63.63636363636363],\"yaxis\":\"y\",\"type\":\"scatter\"},{\"hovertemplate\":\"\\u003cb\\u003eLOWESS trendline\\u003c\\u002fb\\u003e\\u003cbr\\u003e\\u003cbr\\u003eCountry=Liberia\\u003cbr\\u003ex=%{x}\\u003cbr\\u003ey=%{y} \\u003cb\\u003e(trend)\\u003c\\u002fb\\u003e\\u003cextra\\u003e\\u003c\\u002fextra\\u003e\",\"legendgroup\":\"Liberia\",\"marker\":{\"color\":\"#00cc96\",\"symbol\":\"circle\"},\"mode\":\"lines\",\"name\":\"Liberia\",\"showlegend\":false,\"x\":[1946,1947,1948,1949,1950,1951,1952,1953,1954,1955,1956,1957,1959,1960,1961,1962,1963,1965,1966,1967,1968,1969,1970,1971,1972,1973,1974,1975,1976,1977,1978,1979,1980,1981,1982,1983,1984,1985,1986,1987,1988,1989,1991,1992,1996,1997,2004,2005,2006,2007,2008,2009,2010,2011,2012,2013,2014,2015,2016,2017,2018,2019],\"xaxis\":\"x\",\"y\":[69.92804370611596,70.41543129720169,70.90752244202366,71.40592190524609,71.91188562790194,72.42675596026847,72.9513017663438,73.48505601850201,74.02639416292175,74.57270932856026,75.12125426181956,75.66884509079836,76.75023282168175,77.27906293238422,77.79669037829426,78.29942416151363,78.78341606968519,79.67762478649756,80.08119430999176,80.48532597417025,80.99175984639172,81.39800832674614,81.8389966531739,82.28950081446342,82.52256267024268,82.94937810892306,83.36502892653039,83.58597743483294,83.84177774132797,84.12079492072613,84.47674416623629,84.79673959831405,85.0859923316017,85.35834338640129,85.62415715875896,85.89359551445827,86.16782139877328,86.43868838889834,86.70045084762295,86.95226942551331,87.19528515706908,87.42945873539361,87.82616869258082,87.99151084877901,88.27722331730082,88.25937267642041,88.14540792056344,88.13730717771755,88.12950830228964,88.12105671835891,88.11123670235402,88.09921713452965,88.08422651755541,88.06558647503867,88.04240021723099,88.01354281019385,87.97783205861815,87.93415164198103,87.8817761044735,87.8204250892512,87.74962164444298,87.66866669998683],\"yaxis\":\"y\",\"type\":\"scatter\"}],                        {\"template\":{\"data\":{\"histogram2dcontour\":[{\"type\":\"histogram2dcontour\",\"colorbar\":{\"outlinewidth\":0,\"ticks\":\"\"},\"colorscale\":[[0.0,\"#0d0887\"],[0.1111111111111111,\"#46039f\"],[0.2222222222222222,\"#7201a8\"],[0.3333333333333333,\"#9c179e\"],[0.4444444444444444,\"#bd3786\"],[0.5555555555555556,\"#d8576b\"],[0.6666666666666666,\"#ed7953\"],[0.7777777777777778,\"#fb9f3a\"],[0.8888888888888888,\"#fdca26\"],[1.0,\"#f0f921\"]]}],\"choropleth\":[{\"type\":\"choropleth\",\"colorbar\":{\"outlinewidth\":0,\"ticks\":\"\"}}],\"histogram2d\":[{\"type\":\"histogram2d\",\"colorbar\":{\"outlinewidth\":0,\"ticks\":\"\"},\"colorscale\":[[0.0,\"#0d0887\"],[0.1111111111111111,\"#46039f\"],[0.2222222222222222,\"#7201a8\"],[0.3333333333333333,\"#9c179e\"],[0.4444444444444444,\"#bd3786\"],[0.5555555555555556,\"#d8576b\"],[0.6666666666666666,\"#ed7953\"],[0.7777777777777778,\"#fb9f3a\"],[0.8888888888888888,\"#fdca26\"],[1.0,\"#f0f921\"]]}],\"heatmap\":[{\"type\":\"heatmap\",\"colorbar\":{\"outlinewidth\":0,\"ticks\":\"\"},\"colorscale\":[[0.0,\"#0d0887\"],[0.1111111111111111,\"#46039f\"],[0.2222222222222222,\"#7201a8\"],[0.3333333333333333,\"#9c179e\"],[0.4444444444444444,\"#bd3786\"],[0.5555555555555556,\"#d8576b\"],[0.6666666666666666,\"#ed7953\"],[0.7777777777777778,\"#fb9f3a\"],[0.8888888888888888,\"#fdca26\"],[1.0,\"#f0f921\"]]}],\"heatmapgl\":[{\"type\":\"heatmapgl\",\"colorbar\":{\"outlinewidth\":0,\"ticks\":\"\"},\"colorscale\":[[0.0,\"#0d0887\"],[0.1111111111111111,\"#46039f\"],[0.2222222222222222,\"#7201a8\"],[0.3333333333333333,\"#9c179e\"],[0.4444444444444444,\"#bd3786\"],[0.5555555555555556,\"#d8576b\"],[0.6666666666666666,\"#ed7953\"],[0.7777777777777778,\"#fb9f3a\"],[0.8888888888888888,\"#fdca26\"],[1.0,\"#f0f921\"]]}],\"contourcarpet\":[{\"type\":\"contourcarpet\",\"colorbar\":{\"outlinewidth\":0,\"ticks\":\"\"}}],\"contour\":[{\"type\":\"contour\",\"colorbar\":{\"outlinewidth\":0,\"ticks\":\"\"},\"colorscale\":[[0.0,\"#0d0887\"],[0.1111111111111111,\"#46039f\"],[0.2222222222222222,\"#7201a8\"],[0.3333333333333333,\"#9c179e\"],[0.4444444444444444,\"#bd3786\"],[0.5555555555555556,\"#d8576b\"],[0.6666666666666666,\"#ed7953\"],[0.7777777777777778,\"#fb9f3a\"],[0.8888888888888888,\"#fdca26\"],[1.0,\"#f0f921\"]]}],\"surface\":[{\"type\":\"surface\",\"colorbar\":{\"outlinewidth\":0,\"ticks\":\"\"},\"colorscale\":[[0.0,\"#0d0887\"],[0.1111111111111111,\"#46039f\"],[0.2222222222222222,\"#7201a8\"],[0.3333333333333333,\"#9c179e\"],[0.4444444444444444,\"#bd3786\"],[0.5555555555555556,\"#d8576b\"],[0.6666666666666666,\"#ed7953\"],[0.7777777777777778,\"#fb9f3a\"],[0.8888888888888888,\"#fdca26\"],[1.0,\"#f0f921\"]]}],\"mesh3d\":[{\"type\":\"mesh3d\",\"colorbar\":{\"outlinewidth\":0,\"ticks\":\"\"}}],\"scatter\":[{\"fillpattern\":{\"fillmode\":\"overlay\",\"size\":10,\"solidity\":0.2},\"type\":\"scatter\"}],\"parcoords\":[{\"type\":\"parcoords\",\"line\":{\"colorbar\":{\"outlinewidth\":0,\"ticks\":\"\"}}}],\"scatterpolargl\":[{\"type\":\"scatterpolargl\",\"marker\":{\"colorbar\":{\"outlinewidth\":0,\"ticks\":\"\"}}}],\"bar\":[{\"error_x\":{\"color\":\"#2a3f5f\"},\"error_y\":{\"color\":\"#2a3f5f\"},\"marker\":{\"line\":{\"color\":\"#E5ECF6\",\"width\":0.5},\"pattern\":{\"fillmode\":\"overlay\",\"size\":10,\"solidity\":0.2}},\"type\":\"bar\"}],\"scattergeo\":[{\"type\":\"scattergeo\",\"marker\":{\"colorbar\":{\"outlinewidth\":0,\"ticks\":\"\"}}}],\"scatterpolar\":[{\"type\":\"scatterpolar\",\"marker\":{\"colorbar\":{\"outlinewidth\":0,\"ticks\":\"\"}}}],\"histogram\":[{\"marker\":{\"pattern\":{\"fillmode\":\"overlay\",\"size\":10,\"solidity\":0.2}},\"type\":\"histogram\"}],\"scattergl\":[{\"type\":\"scattergl\",\"marker\":{\"colorbar\":{\"outlinewidth\":0,\"ticks\":\"\"}}}],\"scatter3d\":[{\"type\":\"scatter3d\",\"line\":{\"colorbar\":{\"outlinewidth\":0,\"ticks\":\"\"}},\"marker\":{\"colorbar\":{\"outlinewidth\":0,\"ticks\":\"\"}}}],\"scattermapbox\":[{\"type\":\"scattermapbox\",\"marker\":{\"colorbar\":{\"outlinewidth\":0,\"ticks\":\"\"}}}],\"scatterternary\":[{\"type\":\"scatterternary\",\"marker\":{\"colorbar\":{\"outlinewidth\":0,\"ticks\":\"\"}}}],\"scattercarpet\":[{\"type\":\"scattercarpet\",\"marker\":{\"colorbar\":{\"outlinewidth\":0,\"ticks\":\"\"}}}],\"carpet\":[{\"aaxis\":{\"endlinecolor\":\"#2a3f5f\",\"gridcolor\":\"white\",\"linecolor\":\"white\",\"minorgridcolor\":\"white\",\"startlinecolor\":\"#2a3f5f\"},\"baxis\":{\"endlinecolor\":\"#2a3f5f\",\"gridcolor\":\"white\",\"linecolor\":\"white\",\"minorgridcolor\":\"white\",\"startlinecolor\":\"#2a3f5f\"},\"type\":\"carpet\"}],\"table\":[{\"cells\":{\"fill\":{\"color\":\"#EBF0F8\"},\"line\":{\"color\":\"white\"}},\"header\":{\"fill\":{\"color\":\"#C8D4E3\"},\"line\":{\"color\":\"white\"}},\"type\":\"table\"}],\"barpolar\":[{\"marker\":{\"line\":{\"color\":\"#E5ECF6\",\"width\":0.5},\"pattern\":{\"fillmode\":\"overlay\",\"size\":10,\"solidity\":0.2}},\"type\":\"barpolar\"}],\"pie\":[{\"automargin\":true,\"type\":\"pie\"}]},\"layout\":{\"autotypenumbers\":\"strict\",\"colorway\":[\"#636efa\",\"#EF553B\",\"#00cc96\",\"#ab63fa\",\"#FFA15A\",\"#19d3f3\",\"#FF6692\",\"#B6E880\",\"#FF97FF\",\"#FECB52\"],\"font\":{\"color\":\"#2a3f5f\"},\"hovermode\":\"closest\",\"hoverlabel\":{\"align\":\"left\"},\"paper_bgcolor\":\"white\",\"plot_bgcolor\":\"#E5ECF6\",\"polar\":{\"bgcolor\":\"#E5ECF6\",\"angularaxis\":{\"gridcolor\":\"white\",\"linecolor\":\"white\",\"ticks\":\"\"},\"radialaxis\":{\"gridcolor\":\"white\",\"linecolor\":\"white\",\"ticks\":\"\"}},\"ternary\":{\"bgcolor\":\"#E5ECF6\",\"aaxis\":{\"gridcolor\":\"white\",\"linecolor\":\"white\",\"ticks\":\"\"},\"baxis\":{\"gridcolor\":\"white\",\"linecolor\":\"white\",\"ticks\":\"\"},\"caxis\":{\"gridcolor\":\"white\",\"linecolor\":\"white\",\"ticks\":\"\"}},\"coloraxis\":{\"colorbar\":{\"outlinewidth\":0,\"ticks\":\"\"}},\"colorscale\":{\"sequential\":[[0.0,\"#0d0887\"],[0.1111111111111111,\"#46039f\"],[0.2222222222222222,\"#7201a8\"],[0.3333333333333333,\"#9c179e\"],[0.4444444444444444,\"#bd3786\"],[0.5555555555555556,\"#d8576b\"],[0.6666666666666666,\"#ed7953\"],[0.7777777777777778,\"#fb9f3a\"],[0.8888888888888888,\"#fdca26\"],[1.0,\"#f0f921\"]],\"sequentialminus\":[[0.0,\"#0d0887\"],[0.1111111111111111,\"#46039f\"],[0.2222222222222222,\"#7201a8\"],[0.3333333333333333,\"#9c179e\"],[0.4444444444444444,\"#bd3786\"],[0.5555555555555556,\"#d8576b\"],[0.6666666666666666,\"#ed7953\"],[0.7777777777777778,\"#fb9f3a\"],[0.8888888888888888,\"#fdca26\"],[1.0,\"#f0f921\"]],\"diverging\":[[0,\"#8e0152\"],[0.1,\"#c51b7d\"],[0.2,\"#de77ae\"],[0.3,\"#f1b6da\"],[0.4,\"#fde0ef\"],[0.5,\"#f7f7f7\"],[0.6,\"#e6f5d0\"],[0.7,\"#b8e186\"],[0.8,\"#7fbc41\"],[0.9,\"#4d9221\"],[1,\"#276419\"]]},\"xaxis\":{\"gridcolor\":\"white\",\"linecolor\":\"white\",\"ticks\":\"\",\"title\":{\"standoff\":15},\"zerolinecolor\":\"white\",\"automargin\":true,\"zerolinewidth\":2},\"yaxis\":{\"gridcolor\":\"white\",\"linecolor\":\"white\",\"ticks\":\"\",\"title\":{\"standoff\":15},\"zerolinecolor\":\"white\",\"automargin\":true,\"zerolinewidth\":2},\"scene\":{\"xaxis\":{\"backgroundcolor\":\"#E5ECF6\",\"gridcolor\":\"white\",\"linecolor\":\"white\",\"showbackground\":true,\"ticks\":\"\",\"zerolinecolor\":\"white\",\"gridwidth\":2},\"yaxis\":{\"backgroundcolor\":\"#E5ECF6\",\"gridcolor\":\"white\",\"linecolor\":\"white\",\"showbackground\":true,\"ticks\":\"\",\"zerolinecolor\":\"white\",\"gridwidth\":2},\"zaxis\":{\"backgroundcolor\":\"#E5ECF6\",\"gridcolor\":\"white\",\"linecolor\":\"white\",\"showbackground\":true,\"ticks\":\"\",\"zerolinecolor\":\"white\",\"gridwidth\":2}},\"shapedefaults\":{\"line\":{\"color\":\"#2a3f5f\"}},\"annotationdefaults\":{\"arrowcolor\":\"#2a3f5f\",\"arrowhead\":0,\"arrowwidth\":1},\"geo\":{\"bgcolor\":\"white\",\"landcolor\":\"#E5ECF6\",\"subunitcolor\":\"white\",\"showland\":true,\"showlakes\":true,\"lakecolor\":\"white\"},\"title\":{\"x\":0.05},\"mapbox\":{\"style\":\"light\"}}},\"xaxis\":{\"anchor\":\"y\",\"domain\":[0.0,1.0],\"title\":{\"text\":\"Year\"}},\"yaxis\":{\"anchor\":\"x\",\"domain\":[0.0,1.0],\"title\":{\"text\":\"% Yes\"}},\"legend\":{\"title\":{\"text\":\"Country\"},\"tracegroupgap\":0},\"margin\":{\"t\":60},\"title\":{\"text\":\"Colonialism\\u003cbr\\u003e\",\"y\":0.9,\"x\":0.5,\"xanchor\":\"center\",\"yanchor\":\"top\"}},                        {\"responsive\": true}                    ).then(function(){\n",
       "                            \n",
       "var gd = document.getElementById('c3b7eb55-77f9-4348-8a7b-9cea6b53af3d');\n",
       "var x = new MutationObserver(function (mutations, observer) {{\n",
       "        var display = window.getComputedStyle(gd).display;\n",
       "        if (!display || display === 'none') {{\n",
       "            console.log([gd, 'removed!']);\n",
       "            Plotly.purge(gd);\n",
       "            observer.disconnect();\n",
       "        }}\n",
       "}});\n",
       "\n",
       "// Listen for the removal of the full notebook cells\n",
       "var notebookContainer = gd.closest('#notebook-container');\n",
       "if (notebookContainer) {{\n",
       "    x.observe(notebookContainer, {childList: true});\n",
       "}}\n",
       "\n",
       "// Listen for the clearing of the current output cell\n",
       "var outputEl = gd.closest('.output');\n",
       "if (outputEl) {{\n",
       "    x.observe(outputEl, {childList: true});\n",
       "}}\n",
       "\n",
       "                        })                };                });            </script>        </div>"
      ]
     },
     "metadata": {},
     "output_type": "display_data"
    },
    {
     "data": {
      "application/vnd.plotly.v1+json": {
       "config": {
        "plotlyServerURL": "https://plot.ly"
       },
       "data": [
        {
         "hovertemplate": "Country=Iran<br>x=%{x}<br>y=%{y}<extra></extra>",
         "legendgroup": "Iran",
         "marker": {
          "color": "#636efa",
          "symbol": "circle"
         },
         "mode": "markers",
         "name": "Iran",
         "orientation": "v",
         "showlegend": true,
         "type": "scatter",
         "x": [
          1947,
          1948,
          1949,
          1950,
          1952,
          1957,
          1956,
          1961,
          1962,
          1963,
          1965,
          1967,
          1969,
          1970,
          1971,
          1972,
          1973,
          1974,
          1975,
          1976,
          1977,
          1978,
          1979,
          1980,
          1981,
          1982,
          1983,
          1984,
          1985,
          1986,
          1987,
          1988,
          1989,
          1990,
          1991,
          1992,
          1993,
          1994,
          1995,
          1996,
          1997,
          1998,
          1999,
          2000,
          2001,
          2002,
          2004,
          2003,
          2005,
          2006,
          2007,
          2008,
          2009,
          2010,
          2011,
          2012,
          2013,
          2014,
          2015,
          2016,
          2017,
          2018,
          2019
         ],
         "xaxis": "x",
         "y": [
          57.14285714285714,
          18.181818181818183,
          78.57142857142857,
          100,
          66.66666666666666,
          100,
          100,
          75,
          100,
          100,
          100,
          30.76923076923077,
          100,
          100,
          100,
          100,
          100,
          100,
          100,
          83.33333333333334,
          92.3076923076923,
          100,
          100,
          100,
          100,
          100,
          100,
          100,
          100,
          100,
          96.55172413793103,
          96.29629629629629,
          100,
          100,
          100,
          100,
          95,
          100,
          100,
          100,
          100,
          100,
          95,
          100,
          100,
          100,
          100,
          100,
          100,
          100,
          100,
          100,
          94.11764705882352,
          100,
          100,
          100,
          100,
          100,
          100,
          92.3076923076923,
          100,
          100,
          100
         ],
         "yaxis": "y"
        },
        {
         "hovertemplate": "<b>LOWESS trendline</b><br><br>Country=Iran<br>x=%{x}<br>y=%{y} <b>(trend)</b><extra></extra>",
         "legendgroup": "Iran",
         "marker": {
          "color": "#636efa",
          "symbol": "circle"
         },
         "mode": "lines",
         "name": "Iran",
         "showlegend": false,
         "type": "scatter",
         "x": [
          1947,
          1948,
          1949,
          1950,
          1952,
          1956,
          1957,
          1961,
          1962,
          1963,
          1965,
          1967,
          1969,
          1970,
          1971,
          1972,
          1973,
          1974,
          1975,
          1976,
          1977,
          1978,
          1979,
          1980,
          1981,
          1982,
          1983,
          1984,
          1985,
          1986,
          1987,
          1988,
          1989,
          1990,
          1991,
          1992,
          1993,
          1994,
          1995,
          1996,
          1997,
          1998,
          1999,
          2000,
          2001,
          2002,
          2003,
          2004,
          2005,
          2006,
          2007,
          2008,
          2009,
          2010,
          2011,
          2012,
          2013,
          2014,
          2015,
          2016,
          2017,
          2018,
          2019
         ],
         "xaxis": "x",
         "y": [
          99.99999999996756,
          99.99999999999855,
          99.99999999992579,
          99.999999999948,
          99.99999999996484,
          100.00000000000212,
          100.00000000000696,
          100.00000000000388,
          100.00000000000787,
          99.99999999997654,
          100.00000000001165,
          99.99999999999092,
          100.00000000000364,
          99.99999999999221,
          99.99999999999571,
          100.00000000000405,
          99.99999999999177,
          100.00000000000057,
          100.0000000000109,
          100.00000000000013,
          100.00000000000308,
          100.00000000000597,
          100.00000000000036,
          99.99999999999953,
          100.0000000000017,
          99.99999999999956,
          99.99999999999842,
          99.99999999999895,
          100.00000000000021,
          99.99999999999994,
          100,
          99.99999999999989,
          100.00000000000007,
          99.99999999999994,
          99.99999999999964,
          100.0000000000001,
          100.00000000000001,
          99.99999999999972,
          99.99999999999972,
          100.00000000000021,
          99.99999999999976,
          99.99999999999986,
          100.00000000000017,
          100.00000000000051,
          100.00000000000031,
          99.99999999999997,
          99.99999999999996,
          99.99999999999987,
          99.99999999999959,
          99.99999999999878,
          99.99999999999983,
          100.00000000000182,
          99.99999999999989,
          99.9999999999991,
          100.00000000000394,
          99.9999999999988,
          99.99999999999673,
          99.99999999999993,
          100.00000000000132,
          99.99999999999525,
          100.00000000000706,
          100.00000000000352,
          100.00000000000361
         ],
         "yaxis": "y"
        },
        {
         "hovertemplate": "Country=Germany<br>x=%{x}<br>y=%{y}<extra></extra>",
         "legendgroup": "Germany",
         "marker": {
          "color": "#EF553B",
          "symbol": "circle"
         },
         "mode": "markers",
         "name": "Germany",
         "orientation": "v",
         "showlegend": true,
         "type": "scatter",
         "x": [
          1991,
          1992,
          1993,
          1994,
          1995,
          1996,
          1997,
          1998,
          1999,
          2000,
          2001,
          2002,
          2003,
          2004,
          2005,
          2006,
          2007,
          2008,
          2009,
          2010,
          2011,
          2012,
          2013,
          2014,
          2015,
          2016,
          2017,
          2018,
          2019
         ],
         "xaxis": "x",
         "y": [
          57.14285714285714,
          65.38461538461539,
          57.14285714285714,
          66.66666666666666,
          68.42105263157895,
          76.19047619047619,
          81.81818181818183,
          78.26086956521739,
          80.95238095238095,
          78.26086956521739,
          72,
          76.19047619047619,
          68.42105263157895,
          68.42105263157895,
          80,
          70,
          73.68421052631578,
          76.47058823529412,
          76.47058823529412,
          75,
          82.35294117647058,
          70.58823529411765,
          75,
          80,
          73.33333333333333,
          69.23076923076923,
          80,
          75,
          71.42857142857143
         ],
         "yaxis": "y"
        },
        {
         "hovertemplate": "<b>LOWESS trendline</b><br><br>Country=Germany<br>x=%{x}<br>y=%{y} <b>(trend)</b><extra></extra>",
         "legendgroup": "Germany",
         "marker": {
          "color": "#EF553B",
          "symbol": "circle"
         },
         "mode": "lines",
         "name": "Germany",
         "showlegend": false,
         "type": "scatter",
         "x": [
          1991,
          1992,
          1993,
          1994,
          1995,
          1996,
          1997,
          1998,
          1999,
          2000,
          2001,
          2002,
          2003,
          2004,
          2005,
          2006,
          2007,
          2008,
          2009,
          2010,
          2011,
          2012,
          2013,
          2014,
          2015,
          2016,
          2017,
          2018,
          2019
         ],
         "xaxis": "x",
         "y": [
          62.97582738965202,
          64.52562625594481,
          65.99345760125705,
          67.37529578617021,
          68.67677496202197,
          69.91188482027431,
          71.10408230674646,
          72.28655184151286,
          73.49703055884768,
          74.61967431993133,
          74.91087442269458,
          74.93474393235589,
          74.76306778016486,
          74.5424548182802,
          74.38605962479537,
          74.3552205709669,
          74.47137944761701,
          74.6927868367044,
          74.93001638864142,
          75.14784224119225,
          75.15866357787436,
          75.12177823363223,
          75.0590190566308,
          74.97675338609008,
          74.87785514539868,
          74.76119783009139,
          74.62800773452845,
          74.48264746520242,
          74.32483060150119
         ],
         "yaxis": "y"
        },
        {
         "hovertemplate": "Country=Liberia<br>x=%{x}<br>y=%{y}<extra></extra>",
         "legendgroup": "Liberia",
         "marker": {
          "color": "#00cc96",
          "symbol": "circle"
         },
         "mode": "markers",
         "name": "Liberia",
         "orientation": "v",
         "showlegend": true,
         "type": "scatter",
         "x": [
          1947,
          1948,
          1949,
          1952,
          1957,
          1956,
          1961,
          1962,
          1963,
          1965,
          1967,
          1969,
          1970,
          1971,
          1972,
          1973,
          1974,
          1975,
          1976,
          1977,
          1978,
          1979,
          1980,
          1981,
          1982,
          1983,
          1984,
          1985,
          1986,
          1987,
          1988,
          1989,
          1991,
          1992,
          1996,
          1997,
          1998,
          2004,
          2005,
          2006,
          2007,
          2008,
          2009,
          2010,
          2011,
          2012,
          2013,
          2014,
          2015,
          2016,
          2017,
          2018
         ],
         "xaxis": "x",
         "y": [
          71.42857142857143,
          81.81818181818183,
          78.57142857142857,
          0,
          100,
          100,
          62.5,
          100,
          0,
          100,
          15.384615384615385,
          0,
          20,
          16.666666666666664,
          40,
          100,
          100,
          16.666666666666664,
          66.66666666666666,
          53.84615384615385,
          80,
          83.33333333333334,
          80,
          81.81818181818183,
          100,
          84,
          60.60606060606061,
          58.06451612903226,
          44.827586206896555,
          46.666666666666664,
          50,
          86.20689655172413,
          92,
          91.30434782608695,
          57.14285714285714,
          76.19047619047619,
          0,
          100,
          100,
          100,
          100,
          93.75,
          86.66666666666667,
          93.75,
          100,
          81.25,
          100,
          80,
          66.66666666666666,
          83.33333333333334,
          100,
          0
         ],
         "yaxis": "y"
        },
        {
         "hovertemplate": "<b>LOWESS trendline</b><br><br>Country=Liberia<br>x=%{x}<br>y=%{y} <b>(trend)</b><extra></extra>",
         "legendgroup": "Liberia",
         "marker": {
          "color": "#00cc96",
          "symbol": "circle"
         },
         "mode": "lines",
         "name": "Liberia",
         "showlegend": false,
         "type": "scatter",
         "x": [
          1947,
          1948,
          1949,
          1952,
          1956,
          1957,
          1961,
          1962,
          1963,
          1965,
          1967,
          1969,
          1970,
          1971,
          1972,
          1973,
          1974,
          1975,
          1976,
          1977,
          1978,
          1979,
          1980,
          1981,
          1982,
          1983,
          1984,
          1985,
          1986,
          1987,
          1988,
          1989,
          1991,
          1992,
          1996,
          1997,
          1998,
          2004,
          2005,
          2006,
          2007,
          2008,
          2009,
          2010,
          2011,
          2012,
          2013,
          2014,
          2015,
          2016,
          2017,
          2018
         ],
         "xaxis": "x",
         "y": [
          79.32045399968322,
          78.64497193100894,
          77.97252302449589,
          75.9892507686934,
          73.502968684019,
          72.92982779252685,
          70.88034906892081,
          70.42143865543017,
          69.97611676354221,
          69.08034346243171,
          68.0211777988035,
          66.50867906741102,
          66.03675325698495,
          65.96126002873659,
          65.56025862349499,
          65.21260081199358,
          64.93679166075326,
          64.30066991813803,
          64.72696158688893,
          65.1978629481326,
          65.69376202878958,
          65.81198358607101,
          66.27960419482531,
          67.00496643073538,
          67.79291493555506,
          68.723806083153,
          69.5781603681939,
          70.42450905608446,
          71.28896847002709,
          71.96011827789049,
          72.828661408722,
          73.81191433681889,
          75.46928118927127,
          76.60266182499421,
          80.27209579179569,
          80.94088685236721,
          81.56802213859041,
          85.49374604521446,
          86.20275028570865,
          86.91839473544925,
          87.63702688498381,
          88.35474215909521,
          89.06757337738334,
          89.77186592872951,
          90.46451213865163,
          91.14262870002833,
          91.80344980770566,
          92.4448173519327,
          93.06478294521399,
          93.66235839412715,
          94.23798343251556,
          94.79281223167462
         ],
         "yaxis": "y"
        }
       ],
       "layout": {
        "autosize": true,
        "legend": {
         "title": {
          "text": "Country"
         },
         "tracegroupgap": 0
        },
        "margin": {
         "t": 60
        },
        "template": {
         "data": {
          "bar": [
           {
            "error_x": {
             "color": "#2a3f5f"
            },
            "error_y": {
             "color": "#2a3f5f"
            },
            "marker": {
             "line": {
              "color": "#E5ECF6",
              "width": 0.5
             },
             "pattern": {
              "fillmode": "overlay",
              "size": 10,
              "solidity": 0.2
             }
            },
            "type": "bar"
           }
          ],
          "barpolar": [
           {
            "marker": {
             "line": {
              "color": "#E5ECF6",
              "width": 0.5
             },
             "pattern": {
              "fillmode": "overlay",
              "size": 10,
              "solidity": 0.2
             }
            },
            "type": "barpolar"
           }
          ],
          "carpet": [
           {
            "aaxis": {
             "endlinecolor": "#2a3f5f",
             "gridcolor": "white",
             "linecolor": "white",
             "minorgridcolor": "white",
             "startlinecolor": "#2a3f5f"
            },
            "baxis": {
             "endlinecolor": "#2a3f5f",
             "gridcolor": "white",
             "linecolor": "white",
             "minorgridcolor": "white",
             "startlinecolor": "#2a3f5f"
            },
            "type": "carpet"
           }
          ],
          "choropleth": [
           {
            "colorbar": {
             "outlinewidth": 0,
             "ticks": ""
            },
            "type": "choropleth"
           }
          ],
          "contour": [
           {
            "colorbar": {
             "outlinewidth": 0,
             "ticks": ""
            },
            "colorscale": [
             [
              0,
              "#0d0887"
             ],
             [
              0.1111111111111111,
              "#46039f"
             ],
             [
              0.2222222222222222,
              "#7201a8"
             ],
             [
              0.3333333333333333,
              "#9c179e"
             ],
             [
              0.4444444444444444,
              "#bd3786"
             ],
             [
              0.5555555555555556,
              "#d8576b"
             ],
             [
              0.6666666666666666,
              "#ed7953"
             ],
             [
              0.7777777777777778,
              "#fb9f3a"
             ],
             [
              0.8888888888888888,
              "#fdca26"
             ],
             [
              1,
              "#f0f921"
             ]
            ],
            "type": "contour"
           }
          ],
          "contourcarpet": [
           {
            "colorbar": {
             "outlinewidth": 0,
             "ticks": ""
            },
            "type": "contourcarpet"
           }
          ],
          "heatmap": [
           {
            "colorbar": {
             "outlinewidth": 0,
             "ticks": ""
            },
            "colorscale": [
             [
              0,
              "#0d0887"
             ],
             [
              0.1111111111111111,
              "#46039f"
             ],
             [
              0.2222222222222222,
              "#7201a8"
             ],
             [
              0.3333333333333333,
              "#9c179e"
             ],
             [
              0.4444444444444444,
              "#bd3786"
             ],
             [
              0.5555555555555556,
              "#d8576b"
             ],
             [
              0.6666666666666666,
              "#ed7953"
             ],
             [
              0.7777777777777778,
              "#fb9f3a"
             ],
             [
              0.8888888888888888,
              "#fdca26"
             ],
             [
              1,
              "#f0f921"
             ]
            ],
            "type": "heatmap"
           }
          ],
          "heatmapgl": [
           {
            "colorbar": {
             "outlinewidth": 0,
             "ticks": ""
            },
            "colorscale": [
             [
              0,
              "#0d0887"
             ],
             [
              0.1111111111111111,
              "#46039f"
             ],
             [
              0.2222222222222222,
              "#7201a8"
             ],
             [
              0.3333333333333333,
              "#9c179e"
             ],
             [
              0.4444444444444444,
              "#bd3786"
             ],
             [
              0.5555555555555556,
              "#d8576b"
             ],
             [
              0.6666666666666666,
              "#ed7953"
             ],
             [
              0.7777777777777778,
              "#fb9f3a"
             ],
             [
              0.8888888888888888,
              "#fdca26"
             ],
             [
              1,
              "#f0f921"
             ]
            ],
            "type": "heatmapgl"
           }
          ],
          "histogram": [
           {
            "marker": {
             "pattern": {
              "fillmode": "overlay",
              "size": 10,
              "solidity": 0.2
             }
            },
            "type": "histogram"
           }
          ],
          "histogram2d": [
           {
            "colorbar": {
             "outlinewidth": 0,
             "ticks": ""
            },
            "colorscale": [
             [
              0,
              "#0d0887"
             ],
             [
              0.1111111111111111,
              "#46039f"
             ],
             [
              0.2222222222222222,
              "#7201a8"
             ],
             [
              0.3333333333333333,
              "#9c179e"
             ],
             [
              0.4444444444444444,
              "#bd3786"
             ],
             [
              0.5555555555555556,
              "#d8576b"
             ],
             [
              0.6666666666666666,
              "#ed7953"
             ],
             [
              0.7777777777777778,
              "#fb9f3a"
             ],
             [
              0.8888888888888888,
              "#fdca26"
             ],
             [
              1,
              "#f0f921"
             ]
            ],
            "type": "histogram2d"
           }
          ],
          "histogram2dcontour": [
           {
            "colorbar": {
             "outlinewidth": 0,
             "ticks": ""
            },
            "colorscale": [
             [
              0,
              "#0d0887"
             ],
             [
              0.1111111111111111,
              "#46039f"
             ],
             [
              0.2222222222222222,
              "#7201a8"
             ],
             [
              0.3333333333333333,
              "#9c179e"
             ],
             [
              0.4444444444444444,
              "#bd3786"
             ],
             [
              0.5555555555555556,
              "#d8576b"
             ],
             [
              0.6666666666666666,
              "#ed7953"
             ],
             [
              0.7777777777777778,
              "#fb9f3a"
             ],
             [
              0.8888888888888888,
              "#fdca26"
             ],
             [
              1,
              "#f0f921"
             ]
            ],
            "type": "histogram2dcontour"
           }
          ],
          "mesh3d": [
           {
            "colorbar": {
             "outlinewidth": 0,
             "ticks": ""
            },
            "type": "mesh3d"
           }
          ],
          "parcoords": [
           {
            "line": {
             "colorbar": {
              "outlinewidth": 0,
              "ticks": ""
             }
            },
            "type": "parcoords"
           }
          ],
          "pie": [
           {
            "automargin": true,
            "type": "pie"
           }
          ],
          "scatter": [
           {
            "fillpattern": {
             "fillmode": "overlay",
             "size": 10,
             "solidity": 0.2
            },
            "type": "scatter"
           }
          ],
          "scatter3d": [
           {
            "line": {
             "colorbar": {
              "outlinewidth": 0,
              "ticks": ""
             }
            },
            "marker": {
             "colorbar": {
              "outlinewidth": 0,
              "ticks": ""
             }
            },
            "type": "scatter3d"
           }
          ],
          "scattercarpet": [
           {
            "marker": {
             "colorbar": {
              "outlinewidth": 0,
              "ticks": ""
             }
            },
            "type": "scattercarpet"
           }
          ],
          "scattergeo": [
           {
            "marker": {
             "colorbar": {
              "outlinewidth": 0,
              "ticks": ""
             }
            },
            "type": "scattergeo"
           }
          ],
          "scattergl": [
           {
            "marker": {
             "colorbar": {
              "outlinewidth": 0,
              "ticks": ""
             }
            },
            "type": "scattergl"
           }
          ],
          "scattermapbox": [
           {
            "marker": {
             "colorbar": {
              "outlinewidth": 0,
              "ticks": ""
             }
            },
            "type": "scattermapbox"
           }
          ],
          "scatterpolar": [
           {
            "marker": {
             "colorbar": {
              "outlinewidth": 0,
              "ticks": ""
             }
            },
            "type": "scatterpolar"
           }
          ],
          "scatterpolargl": [
           {
            "marker": {
             "colorbar": {
              "outlinewidth": 0,
              "ticks": ""
             }
            },
            "type": "scatterpolargl"
           }
          ],
          "scatterternary": [
           {
            "marker": {
             "colorbar": {
              "outlinewidth": 0,
              "ticks": ""
             }
            },
            "type": "scatterternary"
           }
          ],
          "surface": [
           {
            "colorbar": {
             "outlinewidth": 0,
             "ticks": ""
            },
            "colorscale": [
             [
              0,
              "#0d0887"
             ],
             [
              0.1111111111111111,
              "#46039f"
             ],
             [
              0.2222222222222222,
              "#7201a8"
             ],
             [
              0.3333333333333333,
              "#9c179e"
             ],
             [
              0.4444444444444444,
              "#bd3786"
             ],
             [
              0.5555555555555556,
              "#d8576b"
             ],
             [
              0.6666666666666666,
              "#ed7953"
             ],
             [
              0.7777777777777778,
              "#fb9f3a"
             ],
             [
              0.8888888888888888,
              "#fdca26"
             ],
             [
              1,
              "#f0f921"
             ]
            ],
            "type": "surface"
           }
          ],
          "table": [
           {
            "cells": {
             "fill": {
              "color": "#EBF0F8"
             },
             "line": {
              "color": "white"
             }
            },
            "header": {
             "fill": {
              "color": "#C8D4E3"
             },
             "line": {
              "color": "white"
             }
            },
            "type": "table"
           }
          ]
         },
         "layout": {
          "annotationdefaults": {
           "arrowcolor": "#2a3f5f",
           "arrowhead": 0,
           "arrowwidth": 1
          },
          "autotypenumbers": "strict",
          "coloraxis": {
           "colorbar": {
            "outlinewidth": 0,
            "ticks": ""
           }
          },
          "colorscale": {
           "diverging": [
            [
             0,
             "#8e0152"
            ],
            [
             0.1,
             "#c51b7d"
            ],
            [
             0.2,
             "#de77ae"
            ],
            [
             0.3,
             "#f1b6da"
            ],
            [
             0.4,
             "#fde0ef"
            ],
            [
             0.5,
             "#f7f7f7"
            ],
            [
             0.6,
             "#e6f5d0"
            ],
            [
             0.7,
             "#b8e186"
            ],
            [
             0.8,
             "#7fbc41"
            ],
            [
             0.9,
             "#4d9221"
            ],
            [
             1,
             "#276419"
            ]
           ],
           "sequential": [
            [
             0,
             "#0d0887"
            ],
            [
             0.1111111111111111,
             "#46039f"
            ],
            [
             0.2222222222222222,
             "#7201a8"
            ],
            [
             0.3333333333333333,
             "#9c179e"
            ],
            [
             0.4444444444444444,
             "#bd3786"
            ],
            [
             0.5555555555555556,
             "#d8576b"
            ],
            [
             0.6666666666666666,
             "#ed7953"
            ],
            [
             0.7777777777777778,
             "#fb9f3a"
            ],
            [
             0.8888888888888888,
             "#fdca26"
            ],
            [
             1,
             "#f0f921"
            ]
           ],
           "sequentialminus": [
            [
             0,
             "#0d0887"
            ],
            [
             0.1111111111111111,
             "#46039f"
            ],
            [
             0.2222222222222222,
             "#7201a8"
            ],
            [
             0.3333333333333333,
             "#9c179e"
            ],
            [
             0.4444444444444444,
             "#bd3786"
            ],
            [
             0.5555555555555556,
             "#d8576b"
            ],
            [
             0.6666666666666666,
             "#ed7953"
            ],
            [
             0.7777777777777778,
             "#fb9f3a"
            ],
            [
             0.8888888888888888,
             "#fdca26"
            ],
            [
             1,
             "#f0f921"
            ]
           ]
          },
          "colorway": [
           "#636efa",
           "#EF553B",
           "#00cc96",
           "#ab63fa",
           "#FFA15A",
           "#19d3f3",
           "#FF6692",
           "#B6E880",
           "#FF97FF",
           "#FECB52"
          ],
          "font": {
           "color": "#2a3f5f"
          },
          "geo": {
           "bgcolor": "white",
           "lakecolor": "white",
           "landcolor": "#E5ECF6",
           "showlakes": true,
           "showland": true,
           "subunitcolor": "white"
          },
          "hoverlabel": {
           "align": "left"
          },
          "hovermode": "closest",
          "mapbox": {
           "style": "light"
          },
          "paper_bgcolor": "white",
          "plot_bgcolor": "#E5ECF6",
          "polar": {
           "angularaxis": {
            "gridcolor": "white",
            "linecolor": "white",
            "ticks": ""
           },
           "bgcolor": "#E5ECF6",
           "radialaxis": {
            "gridcolor": "white",
            "linecolor": "white",
            "ticks": ""
           }
          },
          "scene": {
           "xaxis": {
            "backgroundcolor": "#E5ECF6",
            "gridcolor": "white",
            "gridwidth": 2,
            "linecolor": "white",
            "showbackground": true,
            "ticks": "",
            "zerolinecolor": "white"
           },
           "yaxis": {
            "backgroundcolor": "#E5ECF6",
            "gridcolor": "white",
            "gridwidth": 2,
            "linecolor": "white",
            "showbackground": true,
            "ticks": "",
            "zerolinecolor": "white"
           },
           "zaxis": {
            "backgroundcolor": "#E5ECF6",
            "gridcolor": "white",
            "gridwidth": 2,
            "linecolor": "white",
            "showbackground": true,
            "ticks": "",
            "zerolinecolor": "white"
           }
          },
          "shapedefaults": {
           "line": {
            "color": "#2a3f5f"
           }
          },
          "ternary": {
           "aaxis": {
            "gridcolor": "white",
            "linecolor": "white",
            "ticks": ""
           },
           "baxis": {
            "gridcolor": "white",
            "linecolor": "white",
            "ticks": ""
           },
           "bgcolor": "#E5ECF6",
           "caxis": {
            "gridcolor": "white",
            "linecolor": "white",
            "ticks": ""
           }
          },
          "title": {
           "x": 0.05
          },
          "xaxis": {
           "automargin": true,
           "gridcolor": "white",
           "linecolor": "white",
           "ticks": "",
           "title": {
            "standoff": 15
           },
           "zerolinecolor": "white",
           "zerolinewidth": 2
          },
          "yaxis": {
           "automargin": true,
           "gridcolor": "white",
           "linecolor": "white",
           "ticks": "",
           "title": {
            "standoff": 15
           },
           "zerolinecolor": "white",
           "zerolinewidth": 2
          }
         }
        },
        "title": {
         "text": "Palestinian conflict<br>",
         "x": 0.5,
         "xanchor": "center",
         "y": 0.9,
         "yanchor": "top"
        },
        "xaxis": {
         "anchor": "y",
         "autorange": true,
         "domain": [
          0,
          1
         ],
         "range": [
          1942.4209612044008,
          2023.5790387955992
         ],
         "title": {
          "text": "Year"
         },
         "type": "linear"
        },
        "yaxis": {
         "anchor": "x",
         "autorange": true,
         "domain": [
          0,
          1
         ],
         "range": [
          -7.742782152230971,
          107.74278215223097
         ],
         "title": {
          "text": "% Yes"
         },
         "type": "linear"
        }
       }
      },
      "image/png": "[encoded data removed]",
      "text/html": [
       "<div>                            <div id=\"5f247043-2c40-4478-8545-867f3cb6f118\" class=\"plotly-graph-div\" style=\"height:525px; width:100%;\"></div>            <script type=\"text/javascript\">                require([\"plotly\"], function(Plotly) {                    window.PLOTLYENV=window.PLOTLYENV || {};                                    if (document.getElementById(\"5f247043-2c40-4478-8545-867f3cb6f118\")) {                    Plotly.newPlot(                        \"5f247043-2c40-4478-8545-867f3cb6f118\",                        [{\"hovertemplate\":\"Country=Iran\\u003cbr\\u003ex=%{x}\\u003cbr\\u003ey=%{y}\\u003cextra\\u003e\\u003c\\u002fextra\\u003e\",\"legendgroup\":\"Iran\",\"marker\":{\"color\":\"#636efa\",\"symbol\":\"circle\"},\"mode\":\"markers\",\"name\":\"Iran\",\"orientation\":\"v\",\"showlegend\":true,\"x\":[1947,1948,1949,1950,1952,1957,1956,1961,1962,1963,1965,1967,1969,1970,1971,1972,1973,1974,1975,1976,1977,1978,1979,1980,1981,1982,1983,1984,1985,1986,1987,1988,1989,1990,1991,1992,1993,1994,1995,1996,1997,1998,1999,2000,2001,2002,2004,2003,2005,2006,2007,2008,2009,2010,2011,2012,2013,2014,2015,2016,2017,2018,2019],\"xaxis\":\"x\",\"y\":[57.14285714285714,18.181818181818183,78.57142857142857,100.0,66.66666666666666,100.0,100.0,75.0,100.0,100.0,100.0,30.76923076923077,100.0,100.0,100.0,100.0,100.0,100.0,100.0,83.33333333333334,92.3076923076923,100.0,100.0,100.0,100.0,100.0,100.0,100.0,100.0,100.0,96.55172413793103,96.29629629629629,100.0,100.0,100.0,100.0,95.0,100.0,100.0,100.0,100.0,100.0,95.0,100.0,100.0,100.0,100.0,100.0,100.0,100.0,100.0,100.0,94.11764705882352,100.0,100.0,100.0,100.0,100.0,100.0,92.3076923076923,100.0,100.0,100.0],\"yaxis\":\"y\",\"type\":\"scatter\"},{\"hovertemplate\":\"\\u003cb\\u003eLOWESS trendline\\u003c\\u002fb\\u003e\\u003cbr\\u003e\\u003cbr\\u003eCountry=Iran\\u003cbr\\u003ex=%{x}\\u003cbr\\u003ey=%{y} \\u003cb\\u003e(trend)\\u003c\\u002fb\\u003e\\u003cextra\\u003e\\u003c\\u002fextra\\u003e\",\"legendgroup\":\"Iran\",\"marker\":{\"color\":\"#636efa\",\"symbol\":\"circle\"},\"mode\":\"lines\",\"name\":\"Iran\",\"showlegend\":false,\"x\":[1947,1948,1949,1950,1952,1956,1957,1961,1962,1963,1965,1967,1969,1970,1971,1972,1973,1974,1975,1976,1977,1978,1979,1980,1981,1982,1983,1984,1985,1986,1987,1988,1989,1990,1991,1992,1993,1994,1995,1996,1997,1998,1999,2000,2001,2002,2003,2004,2005,2006,2007,2008,2009,2010,2011,2012,2013,2014,2015,2016,2017,2018,2019],\"xaxis\":\"x\",\"y\":[99.99999999996756,99.99999999999855,99.99999999992579,99.999999999948,99.99999999996484,100.00000000000212,100.00000000000696,100.00000000000388,100.00000000000787,99.99999999997654,100.00000000001165,99.99999999999092,100.00000000000364,99.99999999999221,99.99999999999571,100.00000000000405,99.99999999999177,100.00000000000057,100.0000000000109,100.00000000000013,100.00000000000308,100.00000000000597,100.00000000000036,99.99999999999953,100.0000000000017,99.99999999999956,99.99999999999842,99.99999999999895,100.00000000000021,99.99999999999994,100.0,99.99999999999989,100.00000000000007,99.99999999999994,99.99999999999964,100.0000000000001,100.00000000000001,99.99999999999972,99.99999999999972,100.00000000000021,99.99999999999976,99.99999999999986,100.00000000000017,100.00000000000051,100.00000000000031,99.99999999999997,99.99999999999996,99.99999999999987,99.99999999999959,99.99999999999878,99.99999999999983,100.00000000000182,99.99999999999989,99.9999999999991,100.00000000000394,99.9999999999988,99.99999999999673,99.99999999999993,100.00000000000132,99.99999999999525,100.00000000000706,100.00000000000352,100.00000000000361],\"yaxis\":\"y\",\"type\":\"scatter\"},{\"hovertemplate\":\"Country=Germany\\u003cbr\\u003ex=%{x}\\u003cbr\\u003ey=%{y}\\u003cextra\\u003e\\u003c\\u002fextra\\u003e\",\"legendgroup\":\"Germany\",\"marker\":{\"color\":\"#EF553B\",\"symbol\":\"circle\"},\"mode\":\"markers\",\"name\":\"Germany\",\"orientation\":\"v\",\"showlegend\":true,\"x\":[1991,1992,1993,1994,1995,1996,1997,1998,1999,2000,2001,2002,2003,2004,2005,2006,2007,2008,2009,2010,2011,2012,2013,2014,2015,2016,2017,2018,2019],\"xaxis\":\"x\",\"y\":[57.14285714285714,65.38461538461539,57.14285714285714,66.66666666666666,68.42105263157895,76.19047619047619,81.81818181818183,78.26086956521739,80.95238095238095,78.26086956521739,72.0,76.19047619047619,68.42105263157895,68.42105263157895,80.0,70.0,73.68421052631578,76.47058823529412,76.47058823529412,75.0,82.35294117647058,70.58823529411765,75.0,80.0,73.33333333333333,69.23076923076923,80.0,75.0,71.42857142857143],\"yaxis\":\"y\",\"type\":\"scatter\"},{\"hovertemplate\":\"\\u003cb\\u003eLOWESS trendline\\u003c\\u002fb\\u003e\\u003cbr\\u003e\\u003cbr\\u003eCountry=Germany\\u003cbr\\u003ex=%{x}\\u003cbr\\u003ey=%{y} \\u003cb\\u003e(trend)\\u003c\\u002fb\\u003e\\u003cextra\\u003e\\u003c\\u002fextra\\u003e\",\"legendgroup\":\"Germany\",\"marker\":{\"color\":\"#EF553B\",\"symbol\":\"circle\"},\"mode\":\"lines\",\"name\":\"Germany\",\"showlegend\":false,\"x\":[1991,1992,1993,1994,1995,1996,1997,1998,1999,2000,2001,2002,2003,2004,2005,2006,2007,2008,2009,2010,2011,2012,2013,2014,2015,2016,2017,2018,2019],\"xaxis\":\"x\",\"y\":[62.97582738965202,64.52562625594481,65.99345760125705,67.37529578617021,68.67677496202197,69.91188482027431,71.10408230674646,72.28655184151286,73.49703055884768,74.61967431993133,74.91087442269458,74.93474393235589,74.76306778016486,74.5424548182802,74.38605962479537,74.3552205709669,74.47137944761701,74.6927868367044,74.93001638864142,75.14784224119225,75.15866357787436,75.12177823363223,75.0590190566308,74.97675338609008,74.87785514539868,74.76119783009139,74.62800773452845,74.48264746520242,74.32483060150119],\"yaxis\":\"y\",\"type\":\"scatter\"},{\"hovertemplate\":\"Country=Liberia\\u003cbr\\u003ex=%{x}\\u003cbr\\u003ey=%{y}\\u003cextra\\u003e\\u003c\\u002fextra\\u003e\",\"legendgroup\":\"Liberia\",\"marker\":{\"color\":\"#00cc96\",\"symbol\":\"circle\"},\"mode\":\"markers\",\"name\":\"Liberia\",\"orientation\":\"v\",\"showlegend\":true,\"x\":[1947,1948,1949,1952,1957,1956,1961,1962,1963,1965,1967,1969,1970,1971,1972,1973,1974,1975,1976,1977,1978,1979,1980,1981,1982,1983,1984,1985,1986,1987,1988,1989,1991,1992,1996,1997,1998,2004,2005,2006,2007,2008,2009,2010,2011,2012,2013,2014,2015,2016,2017,2018],\"xaxis\":\"x\",\"y\":[71.42857142857143,81.81818181818183,78.57142857142857,0.0,100.0,100.0,62.5,100.0,0.0,100.0,15.384615384615385,0.0,20.0,16.666666666666664,40.0,100.0,100.0,16.666666666666664,66.66666666666666,53.84615384615385,80.0,83.33333333333334,80.0,81.81818181818183,100.0,84.0,60.60606060606061,58.06451612903226,44.827586206896555,46.666666666666664,50.0,86.20689655172413,92.0,91.30434782608695,57.14285714285714,76.19047619047619,0.0,100.0,100.0,100.0,100.0,93.75,86.66666666666667,93.75,100.0,81.25,100.0,80.0,66.66666666666666,83.33333333333334,100.0,0.0],\"yaxis\":\"y\",\"type\":\"scatter\"},{\"hovertemplate\":\"\\u003cb\\u003eLOWESS trendline\\u003c\\u002fb\\u003e\\u003cbr\\u003e\\u003cbr\\u003eCountry=Liberia\\u003cbr\\u003ex=%{x}\\u003cbr\\u003ey=%{y} \\u003cb\\u003e(trend)\\u003c\\u002fb\\u003e\\u003cextra\\u003e\\u003c\\u002fextra\\u003e\",\"legendgroup\":\"Liberia\",\"marker\":{\"color\":\"#00cc96\",\"symbol\":\"circle\"},\"mode\":\"lines\",\"name\":\"Liberia\",\"showlegend\":false,\"x\":[1947,1948,1949,1952,1956,1957,1961,1962,1963,1965,1967,1969,1970,1971,1972,1973,1974,1975,1976,1977,1978,1979,1980,1981,1982,1983,1984,1985,1986,1987,1988,1989,1991,1992,1996,1997,1998,2004,2005,2006,2007,2008,2009,2010,2011,2012,2013,2014,2015,2016,2017,2018],\"xaxis\":\"x\",\"y\":[79.32045399968322,78.64497193100894,77.97252302449589,75.9892507686934,73.502968684019,72.92982779252685,70.88034906892081,70.42143865543017,69.97611676354221,69.08034346243171,68.0211777988035,66.50867906741102,66.03675325698495,65.96126002873659,65.56025862349499,65.21260081199358,64.93679166075326,64.30066991813803,64.72696158688893,65.1978629481326,65.69376202878958,65.81198358607101,66.27960419482531,67.00496643073538,67.79291493555506,68.723806083153,69.5781603681939,70.42450905608446,71.28896847002709,71.96011827789049,72.828661408722,73.81191433681889,75.46928118927127,76.60266182499421,80.27209579179569,80.94088685236721,81.56802213859041,85.49374604521446,86.20275028570865,86.91839473544925,87.63702688498381,88.35474215909521,89.06757337738334,89.77186592872951,90.46451213865163,91.14262870002833,91.80344980770566,92.4448173519327,93.06478294521399,93.66235839412715,94.23798343251556,94.79281223167462],\"yaxis\":\"y\",\"type\":\"scatter\"}],                        {\"template\":{\"data\":{\"histogram2dcontour\":[{\"type\":\"histogram2dcontour\",\"colorbar\":{\"outlinewidth\":0,\"ticks\":\"\"},\"colorscale\":[[0.0,\"#0d0887\"],[0.1111111111111111,\"#46039f\"],[0.2222222222222222,\"#7201a8\"],[0.3333333333333333,\"#9c179e\"],[0.4444444444444444,\"#bd3786\"],[0.5555555555555556,\"#d8576b\"],[0.6666666666666666,\"#ed7953\"],[0.7777777777777778,\"#fb9f3a\"],[0.8888888888888888,\"#fdca26\"],[1.0,\"#f0f921\"]]}],\"choropleth\":[{\"type\":\"choropleth\",\"colorbar\":{\"outlinewidth\":0,\"ticks\":\"\"}}],\"histogram2d\":[{\"type\":\"histogram2d\",\"colorbar\":{\"outlinewidth\":0,\"ticks\":\"\"},\"colorscale\":[[0.0,\"#0d0887\"],[0.1111111111111111,\"#46039f\"],[0.2222222222222222,\"#7201a8\"],[0.3333333333333333,\"#9c179e\"],[0.4444444444444444,\"#bd3786\"],[0.5555555555555556,\"#d8576b\"],[0.6666666666666666,\"#ed7953\"],[0.7777777777777778,\"#fb9f3a\"],[0.8888888888888888,\"#fdca26\"],[1.0,\"#f0f921\"]]}],\"heatmap\":[{\"type\":\"heatmap\",\"colorbar\":{\"outlinewidth\":0,\"ticks\":\"\"},\"colorscale\":[[0.0,\"#0d0887\"],[0.1111111111111111,\"#46039f\"],[0.2222222222222222,\"#7201a8\"],[0.3333333333333333,\"#9c179e\"],[0.4444444444444444,\"#bd3786\"],[0.5555555555555556,\"#d8576b\"],[0.6666666666666666,\"#ed7953\"],[0.7777777777777778,\"#fb9f3a\"],[0.8888888888888888,\"#fdca26\"],[1.0,\"#f0f921\"]]}],\"heatmapgl\":[{\"type\":\"heatmapgl\",\"colorbar\":{\"outlinewidth\":0,\"ticks\":\"\"},\"colorscale\":[[0.0,\"#0d0887\"],[0.1111111111111111,\"#46039f\"],[0.2222222222222222,\"#7201a8\"],[0.3333333333333333,\"#9c179e\"],[0.4444444444444444,\"#bd3786\"],[0.5555555555555556,\"#d8576b\"],[0.6666666666666666,\"#ed7953\"],[0.7777777777777778,\"#fb9f3a\"],[0.8888888888888888,\"#fdca26\"],[1.0,\"#f0f921\"]]}],\"contourcarpet\":[{\"type\":\"contourcarpet\",\"colorbar\":{\"outlinewidth\":0,\"ticks\":\"\"}}],\"contour\":[{\"type\":\"contour\",\"colorbar\":{\"outlinewidth\":0,\"ticks\":\"\"},\"colorscale\":[[0.0,\"#0d0887\"],[0.1111111111111111,\"#46039f\"],[0.2222222222222222,\"#7201a8\"],[0.3333333333333333,\"#9c179e\"],[0.4444444444444444,\"#bd3786\"],[0.5555555555555556,\"#d8576b\"],[0.6666666666666666,\"#ed7953\"],[0.7777777777777778,\"#fb9f3a\"],[0.8888888888888888,\"#fdca26\"],[1.0,\"#f0f921\"]]}],\"surface\":[{\"type\":\"surface\",\"colorbar\":{\"outlinewidth\":0,\"ticks\":\"\"},\"colorscale\":[[0.0,\"#0d0887\"],[0.1111111111111111,\"#46039f\"],[0.2222222222222222,\"#7201a8\"],[0.3333333333333333,\"#9c179e\"],[0.4444444444444444,\"#bd3786\"],[0.5555555555555556,\"#d8576b\"],[0.6666666666666666,\"#ed7953\"],[0.7777777777777778,\"#fb9f3a\"],[0.8888888888888888,\"#fdca26\"],[1.0,\"#f0f921\"]]}],\"mesh3d\":[{\"type\":\"mesh3d\",\"colorbar\":{\"outlinewidth\":0,\"ticks\":\"\"}}],\"scatter\":[{\"fillpattern\":{\"fillmode\":\"overlay\",\"size\":10,\"solidity\":0.2},\"type\":\"scatter\"}],\"parcoords\":[{\"type\":\"parcoords\",\"line\":{\"colorbar\":{\"outlinewidth\":0,\"ticks\":\"\"}}}],\"scatterpolargl\":[{\"type\":\"scatterpolargl\",\"marker\":{\"colorbar\":{\"outlinewidth\":0,\"ticks\":\"\"}}}],\"bar\":[{\"error_x\":{\"color\":\"#2a3f5f\"},\"error_y\":{\"color\":\"#2a3f5f\"},\"marker\":{\"line\":{\"color\":\"#E5ECF6\",\"width\":0.5},\"pattern\":{\"fillmode\":\"overlay\",\"size\":10,\"solidity\":0.2}},\"type\":\"bar\"}],\"scattergeo\":[{\"type\":\"scattergeo\",\"marker\":{\"colorbar\":{\"outlinewidth\":0,\"ticks\":\"\"}}}],\"scatterpolar\":[{\"type\":\"scatterpolar\",\"marker\":{\"colorbar\":{\"outlinewidth\":0,\"ticks\":\"\"}}}],\"histogram\":[{\"marker\":{\"pattern\":{\"fillmode\":\"overlay\",\"size\":10,\"solidity\":0.2}},\"type\":\"histogram\"}],\"scattergl\":[{\"type\":\"scattergl\",\"marker\":{\"colorbar\":{\"outlinewidth\":0,\"ticks\":\"\"}}}],\"scatter3d\":[{\"type\":\"scatter3d\",\"line\":{\"colorbar\":{\"outlinewidth\":0,\"ticks\":\"\"}},\"marker\":{\"colorbar\":{\"outlinewidth\":0,\"ticks\":\"\"}}}],\"scattermapbox\":[{\"type\":\"scattermapbox\",\"marker\":{\"colorbar\":{\"outlinewidth\":0,\"ticks\":\"\"}}}],\"scatterternary\":[{\"type\":\"scatterternary\",\"marker\":{\"colorbar\":{\"outlinewidth\":0,\"ticks\":\"\"}}}],\"scattercarpet\":[{\"type\":\"scattercarpet\",\"marker\":{\"colorbar\":{\"outlinewidth\":0,\"ticks\":\"\"}}}],\"carpet\":[{\"aaxis\":{\"endlinecolor\":\"#2a3f5f\",\"gridcolor\":\"white\",\"linecolor\":\"white\",\"minorgridcolor\":\"white\",\"startlinecolor\":\"#2a3f5f\"},\"baxis\":{\"endlinecolor\":\"#2a3f5f\",\"gridcolor\":\"white\",\"linecolor\":\"white\",\"minorgridcolor\":\"white\",\"startlinecolor\":\"#2a3f5f\"},\"type\":\"carpet\"}],\"table\":[{\"cells\":{\"fill\":{\"color\":\"#EBF0F8\"},\"line\":{\"color\":\"white\"}},\"header\":{\"fill\":{\"color\":\"#C8D4E3\"},\"line\":{\"color\":\"white\"}},\"type\":\"table\"}],\"barpolar\":[{\"marker\":{\"line\":{\"color\":\"#E5ECF6\",\"width\":0.5},\"pattern\":{\"fillmode\":\"overlay\",\"size\":10,\"solidity\":0.2}},\"type\":\"barpolar\"}],\"pie\":[{\"automargin\":true,\"type\":\"pie\"}]},\"layout\":{\"autotypenumbers\":\"strict\",\"colorway\":[\"#636efa\",\"#EF553B\",\"#00cc96\",\"#ab63fa\",\"#FFA15A\",\"#19d3f3\",\"#FF6692\",\"#B6E880\",\"#FF97FF\",\"#FECB52\"],\"font\":{\"color\":\"#2a3f5f\"},\"hovermode\":\"closest\",\"hoverlabel\":{\"align\":\"left\"},\"paper_bgcolor\":\"white\",\"plot_bgcolor\":\"#E5ECF6\",\"polar\":{\"bgcolor\":\"#E5ECF6\",\"angularaxis\":{\"gridcolor\":\"white\",\"linecolor\":\"white\",\"ticks\":\"\"},\"radialaxis\":{\"gridcolor\":\"white\",\"linecolor\":\"white\",\"ticks\":\"\"}},\"ternary\":{\"bgcolor\":\"#E5ECF6\",\"aaxis\":{\"gridcolor\":\"white\",\"linecolor\":\"white\",\"ticks\":\"\"},\"baxis\":{\"gridcolor\":\"white\",\"linecolor\":\"white\",\"ticks\":\"\"},\"caxis\":{\"gridcolor\":\"white\",\"linecolor\":\"white\",\"ticks\":\"\"}},\"coloraxis\":{\"colorbar\":{\"outlinewidth\":0,\"ticks\":\"\"}},\"colorscale\":{\"sequential\":[[0.0,\"#0d0887\"],[0.1111111111111111,\"#46039f\"],[0.2222222222222222,\"#7201a8\"],[0.3333333333333333,\"#9c179e\"],[0.4444444444444444,\"#bd3786\"],[0.5555555555555556,\"#d8576b\"],[0.6666666666666666,\"#ed7953\"],[0.7777777777777778,\"#fb9f3a\"],[0.8888888888888888,\"#fdca26\"],[1.0,\"#f0f921\"]],\"sequentialminus\":[[0.0,\"#0d0887\"],[0.1111111111111111,\"#46039f\"],[0.2222222222222222,\"#7201a8\"],[0.3333333333333333,\"#9c179e\"],[0.4444444444444444,\"#bd3786\"],[0.5555555555555556,\"#d8576b\"],[0.6666666666666666,\"#ed7953\"],[0.7777777777777778,\"#fb9f3a\"],[0.8888888888888888,\"#fdca26\"],[1.0,\"#f0f921\"]],\"diverging\":[[0,\"#8e0152\"],[0.1,\"#c51b7d\"],[0.2,\"#de77ae\"],[0.3,\"#f1b6da\"],[0.4,\"#fde0ef\"],[0.5,\"#f7f7f7\"],[0.6,\"#e6f5d0\"],[0.7,\"#b8e186\"],[0.8,\"#7fbc41\"],[0.9,\"#4d9221\"],[1,\"#276419\"]]},\"xaxis\":{\"gridcolor\":\"white\",\"linecolor\":\"white\",\"ticks\":\"\",\"title\":{\"standoff\":15},\"zerolinecolor\":\"white\",\"automargin\":true,\"zerolinewidth\":2},\"yaxis\":{\"gridcolor\":\"white\",\"linecolor\":\"white\",\"ticks\":\"\",\"title\":{\"standoff\":15},\"zerolinecolor\":\"white\",\"automargin\":true,\"zerolinewidth\":2},\"scene\":{\"xaxis\":{\"backgroundcolor\":\"#E5ECF6\",\"gridcolor\":\"white\",\"linecolor\":\"white\",\"showbackground\":true,\"ticks\":\"\",\"zerolinecolor\":\"white\",\"gridwidth\":2},\"yaxis\":{\"backgroundcolor\":\"#E5ECF6\",\"gridcolor\":\"white\",\"linecolor\":\"white\",\"showbackground\":true,\"ticks\":\"\",\"zerolinecolor\":\"white\",\"gridwidth\":2},\"zaxis\":{\"backgroundcolor\":\"#E5ECF6\",\"gridcolor\":\"white\",\"linecolor\":\"white\",\"showbackground\":true,\"ticks\":\"\",\"zerolinecolor\":\"white\",\"gridwidth\":2}},\"shapedefaults\":{\"line\":{\"color\":\"#2a3f5f\"}},\"annotationdefaults\":{\"arrowcolor\":\"#2a3f5f\",\"arrowhead\":0,\"arrowwidth\":1},\"geo\":{\"bgcolor\":\"white\",\"landcolor\":\"#E5ECF6\",\"subunitcolor\":\"white\",\"showland\":true,\"showlakes\":true,\"lakecolor\":\"white\"},\"title\":{\"x\":0.05},\"mapbox\":{\"style\":\"light\"}}},\"xaxis\":{\"anchor\":\"y\",\"domain\":[0.0,1.0],\"title\":{\"text\":\"Year\"}},\"yaxis\":{\"anchor\":\"x\",\"domain\":[0.0,1.0],\"title\":{\"text\":\"% Yes\"}},\"legend\":{\"title\":{\"text\":\"Country\"},\"tracegroupgap\":0},\"margin\":{\"t\":60},\"title\":{\"text\":\"Palestinian conflict\\u003cbr\\u003e\",\"y\":0.9,\"x\":0.5,\"xanchor\":\"center\",\"yanchor\":\"top\"}},                        {\"responsive\": true}                    ).then(function(){\n",
       "                            \n",
       "var gd = document.getElementById('5f247043-2c40-4478-8545-867f3cb6f118');\n",
       "var x = new MutationObserver(function (mutations, observer) {{\n",
       "        var display = window.getComputedStyle(gd).display;\n",
       "        if (!display || display === 'none') {{\n",
       "            console.log([gd, 'removed!']);\n",
       "            Plotly.purge(gd);\n",
       "            observer.disconnect();\n",
       "        }}\n",
       "}});\n",
       "\n",
       "// Listen for the removal of the full notebook cells\n",
       "var notebookContainer = gd.closest('#notebook-container');\n",
       "if (notebookContainer) {{\n",
       "    x.observe(notebookContainer, {childList: true});\n",
       "}}\n",
       "\n",
       "// Listen for the clearing of the current output cell\n",
       "var outputEl = gd.closest('.output');\n",
       "if (outputEl) {{\n",
       "    x.observe(outputEl, {childList: true});\n",
       "}}\n",
       "\n",
       "                        })                };                });            </script>        </div>"
      ]
     },
     "metadata": {},
     "output_type": "display_data"
    },
    {
     "data": {
      "application/vnd.plotly.v1+json": {
       "config": {
        "plotlyServerURL": "https://plot.ly"
       },
       "data": [
        {
         "hovertemplate": "Country=Iran<br>x=%{x}<br>y=%{y}<extra></extra>",
         "legendgroup": "Iran",
         "marker": {
          "color": "#636efa",
          "symbol": "circle"
         },
         "mode": "markers",
         "name": "Iran",
         "orientation": "v",
         "showlegend": true,
         "type": "scatter",
         "x": [
          1948,
          1949,
          1950,
          1954,
          1956,
          1957,
          1958,
          1959,
          1960,
          1961,
          1962,
          1963,
          1965,
          1966,
          1967,
          1968,
          1969,
          1970,
          1971,
          1972,
          1973,
          1974,
          1975,
          1976,
          1977,
          1979,
          1978,
          1980,
          1981,
          1982,
          1983,
          1984,
          1985,
          1986,
          1987,
          1988,
          1989,
          1990,
          1991,
          1992,
          1993,
          1994,
          1995,
          1996,
          1997,
          1998,
          1999,
          2000,
          2001,
          2002,
          2003,
          2004,
          2005,
          2006,
          2007,
          2008,
          2009,
          2010,
          2011,
          2012,
          2013,
          2014,
          2015,
          2016,
          2017,
          2018,
          2019
         ],
         "xaxis": "x",
         "y": [
          0,
          0,
          100,
          100,
          100,
          80,
          50,
          75,
          83.33333333333334,
          42.857142857142854,
          100,
          50,
          100,
          100,
          100,
          100,
          100,
          100,
          83.33333333333334,
          100,
          100,
          100,
          100,
          90,
          100,
          100,
          100,
          94.11764705882352,
          100,
          100,
          100,
          100,
          95,
          94.28571428571428,
          89.28571428571429,
          93.10344827586206,
          93.10344827586206,
          93.75,
          100,
          100,
          100,
          85.71428571428571,
          76.47058823529412,
          80,
          81.81818181818183,
          83.33333333333334,
          89.47368421052632,
          81.25,
          82.35294117647058,
          91.30434782608695,
          93.75,
          85,
          86.95652173913044,
          81.48148148148148,
          94.73684210526315,
          64,
          75,
          77.27272727272727,
          75,
          69.56521739130434,
          72.22222222222221,
          77.27272727272727,
          76.19047619047619,
          61.76470588235294,
          79.3103448275862,
          76.47058823529412,
          87.5
         ],
         "yaxis": "y"
        },
        {
         "hovertemplate": "<b>LOWESS trendline</b><br><br>Country=Iran<br>x=%{x}<br>y=%{y} <b>(trend)</b><extra></extra>",
         "legendgroup": "Iran",
         "marker": {
          "color": "#636efa",
          "symbol": "circle"
         },
         "mode": "lines",
         "name": "Iran",
         "showlegend": false,
         "type": "scatter",
         "x": [
          1948,
          1949,
          1950,
          1954,
          1956,
          1957,
          1958,
          1959,
          1960,
          1961,
          1962,
          1963,
          1965,
          1966,
          1967,
          1968,
          1969,
          1970,
          1971,
          1972,
          1973,
          1974,
          1975,
          1976,
          1977,
          1978,
          1979,
          1980,
          1981,
          1982,
          1983,
          1984,
          1985,
          1986,
          1987,
          1988,
          1989,
          1990,
          1991,
          1992,
          1993,
          1994,
          1995,
          1996,
          1997,
          1998,
          1999,
          2000,
          2001,
          2002,
          2003,
          2004,
          2005,
          2006,
          2007,
          2008,
          2009,
          2010,
          2011,
          2012,
          2013,
          2014,
          2015,
          2016,
          2017,
          2018,
          2019
         ],
         "xaxis": "x",
         "y": [
          93.23793168680677,
          93.41733258859125,
          93.5976483536978,
          94.31944503029389,
          94.66981661333439,
          94.83837839734572,
          95.00044767198037,
          95.15494626569203,
          95.30108254614545,
          95.43877181484112,
          95.56876305271066,
          95.69217691249627,
          95.92484124973284,
          96.03811708720855,
          96.15310133229532,
          96.27367092338383,
          96.40498009952303,
          96.5537944631477,
          96.72822243726114,
          96.93532627752971,
          97.05782794796387,
          97.14913449581647,
          97.19705744300246,
          97.34428971416051,
          97.27452398434596,
          97.26193614533796,
          97.02664439736873,
          96.7219566628166,
          96.35736386952875,
          95.94943774146363,
          95.51558204308284,
          95.06586055861465,
          94.60678698908625,
          94.14062650733536,
          93.66836156559094,
          93.18645180400671,
          92.68905004357049,
          92.17049687391902,
          91.62549698953723,
          91.04886096605146,
          90.43771076054496,
          89.79320364455597,
          89.11538916297262,
          88.40372139632599,
          87.66327161084513,
          86.90422739944314,
          86.12732858779465,
          85.38918529155889,
          84.67913805008918,
          83.98821996364038,
          83.31085956105964,
          82.6431895433824,
          81.98219683820996,
          81.32553994210619,
          80.67132412967726,
          80.01803135205441,
          79.36433295194139,
          78.709459523973,
          78.05305980554718,
          77.39502164790983,
          76.73549191552962,
          76.07495441142531,
          75.41409182516209,
          74.75355711385325,
          74.09402578203006,
          73.43641288307083,
          72.78144178736024
         ],
         "yaxis": "y"
        },
        {
         "hovertemplate": "Country=Germany<br>x=%{x}<br>y=%{y}<extra></extra>",
         "legendgroup": "Germany",
         "marker": {
          "color": "#EF553B",
          "symbol": "circle"
         },
         "mode": "markers",
         "name": "Germany",
         "orientation": "v",
         "showlegend": true,
         "type": "scatter",
         "x": [
          1991,
          1992,
          1993,
          1994,
          1995,
          1996,
          1997,
          1998,
          1999,
          2000,
          2001,
          2002,
          2003,
          2004,
          2005,
          2006,
          2007,
          2008,
          2009,
          2010,
          2011,
          2012,
          2013,
          2014,
          2015,
          2016,
          2017,
          2018,
          2019
         ],
         "xaxis": "x",
         "y": [
          42.857142857142854,
          66.66666666666666,
          63.63636363636363,
          66.66666666666666,
          52.63157894736842,
          61.904761904761905,
          63.63636363636363,
          66.66666666666666,
          63.1578947368421,
          62.5,
          64.70588235294117,
          57.14285714285714,
          56.25,
          65,
          69.56521739130434,
          70.37037037037037,
          70,
          80,
          60,
          69.56521739130434,
          62.5,
          69.56521739130434,
          55.55555555555556,
          63.63636363636363,
          38.095238095238095,
          62.857142857142854,
          41.37931034482759,
          47.05882352941176,
          31.25
         ],
         "yaxis": "y"
        },
        {
         "hovertemplate": "<b>LOWESS trendline</b><br><br>Country=Germany<br>x=%{x}<br>y=%{y} <b>(trend)</b><extra></extra>",
         "legendgroup": "Germany",
         "marker": {
          "color": "#EF553B",
          "symbol": "circle"
         },
         "mode": "lines",
         "name": "Germany",
         "showlegend": false,
         "type": "scatter",
         "x": [
          1991,
          1992,
          1993,
          1994,
          1995,
          1996,
          1997,
          1998,
          1999,
          2000,
          2001,
          2002,
          2003,
          2004,
          2005,
          2006,
          2007,
          2008,
          2009,
          2010,
          2011,
          2012,
          2013,
          2014,
          2015,
          2016,
          2017,
          2018,
          2019
         ],
         "xaxis": "x",
         "y": [
          60.2255660697516,
          60.555688473878135,
          60.87906195912276,
          61.204255689662425,
          61.53328816337658,
          61.86095518672217,
          62.184212598571065,
          62.49601745886957,
          62.77129821028514,
          62.96696376693281,
          63.59059415579269,
          64.29272224287652,
          64.90190030711682,
          65.3172083473869,
          65.6228966732159,
          65.83750275320033,
          65.94882301237723,
          65.8200476371018,
          65.33813832787669,
          64.31316382918298,
          62.03823402217785,
          59.55501203291599,
          57.03331959935069,
          54.47126968433206,
          51.86206827830949,
          49.19929076090924,
          46.4838135667608,
          43.71144874788991,
          40.881175185365755
         ],
         "yaxis": "y"
        },
        {
         "hovertemplate": "Country=Liberia<br>x=%{x}<br>y=%{y}<extra></extra>",
         "legendgroup": "Liberia",
         "marker": {
          "color": "#00cc96",
          "symbol": "circle"
         },
         "mode": "markers",
         "name": "Liberia",
         "orientation": "v",
         "showlegend": true,
         "type": "scatter",
         "x": [
          1948,
          1949,
          1950,
          1956,
          1957,
          1958,
          1959,
          1960,
          1961,
          1962,
          1963,
          1965,
          1966,
          1967,
          1968,
          1969,
          1970,
          1971,
          1972,
          1973,
          1974,
          1975,
          1976,
          1977,
          1979,
          1978,
          1980,
          1981,
          1982,
          1983,
          1984,
          1985,
          1986,
          1987,
          1988,
          1989,
          1991,
          1992,
          1996,
          1997,
          2004,
          2005,
          2006,
          2007,
          2008,
          2009,
          2010,
          2011,
          2012,
          2013,
          2014,
          2015,
          2016,
          2017,
          2018,
          2019
         ],
         "xaxis": "x",
         "y": [
          0,
          0,
          100,
          100,
          40,
          50,
          100,
          66.66666666666666,
          100,
          100,
          100,
          100,
          100,
          66.66666666666666,
          100,
          50,
          100,
          90.9090909090909,
          100,
          100,
          100,
          100,
          100,
          100,
          86.66666666666667,
          85.71428571428571,
          94.11764705882352,
          92.85714285714286,
          92.5925925925926,
          86.48648648648648,
          82.35294117647058,
          95,
          86.11111111111111,
          89.28571428571429,
          90,
          100,
          92.85714285714286,
          90,
          94.44444444444444,
          100,
          95,
          91.30434782608695,
          100,
          100,
          100,
          100,
          100,
          100,
          100,
          100,
          100,
          100,
          100,
          100,
          100,
          63.63636363636363
         ],
         "yaxis": "y"
        },
        {
         "hovertemplate": "<b>LOWESS trendline</b><br><br>Country=Liberia<br>x=%{x}<br>y=%{y} <b>(trend)</b><extra></extra>",
         "legendgroup": "Liberia",
         "marker": {
          "color": "#00cc96",
          "symbol": "circle"
         },
         "mode": "lines",
         "name": "Liberia",
         "showlegend": false,
         "type": "scatter",
         "x": [
          1948,
          1949,
          1950,
          1956,
          1957,
          1958,
          1959,
          1960,
          1961,
          1962,
          1963,
          1965,
          1966,
          1967,
          1968,
          1969,
          1970,
          1971,
          1972,
          1973,
          1974,
          1975,
          1976,
          1977,
          1978,
          1979,
          1980,
          1981,
          1982,
          1983,
          1984,
          1985,
          1986,
          1987,
          1988,
          1989,
          1991,
          1992,
          1996,
          1997,
          2004,
          2005,
          2006,
          2007,
          2008,
          2009,
          2010,
          2011,
          2012,
          2013,
          2014,
          2015,
          2016,
          2017,
          2018,
          2019
         ],
         "xaxis": "x",
         "y": [
          102.28745774917863,
          102.11330624327493,
          101.93555154049363,
          100.78314107940726,
          100.57599730532951,
          100.36441914306761,
          100.14843636432886,
          99.92808233884458,
          99.70345556473481,
          99.47488912344447,
          99.24273884629338,
          98.76831665680213,
          98.52537495173556,
          98.27646981751126,
          98.01722089751766,
          97.7399234344707,
          97.37359740903779,
          96.98950371170486,
          96.56270180698921,
          96.18214783117506,
          95.8073183240607,
          95.45165518061619,
          95.08642213930617,
          94.71266677922006,
          94.39134133911193,
          94.13024182123644,
          93.90935817651157,
          93.6498717522639,
          93.41208592253763,
          93.2052606228435,
          93.04347839415031,
          92.9421794826174,
          92.91185432800268,
          92.95289618901727,
          92.86361201382071,
          93.01149592942285,
          93.40221735114487,
          93.6168828585798,
          94.58285606563713,
          94.9052222462697,
          97.06892574582875,
          97.37552069331055,
          97.68171193126018,
          97.98774971577963,
          98.29377088057015,
          98.5997849119814,
          98.90571665238045,
          99.21143603969553,
          99.51677987205171,
          99.82156864369651,
          100.12562038595415,
          100.42876278377756,
          100.73084443330688,
          101.03174585953431,
          101.3313907701311,
          101.6297579509453
         ],
         "yaxis": "y"
        }
       ],
       "layout": {
        "autosize": true,
        "legend": {
         "title": {
          "text": "Country"
         },
         "tracegroupgap": 0
        },
        "margin": {
         "t": 60
        },
        "template": {
         "data": {
          "bar": [
           {
            "error_x": {
             "color": "#2a3f5f"
            },
            "error_y": {
             "color": "#2a3f5f"
            },
            "marker": {
             "line": {
              "color": "#E5ECF6",
              "width": 0.5
             },
             "pattern": {
              "fillmode": "overlay",
              "size": 10,
              "solidity": 0.2
             }
            },
            "type": "bar"
           }
          ],
          "barpolar": [
           {
            "marker": {
             "line": {
              "color": "#E5ECF6",
              "width": 0.5
             },
             "pattern": {
              "fillmode": "overlay",
              "size": 10,
              "solidity": 0.2
             }
            },
            "type": "barpolar"
           }
          ],
          "carpet": [
           {
            "aaxis": {
             "endlinecolor": "#2a3f5f",
             "gridcolor": "white",
             "linecolor": "white",
             "minorgridcolor": "white",
             "startlinecolor": "#2a3f5f"
            },
            "baxis": {
             "endlinecolor": "#2a3f5f",
             "gridcolor": "white",
             "linecolor": "white",
             "minorgridcolor": "white",
             "startlinecolor": "#2a3f5f"
            },
            "type": "carpet"
           }
          ],
          "choropleth": [
           {
            "colorbar": {
             "outlinewidth": 0,
             "ticks": ""
            },
            "type": "choropleth"
           }
          ],
          "contour": [
           {
            "colorbar": {
             "outlinewidth": 0,
             "ticks": ""
            },
            "colorscale": [
             [
              0,
              "#0d0887"
             ],
             [
              0.1111111111111111,
              "#46039f"
             ],
             [
              0.2222222222222222,
              "#7201a8"
             ],
             [
              0.3333333333333333,
              "#9c179e"
             ],
             [
              0.4444444444444444,
              "#bd3786"
             ],
             [
              0.5555555555555556,
              "#d8576b"
             ],
             [
              0.6666666666666666,
              "#ed7953"
             ],
             [
              0.7777777777777778,
              "#fb9f3a"
             ],
             [
              0.8888888888888888,
              "#fdca26"
             ],
             [
              1,
              "#f0f921"
             ]
            ],
            "type": "contour"
           }
          ],
          "contourcarpet": [
           {
            "colorbar": {
             "outlinewidth": 0,
             "ticks": ""
            },
            "type": "contourcarpet"
           }
          ],
          "heatmap": [
           {
            "colorbar": {
             "outlinewidth": 0,
             "ticks": ""
            },
            "colorscale": [
             [
              0,
              "#0d0887"
             ],
             [
              0.1111111111111111,
              "#46039f"
             ],
             [
              0.2222222222222222,
              "#7201a8"
             ],
             [
              0.3333333333333333,
              "#9c179e"
             ],
             [
              0.4444444444444444,
              "#bd3786"
             ],
             [
              0.5555555555555556,
              "#d8576b"
             ],
             [
              0.6666666666666666,
              "#ed7953"
             ],
             [
              0.7777777777777778,
              "#fb9f3a"
             ],
             [
              0.8888888888888888,
              "#fdca26"
             ],
             [
              1,
              "#f0f921"
             ]
            ],
            "type": "heatmap"
           }
          ],
          "heatmapgl": [
           {
            "colorbar": {
             "outlinewidth": 0,
             "ticks": ""
            },
            "colorscale": [
             [
              0,
              "#0d0887"
             ],
             [
              0.1111111111111111,
              "#46039f"
             ],
             [
              0.2222222222222222,
              "#7201a8"
             ],
             [
              0.3333333333333333,
              "#9c179e"
             ],
             [
              0.4444444444444444,
              "#bd3786"
             ],
             [
              0.5555555555555556,
              "#d8576b"
             ],
             [
              0.6666666666666666,
              "#ed7953"
             ],
             [
              0.7777777777777778,
              "#fb9f3a"
             ],
             [
              0.8888888888888888,
              "#fdca26"
             ],
             [
              1,
              "#f0f921"
             ]
            ],
            "type": "heatmapgl"
           }
          ],
          "histogram": [
           {
            "marker": {
             "pattern": {
              "fillmode": "overlay",
              "size": 10,
              "solidity": 0.2
             }
            },
            "type": "histogram"
           }
          ],
          "histogram2d": [
           {
            "colorbar": {
             "outlinewidth": 0,
             "ticks": ""
            },
            "colorscale": [
             [
              0,
              "#0d0887"
             ],
             [
              0.1111111111111111,
              "#46039f"
             ],
             [
              0.2222222222222222,
              "#7201a8"
             ],
             [
              0.3333333333333333,
              "#9c179e"
             ],
             [
              0.4444444444444444,
              "#bd3786"
             ],
             [
              0.5555555555555556,
              "#d8576b"
             ],
             [
              0.6666666666666666,
              "#ed7953"
             ],
             [
              0.7777777777777778,
              "#fb9f3a"
             ],
             [
              0.8888888888888888,
              "#fdca26"
             ],
             [
              1,
              "#f0f921"
             ]
            ],
            "type": "histogram2d"
           }
          ],
          "histogram2dcontour": [
           {
            "colorbar": {
             "outlinewidth": 0,
             "ticks": ""
            },
            "colorscale": [
             [
              0,
              "#0d0887"
             ],
             [
              0.1111111111111111,
              "#46039f"
             ],
             [
              0.2222222222222222,
              "#7201a8"
             ],
             [
              0.3333333333333333,
              "#9c179e"
             ],
             [
              0.4444444444444444,
              "#bd3786"
             ],
             [
              0.5555555555555556,
              "#d8576b"
             ],
             [
              0.6666666666666666,
              "#ed7953"
             ],
             [
              0.7777777777777778,
              "#fb9f3a"
             ],
             [
              0.8888888888888888,
              "#fdca26"
             ],
             [
              1,
              "#f0f921"
             ]
            ],
            "type": "histogram2dcontour"
           }
          ],
          "mesh3d": [
           {
            "colorbar": {
             "outlinewidth": 0,
             "ticks": ""
            },
            "type": "mesh3d"
           }
          ],
          "parcoords": [
           {
            "line": {
             "colorbar": {
              "outlinewidth": 0,
              "ticks": ""
             }
            },
            "type": "parcoords"
           }
          ],
          "pie": [
           {
            "automargin": true,
            "type": "pie"
           }
          ],
          "scatter": [
           {
            "fillpattern": {
             "fillmode": "overlay",
             "size": 10,
             "solidity": 0.2
            },
            "type": "scatter"
           }
          ],
          "scatter3d": [
           {
            "line": {
             "colorbar": {
              "outlinewidth": 0,
              "ticks": ""
             }
            },
            "marker": {
             "colorbar": {
              "outlinewidth": 0,
              "ticks": ""
             }
            },
            "type": "scatter3d"
           }
          ],
          "scattercarpet": [
           {
            "marker": {
             "colorbar": {
              "outlinewidth": 0,
              "ticks": ""
             }
            },
            "type": "scattercarpet"
           }
          ],
          "scattergeo": [
           {
            "marker": {
             "colorbar": {
              "outlinewidth": 0,
              "ticks": ""
             }
            },
            "type": "scattergeo"
           }
          ],
          "scattergl": [
           {
            "marker": {
             "colorbar": {
              "outlinewidth": 0,
              "ticks": ""
             }
            },
            "type": "scattergl"
           }
          ],
          "scattermapbox": [
           {
            "marker": {
             "colorbar": {
              "outlinewidth": 0,
              "ticks": ""
             }
            },
            "type": "scattermapbox"
           }
          ],
          "scatterpolar": [
           {
            "marker": {
             "colorbar": {
              "outlinewidth": 0,
              "ticks": ""
             }
            },
            "type": "scatterpolar"
           }
          ],
          "scatterpolargl": [
           {
            "marker": {
             "colorbar": {
              "outlinewidth": 0,
              "ticks": ""
             }
            },
            "type": "scatterpolargl"
           }
          ],
          "scatterternary": [
           {
            "marker": {
             "colorbar": {
              "outlinewidth": 0,
              "ticks": ""
             }
            },
            "type": "scatterternary"
           }
          ],
          "surface": [
           {
            "colorbar": {
             "outlinewidth": 0,
             "ticks": ""
            },
            "colorscale": [
             [
              0,
              "#0d0887"
             ],
             [
              0.1111111111111111,
              "#46039f"
             ],
             [
              0.2222222222222222,
              "#7201a8"
             ],
             [
              0.3333333333333333,
              "#9c179e"
             ],
             [
              0.4444444444444444,
              "#bd3786"
             ],
             [
              0.5555555555555556,
              "#d8576b"
             ],
             [
              0.6666666666666666,
              "#ed7953"
             ],
             [
              0.7777777777777778,
              "#fb9f3a"
             ],
             [
              0.8888888888888888,
              "#fdca26"
             ],
             [
              1,
              "#f0f921"
             ]
            ],
            "type": "surface"
           }
          ],
          "table": [
           {
            "cells": {
             "fill": {
              "color": "#EBF0F8"
             },
             "line": {
              "color": "white"
             }
            },
            "header": {
             "fill": {
              "color": "#C8D4E3"
             },
             "line": {
              "color": "white"
             }
            },
            "type": "table"
           }
          ]
         },
         "layout": {
          "annotationdefaults": {
           "arrowcolor": "#2a3f5f",
           "arrowhead": 0,
           "arrowwidth": 1
          },
          "autotypenumbers": "strict",
          "coloraxis": {
           "colorbar": {
            "outlinewidth": 0,
            "ticks": ""
           }
          },
          "colorscale": {
           "diverging": [
            [
             0,
             "#8e0152"
            ],
            [
             0.1,
             "#c51b7d"
            ],
            [
             0.2,
             "#de77ae"
            ],
            [
             0.3,
             "#f1b6da"
            ],
            [
             0.4,
             "#fde0ef"
            ],
            [
             0.5,
             "#f7f7f7"
            ],
            [
             0.6,
             "#e6f5d0"
            ],
            [
             0.7,
             "#b8e186"
            ],
            [
             0.8,
             "#7fbc41"
            ],
            [
             0.9,
             "#4d9221"
            ],
            [
             1,
             "#276419"
            ]
           ],
           "sequential": [
            [
             0,
             "#0d0887"
            ],
            [
             0.1111111111111111,
             "#46039f"
            ],
            [
             0.2222222222222222,
             "#7201a8"
            ],
            [
             0.3333333333333333,
             "#9c179e"
            ],
            [
             0.4444444444444444,
             "#bd3786"
            ],
            [
             0.5555555555555556,
             "#d8576b"
            ],
            [
             0.6666666666666666,
             "#ed7953"
            ],
            [
             0.7777777777777778,
             "#fb9f3a"
            ],
            [
             0.8888888888888888,
             "#fdca26"
            ],
            [
             1,
             "#f0f921"
            ]
           ],
           "sequentialminus": [
            [
             0,
             "#0d0887"
            ],
            [
             0.1111111111111111,
             "#46039f"
            ],
            [
             0.2222222222222222,
             "#7201a8"
            ],
            [
             0.3333333333333333,
             "#9c179e"
            ],
            [
             0.4444444444444444,
             "#bd3786"
            ],
            [
             0.5555555555555556,
             "#d8576b"
            ],
            [
             0.6666666666666666,
             "#ed7953"
            ],
            [
             0.7777777777777778,
             "#fb9f3a"
            ],
            [
             0.8888888888888888,
             "#fdca26"
            ],
            [
             1,
             "#f0f921"
            ]
           ]
          },
          "colorway": [
           "#636efa",
           "#EF553B",
           "#00cc96",
           "#ab63fa",
           "#FFA15A",
           "#19d3f3",
           "#FF6692",
           "#B6E880",
           "#FF97FF",
           "#FECB52"
          ],
          "font": {
           "color": "#2a3f5f"
          },
          "geo": {
           "bgcolor": "white",
           "lakecolor": "white",
           "landcolor": "#E5ECF6",
           "showlakes": true,
           "showland": true,
           "subunitcolor": "white"
          },
          "hoverlabel": {
           "align": "left"
          },
          "hovermode": "closest",
          "mapbox": {
           "style": "light"
          },
          "paper_bgcolor": "white",
          "plot_bgcolor": "#E5ECF6",
          "polar": {
           "angularaxis": {
            "gridcolor": "white",
            "linecolor": "white",
            "ticks": ""
           },
           "bgcolor": "#E5ECF6",
           "radialaxis": {
            "gridcolor": "white",
            "linecolor": "white",
            "ticks": ""
           }
          },
          "scene": {
           "xaxis": {
            "backgroundcolor": "#E5ECF6",
            "gridcolor": "white",
            "gridwidth": 2,
            "linecolor": "white",
            "showbackground": true,
            "ticks": "",
            "zerolinecolor": "white"
           },
           "yaxis": {
            "backgroundcolor": "#E5ECF6",
            "gridcolor": "white",
            "gridwidth": 2,
            "linecolor": "white",
            "showbackground": true,
            "ticks": "",
            "zerolinecolor": "white"
           },
           "zaxis": {
            "backgroundcolor": "#E5ECF6",
            "gridcolor": "white",
            "gridwidth": 2,
            "linecolor": "white",
            "showbackground": true,
            "ticks": "",
            "zerolinecolor": "white"
           }
          },
          "shapedefaults": {
           "line": {
            "color": "#2a3f5f"
           }
          },
          "ternary": {
           "aaxis": {
            "gridcolor": "white",
            "linecolor": "white",
            "ticks": ""
           },
           "baxis": {
            "gridcolor": "white",
            "linecolor": "white",
            "ticks": ""
           },
           "bgcolor": "#E5ECF6",
           "caxis": {
            "gridcolor": "white",
            "linecolor": "white",
            "ticks": ""
           }
          },
          "title": {
           "x": 0.05
          },
          "xaxis": {
           "automargin": true,
           "gridcolor": "white",
           "linecolor": "white",
           "ticks": "",
           "title": {
            "standoff": 15
           },
           "zerolinecolor": "white",
           "zerolinewidth": 2
          },
          "yaxis": {
           "automargin": true,
           "gridcolor": "white",
           "linecolor": "white",
           "ticks": "",
           "title": {
            "standoff": 15
           },
           "zerolinecolor": "white",
           "zerolinewidth": 2
          }
         }
        },
        "title": {
         "text": "Arms control and disarmament<br>",
         "x": 0.5,
         "xanchor": "center",
         "y": 0.9,
         "yanchor": "top"
        },
        "xaxis": {
         "anchor": "y",
         "autorange": true,
         "domain": [
          0,
          1
         ],
         "range": [
          1943.1181875792142,
          2023.8818124207858
         ],
         "title": {
          "text": "Year"
         },
         "type": "linear"
        },
        "yaxis": {
         "anchor": "x",
         "autorange": true,
         "domain": [
          0,
          1
         ],
         "range": [
          -7.767001296269678,
          108.07979769893906
         ],
         "title": {
          "text": "% Yes"
         },
         "type": "linear"
        }
       }
      },
      "image/png": "[encoded data removed]",
      "text/html": [
       "<div>                            <div id=\"1a2a22eb-7592-48d9-b9b5-96e757a92595\" class=\"plotly-graph-div\" style=\"height:525px; width:100%;\"></div>            <script type=\"text/javascript\">                require([\"plotly\"], function(Plotly) {                    window.PLOTLYENV=window.PLOTLYENV || {};                                    if (document.getElementById(\"1a2a22eb-7592-48d9-b9b5-96e757a92595\")) {                    Plotly.newPlot(                        \"1a2a22eb-7592-48d9-b9b5-96e757a92595\",                        [{\"hovertemplate\":\"Country=Iran\\u003cbr\\u003ex=%{x}\\u003cbr\\u003ey=%{y}\\u003cextra\\u003e\\u003c\\u002fextra\\u003e\",\"legendgroup\":\"Iran\",\"marker\":{\"color\":\"#636efa\",\"symbol\":\"circle\"},\"mode\":\"markers\",\"name\":\"Iran\",\"orientation\":\"v\",\"showlegend\":true,\"x\":[1948,1949,1950,1954,1956,1957,1958,1959,1960,1961,1962,1963,1965,1966,1967,1968,1969,1970,1971,1972,1973,1974,1975,1976,1977,1979,1978,1980,1981,1982,1983,1984,1985,1986,1987,1988,1989,1990,1991,1992,1993,1994,1995,1996,1997,1998,1999,2000,2001,2002,2003,2004,2005,2006,2007,2008,2009,2010,2011,2012,2013,2014,2015,2016,2017,2018,2019],\"xaxis\":\"x\",\"y\":[0.0,0.0,100.0,100.0,100.0,80.0,50.0,75.0,83.33333333333334,42.857142857142854,100.0,50.0,100.0,100.0,100.0,100.0,100.0,100.0,83.33333333333334,100.0,100.0,100.0,100.0,90.0,100.0,100.0,100.0,94.11764705882352,100.0,100.0,100.0,100.0,95.0,94.28571428571428,89.28571428571429,93.10344827586206,93.10344827586206,93.75,100.0,100.0,100.0,85.71428571428571,76.47058823529412,80.0,81.81818181818183,83.33333333333334,89.47368421052632,81.25,82.35294117647058,91.30434782608695,93.75,85.0,86.95652173913044,81.48148148148148,94.73684210526315,64.0,75.0,77.27272727272727,75.0,69.56521739130434,72.22222222222221,77.27272727272727,76.19047619047619,61.76470588235294,79.3103448275862,76.47058823529412,87.5],\"yaxis\":\"y\",\"type\":\"scatter\"},{\"hovertemplate\":\"\\u003cb\\u003eLOWESS trendline\\u003c\\u002fb\\u003e\\u003cbr\\u003e\\u003cbr\\u003eCountry=Iran\\u003cbr\\u003ex=%{x}\\u003cbr\\u003ey=%{y} \\u003cb\\u003e(trend)\\u003c\\u002fb\\u003e\\u003cextra\\u003e\\u003c\\u002fextra\\u003e\",\"legendgroup\":\"Iran\",\"marker\":{\"color\":\"#636efa\",\"symbol\":\"circle\"},\"mode\":\"lines\",\"name\":\"Iran\",\"showlegend\":false,\"x\":[1948,1949,1950,1954,1956,1957,1958,1959,1960,1961,1962,1963,1965,1966,1967,1968,1969,1970,1971,1972,1973,1974,1975,1976,1977,1978,1979,1980,1981,1982,1983,1984,1985,1986,1987,1988,1989,1990,1991,1992,1993,1994,1995,1996,1997,1998,1999,2000,2001,2002,2003,2004,2005,2006,2007,2008,2009,2010,2011,2012,2013,2014,2015,2016,2017,2018,2019],\"xaxis\":\"x\",\"y\":[93.23793168680677,93.41733258859125,93.5976483536978,94.31944503029389,94.66981661333439,94.83837839734572,95.00044767198037,95.15494626569203,95.30108254614545,95.43877181484112,95.56876305271066,95.69217691249627,95.92484124973284,96.03811708720855,96.15310133229532,96.27367092338383,96.40498009952303,96.5537944631477,96.72822243726114,96.93532627752971,97.05782794796387,97.14913449581647,97.19705744300246,97.34428971416051,97.27452398434596,97.26193614533796,97.02664439736873,96.7219566628166,96.35736386952875,95.94943774146363,95.51558204308284,95.06586055861465,94.60678698908625,94.14062650733536,93.66836156559094,93.18645180400671,92.68905004357049,92.17049687391902,91.62549698953723,91.04886096605146,90.43771076054496,89.79320364455597,89.11538916297262,88.40372139632599,87.66327161084513,86.90422739944314,86.12732858779465,85.38918529155889,84.67913805008918,83.98821996364038,83.31085956105964,82.6431895433824,81.98219683820996,81.32553994210619,80.67132412967726,80.01803135205441,79.36433295194139,78.709459523973,78.05305980554718,77.39502164790983,76.73549191552962,76.07495441142531,75.41409182516209,74.75355711385325,74.09402578203006,73.43641288307083,72.78144178736024],\"yaxis\":\"y\",\"type\":\"scatter\"},{\"hovertemplate\":\"Country=Germany\\u003cbr\\u003ex=%{x}\\u003cbr\\u003ey=%{y}\\u003cextra\\u003e\\u003c\\u002fextra\\u003e\",\"legendgroup\":\"Germany\",\"marker\":{\"color\":\"#EF553B\",\"symbol\":\"circle\"},\"mode\":\"markers\",\"name\":\"Germany\",\"orientation\":\"v\",\"showlegend\":true,\"x\":[1991,1992,1993,1994,1995,1996,1997,1998,1999,2000,2001,2002,2003,2004,2005,2006,2007,2008,2009,2010,2011,2012,2013,2014,2015,2016,2017,2018,2019],\"xaxis\":\"x\",\"y\":[42.857142857142854,66.66666666666666,63.63636363636363,66.66666666666666,52.63157894736842,61.904761904761905,63.63636363636363,66.66666666666666,63.1578947368421,62.5,64.70588235294117,57.14285714285714,56.25,65.0,69.56521739130434,70.37037037037037,70.0,80.0,60.0,69.56521739130434,62.5,69.56521739130434,55.55555555555556,63.63636363636363,38.095238095238095,62.857142857142854,41.37931034482759,47.05882352941176,31.25],\"yaxis\":\"y\",\"type\":\"scatter\"},{\"hovertemplate\":\"\\u003cb\\u003eLOWESS trendline\\u003c\\u002fb\\u003e\\u003cbr\\u003e\\u003cbr\\u003eCountry=Germany\\u003cbr\\u003ex=%{x}\\u003cbr\\u003ey=%{y} \\u003cb\\u003e(trend)\\u003c\\u002fb\\u003e\\u003cextra\\u003e\\u003c\\u002fextra\\u003e\",\"legendgroup\":\"Germany\",\"marker\":{\"color\":\"#EF553B\",\"symbol\":\"circle\"},\"mode\":\"lines\",\"name\":\"Germany\",\"showlegend\":false,\"x\":[1991,1992,1993,1994,1995,1996,1997,1998,1999,2000,2001,2002,2003,2004,2005,2006,2007,2008,2009,2010,2011,2012,2013,2014,2015,2016,2017,2018,2019],\"xaxis\":\"x\",\"y\":[60.2255660697516,60.555688473878135,60.87906195912276,61.204255689662425,61.53328816337658,61.86095518672217,62.184212598571065,62.49601745886957,62.77129821028514,62.96696376693281,63.59059415579269,64.29272224287652,64.90190030711682,65.3172083473869,65.6228966732159,65.83750275320033,65.94882301237723,65.8200476371018,65.33813832787669,64.31316382918298,62.03823402217785,59.55501203291599,57.03331959935069,54.47126968433206,51.86206827830949,49.19929076090924,46.4838135667608,43.71144874788991,40.881175185365755],\"yaxis\":\"y\",\"type\":\"scatter\"},{\"hovertemplate\":\"Country=Liberia\\u003cbr\\u003ex=%{x}\\u003cbr\\u003ey=%{y}\\u003cextra\\u003e\\u003c\\u002fextra\\u003e\",\"legendgroup\":\"Liberia\",\"marker\":{\"color\":\"#00cc96\",\"symbol\":\"circle\"},\"mode\":\"markers\",\"name\":\"Liberia\",\"orientation\":\"v\",\"showlegend\":true,\"x\":[1948,1949,1950,1956,1957,1958,1959,1960,1961,1962,1963,1965,1966,1967,1968,1969,1970,1971,1972,1973,1974,1975,1976,1977,1979,1978,1980,1981,1982,1983,1984,1985,1986,1987,1988,1989,1991,1992,1996,1997,2004,2005,2006,2007,2008,2009,2010,2011,2012,2013,2014,2015,2016,2017,2018,2019],\"xaxis\":\"x\",\"y\":[0.0,0.0,100.0,100.0,40.0,50.0,100.0,66.66666666666666,100.0,100.0,100.0,100.0,100.0,66.66666666666666,100.0,50.0,100.0,90.9090909090909,100.0,100.0,100.0,100.0,100.0,100.0,86.66666666666667,85.71428571428571,94.11764705882352,92.85714285714286,92.5925925925926,86.48648648648648,82.35294117647058,95.0,86.11111111111111,89.28571428571429,90.0,100.0,92.85714285714286,90.0,94.44444444444444,100.0,95.0,91.30434782608695,100.0,100.0,100.0,100.0,100.0,100.0,100.0,100.0,100.0,100.0,100.0,100.0,100.0,63.63636363636363],\"yaxis\":\"y\",\"type\":\"scatter\"},{\"hovertemplate\":\"\\u003cb\\u003eLOWESS trendline\\u003c\\u002fb\\u003e\\u003cbr\\u003e\\u003cbr\\u003eCountry=Liberia\\u003cbr\\u003ex=%{x}\\u003cbr\\u003ey=%{y} \\u003cb\\u003e(trend)\\u003c\\u002fb\\u003e\\u003cextra\\u003e\\u003c\\u002fextra\\u003e\",\"legendgroup\":\"Liberia\",\"marker\":{\"color\":\"#00cc96\",\"symbol\":\"circle\"},\"mode\":\"lines\",\"name\":\"Liberia\",\"showlegend\":false,\"x\":[1948,1949,1950,1956,1957,1958,1959,1960,1961,1962,1963,1965,1966,1967,1968,1969,1970,1971,1972,1973,1974,1975,1976,1977,1978,1979,1980,1981,1982,1983,1984,1985,1986,1987,1988,1989,1991,1992,1996,1997,2004,2005,2006,2007,2008,2009,2010,2011,2012,2013,2014,2015,2016,2017,2018,2019],\"xaxis\":\"x\",\"y\":[102.28745774917863,102.11330624327493,101.93555154049363,100.78314107940726,100.57599730532951,100.36441914306761,100.14843636432886,99.92808233884458,99.70345556473481,99.47488912344447,99.24273884629338,98.76831665680213,98.52537495173556,98.27646981751126,98.01722089751766,97.7399234344707,97.37359740903779,96.98950371170486,96.56270180698921,96.18214783117506,95.8073183240607,95.45165518061619,95.08642213930617,94.71266677922006,94.39134133911193,94.13024182123644,93.90935817651157,93.6498717522639,93.41208592253763,93.2052606228435,93.04347839415031,92.9421794826174,92.91185432800268,92.95289618901727,92.86361201382071,93.01149592942285,93.40221735114487,93.6168828585798,94.58285606563713,94.9052222462697,97.06892574582875,97.37552069331055,97.68171193126018,97.98774971577963,98.29377088057015,98.5997849119814,98.90571665238045,99.21143603969553,99.51677987205171,99.82156864369651,100.12562038595415,100.42876278377756,100.73084443330688,101.03174585953431,101.3313907701311,101.6297579509453],\"yaxis\":\"y\",\"type\":\"scatter\"}],                        {\"template\":{\"data\":{\"histogram2dcontour\":[{\"type\":\"histogram2dcontour\",\"colorbar\":{\"outlinewidth\":0,\"ticks\":\"\"},\"colorscale\":[[0.0,\"#0d0887\"],[0.1111111111111111,\"#46039f\"],[0.2222222222222222,\"#7201a8\"],[0.3333333333333333,\"#9c179e\"],[0.4444444444444444,\"#bd3786\"],[0.5555555555555556,\"#d8576b\"],[0.6666666666666666,\"#ed7953\"],[0.7777777777777778,\"#fb9f3a\"],[0.8888888888888888,\"#fdca26\"],[1.0,\"#f0f921\"]]}],\"choropleth\":[{\"type\":\"choropleth\",\"colorbar\":{\"outlinewidth\":0,\"ticks\":\"\"}}],\"histogram2d\":[{\"type\":\"histogram2d\",\"colorbar\":{\"outlinewidth\":0,\"ticks\":\"\"},\"colorscale\":[[0.0,\"#0d0887\"],[0.1111111111111111,\"#46039f\"],[0.2222222222222222,\"#7201a8\"],[0.3333333333333333,\"#9c179e\"],[0.4444444444444444,\"#bd3786\"],[0.5555555555555556,\"#d8576b\"],[0.6666666666666666,\"#ed7953\"],[0.7777777777777778,\"#fb9f3a\"],[0.8888888888888888,\"#fdca26\"],[1.0,\"#f0f921\"]]}],\"heatmap\":[{\"type\":\"heatmap\",\"colorbar\":{\"outlinewidth\":0,\"ticks\":\"\"},\"colorscale\":[[0.0,\"#0d0887\"],[0.1111111111111111,\"#46039f\"],[0.2222222222222222,\"#7201a8\"],[0.3333333333333333,\"#9c179e\"],[0.4444444444444444,\"#bd3786\"],[0.5555555555555556,\"#d8576b\"],[0.6666666666666666,\"#ed7953\"],[0.7777777777777778,\"#fb9f3a\"],[0.8888888888888888,\"#fdca26\"],[1.0,\"#f0f921\"]]}],\"heatmapgl\":[{\"type\":\"heatmapgl\",\"colorbar\":{\"outlinewidth\":0,\"ticks\":\"\"},\"colorscale\":[[0.0,\"#0d0887\"],[0.1111111111111111,\"#46039f\"],[0.2222222222222222,\"#7201a8\"],[0.3333333333333333,\"#9c179e\"],[0.4444444444444444,\"#bd3786\"],[0.5555555555555556,\"#d8576b\"],[0.6666666666666666,\"#ed7953\"],[0.7777777777777778,\"#fb9f3a\"],[0.8888888888888888,\"#fdca26\"],[1.0,\"#f0f921\"]]}],\"contourcarpet\":[{\"type\":\"contourcarpet\",\"colorbar\":{\"outlinewidth\":0,\"ticks\":\"\"}}],\"contour\":[{\"type\":\"contour\",\"colorbar\":{\"outlinewidth\":0,\"ticks\":\"\"},\"colorscale\":[[0.0,\"#0d0887\"],[0.1111111111111111,\"#46039f\"],[0.2222222222222222,\"#7201a8\"],[0.3333333333333333,\"#9c179e\"],[0.4444444444444444,\"#bd3786\"],[0.5555555555555556,\"#d8576b\"],[0.6666666666666666,\"#ed7953\"],[0.7777777777777778,\"#fb9f3a\"],[0.8888888888888888,\"#fdca26\"],[1.0,\"#f0f921\"]]}],\"surface\":[{\"type\":\"surface\",\"colorbar\":{\"outlinewidth\":0,\"ticks\":\"\"},\"colorscale\":[[0.0,\"#0d0887\"],[0.1111111111111111,\"#46039f\"],[0.2222222222222222,\"#7201a8\"],[0.3333333333333333,\"#9c179e\"],[0.4444444444444444,\"#bd3786\"],[0.5555555555555556,\"#d8576b\"],[0.6666666666666666,\"#ed7953\"],[0.7777777777777778,\"#fb9f3a\"],[0.8888888888888888,\"#fdca26\"],[1.0,\"#f0f921\"]]}],\"mesh3d\":[{\"type\":\"mesh3d\",\"colorbar\":{\"outlinewidth\":0,\"ticks\":\"\"}}],\"scatter\":[{\"fillpattern\":{\"fillmode\":\"overlay\",\"size\":10,\"solidity\":0.2},\"type\":\"scatter\"}],\"parcoords\":[{\"type\":\"parcoords\",\"line\":{\"colorbar\":{\"outlinewidth\":0,\"ticks\":\"\"}}}],\"scatterpolargl\":[{\"type\":\"scatterpolargl\",\"marker\":{\"colorbar\":{\"outlinewidth\":0,\"ticks\":\"\"}}}],\"bar\":[{\"error_x\":{\"color\":\"#2a3f5f\"},\"error_y\":{\"color\":\"#2a3f5f\"},\"marker\":{\"line\":{\"color\":\"#E5ECF6\",\"width\":0.5},\"pattern\":{\"fillmode\":\"overlay\",\"size\":10,\"solidity\":0.2}},\"type\":\"bar\"}],\"scattergeo\":[{\"type\":\"scattergeo\",\"marker\":{\"colorbar\":{\"outlinewidth\":0,\"ticks\":\"\"}}}],\"scatterpolar\":[{\"type\":\"scatterpolar\",\"marker\":{\"colorbar\":{\"outlinewidth\":0,\"ticks\":\"\"}}}],\"histogram\":[{\"marker\":{\"pattern\":{\"fillmode\":\"overlay\",\"size\":10,\"solidity\":0.2}},\"type\":\"histogram\"}],\"scattergl\":[{\"type\":\"scattergl\",\"marker\":{\"colorbar\":{\"outlinewidth\":0,\"ticks\":\"\"}}}],\"scatter3d\":[{\"type\":\"scatter3d\",\"line\":{\"colorbar\":{\"outlinewidth\":0,\"ticks\":\"\"}},\"marker\":{\"colorbar\":{\"outlinewidth\":0,\"ticks\":\"\"}}}],\"scattermapbox\":[{\"type\":\"scattermapbox\",\"marker\":{\"colorbar\":{\"outlinewidth\":0,\"ticks\":\"\"}}}],\"scatterternary\":[{\"type\":\"scatterternary\",\"marker\":{\"colorbar\":{\"outlinewidth\":0,\"ticks\":\"\"}}}],\"scattercarpet\":[{\"type\":\"scattercarpet\",\"marker\":{\"colorbar\":{\"outlinewidth\":0,\"ticks\":\"\"}}}],\"carpet\":[{\"aaxis\":{\"endlinecolor\":\"#2a3f5f\",\"gridcolor\":\"white\",\"linecolor\":\"white\",\"minorgridcolor\":\"white\",\"startlinecolor\":\"#2a3f5f\"},\"baxis\":{\"endlinecolor\":\"#2a3f5f\",\"gridcolor\":\"white\",\"linecolor\":\"white\",\"minorgridcolor\":\"white\",\"startlinecolor\":\"#2a3f5f\"},\"type\":\"carpet\"}],\"table\":[{\"cells\":{\"fill\":{\"color\":\"#EBF0F8\"},\"line\":{\"color\":\"white\"}},\"header\":{\"fill\":{\"color\":\"#C8D4E3\"},\"line\":{\"color\":\"white\"}},\"type\":\"table\"}],\"barpolar\":[{\"marker\":{\"line\":{\"color\":\"#E5ECF6\",\"width\":0.5},\"pattern\":{\"fillmode\":\"overlay\",\"size\":10,\"solidity\":0.2}},\"type\":\"barpolar\"}],\"pie\":[{\"automargin\":true,\"type\":\"pie\"}]},\"layout\":{\"autotypenumbers\":\"strict\",\"colorway\":[\"#636efa\",\"#EF553B\",\"#00cc96\",\"#ab63fa\",\"#FFA15A\",\"#19d3f3\",\"#FF6692\",\"#B6E880\",\"#FF97FF\",\"#FECB52\"],\"font\":{\"color\":\"#2a3f5f\"},\"hovermode\":\"closest\",\"hoverlabel\":{\"align\":\"left\"},\"paper_bgcolor\":\"white\",\"plot_bgcolor\":\"#E5ECF6\",\"polar\":{\"bgcolor\":\"#E5ECF6\",\"angularaxis\":{\"gridcolor\":\"white\",\"linecolor\":\"white\",\"ticks\":\"\"},\"radialaxis\":{\"gridcolor\":\"white\",\"linecolor\":\"white\",\"ticks\":\"\"}},\"ternary\":{\"bgcolor\":\"#E5ECF6\",\"aaxis\":{\"gridcolor\":\"white\",\"linecolor\":\"white\",\"ticks\":\"\"},\"baxis\":{\"gridcolor\":\"white\",\"linecolor\":\"white\",\"ticks\":\"\"},\"caxis\":{\"gridcolor\":\"white\",\"linecolor\":\"white\",\"ticks\":\"\"}},\"coloraxis\":{\"colorbar\":{\"outlinewidth\":0,\"ticks\":\"\"}},\"colorscale\":{\"sequential\":[[0.0,\"#0d0887\"],[0.1111111111111111,\"#46039f\"],[0.2222222222222222,\"#7201a8\"],[0.3333333333333333,\"#9c179e\"],[0.4444444444444444,\"#bd3786\"],[0.5555555555555556,\"#d8576b\"],[0.6666666666666666,\"#ed7953\"],[0.7777777777777778,\"#fb9f3a\"],[0.8888888888888888,\"#fdca26\"],[1.0,\"#f0f921\"]],\"sequentialminus\":[[0.0,\"#0d0887\"],[0.1111111111111111,\"#46039f\"],[0.2222222222222222,\"#7201a8\"],[0.3333333333333333,\"#9c179e\"],[0.4444444444444444,\"#bd3786\"],[0.5555555555555556,\"#d8576b\"],[0.6666666666666666,\"#ed7953\"],[0.7777777777777778,\"#fb9f3a\"],[0.8888888888888888,\"#fdca26\"],[1.0,\"#f0f921\"]],\"diverging\":[[0,\"#8e0152\"],[0.1,\"#c51b7d\"],[0.2,\"#de77ae\"],[0.3,\"#f1b6da\"],[0.4,\"#fde0ef\"],[0.5,\"#f7f7f7\"],[0.6,\"#e6f5d0\"],[0.7,\"#b8e186\"],[0.8,\"#7fbc41\"],[0.9,\"#4d9221\"],[1,\"#276419\"]]},\"xaxis\":{\"gridcolor\":\"white\",\"linecolor\":\"white\",\"ticks\":\"\",\"title\":{\"standoff\":15},\"zerolinecolor\":\"white\",\"automargin\":true,\"zerolinewidth\":2},\"yaxis\":{\"gridcolor\":\"white\",\"linecolor\":\"white\",\"ticks\":\"\",\"title\":{\"standoff\":15},\"zerolinecolor\":\"white\",\"automargin\":true,\"zerolinewidth\":2},\"scene\":{\"xaxis\":{\"backgroundcolor\":\"#E5ECF6\",\"gridcolor\":\"white\",\"linecolor\":\"white\",\"showbackground\":true,\"ticks\":\"\",\"zerolinecolor\":\"white\",\"gridwidth\":2},\"yaxis\":{\"backgroundcolor\":\"#E5ECF6\",\"gridcolor\":\"white\",\"linecolor\":\"white\",\"showbackground\":true,\"ticks\":\"\",\"zerolinecolor\":\"white\",\"gridwidth\":2},\"zaxis\":{\"backgroundcolor\":\"#E5ECF6\",\"gridcolor\":\"white\",\"linecolor\":\"white\",\"showbackground\":true,\"ticks\":\"\",\"zerolinecolor\":\"white\",\"gridwidth\":2}},\"shapedefaults\":{\"line\":{\"color\":\"#2a3f5f\"}},\"annotationdefaults\":{\"arrowcolor\":\"#2a3f5f\",\"arrowhead\":0,\"arrowwidth\":1},\"geo\":{\"bgcolor\":\"white\",\"landcolor\":\"#E5ECF6\",\"subunitcolor\":\"white\",\"showland\":true,\"showlakes\":true,\"lakecolor\":\"white\"},\"title\":{\"x\":0.05},\"mapbox\":{\"style\":\"light\"}}},\"xaxis\":{\"anchor\":\"y\",\"domain\":[0.0,1.0],\"title\":{\"text\":\"Year\"}},\"yaxis\":{\"anchor\":\"x\",\"domain\":[0.0,1.0],\"title\":{\"text\":\"% Yes\"}},\"legend\":{\"title\":{\"text\":\"Country\"},\"tracegroupgap\":0},\"margin\":{\"t\":60},\"title\":{\"text\":\"Arms control and disarmament\\u003cbr\\u003e\",\"y\":0.9,\"x\":0.5,\"xanchor\":\"center\",\"yanchor\":\"top\"}},                        {\"responsive\": true}                    ).then(function(){\n",
       "                            \n",
       "var gd = document.getElementById('1a2a22eb-7592-48d9-b9b5-96e757a92595');\n",
       "var x = new MutationObserver(function (mutations, observer) {{\n",
       "        var display = window.getComputedStyle(gd).display;\n",
       "        if (!display || display === 'none') {{\n",
       "            console.log([gd, 'removed!']);\n",
       "            Plotly.purge(gd);\n",
       "            observer.disconnect();\n",
       "        }}\n",
       "}});\n",
       "\n",
       "// Listen for the removal of the full notebook cells\n",
       "var notebookContainer = gd.closest('#notebook-container');\n",
       "if (notebookContainer) {{\n",
       "    x.observe(notebookContainer, {childList: true});\n",
       "}}\n",
       "\n",
       "// Listen for the clearing of the current output cell\n",
       "var outputEl = gd.closest('.output');\n",
       "if (outputEl) {{\n",
       "    x.observe(outputEl, {childList: true});\n",
       "}}\n",
       "\n",
       "                        })                };                });            </script>        </div>"
      ]
     },
     "metadata": {},
     "output_type": "display_data"
    },
    {
     "data": {
      "application/vnd.plotly.v1+json": {
       "config": {
        "plotlyServerURL": "https://plot.ly"
       },
       "data": [
        {
         "hovertemplate": "Country=Iran<br>x=%{x}<br>y=%{y}<extra></extra>",
         "legendgroup": "Iran",
         "marker": {
          "color": "#636efa",
          "symbol": "circle"
         },
         "mode": "markers",
         "name": "Iran",
         "orientation": "v",
         "showlegend": true,
         "type": "scatter",
         "x": [
          1948,
          1949,
          1957,
          1958,
          1959,
          1960,
          1961,
          1962,
          1963,
          1965,
          1966,
          1967,
          1968,
          1969,
          1970,
          1971,
          1972,
          1973,
          1974,
          1975,
          1976,
          1977,
          1979,
          1978,
          1980,
          1981,
          1982,
          1983,
          1984,
          1985,
          1986,
          1987,
          1988,
          1989,
          1990,
          1991,
          1992,
          1993,
          1994,
          1995,
          1996,
          1997,
          1998,
          1999,
          2000,
          2001,
          2002,
          2003,
          2004,
          2005,
          2006,
          2007,
          2008,
          2009,
          2010,
          2011,
          2012,
          2013,
          2014,
          2015,
          2016,
          2017,
          2018,
          2019
         ],
         "xaxis": "x",
         "y": [
          0,
          0,
          100,
          50,
          100,
          100,
          50,
          100,
          50,
          100,
          100,
          100,
          100,
          100,
          100,
          60,
          87.5,
          100,
          100,
          100,
          100,
          100,
          100,
          100,
          100,
          100,
          100,
          100,
          100,
          100,
          100,
          100,
          95.23809523809523,
          100,
          94.11764705882352,
          100,
          100,
          100,
          100,
          80,
          83.33333333333334,
          84.61538461538461,
          84.21052631578947,
          100,
          92.85714285714286,
          92.85714285714286,
          100,
          100,
          93.75,
          100,
          93.75,
          100,
          93.75,
          89.47368421052632,
          89.47368421052632,
          84.21052631578947,
          85.71428571428571,
          91.66666666666666,
          92.85714285714286,
          89.47368421052632,
          83.33333333333334,
          88.46153846153845,
          87.5,
          88.23529411764706
         ],
         "yaxis": "y"
        },
        {
         "hovertemplate": "<b>LOWESS trendline</b><br><br>Country=Iran<br>x=%{x}<br>y=%{y} <b>(trend)</b><extra></extra>",
         "legendgroup": "Iran",
         "marker": {
          "color": "#636efa",
          "symbol": "circle"
         },
         "mode": "lines",
         "name": "Iran",
         "showlegend": false,
         "type": "scatter",
         "x": [
          1948,
          1949,
          1957,
          1958,
          1959,
          1960,
          1961,
          1962,
          1963,
          1965,
          1966,
          1967,
          1968,
          1969,
          1970,
          1971,
          1972,
          1973,
          1974,
          1975,
          1976,
          1977,
          1978,
          1979,
          1980,
          1981,
          1982,
          1983,
          1984,
          1985,
          1986,
          1987,
          1988,
          1989,
          1990,
          1991,
          1992,
          1993,
          1994,
          1995,
          1996,
          1997,
          1998,
          1999,
          2000,
          2001,
          2002,
          2003,
          2004,
          2005,
          2006,
          2007,
          2008,
          2009,
          2010,
          2011,
          2012,
          2013,
          2014,
          2015,
          2016,
          2017,
          2018,
          2019
         ],
         "xaxis": "x",
         "y": [
          100.21087697848597,
          100.20381677834501,
          100.13874353517038,
          100.12906706173398,
          100.11891361312904,
          100.10824101477672,
          100.09701273578497,
          100.08519897249231,
          100.07277141780303,
          100.04598205946246,
          100.0315775880956,
          100.01647710335142,
          100.0006715059001,
          99.98416056355548,
          99.96695615241774,
          99.94908671757749,
          99.93060220176696,
          99.90244712806339,
          99.87160446623045,
          99.8480151087295,
          99.82365241125612,
          99.79751405954705,
          99.76763121349936,
          99.72335821925189,
          99.67739498995509,
          99.62694472875012,
          99.56636284473711,
          99.49114090033474,
          99.39872031275425,
          99.28637341005305,
          99.15398597744253,
          99.00262284238599,
          98.83552244133719,
          98.65421776385911,
          98.45621762873992,
          98.2374232813255,
          97.99510719929992,
          97.72713197391884,
          97.4353705976305,
          97.12531969830812,
          96.80134315076234,
          96.46545063849396,
          96.11943699266443,
          95.76535683623139,
          95.33519143933293,
          94.91476861699412,
          94.50227718701939,
          94.09457452925594,
          93.68908093348247,
          93.2839668521051,
          92.87803541101678,
          92.47042644033145,
          92.06051446114154,
          91.6478130111837,
          91.23195684753435,
          90.81280807956728,
          90.39042504688234,
          89.96505297232501,
          89.53706910943403,
          89.10676089405719,
          88.67426458841337,
          88.23970309536139,
          87.80332066851632,
          87.36537114012305
         ],
         "yaxis": "y"
        },
        {
         "hovertemplate": "Country=Germany<br>x=%{x}<br>y=%{y}<extra></extra>",
         "legendgroup": "Germany",
         "marker": {
          "color": "#EF553B",
          "symbol": "circle"
         },
         "mode": "markers",
         "name": "Germany",
         "orientation": "v",
         "showlegend": true,
         "type": "scatter",
         "x": [
          1991,
          1992,
          1993,
          1994,
          1995,
          1996,
          1997,
          1998,
          1999,
          2000,
          2001,
          2002,
          2003,
          2004,
          2005,
          2006,
          2007,
          2008,
          2009,
          2010,
          2011,
          2012,
          2013,
          2014,
          2015,
          2016,
          2017,
          2018,
          2019
         ],
         "xaxis": "x",
         "y": [
          27.27272727272727,
          40,
          20,
          40,
          36.36363636363637,
          50,
          61.53846153846154,
          57.89473684210527,
          57.14285714285714,
          64.28571428571429,
          64.28571428571429,
          52.63157894736842,
          46.666666666666664,
          66.66666666666666,
          62.5,
          62.5,
          60,
          62.5,
          63.1578947368421,
          71.42857142857143,
          63.1578947368421,
          71.42857142857143,
          41.66666666666667,
          50,
          26.31578947368421,
          45.83333333333333,
          23.076923076923077,
          31.25,
          23.52941176470588
         ],
         "yaxis": "y"
        },
        {
         "hovertemplate": "<b>LOWESS trendline</b><br><br>Country=Germany<br>x=%{x}<br>y=%{y} <b>(trend)</b><extra></extra>",
         "legendgroup": "Germany",
         "marker": {
          "color": "#EF553B",
          "symbol": "circle"
         },
         "mode": "lines",
         "name": "Germany",
         "showlegend": false,
         "type": "scatter",
         "x": [
          1991,
          1992,
          1993,
          1994,
          1995,
          1996,
          1997,
          1998,
          1999,
          2000,
          2001,
          2002,
          2003,
          2004,
          2005,
          2006,
          2007,
          2008,
          2009,
          2010,
          2011,
          2012,
          2013,
          2014,
          2015,
          2016,
          2017,
          2018,
          2019
         ],
         "xaxis": "x",
         "y": [
          31.41055438099181,
          34.436441286899324,
          37.38829898475405,
          40.25237879189319,
          43.02542023066947,
          45.713412184996805,
          48.339369349818156,
          50.945197032115836,
          53.58940686470642,
          56.21848734828153,
          57.87631126279979,
          59.12346097893686,
          59.98881961250206,
          60.57450703857489,
          61.05668180772749,
          61.324228179309394,
          61.16256533701472,
          60.41801833518742,
          59.10800557149722,
          57.18228959290606,
          53.832770912247945,
          50.53019156739288,
          47.25755141367729,
          43.932903214238216,
          40.52755705064304,
          37.03268554020229,
          33.45401917576685,
          29.796425850353675,
          26.071897830543016
         ],
         "yaxis": "y"
        },
        {
         "hovertemplate": "Country=Liberia<br>x=%{x}<br>y=%{y}<extra></extra>",
         "legendgroup": "Liberia",
         "marker": {
          "color": "#00cc96",
          "symbol": "circle"
         },
         "mode": "markers",
         "name": "Liberia",
         "orientation": "v",
         "showlegend": true,
         "type": "scatter",
         "x": [
          1948,
          1949,
          1957,
          1958,
          1959,
          1960,
          1961,
          1962,
          1963,
          1965,
          1966,
          1967,
          1968,
          1969,
          1970,
          1971,
          1972,
          1973,
          1974,
          1975,
          1976,
          1977,
          1979,
          1978,
          1980,
          1981,
          1982,
          1983,
          1984,
          1985,
          1986,
          1987,
          1988,
          1989,
          1991,
          1992,
          1996,
          1997,
          2004,
          2005,
          2006,
          2007,
          2008,
          2009,
          2010,
          2011,
          2012,
          2013,
          2014,
          2015,
          2016,
          2017,
          2018,
          2019
         ],
         "xaxis": "x",
         "y": [
          0,
          0,
          66.66666666666666,
          50,
          100,
          100,
          100,
          100,
          100,
          100,
          100,
          66.66666666666666,
          100,
          100,
          100,
          80,
          100,
          100,
          100,
          91.66666666666666,
          100,
          100,
          88.88888888888889,
          100,
          87.5,
          88.88888888888889,
          92.3076923076923,
          82.75862068965517,
          84,
          92,
          87.5,
          90,
          95.23809523809523,
          100,
          90.9090909090909,
          87.5,
          91.66666666666666,
          100,
          100,
          87.5,
          100,
          100,
          100,
          100,
          100,
          100,
          100,
          100,
          100,
          100,
          100,
          100,
          100,
          50
         ],
         "yaxis": "y"
        },
        {
         "hovertemplate": "<b>LOWESS trendline</b><br><br>Country=Liberia<br>x=%{x}<br>y=%{y} <b>(trend)</b><extra></extra>",
         "legendgroup": "Liberia",
         "marker": {
          "color": "#00cc96",
          "symbol": "circle"
         },
         "mode": "lines",
         "name": "Liberia",
         "showlegend": false,
         "type": "scatter",
         "x": [
          1948,
          1949,
          1957,
          1958,
          1959,
          1960,
          1961,
          1962,
          1963,
          1965,
          1966,
          1967,
          1968,
          1969,
          1970,
          1971,
          1972,
          1973,
          1974,
          1975,
          1976,
          1977,
          1978,
          1979,
          1980,
          1981,
          1982,
          1983,
          1984,
          1985,
          1986,
          1987,
          1988,
          1989,
          1991,
          1992,
          1996,
          1997,
          2004,
          2005,
          2006,
          2007,
          2008,
          2009,
          2010,
          2011,
          2012,
          2013,
          2014,
          2015,
          2016,
          2017,
          2018,
          2019
         ],
         "xaxis": "x",
         "y": [
          105.20775942447641,
          104.90939658997641,
          102.40935066971709,
          102.07715889376954,
          101.73884063130825,
          101.39371226774672,
          101.04129478874543,
          100.6813478258512,
          100.31383627165808,
          99.5568271602074,
          99.16803255413387,
          98.77302541351645,
          98.3724365834556,
          97.96715604504786,
          97.52104292118617,
          97.07291878709684,
          96.61775893799974,
          96.19371336750844,
          95.78196363342754,
          95.3731212059614,
          94.96243383113995,
          94.55591213638638,
          94.15618963317975,
          93.83274882363828,
          93.56754723541425,
          93.33738521638817,
          93.0566549288529,
          92.80671017351207,
          92.60084637545621,
          92.45730305099988,
          92.39469772754596,
          92.23394418289028,
          92.3288517703466,
          92.50605172231116,
          93.00000029365336,
          93.26919114784228,
          94.39852918748461,
          94.71800617283233,
          97.01335752227125,
          97.33846403720929,
          97.66298442015383,
          97.98708662925117,
          98.31084187136766,
          98.63417970586715,
          98.95694003413033,
          99.27890898510631,
          99.59984481580017,
          99.91949760580681,
          100.23762520244543,
          100.55400707096904,
          100.86845719781505,
          101.18083687371849,
          101.49106798947803,
          101.79914737761963
         ],
         "yaxis": "y"
        }
       ],
       "layout": {
        "autosize": true,
        "legend": {
         "title": {
          "text": "Country"
         },
         "tracegroupgap": 0
        },
        "margin": {
         "t": 60
        },
        "template": {
         "data": {
          "bar": [
           {
            "error_x": {
             "color": "#2a3f5f"
            },
            "error_y": {
             "color": "#2a3f5f"
            },
            "marker": {
             "line": {
              "color": "#E5ECF6",
              "width": 0.5
             },
             "pattern": {
              "fillmode": "overlay",
              "size": 10,
              "solidity": 0.2
             }
            },
            "type": "bar"
           }
          ],
          "barpolar": [
           {
            "marker": {
             "line": {
              "color": "#E5ECF6",
              "width": 0.5
             },
             "pattern": {
              "fillmode": "overlay",
              "size": 10,
              "solidity": 0.2
             }
            },
            "type": "barpolar"
           }
          ],
          "carpet": [
           {
            "aaxis": {
             "endlinecolor": "#2a3f5f",
             "gridcolor": "white",
             "linecolor": "white",
             "minorgridcolor": "white",
             "startlinecolor": "#2a3f5f"
            },
            "baxis": {
             "endlinecolor": "#2a3f5f",
             "gridcolor": "white",
             "linecolor": "white",
             "minorgridcolor": "white",
             "startlinecolor": "#2a3f5f"
            },
            "type": "carpet"
           }
          ],
          "choropleth": [
           {
            "colorbar": {
             "outlinewidth": 0,
             "ticks": ""
            },
            "type": "choropleth"
           }
          ],
          "contour": [
           {
            "colorbar": {
             "outlinewidth": 0,
             "ticks": ""
            },
            "colorscale": [
             [
              0,
              "#0d0887"
             ],
             [
              0.1111111111111111,
              "#46039f"
             ],
             [
              0.2222222222222222,
              "#7201a8"
             ],
             [
              0.3333333333333333,
              "#9c179e"
             ],
             [
              0.4444444444444444,
              "#bd3786"
             ],
             [
              0.5555555555555556,
              "#d8576b"
             ],
             [
              0.6666666666666666,
              "#ed7953"
             ],
             [
              0.7777777777777778,
              "#fb9f3a"
             ],
             [
              0.8888888888888888,
              "#fdca26"
             ],
             [
              1,
              "#f0f921"
             ]
            ],
            "type": "contour"
           }
          ],
          "contourcarpet": [
           {
            "colorbar": {
             "outlinewidth": 0,
             "ticks": ""
            },
            "type": "contourcarpet"
           }
          ],
          "heatmap": [
           {
            "colorbar": {
             "outlinewidth": 0,
             "ticks": ""
            },
            "colorscale": [
             [
              0,
              "#0d0887"
             ],
             [
              0.1111111111111111,
              "#46039f"
             ],
             [
              0.2222222222222222,
              "#7201a8"
             ],
             [
              0.3333333333333333,
              "#9c179e"
             ],
             [
              0.4444444444444444,
              "#bd3786"
             ],
             [
              0.5555555555555556,
              "#d8576b"
             ],
             [
              0.6666666666666666,
              "#ed7953"
             ],
             [
              0.7777777777777778,
              "#fb9f3a"
             ],
             [
              0.8888888888888888,
              "#fdca26"
             ],
             [
              1,
              "#f0f921"
             ]
            ],
            "type": "heatmap"
           }
          ],
          "heatmapgl": [
           {
            "colorbar": {
             "outlinewidth": 0,
             "ticks": ""
            },
            "colorscale": [
             [
              0,
              "#0d0887"
             ],
             [
              0.1111111111111111,
              "#46039f"
             ],
             [
              0.2222222222222222,
              "#7201a8"
             ],
             [
              0.3333333333333333,
              "#9c179e"
             ],
             [
              0.4444444444444444,
              "#bd3786"
             ],
             [
              0.5555555555555556,
              "#d8576b"
             ],
             [
              0.6666666666666666,
              "#ed7953"
             ],
             [
              0.7777777777777778,
              "#fb9f3a"
             ],
             [
              0.8888888888888888,
              "#fdca26"
             ],
             [
              1,
              "#f0f921"
             ]
            ],
            "type": "heatmapgl"
           }
          ],
          "histogram": [
           {
            "marker": {
             "pattern": {
              "fillmode": "overlay",
              "size": 10,
              "solidity": 0.2
             }
            },
            "type": "histogram"
           }
          ],
          "histogram2d": [
           {
            "colorbar": {
             "outlinewidth": 0,
             "ticks": ""
            },
            "colorscale": [
             [
              0,
              "#0d0887"
             ],
             [
              0.1111111111111111,
              "#46039f"
             ],
             [
              0.2222222222222222,
              "#7201a8"
             ],
             [
              0.3333333333333333,
              "#9c179e"
             ],
             [
              0.4444444444444444,
              "#bd3786"
             ],
             [
              0.5555555555555556,
              "#d8576b"
             ],
             [
              0.6666666666666666,
              "#ed7953"
             ],
             [
              0.7777777777777778,
              "#fb9f3a"
             ],
             [
              0.8888888888888888,
              "#fdca26"
             ],
             [
              1,
              "#f0f921"
             ]
            ],
            "type": "histogram2d"
           }
          ],
          "histogram2dcontour": [
           {
            "colorbar": {
             "outlinewidth": 0,
             "ticks": ""
            },
            "colorscale": [
             [
              0,
              "#0d0887"
             ],
             [
              0.1111111111111111,
              "#46039f"
             ],
             [
              0.2222222222222222,
              "#7201a8"
             ],
             [
              0.3333333333333333,
              "#9c179e"
             ],
             [
              0.4444444444444444,
              "#bd3786"
             ],
             [
              0.5555555555555556,
              "#d8576b"
             ],
             [
              0.6666666666666666,
              "#ed7953"
             ],
             [
              0.7777777777777778,
              "#fb9f3a"
             ],
             [
              0.8888888888888888,
              "#fdca26"
             ],
             [
              1,
              "#f0f921"
             ]
            ],
            "type": "histogram2dcontour"
           }
          ],
          "mesh3d": [
           {
            "colorbar": {
             "outlinewidth": 0,
             "ticks": ""
            },
            "type": "mesh3d"
           }
          ],
          "parcoords": [
           {
            "line": {
             "colorbar": {
              "outlinewidth": 0,
              "ticks": ""
             }
            },
            "type": "parcoords"
           }
          ],
          "pie": [
           {
            "automargin": true,
            "type": "pie"
           }
          ],
          "scatter": [
           {
            "fillpattern": {
             "fillmode": "overlay",
             "size": 10,
             "solidity": 0.2
            },
            "type": "scatter"
           }
          ],
          "scatter3d": [
           {
            "line": {
             "colorbar": {
              "outlinewidth": 0,
              "ticks": ""
             }
            },
            "marker": {
             "colorbar": {
              "outlinewidth": 0,
              "ticks": ""
             }
            },
            "type": "scatter3d"
           }
          ],
          "scattercarpet": [
           {
            "marker": {
             "colorbar": {
              "outlinewidth": 0,
              "ticks": ""
             }
            },
            "type": "scattercarpet"
           }
          ],
          "scattergeo": [
           {
            "marker": {
             "colorbar": {
              "outlinewidth": 0,
              "ticks": ""
             }
            },
            "type": "scattergeo"
           }
          ],
          "scattergl": [
           {
            "marker": {
             "colorbar": {
              "outlinewidth": 0,
              "ticks": ""
             }
            },
            "type": "scattergl"
           }
          ],
          "scattermapbox": [
           {
            "marker": {
             "colorbar": {
              "outlinewidth": 0,
              "ticks": ""
             }
            },
            "type": "scattermapbox"
           }
          ],
          "scatterpolar": [
           {
            "marker": {
             "colorbar": {
              "outlinewidth": 0,
              "ticks": ""
             }
            },
            "type": "scatterpolar"
           }
          ],
          "scatterpolargl": [
           {
            "marker": {
             "colorbar": {
              "outlinewidth": 0,
              "ticks": ""
             }
            },
            "type": "scatterpolargl"
           }
          ],
          "scatterternary": [
           {
            "marker": {
             "colorbar": {
              "outlinewidth": 0,
              "ticks": ""
             }
            },
            "type": "scatterternary"
           }
          ],
          "surface": [
           {
            "colorbar": {
             "outlinewidth": 0,
             "ticks": ""
            },
            "colorscale": [
             [
              0,
              "#0d0887"
             ],
             [
              0.1111111111111111,
              "#46039f"
             ],
             [
              0.2222222222222222,
              "#7201a8"
             ],
             [
              0.3333333333333333,
              "#9c179e"
             ],
             [
              0.4444444444444444,
              "#bd3786"
             ],
             [
              0.5555555555555556,
              "#d8576b"
             ],
             [
              0.6666666666666666,
              "#ed7953"
             ],
             [
              0.7777777777777778,
              "#fb9f3a"
             ],
             [
              0.8888888888888888,
              "#fdca26"
             ],
             [
              1,
              "#f0f921"
             ]
            ],
            "type": "surface"
           }
          ],
          "table": [
           {
            "cells": {
             "fill": {
              "color": "#EBF0F8"
             },
             "line": {
              "color": "white"
             }
            },
            "header": {
             "fill": {
              "color": "#C8D4E3"
             },
             "line": {
              "color": "white"
             }
            },
            "type": "table"
           }
          ]
         },
         "layout": {
          "annotationdefaults": {
           "arrowcolor": "#2a3f5f",
           "arrowhead": 0,
           "arrowwidth": 1
          },
          "autotypenumbers": "strict",
          "coloraxis": {
           "colorbar": {
            "outlinewidth": 0,
            "ticks": ""
           }
          },
          "colorscale": {
           "diverging": [
            [
             0,
             "#8e0152"
            ],
            [
             0.1,
             "#c51b7d"
            ],
            [
             0.2,
             "#de77ae"
            ],
            [
             0.3,
             "#f1b6da"
            ],
            [
             0.4,
             "#fde0ef"
            ],
            [
             0.5,
             "#f7f7f7"
            ],
            [
             0.6,
             "#e6f5d0"
            ],
            [
             0.7,
             "#b8e186"
            ],
            [
             0.8,
             "#7fbc41"
            ],
            [
             0.9,
             "#4d9221"
            ],
            [
             1,
             "#276419"
            ]
           ],
           "sequential": [
            [
             0,
             "#0d0887"
            ],
            [
             0.1111111111111111,
             "#46039f"
            ],
            [
             0.2222222222222222,
             "#7201a8"
            ],
            [
             0.3333333333333333,
             "#9c179e"
            ],
            [
             0.4444444444444444,
             "#bd3786"
            ],
            [
             0.5555555555555556,
             "#d8576b"
            ],
            [
             0.6666666666666666,
             "#ed7953"
            ],
            [
             0.7777777777777778,
             "#fb9f3a"
            ],
            [
             0.8888888888888888,
             "#fdca26"
            ],
            [
             1,
             "#f0f921"
            ]
           ],
           "sequentialminus": [
            [
             0,
             "#0d0887"
            ],
            [
             0.1111111111111111,
             "#46039f"
            ],
            [
             0.2222222222222222,
             "#7201a8"
            ],
            [
             0.3333333333333333,
             "#9c179e"
            ],
            [
             0.4444444444444444,
             "#bd3786"
            ],
            [
             0.5555555555555556,
             "#d8576b"
            ],
            [
             0.6666666666666666,
             "#ed7953"
            ],
            [
             0.7777777777777778,
             "#fb9f3a"
            ],
            [
             0.8888888888888888,
             "#fdca26"
            ],
            [
             1,
             "#f0f921"
            ]
           ]
          },
          "colorway": [
           "#636efa",
           "#EF553B",
           "#00cc96",
           "#ab63fa",
           "#FFA15A",
           "#19d3f3",
           "#FF6692",
           "#B6E880",
           "#FF97FF",
           "#FECB52"
          ],
          "font": {
           "color": "#2a3f5f"
          },
          "geo": {
           "bgcolor": "white",
           "lakecolor": "white",
           "landcolor": "#E5ECF6",
           "showlakes": true,
           "showland": true,
           "subunitcolor": "white"
          },
          "hoverlabel": {
           "align": "left"
          },
          "hovermode": "closest",
          "mapbox": {
           "style": "light"
          },
          "paper_bgcolor": "white",
          "plot_bgcolor": "#E5ECF6",
          "polar": {
           "angularaxis": {
            "gridcolor": "white",
            "linecolor": "white",
            "ticks": ""
           },
           "bgcolor": "#E5ECF6",
           "radialaxis": {
            "gridcolor": "white",
            "linecolor": "white",
            "ticks": ""
           }
          },
          "scene": {
           "xaxis": {
            "backgroundcolor": "#E5ECF6",
            "gridcolor": "white",
            "gridwidth": 2,
            "linecolor": "white",
            "showbackground": true,
            "ticks": "",
            "zerolinecolor": "white"
           },
           "yaxis": {
            "backgroundcolor": "#E5ECF6",
            "gridcolor": "white",
            "gridwidth": 2,
            "linecolor": "white",
            "showbackground": true,
            "ticks": "",
            "zerolinecolor": "white"
           },
           "zaxis": {
            "backgroundcolor": "#E5ECF6",
            "gridcolor": "white",
            "gridwidth": 2,
            "linecolor": "white",
            "showbackground": true,
            "ticks": "",
            "zerolinecolor": "white"
           }
          },
          "shapedefaults": {
           "line": {
            "color": "#2a3f5f"
           }
          },
          "ternary": {
           "aaxis": {
            "gridcolor": "white",
            "linecolor": "white",
            "ticks": ""
           },
           "baxis": {
            "gridcolor": "white",
            "linecolor": "white",
            "ticks": ""
           },
           "bgcolor": "#E5ECF6",
           "caxis": {
            "gridcolor": "white",
            "linecolor": "white",
            "ticks": ""
           }
          },
          "title": {
           "x": 0.05
          },
          "xaxis": {
           "automargin": true,
           "gridcolor": "white",
           "linecolor": "white",
           "ticks": "",
           "title": {
            "standoff": 15
           },
           "zerolinecolor": "white",
           "zerolinewidth": 2
          },
          "yaxis": {
           "automargin": true,
           "gridcolor": "white",
           "linecolor": "white",
           "ticks": "",
           "title": {
            "standoff": 15
           },
           "zerolinecolor": "white",
           "zerolinewidth": 2
          }
         }
        },
        "title": {
         "text": "Nuclear weapons and nuclear material<br>",
         "x": 0.5,
         "xanchor": "center",
         "y": 0.9,
         "yanchor": "top"
        },
        "xaxis": {
         "anchor": "y",
         "autorange": true,
         "domain": [
          0,
          1
         ],
         "range": [
          1943.1181875792142,
          2023.8818124207858
         ],
         "title": {
          "text": "Year"
         },
         "type": "linear"
        },
        "yaxis": {
         "anchor": "x",
         "autorange": true,
         "domain": [
          0,
          1
         ],
         "range": [
          -7.988748785127552,
          111.16547038287662
         ],
         "title": {
          "text": "% Yes"
         },
         "type": "linear"
        }
       }
      },
      "image/png": "[encoded data removed]",
      "text/html": [
       "<div>                            <div id=\"55fbf9e9-8740-4b82-89a7-07aaf22a1316\" class=\"plotly-graph-div\" style=\"height:525px; width:100%;\"></div>            <script type=\"text/javascript\">                require([\"plotly\"], function(Plotly) {                    window.PLOTLYENV=window.PLOTLYENV || {};                                    if (document.getElementById(\"55fbf9e9-8740-4b82-89a7-07aaf22a1316\")) {                    Plotly.newPlot(                        \"55fbf9e9-8740-4b82-89a7-07aaf22a1316\",                        [{\"hovertemplate\":\"Country=Iran\\u003cbr\\u003ex=%{x}\\u003cbr\\u003ey=%{y}\\u003cextra\\u003e\\u003c\\u002fextra\\u003e\",\"legendgroup\":\"Iran\",\"marker\":{\"color\":\"#636efa\",\"symbol\":\"circle\"},\"mode\":\"markers\",\"name\":\"Iran\",\"orientation\":\"v\",\"showlegend\":true,\"x\":[1948,1949,1957,1958,1959,1960,1961,1962,1963,1965,1966,1967,1968,1969,1970,1971,1972,1973,1974,1975,1976,1977,1979,1978,1980,1981,1982,1983,1984,1985,1986,1987,1988,1989,1990,1991,1992,1993,1994,1995,1996,1997,1998,1999,2000,2001,2002,2003,2004,2005,2006,2007,2008,2009,2010,2011,2012,2013,2014,2015,2016,2017,2018,2019],\"xaxis\":\"x\",\"y\":[0.0,0.0,100.0,50.0,100.0,100.0,50.0,100.0,50.0,100.0,100.0,100.0,100.0,100.0,100.0,60.0,87.5,100.0,100.0,100.0,100.0,100.0,100.0,100.0,100.0,100.0,100.0,100.0,100.0,100.0,100.0,100.0,95.23809523809523,100.0,94.11764705882352,100.0,100.0,100.0,100.0,80.0,83.33333333333334,84.61538461538461,84.21052631578947,100.0,92.85714285714286,92.85714285714286,100.0,100.0,93.75,100.0,93.75,100.0,93.75,89.47368421052632,89.47368421052632,84.21052631578947,85.71428571428571,91.66666666666666,92.85714285714286,89.47368421052632,83.33333333333334,88.46153846153845,87.5,88.23529411764706],\"yaxis\":\"y\",\"type\":\"scatter\"},{\"hovertemplate\":\"\\u003cb\\u003eLOWESS trendline\\u003c\\u002fb\\u003e\\u003cbr\\u003e\\u003cbr\\u003eCountry=Iran\\u003cbr\\u003ex=%{x}\\u003cbr\\u003ey=%{y} \\u003cb\\u003e(trend)\\u003c\\u002fb\\u003e\\u003cextra\\u003e\\u003c\\u002fextra\\u003e\",\"legendgroup\":\"Iran\",\"marker\":{\"color\":\"#636efa\",\"symbol\":\"circle\"},\"mode\":\"lines\",\"name\":\"Iran\",\"showlegend\":false,\"x\":[1948,1949,1957,1958,1959,1960,1961,1962,1963,1965,1966,1967,1968,1969,1970,1971,1972,1973,1974,1975,1976,1977,1978,1979,1980,1981,1982,1983,1984,1985,1986,1987,1988,1989,1990,1991,1992,1993,1994,1995,1996,1997,1998,1999,2000,2001,2002,2003,2004,2005,2006,2007,2008,2009,2010,2011,2012,2013,2014,2015,2016,2017,2018,2019],\"xaxis\":\"x\",\"y\":[100.21087697848597,100.20381677834501,100.13874353517038,100.12906706173398,100.11891361312904,100.10824101477672,100.09701273578497,100.08519897249231,100.07277141780303,100.04598205946246,100.0315775880956,100.01647710335142,100.0006715059001,99.98416056355548,99.96695615241774,99.94908671757749,99.93060220176696,99.90244712806339,99.87160446623045,99.8480151087295,99.82365241125612,99.79751405954705,99.76763121349936,99.72335821925189,99.67739498995509,99.62694472875012,99.56636284473711,99.49114090033474,99.39872031275425,99.28637341005305,99.15398597744253,99.00262284238599,98.83552244133719,98.65421776385911,98.45621762873992,98.2374232813255,97.99510719929992,97.72713197391884,97.4353705976305,97.12531969830812,96.80134315076234,96.46545063849396,96.11943699266443,95.76535683623139,95.33519143933293,94.91476861699412,94.50227718701939,94.09457452925594,93.68908093348247,93.2839668521051,92.87803541101678,92.47042644033145,92.06051446114154,91.6478130111837,91.23195684753435,90.81280807956728,90.39042504688234,89.96505297232501,89.53706910943403,89.10676089405719,88.67426458841337,88.23970309536139,87.80332066851632,87.36537114012305],\"yaxis\":\"y\",\"type\":\"scatter\"},{\"hovertemplate\":\"Country=Germany\\u003cbr\\u003ex=%{x}\\u003cbr\\u003ey=%{y}\\u003cextra\\u003e\\u003c\\u002fextra\\u003e\",\"legendgroup\":\"Germany\",\"marker\":{\"color\":\"#EF553B\",\"symbol\":\"circle\"},\"mode\":\"markers\",\"name\":\"Germany\",\"orientation\":\"v\",\"showlegend\":true,\"x\":[1991,1992,1993,1994,1995,1996,1997,1998,1999,2000,2001,2002,2003,2004,2005,2006,2007,2008,2009,2010,2011,2012,2013,2014,2015,2016,2017,2018,2019],\"xaxis\":\"x\",\"y\":[27.27272727272727,40.0,20.0,40.0,36.36363636363637,50.0,61.53846153846154,57.89473684210527,57.14285714285714,64.28571428571429,64.28571428571429,52.63157894736842,46.666666666666664,66.66666666666666,62.5,62.5,60.0,62.5,63.1578947368421,71.42857142857143,63.1578947368421,71.42857142857143,41.66666666666667,50.0,26.31578947368421,45.83333333333333,23.076923076923077,31.25,23.52941176470588],\"yaxis\":\"y\",\"type\":\"scatter\"},{\"hovertemplate\":\"\\u003cb\\u003eLOWESS trendline\\u003c\\u002fb\\u003e\\u003cbr\\u003e\\u003cbr\\u003eCountry=Germany\\u003cbr\\u003ex=%{x}\\u003cbr\\u003ey=%{y} \\u003cb\\u003e(trend)\\u003c\\u002fb\\u003e\\u003cextra\\u003e\\u003c\\u002fextra\\u003e\",\"legendgroup\":\"Germany\",\"marker\":{\"color\":\"#EF553B\",\"symbol\":\"circle\"},\"mode\":\"lines\",\"name\":\"Germany\",\"showlegend\":false,\"x\":[1991,1992,1993,1994,1995,1996,1997,1998,1999,2000,2001,2002,2003,2004,2005,2006,2007,2008,2009,2010,2011,2012,2013,2014,2015,2016,2017,2018,2019],\"xaxis\":\"x\",\"y\":[31.41055438099181,34.436441286899324,37.38829898475405,40.25237879189319,43.02542023066947,45.713412184996805,48.339369349818156,50.945197032115836,53.58940686470642,56.21848734828153,57.87631126279979,59.12346097893686,59.98881961250206,60.57450703857489,61.05668180772749,61.324228179309394,61.16256533701472,60.41801833518742,59.10800557149722,57.18228959290606,53.832770912247945,50.53019156739288,47.25755141367729,43.932903214238216,40.52755705064304,37.03268554020229,33.45401917576685,29.796425850353675,26.071897830543016],\"yaxis\":\"y\",\"type\":\"scatter\"},{\"hovertemplate\":\"Country=Liberia\\u003cbr\\u003ex=%{x}\\u003cbr\\u003ey=%{y}\\u003cextra\\u003e\\u003c\\u002fextra\\u003e\",\"legendgroup\":\"Liberia\",\"marker\":{\"color\":\"#00cc96\",\"symbol\":\"circle\"},\"mode\":\"markers\",\"name\":\"Liberia\",\"orientation\":\"v\",\"showlegend\":true,\"x\":[1948,1949,1957,1958,1959,1960,1961,1962,1963,1965,1966,1967,1968,1969,1970,1971,1972,1973,1974,1975,1976,1977,1979,1978,1980,1981,1982,1983,1984,1985,1986,1987,1988,1989,1991,1992,1996,1997,2004,2005,2006,2007,2008,2009,2010,2011,2012,2013,2014,2015,2016,2017,2018,2019],\"xaxis\":\"x\",\"y\":[0.0,0.0,66.66666666666666,50.0,100.0,100.0,100.0,100.0,100.0,100.0,100.0,66.66666666666666,100.0,100.0,100.0,80.0,100.0,100.0,100.0,91.66666666666666,100.0,100.0,88.88888888888889,100.0,87.5,88.88888888888889,92.3076923076923,82.75862068965517,84.0,92.0,87.5,90.0,95.23809523809523,100.0,90.9090909090909,87.5,91.66666666666666,100.0,100.0,87.5,100.0,100.0,100.0,100.0,100.0,100.0,100.0,100.0,100.0,100.0,100.0,100.0,100.0,50.0],\"yaxis\":\"y\",\"type\":\"scatter\"},{\"hovertemplate\":\"\\u003cb\\u003eLOWESS trendline\\u003c\\u002fb\\u003e\\u003cbr\\u003e\\u003cbr\\u003eCountry=Liberia\\u003cbr\\u003ex=%{x}\\u003cbr\\u003ey=%{y} \\u003cb\\u003e(trend)\\u003c\\u002fb\\u003e\\u003cextra\\u003e\\u003c\\u002fextra\\u003e\",\"legendgroup\":\"Liberia\",\"marker\":{\"color\":\"#00cc96\",\"symbol\":\"circle\"},\"mode\":\"lines\",\"name\":\"Liberia\",\"showlegend\":false,\"x\":[1948,1949,1957,1958,1959,1960,1961,1962,1963,1965,1966,1967,1968,1969,1970,1971,1972,1973,1974,1975,1976,1977,1978,1979,1980,1981,1982,1983,1984,1985,1986,1987,1988,1989,1991,1992,1996,1997,2004,2005,2006,2007,2008,2009,2010,2011,2012,2013,2014,2015,2016,2017,2018,2019],\"xaxis\":\"x\",\"y\":[105.20775942447641,104.90939658997641,102.40935066971709,102.07715889376954,101.73884063130825,101.39371226774672,101.04129478874543,100.6813478258512,100.31383627165808,99.5568271602074,99.16803255413387,98.77302541351645,98.3724365834556,97.96715604504786,97.52104292118617,97.07291878709684,96.61775893799974,96.19371336750844,95.78196363342754,95.3731212059614,94.96243383113995,94.55591213638638,94.15618963317975,93.83274882363828,93.56754723541425,93.33738521638817,93.0566549288529,92.80671017351207,92.60084637545621,92.45730305099988,92.39469772754596,92.23394418289028,92.3288517703466,92.50605172231116,93.00000029365336,93.26919114784228,94.39852918748461,94.71800617283233,97.01335752227125,97.33846403720929,97.66298442015383,97.98708662925117,98.31084187136766,98.63417970586715,98.95694003413033,99.27890898510631,99.59984481580017,99.91949760580681,100.23762520244543,100.55400707096904,100.86845719781505,101.18083687371849,101.49106798947803,101.79914737761963],\"yaxis\":\"y\",\"type\":\"scatter\"}],                        {\"template\":{\"data\":{\"histogram2dcontour\":[{\"type\":\"histogram2dcontour\",\"colorbar\":{\"outlinewidth\":0,\"ticks\":\"\"},\"colorscale\":[[0.0,\"#0d0887\"],[0.1111111111111111,\"#46039f\"],[0.2222222222222222,\"#7201a8\"],[0.3333333333333333,\"#9c179e\"],[0.4444444444444444,\"#bd3786\"],[0.5555555555555556,\"#d8576b\"],[0.6666666666666666,\"#ed7953\"],[0.7777777777777778,\"#fb9f3a\"],[0.8888888888888888,\"#fdca26\"],[1.0,\"#f0f921\"]]}],\"choropleth\":[{\"type\":\"choropleth\",\"colorbar\":{\"outlinewidth\":0,\"ticks\":\"\"}}],\"histogram2d\":[{\"type\":\"histogram2d\",\"colorbar\":{\"outlinewidth\":0,\"ticks\":\"\"},\"colorscale\":[[0.0,\"#0d0887\"],[0.1111111111111111,\"#46039f\"],[0.2222222222222222,\"#7201a8\"],[0.3333333333333333,\"#9c179e\"],[0.4444444444444444,\"#bd3786\"],[0.5555555555555556,\"#d8576b\"],[0.6666666666666666,\"#ed7953\"],[0.7777777777777778,\"#fb9f3a\"],[0.8888888888888888,\"#fdca26\"],[1.0,\"#f0f921\"]]}],\"heatmap\":[{\"type\":\"heatmap\",\"colorbar\":{\"outlinewidth\":0,\"ticks\":\"\"},\"colorscale\":[[0.0,\"#0d0887\"],[0.1111111111111111,\"#46039f\"],[0.2222222222222222,\"#7201a8\"],[0.3333333333333333,\"#9c179e\"],[0.4444444444444444,\"#bd3786\"],[0.5555555555555556,\"#d8576b\"],[0.6666666666666666,\"#ed7953\"],[0.7777777777777778,\"#fb9f3a\"],[0.8888888888888888,\"#fdca26\"],[1.0,\"#f0f921\"]]}],\"heatmapgl\":[{\"type\":\"heatmapgl\",\"colorbar\":{\"outlinewidth\":0,\"ticks\":\"\"},\"colorscale\":[[0.0,\"#0d0887\"],[0.1111111111111111,\"#46039f\"],[0.2222222222222222,\"#7201a8\"],[0.3333333333333333,\"#9c179e\"],[0.4444444444444444,\"#bd3786\"],[0.5555555555555556,\"#d8576b\"],[0.6666666666666666,\"#ed7953\"],[0.7777777777777778,\"#fb9f3a\"],[0.8888888888888888,\"#fdca26\"],[1.0,\"#f0f921\"]]}],\"contourcarpet\":[{\"type\":\"contourcarpet\",\"colorbar\":{\"outlinewidth\":0,\"ticks\":\"\"}}],\"contour\":[{\"type\":\"contour\",\"colorbar\":{\"outlinewidth\":0,\"ticks\":\"\"},\"colorscale\":[[0.0,\"#0d0887\"],[0.1111111111111111,\"#46039f\"],[0.2222222222222222,\"#7201a8\"],[0.3333333333333333,\"#9c179e\"],[0.4444444444444444,\"#bd3786\"],[0.5555555555555556,\"#d8576b\"],[0.6666666666666666,\"#ed7953\"],[0.7777777777777778,\"#fb9f3a\"],[0.8888888888888888,\"#fdca26\"],[1.0,\"#f0f921\"]]}],\"surface\":[{\"type\":\"surface\",\"colorbar\":{\"outlinewidth\":0,\"ticks\":\"\"},\"colorscale\":[[0.0,\"#0d0887\"],[0.1111111111111111,\"#46039f\"],[0.2222222222222222,\"#7201a8\"],[0.3333333333333333,\"#9c179e\"],[0.4444444444444444,\"#bd3786\"],[0.5555555555555556,\"#d8576b\"],[0.6666666666666666,\"#ed7953\"],[0.7777777777777778,\"#fb9f3a\"],[0.8888888888888888,\"#fdca26\"],[1.0,\"#f0f921\"]]}],\"mesh3d\":[{\"type\":\"mesh3d\",\"colorbar\":{\"outlinewidth\":0,\"ticks\":\"\"}}],\"scatter\":[{\"fillpattern\":{\"fillmode\":\"overlay\",\"size\":10,\"solidity\":0.2},\"type\":\"scatter\"}],\"parcoords\":[{\"type\":\"parcoords\",\"line\":{\"colorbar\":{\"outlinewidth\":0,\"ticks\":\"\"}}}],\"scatterpolargl\":[{\"type\":\"scatterpolargl\",\"marker\":{\"colorbar\":{\"outlinewidth\":0,\"ticks\":\"\"}}}],\"bar\":[{\"error_x\":{\"color\":\"#2a3f5f\"},\"error_y\":{\"color\":\"#2a3f5f\"},\"marker\":{\"line\":{\"color\":\"#E5ECF6\",\"width\":0.5},\"pattern\":{\"fillmode\":\"overlay\",\"size\":10,\"solidity\":0.2}},\"type\":\"bar\"}],\"scattergeo\":[{\"type\":\"scattergeo\",\"marker\":{\"colorbar\":{\"outlinewidth\":0,\"ticks\":\"\"}}}],\"scatterpolar\":[{\"type\":\"scatterpolar\",\"marker\":{\"colorbar\":{\"outlinewidth\":0,\"ticks\":\"\"}}}],\"histogram\":[{\"marker\":{\"pattern\":{\"fillmode\":\"overlay\",\"size\":10,\"solidity\":0.2}},\"type\":\"histogram\"}],\"scattergl\":[{\"type\":\"scattergl\",\"marker\":{\"colorbar\":{\"outlinewidth\":0,\"ticks\":\"\"}}}],\"scatter3d\":[{\"type\":\"scatter3d\",\"line\":{\"colorbar\":{\"outlinewidth\":0,\"ticks\":\"\"}},\"marker\":{\"colorbar\":{\"outlinewidth\":0,\"ticks\":\"\"}}}],\"scattermapbox\":[{\"type\":\"scattermapbox\",\"marker\":{\"colorbar\":{\"outlinewidth\":0,\"ticks\":\"\"}}}],\"scatterternary\":[{\"type\":\"scatterternary\",\"marker\":{\"colorbar\":{\"outlinewidth\":0,\"ticks\":\"\"}}}],\"scattercarpet\":[{\"type\":\"scattercarpet\",\"marker\":{\"colorbar\":{\"outlinewidth\":0,\"ticks\":\"\"}}}],\"carpet\":[{\"aaxis\":{\"endlinecolor\":\"#2a3f5f\",\"gridcolor\":\"white\",\"linecolor\":\"white\",\"minorgridcolor\":\"white\",\"startlinecolor\":\"#2a3f5f\"},\"baxis\":{\"endlinecolor\":\"#2a3f5f\",\"gridcolor\":\"white\",\"linecolor\":\"white\",\"minorgridcolor\":\"white\",\"startlinecolor\":\"#2a3f5f\"},\"type\":\"carpet\"}],\"table\":[{\"cells\":{\"fill\":{\"color\":\"#EBF0F8\"},\"line\":{\"color\":\"white\"}},\"header\":{\"fill\":{\"color\":\"#C8D4E3\"},\"line\":{\"color\":\"white\"}},\"type\":\"table\"}],\"barpolar\":[{\"marker\":{\"line\":{\"color\":\"#E5ECF6\",\"width\":0.5},\"pattern\":{\"fillmode\":\"overlay\",\"size\":10,\"solidity\":0.2}},\"type\":\"barpolar\"}],\"pie\":[{\"automargin\":true,\"type\":\"pie\"}]},\"layout\":{\"autotypenumbers\":\"strict\",\"colorway\":[\"#636efa\",\"#EF553B\",\"#00cc96\",\"#ab63fa\",\"#FFA15A\",\"#19d3f3\",\"#FF6692\",\"#B6E880\",\"#FF97FF\",\"#FECB52\"],\"font\":{\"color\":\"#2a3f5f\"},\"hovermode\":\"closest\",\"hoverlabel\":{\"align\":\"left\"},\"paper_bgcolor\":\"white\",\"plot_bgcolor\":\"#E5ECF6\",\"polar\":{\"bgcolor\":\"#E5ECF6\",\"angularaxis\":{\"gridcolor\":\"white\",\"linecolor\":\"white\",\"ticks\":\"\"},\"radialaxis\":{\"gridcolor\":\"white\",\"linecolor\":\"white\",\"ticks\":\"\"}},\"ternary\":{\"bgcolor\":\"#E5ECF6\",\"aaxis\":{\"gridcolor\":\"white\",\"linecolor\":\"white\",\"ticks\":\"\"},\"baxis\":{\"gridcolor\":\"white\",\"linecolor\":\"white\",\"ticks\":\"\"},\"caxis\":{\"gridcolor\":\"white\",\"linecolor\":\"white\",\"ticks\":\"\"}},\"coloraxis\":{\"colorbar\":{\"outlinewidth\":0,\"ticks\":\"\"}},\"colorscale\":{\"sequential\":[[0.0,\"#0d0887\"],[0.1111111111111111,\"#46039f\"],[0.2222222222222222,\"#7201a8\"],[0.3333333333333333,\"#9c179e\"],[0.4444444444444444,\"#bd3786\"],[0.5555555555555556,\"#d8576b\"],[0.6666666666666666,\"#ed7953\"],[0.7777777777777778,\"#fb9f3a\"],[0.8888888888888888,\"#fdca26\"],[1.0,\"#f0f921\"]],\"sequentialminus\":[[0.0,\"#0d0887\"],[0.1111111111111111,\"#46039f\"],[0.2222222222222222,\"#7201a8\"],[0.3333333333333333,\"#9c179e\"],[0.4444444444444444,\"#bd3786\"],[0.5555555555555556,\"#d8576b\"],[0.6666666666666666,\"#ed7953\"],[0.7777777777777778,\"#fb9f3a\"],[0.8888888888888888,\"#fdca26\"],[1.0,\"#f0f921\"]],\"diverging\":[[0,\"#8e0152\"],[0.1,\"#c51b7d\"],[0.2,\"#de77ae\"],[0.3,\"#f1b6da\"],[0.4,\"#fde0ef\"],[0.5,\"#f7f7f7\"],[0.6,\"#e6f5d0\"],[0.7,\"#b8e186\"],[0.8,\"#7fbc41\"],[0.9,\"#4d9221\"],[1,\"#276419\"]]},\"xaxis\":{\"gridcolor\":\"white\",\"linecolor\":\"white\",\"ticks\":\"\",\"title\":{\"standoff\":15},\"zerolinecolor\":\"white\",\"automargin\":true,\"zerolinewidth\":2},\"yaxis\":{\"gridcolor\":\"white\",\"linecolor\":\"white\",\"ticks\":\"\",\"title\":{\"standoff\":15},\"zerolinecolor\":\"white\",\"automargin\":true,\"zerolinewidth\":2},\"scene\":{\"xaxis\":{\"backgroundcolor\":\"#E5ECF6\",\"gridcolor\":\"white\",\"linecolor\":\"white\",\"showbackground\":true,\"ticks\":\"\",\"zerolinecolor\":\"white\",\"gridwidth\":2},\"yaxis\":{\"backgroundcolor\":\"#E5ECF6\",\"gridcolor\":\"white\",\"linecolor\":\"white\",\"showbackground\":true,\"ticks\":\"\",\"zerolinecolor\":\"white\",\"gridwidth\":2},\"zaxis\":{\"backgroundcolor\":\"#E5ECF6\",\"gridcolor\":\"white\",\"linecolor\":\"white\",\"showbackground\":true,\"ticks\":\"\",\"zerolinecolor\":\"white\",\"gridwidth\":2}},\"shapedefaults\":{\"line\":{\"color\":\"#2a3f5f\"}},\"annotationdefaults\":{\"arrowcolor\":\"#2a3f5f\",\"arrowhead\":0,\"arrowwidth\":1},\"geo\":{\"bgcolor\":\"white\",\"landcolor\":\"#E5ECF6\",\"subunitcolor\":\"white\",\"showland\":true,\"showlakes\":true,\"lakecolor\":\"white\"},\"title\":{\"x\":0.05},\"mapbox\":{\"style\":\"light\"}}},\"xaxis\":{\"anchor\":\"y\",\"domain\":[0.0,1.0],\"title\":{\"text\":\"Year\"}},\"yaxis\":{\"anchor\":\"x\",\"domain\":[0.0,1.0],\"title\":{\"text\":\"% Yes\"}},\"legend\":{\"title\":{\"text\":\"Country\"},\"tracegroupgap\":0},\"margin\":{\"t\":60},\"title\":{\"text\":\"Nuclear weapons and nuclear material\\u003cbr\\u003e\",\"y\":0.9,\"x\":0.5,\"xanchor\":\"center\",\"yanchor\":\"top\"}},                        {\"responsive\": true}                    ).then(function(){\n",
       "                            \n",
       "var gd = document.getElementById('55fbf9e9-8740-4b82-89a7-07aaf22a1316');\n",
       "var x = new MutationObserver(function (mutations, observer) {{\n",
       "        var display = window.getComputedStyle(gd).display;\n",
       "        if (!display || display === 'none') {{\n",
       "            console.log([gd, 'removed!']);\n",
       "            Plotly.purge(gd);\n",
       "            observer.disconnect();\n",
       "        }}\n",
       "}});\n",
       "\n",
       "// Listen for the removal of the full notebook cells\n",
       "var notebookContainer = gd.closest('#notebook-container');\n",
       "if (notebookContainer) {{\n",
       "    x.observe(notebookContainer, {childList: true});\n",
       "}}\n",
       "\n",
       "// Listen for the clearing of the current output cell\n",
       "var outputEl = gd.closest('.output');\n",
       "if (outputEl) {{\n",
       "    x.observe(outputEl, {childList: true});\n",
       "}}\n",
       "\n",
       "                        })                };                });            </script>        </div>"
      ]
     },
     "metadata": {},
     "output_type": "display_data"
    }
   ],
   "source": [
    "def make_plot(countries,issue):\n",
    "    '''\n",
    "    A Python function that takes in the list of countries and issues and makes\n",
    "    a scatter plot of each issue with a trendline for each country.\n",
    "    '''\n",
    "    x_data = []\n",
    "    y_data = []\n",
    "    c_data = []\n",
    "    for cntry in countries:\n",
    "        my_group = c_groups.get_group((cntry,issue))\n",
    "        for y in my_group['year'].unique():\n",
    "            x_data.append(y)\n",
    "            tot_yes = sum(my_group[my_group['year']==y]['vote']=='yes')\n",
    "            percent_yes = tot_yes/len(my_group[my_group['year']==y])*100\n",
    "            y_data.append(percent_yes)\n",
    "            c_data.append(cntry)\n",
    "\n",
    "    fig = px.scatter(x=x_data, y=y_data,color=c_data,trendline=\"lowess\",labels={\"color\": \"Country\"})\n",
    "\n",
    "    fig.update_layout(\n",
    "        title={\n",
    "            'text': issue + '<br>',\n",
    "            'y':0.9,\n",
    "            'x':0.5,\n",
    "            'xanchor': 'center',\n",
    "            'yanchor': 'top'})\n",
    "    fig.update_yaxes(title_text=\"% Yes\")\n",
    "    fig.update_xaxes(title_text=\"Year\")\n",
    "    fig.show()\n",
    "    \n",
    "for iss in issues:\n",
    "    make_plot(countries,iss)"
   ]
  },
  {
   "cell_type": "markdown",
   "id": "130de118-e079-455c-9eb2-0eff64efca6a",
   "metadata": {},
   "source": [
    "### Problem 3\n",
    "\n",
    "Choose one of the graphs produced above (should match the lecture notes) and discuss what you see there:\n",
    "\n",
    "1. Which issue are you focusing on.\n",
    "2. What do the graph axis represent?\n",
    "3. Say in words how the United States votes have changed over time.\n",
    "4. How do the United States votes compare to the other countries?\n",
    "5. See if you can come up with one or two questions that interest you about the data in the graph."
   ]
  },
  {
   "cell_type": "markdown",
   "id": "de5b34d4-b795-43ac-a6e0-9c66680beb68",
   "metadata": {},
   "source": [
    "1. Nuclear weapons and nuclear material\n",
    "2. on the x axis we have year. on the y axis we have % yes\n",
    "3. over time the United States yes % has decreased\n",
    "4. the US votes are lower compared to other countries\n",
    "5. how are the trend lines created in the code? "
   ]
  },
  {
   "cell_type": "markdown",
   "id": "4874978e-edb6-488a-a11e-6dd290b351cc",
   "metadata": {},
   "source": [
    "### Problem 4\n",
    "\n",
    "Now go back up to where we picked our three focus countries and choose some different ones. Rerun the analysis. If you want you could choose more than three countries. \n",
    "\n",
    "Discuss the graph for the same issue but with the new countries."
   ]
  },
  {
   "cell_type": "markdown",
   "id": "ed39a439-8ef9-4d66-9a84-4d1615f971b5",
   "metadata": {},
   "source": [
    "The trend lines for these three countries look significantly different. Iran and Liberia seem to be fairly similar in their Yes %, but Germany has some interesting data. Germany is also much lower in Yes % across all graphs in comparison to the other two countries. "
   ]
  },
  {
   "cell_type": "markdown",
   "id": "9fcce607-bfda-42a1-a556-a05c424dd6c9",
   "metadata": {},
   "source": [
    "--------------------------------\n",
    "### You are done with the homework... now what?\n",
    "--------------------------------\n",
    "\n",
    "1. Save your changes.\n",
    "2. In the Git tab, **Stage** your changed files - use the (+) button next to the file.\n",
    "3. **Commit** your changes by entering a summary and pushing commit.\n",
    "4. **Push** your changes using the cloud button.\n",
    "5. Check that your changes are on your GitHub repo (online)\n",
    "6. **TAKE THE DAILY QUIZ ON CANVAS** the quiz will ask you to copy and past the HTTPS link to your repo for the day.\n",
    "7. Come to class and get your questions answered.\n",
    "\n",
    "At the end of the week  you will submit your final versions of the homework on Canvas for grading. For this you can just drag and drop the HW.ipynb files into canvas. \n",
    "\n",
    "**IMPORTANT** If this is confusing this first week, don't worry, I can help you and I will be really flexible about these first few deadlines.\n"
   ]
  },
  {
   "cell_type": "code",
   "execution_count": 54,
   "id": "f00c8fd3-9713-4a3c-906e-7db71731da15",
   "metadata": {},
   "outputs": [],
   "source": [
    "#Fin"
   ]
  },
  {
   "cell_type": "code",
   "execution_count": null,
   "id": "8663c166-441c-4070-a823-1a702352506b",
   "metadata": {},
   "outputs": [],
   "source": []
  }
 ],
 "metadata": {
  "kernelspec": {
   "display_name": "Python 3 (ipykernel)",
   "language": "python",
   "name": "python3"
  },
  "language_info": {
   "codemirror_mode": {
    "name": "ipython",
    "version": 3
   },
   "file_extension": ".py",
   "mimetype": "text/x-python",
   "name": "python",
   "nbconvert_exporter": "python",
   "pygments_lexer": "ipython3",
   "version": "3.12.3"
  }
 },
 "nbformat": 4,
 "nbformat_minor": 5
}
